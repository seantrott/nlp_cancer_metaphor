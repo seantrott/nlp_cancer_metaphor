{
 "cells": [
  {
   "cell_type": "markdown",
   "metadata": {},
   "source": [
    "## Kickstarter Project Exploration\n",
    "\n",
    "Explore cancer projects from Kickstarter"
   ]
  },
  {
   "cell_type": "code",
   "execution_count": 1,
   "metadata": {},
   "outputs": [],
   "source": [
    "import os.path as op\n",
    "\n",
    "import numpy as np\n",
    "import json\n",
    "\n",
    "import seaborn as sns\n",
    "import matplotlib.pyplot as plt\n",
    "import pandas as pd\n",
    "\n",
    "from scipy.stats import ttest_ind\n",
    "\n",
    "import statsmodels.api as sm"
   ]
  },
  {
   "cell_type": "code",
   "execution_count": 2,
   "metadata": {},
   "outputs": [],
   "source": [
    "DATA_PROCESSED = '../data/processed'"
   ]
  },
  {
   "cell_type": "code",
   "execution_count": 3,
   "metadata": {},
   "outputs": [],
   "source": [
    "with open(op.join(DATA_PROCESSED, 'cancer_project_text.json'), 'r') as f:\n",
    "    text_data = json.load(f)"
   ]
  },
  {
   "cell_type": "markdown",
   "metadata": {},
   "source": [
    "This json file comes from `src/data/data_download.py`."
   ]
  },
  {
   "cell_type": "code",
   "execution_count": 4,
   "metadata": {},
   "outputs": [],
   "source": [
    "with open(op.join(DATA_PROCESSED, 'cancer_project_data.json'), 'r') as f:\n",
    "    json_data = json.load(f)"
   ]
  },
  {
   "cell_type": "code",
   "execution_count": 5,
   "metadata": {},
   "outputs": [
    {
     "data": {
      "text/html": [
       "<div>\n",
       "<style scoped>\n",
       "    .dataframe tbody tr th:only-of-type {\n",
       "        vertical-align: middle;\n",
       "    }\n",
       "\n",
       "    .dataframe tbody tr th {\n",
       "        vertical-align: top;\n",
       "    }\n",
       "\n",
       "    .dataframe thead th {\n",
       "        text-align: right;\n",
       "    }\n",
       "</style>\n",
       "<table border=\"1\" class=\"dataframe\">\n",
       "  <thead>\n",
       "    <tr style=\"text-align: right;\">\n",
       "      <th></th>\n",
       "      <th>backers_count</th>\n",
       "      <th>blurb</th>\n",
       "      <th>category_slug</th>\n",
       "      <th>country</th>\n",
       "      <th>created_at</th>\n",
       "      <th>currency</th>\n",
       "      <th>current_currency</th>\n",
       "      <th>deadline</th>\n",
       "      <th>geo_type</th>\n",
       "      <th>goal</th>\n",
       "      <th>id</th>\n",
       "      <th>launched_at</th>\n",
       "      <th>pledged</th>\n",
       "      <th>spotlight</th>\n",
       "      <th>staff_pick</th>\n",
       "      <th>state</th>\n",
       "      <th>status</th>\n",
       "      <th>status_changed_at</th>\n",
       "      <th>url</th>\n",
       "      <th>usd_pledged</th>\n",
       "    </tr>\n",
       "  </thead>\n",
       "  <tbody>\n",
       "    <tr>\n",
       "      <th>342</th>\n",
       "      <td>0</td>\n",
       "      <td>This stage play is a true story about one woma...</td>\n",
       "      <td>theater/plays</td>\n",
       "      <td>US</td>\n",
       "      <td>2016-11-01 02:41:08</td>\n",
       "      <td>USD</td>\n",
       "      <td>USD</td>\n",
       "      <td>2016-12-01 07:18:40</td>\n",
       "      <td>Town</td>\n",
       "      <td>20000</td>\n",
       "      <td>1133022274</td>\n",
       "      <td>2016-11-01 06:18:40</td>\n",
       "      <td>0.0</td>\n",
       "      <td>False</td>\n",
       "      <td>False</td>\n",
       "      <td>GA</td>\n",
       "      <td>failed</td>\n",
       "      <td>1480576720</td>\n",
       "      <td>https://www.kickstarter.com/projects/497611822...</td>\n",
       "      <td>0.000000</td>\n",
       "    </tr>\n",
       "    <tr>\n",
       "      <th>396</th>\n",
       "      <td>69</td>\n",
       "      <td>\"Tissue\" is a play about Breast Cancer. Produc...</td>\n",
       "      <td>theater/plays</td>\n",
       "      <td>GB</td>\n",
       "      <td>2014-03-20 11:21:23</td>\n",
       "      <td>GBP</td>\n",
       "      <td>USD</td>\n",
       "      <td>2015-04-01 20:17:48</td>\n",
       "      <td>County</td>\n",
       "      <td>1500</td>\n",
       "      <td>973883863</td>\n",
       "      <td>2015-03-02 21:17:48</td>\n",
       "      <td>1594.0</td>\n",
       "      <td>True</td>\n",
       "      <td>False</td>\n",
       "      <td>England</td>\n",
       "      <td>successful</td>\n",
       "      <td>1427919472</td>\n",
       "      <td>https://www.kickstarter.com/projects/468851424...</td>\n",
       "      <td>2460.472673</td>\n",
       "    </tr>\n",
       "    <tr>\n",
       "      <th>41</th>\n",
       "      <td>168</td>\n",
       "      <td>Une ligne complète de vêtements et sous-vêteme...</td>\n",
       "      <td>fashion/apparel</td>\n",
       "      <td>FR</td>\n",
       "      <td>2018-01-16 15:12:03</td>\n",
       "      <td>EUR</td>\n",
       "      <td>USD</td>\n",
       "      <td>2018-04-13 12:38:18</td>\n",
       "      <td>LocalAdmin</td>\n",
       "      <td>20000</td>\n",
       "      <td>1631396661</td>\n",
       "      <td>2018-03-04 13:38:18</td>\n",
       "      <td>20445.0</td>\n",
       "      <td>True</td>\n",
       "      <td>False</td>\n",
       "      <td>Midi-Pyrenees</td>\n",
       "      <td>successful</td>\n",
       "      <td>1523623098</td>\n",
       "      <td>https://www.kickstarter.com/projects/978516628...</td>\n",
       "      <td>25185.084723</td>\n",
       "    </tr>\n",
       "    <tr>\n",
       "      <th>174</th>\n",
       "      <td>30</td>\n",
       "      <td>A warm and pleasant environment is a basic req...</td>\n",
       "      <td>design/architecture</td>\n",
       "      <td>SE</td>\n",
       "      <td>2016-03-09 14:01:06</td>\n",
       "      <td>SEK</td>\n",
       "      <td>USD</td>\n",
       "      <td>2016-04-10 07:02:40</td>\n",
       "      <td>Town</td>\n",
       "      <td>2000</td>\n",
       "      <td>1306888674</td>\n",
       "      <td>2016-03-11 08:02:40</td>\n",
       "      <td>4184.0</td>\n",
       "      <td>True</td>\n",
       "      <td>False</td>\n",
       "      <td>Stockholm</td>\n",
       "      <td>successful</td>\n",
       "      <td>1460271764</td>\n",
       "      <td>https://www.kickstarter.com/projects/19327145/...</td>\n",
       "      <td>494.288262</td>\n",
       "    </tr>\n",
       "    <tr>\n",
       "      <th>411</th>\n",
       "      <td>2</td>\n",
       "      <td>Trance music cures cancer! Just kidding... Ele...</td>\n",
       "      <td>music/electronic music</td>\n",
       "      <td>US</td>\n",
       "      <td>2012-01-17 16:28:39</td>\n",
       "      <td>USD</td>\n",
       "      <td>USD</td>\n",
       "      <td>2012-03-19 16:49:27</td>\n",
       "      <td>Town</td>\n",
       "      <td>10000</td>\n",
       "      <td>1172933358</td>\n",
       "      <td>2012-01-19 17:49:27</td>\n",
       "      <td>50.0</td>\n",
       "      <td>False</td>\n",
       "      <td>False</td>\n",
       "      <td>MO</td>\n",
       "      <td>failed</td>\n",
       "      <td>1332175767</td>\n",
       "      <td>https://www.kickstarter.com/projects/noizecran...</td>\n",
       "      <td>50.000000</td>\n",
       "    </tr>\n",
       "  </tbody>\n",
       "</table>\n",
       "</div>"
      ],
      "text/plain": [
       "     backers_count                                              blurb  \\\n",
       "342              0  This stage play is a true story about one woma...   \n",
       "396             69  \"Tissue\" is a play about Breast Cancer. Produc...   \n",
       "41             168  Une ligne complète de vêtements et sous-vêteme...   \n",
       "174             30  A warm and pleasant environment is a basic req...   \n",
       "411              2  Trance music cures cancer! Just kidding... Ele...   \n",
       "\n",
       "              category_slug country          created_at currency  \\\n",
       "342           theater/plays      US 2016-11-01 02:41:08      USD   \n",
       "396           theater/plays      GB 2014-03-20 11:21:23      GBP   \n",
       "41          fashion/apparel      FR 2018-01-16 15:12:03      EUR   \n",
       "174     design/architecture      SE 2016-03-09 14:01:06      SEK   \n",
       "411  music/electronic music      US 2012-01-17 16:28:39      USD   \n",
       "\n",
       "    current_currency            deadline    geo_type   goal          id  \\\n",
       "342              USD 2016-12-01 07:18:40        Town  20000  1133022274   \n",
       "396              USD 2015-04-01 20:17:48      County   1500   973883863   \n",
       "41               USD 2018-04-13 12:38:18  LocalAdmin  20000  1631396661   \n",
       "174              USD 2016-04-10 07:02:40        Town   2000  1306888674   \n",
       "411              USD 2012-03-19 16:49:27        Town  10000  1172933358   \n",
       "\n",
       "            launched_at  pledged  spotlight  staff_pick          state  \\\n",
       "342 2016-11-01 06:18:40      0.0      False       False             GA   \n",
       "396 2015-03-02 21:17:48   1594.0       True       False        England   \n",
       "41  2018-03-04 13:38:18  20445.0       True       False  Midi-Pyrenees   \n",
       "174 2016-03-11 08:02:40   4184.0       True       False      Stockholm   \n",
       "411 2012-01-19 17:49:27     50.0      False       False             MO   \n",
       "\n",
       "         status  status_changed_at  \\\n",
       "342      failed         1480576720   \n",
       "396  successful         1427919472   \n",
       "41   successful         1523623098   \n",
       "174  successful         1460271764   \n",
       "411      failed         1332175767   \n",
       "\n",
       "                                                   url   usd_pledged  \n",
       "342  https://www.kickstarter.com/projects/497611822...      0.000000  \n",
       "396  https://www.kickstarter.com/projects/468851424...   2460.472673  \n",
       "41   https://www.kickstarter.com/projects/978516628...  25185.084723  \n",
       "174  https://www.kickstarter.com/projects/19327145/...    494.288262  \n",
       "411  https://www.kickstarter.com/projects/noizecran...     50.000000  "
      ]
     },
     "execution_count": 5,
     "metadata": {},
     "output_type": "execute_result"
    }
   ],
   "source": [
    "data = pd.DataFrame(json_data)\n",
    "\n",
    "data = data.drop_duplicates(subset='id')\n",
    "data = data[data['id'].isin(list(text_data.keys()))]\n",
    "\n",
    "data['usd_pledged'] = data['usd_pledged'].astype(float)\n",
    "data['deadline'] = pd.to_datetime(data['deadline'], unit='s')\n",
    "data['created_at'] = pd.to_datetime(data['created_at'], unit='s')\n",
    "data['launched_at'] = pd.to_datetime(data['launched_at'], unit='s')\n",
    "\n",
    "data.sample(5)"
   ]
  },
  {
   "cell_type": "code",
   "execution_count": 6,
   "metadata": {},
   "outputs": [
    {
     "data": {
      "text/plain": [
       "(472, (455, 20))"
      ]
     },
     "execution_count": 6,
     "metadata": {},
     "output_type": "execute_result"
    }
   ],
   "source": [
    "len(json_data), data.shape"
   ]
  },
  {
   "cell_type": "markdown",
   "metadata": {},
   "source": [
    "Clean out projects not classified as Success or Fail"
   ]
  },
  {
   "cell_type": "code",
   "execution_count": 7,
   "metadata": {},
   "outputs": [
    {
     "data": {
      "image/png": "[encoded data removed]",
      "text/plain": [
       "<Figure size 576x288 with 1 Axes>"
      ]
     },
     "metadata": {},
     "output_type": "display_data"
    }
   ],
   "source": [
    "cnt = data['status'].value_counts()\n",
    "plt.subplots(figsize=(8,4))\n",
    "sns.barplot(cnt.index, cnt.values)\n",
    "plt.xticks(rotation=20);"
   ]
  },
  {
   "cell_type": "code",
   "execution_count": 8,
   "metadata": {},
   "outputs": [
    {
     "data": {
      "text/plain": [
       "(409, 20)"
      ]
     },
     "execution_count": 8,
     "metadata": {},
     "output_type": "execute_result"
    }
   ],
   "source": [
    "data = data[data['status'].isin(['successful', 'failed'])]\n",
    "data.shape"
   ]
  },
  {
   "cell_type": "code",
   "execution_count": 9,
   "metadata": {},
   "outputs": [
    {
     "name": "stdout",
     "output_type": "stream",
     "text": [
      "Percent spotlight: 54.09%\n"
     ]
    },
    {
     "data": {
      "text/plain": [
       "<matplotlib.axes._subplots.AxesSubplot at 0x1c1fbaf828>"
      ]
     },
     "execution_count": 9,
     "metadata": {},
     "output_type": "execute_result"
    },
    {
     "data": {
      "image/png": "[encoded data removed]",
      "text/plain": [
       "<Figure size 432x288 with 1 Axes>"
      ]
     },
     "metadata": {},
     "output_type": "display_data"
    }
   ],
   "source": [
    "sub_data = data[data['goal'] < 50000]\n",
    "print(f\"Percent spotlight: {sub_data['spotlight'].mean()*100:.2f}%\")\n",
    "sns.scatterplot(sub_data['goal'], sub_data['usd_pledged'], hue=sub_data['spotlight'], s=12)"
   ]
  },
  {
   "cell_type": "markdown",
   "metadata": {},
   "source": [
    "Welsh's t-test of spotlight (true or false) distributions\n",
    "\n",
    "What exactly is spotlight? Has a pretty significant correlation with pledged to goal ratio. Doesn't take into account currency conversions but these should be negligible for now."
   ]
  },
  {
   "cell_type": "code",
   "execution_count": 10,
   "metadata": {},
   "outputs": [
    {
     "data": {
      "text/plain": [
       "Ttest_indResult(statistic=19.276260866752335, pvalue=1.5106371238579e-48)"
      ]
     },
     "execution_count": 10,
     "metadata": {},
     "output_type": "execute_result"
    }
   ],
   "source": [
    "spotlight_true = sub_data[sub_data['spotlight'] == True]\n",
    "spotlight_true = (spotlight_true['usd_pledged'] / spotlight_true['goal']).values\n",
    "spotlight_false = sub_data[sub_data['spotlight'] == False]\n",
    "spotlight_false = (spotlight_false['usd_pledged'] / spotlight_false['goal']).values\n",
    "\n",
    "ttest_ind(spotlight_true, spotlight_false, equal_var=False)"
   ]
  },
  {
   "cell_type": "code",
   "execution_count": 11,
   "metadata": {},
   "outputs": [
    {
     "name": "stdout",
     "output_type": "stream",
     "text": [
      "Percent staff pick: 5.01%\n"
     ]
    },
    {
     "data": {
      "text/plain": [
       "<matplotlib.axes._subplots.AxesSubplot at 0x1c1fd007f0>"
      ]
     },
     "execution_count": 11,
     "metadata": {},
     "output_type": "execute_result"
    },
    {
     "data": {
      "image/png": "[encoded data removed]",
      "text/plain": [
       "<Figure size 432x288 with 1 Axes>"
      ]
     },
     "metadata": {},
     "output_type": "display_data"
    }
   ],
   "source": [
    "print(f\"Percent staff pick: {sub_data['staff_pick'].mean()*100:.2f}%\")\n",
    "sns.scatterplot(sub_data['goal'], sub_data['usd_pledged'], hue=sub_data['staff_pick'])"
   ]
  },
  {
   "cell_type": "markdown",
   "metadata": {},
   "source": [
    "Welsh's t-test of staff-pick (true or false) distributions"
   ]
  },
  {
   "cell_type": "code",
   "execution_count": 12,
   "metadata": {},
   "outputs": [
    {
     "data": {
      "text/plain": [
       "Ttest_indResult(statistic=2.634838875291475, pvalue=0.01674144505617373)"
      ]
     },
     "execution_count": 12,
     "metadata": {},
     "output_type": "execute_result"
    }
   ],
   "source": [
    "staff_pick_true = sub_data[sub_data['staff_pick'] == True]\n",
    "staff_pick_true = (staff_pick_true['pledged'] / staff_pick_true['goal']).values\n",
    "staff_pick_false = sub_data[sub_data['staff_pick'] == False]\n",
    "staff_pick_false = (staff_pick_false['pledged'] / staff_pick_false['goal']).values\n",
    "\n",
    "ttest_ind(staff_pick_true, staff_pick_false, equal_var=False)"
   ]
  },
  {
   "cell_type": "markdown",
   "metadata": {},
   "source": [
    "Popular Country of Origin"
   ]
  },
  {
   "cell_type": "code",
   "execution_count": 13,
   "metadata": {},
   "outputs": [
    {
     "data": {
      "image/png": "[encoded data removed]",
      "text/plain": [
       "<Figure size 864x432 with 1 Axes>"
      ]
     },
     "metadata": {},
     "output_type": "display_data"
    }
   ],
   "source": [
    "cnt = data['country'].value_counts()\n",
    "plt.subplots(figsize=(12,6))\n",
    "sns.barplot(cnt.index, cnt.values)\n",
    "plt.xticks(rotation=20);"
   ]
  },
  {
   "cell_type": "markdown",
   "metadata": {},
   "source": [
    "Popular Project Categories\n",
    "\n",
    "TODO: Aggregate less popular categories into larger supersets."
   ]
  },
  {
   "cell_type": "code",
   "execution_count": 14,
   "metadata": {},
   "outputs": [
    {
     "data": {
      "image/png": "[encoded data removed]",
      "text/plain": [
       "<Figure size 864x432 with 1 Axes>"
      ]
     },
     "metadata": {},
     "output_type": "display_data"
    }
   ],
   "source": [
    "cnt = data['category_slug'].value_counts().nlargest(10)\n",
    "plt.subplots(figsize=(12,6))\n",
    "sns.barplot(cnt.index, cnt.values)\n",
    "plt.xticks(rotation=20);"
   ]
  },
  {
   "cell_type": "markdown",
   "metadata": {},
   "source": [
    "Geo Types"
   ]
  },
  {
   "cell_type": "code",
   "execution_count": 15,
   "metadata": {},
   "outputs": [
    {
     "data": {
      "image/png": "[encoded data removed]",
      "text/plain": [
       "<Figure size 432x216 with 1 Axes>"
      ]
     },
     "metadata": {},
     "output_type": "display_data"
    }
   ],
   "source": [
    "cnt = data['geo_type'].value_counts()\n",
    "plt.subplots(figsize=(6,3))\n",
    "sns.barplot(cnt.index, cnt.values)\n",
    "plt.xticks(rotation=20);"
   ]
  },
  {
   "cell_type": "markdown",
   "metadata": {},
   "source": [
    "Average Duration"
   ]
  },
  {
   "cell_type": "code",
   "execution_count": 16,
   "metadata": {},
   "outputs": [
    {
     "data": {
      "text/plain": [
       "Timedelta('30 days 00:00:00')"
      ]
     },
     "execution_count": 16,
     "metadata": {},
     "output_type": "execute_result"
    }
   ],
   "source": [
    "pd.Timedelta(np.median(data['deadline'] - data['launched_at']))"
   ]
  },
  {
   "cell_type": "markdown",
   "metadata": {},
   "source": [
    "Maximum Duration"
   ]
  },
  {
   "cell_type": "code",
   "execution_count": 17,
   "metadata": {},
   "outputs": [
    {
     "data": {
      "text/plain": [
       "Timedelta('89 days 17:06:15')"
      ]
     },
     "execution_count": 17,
     "metadata": {},
     "output_type": "execute_result"
    }
   ],
   "source": [
    "pd.Timedelta(np.max(data['deadline'] - data['launched_at']))"
   ]
  }
 ],
 "metadata": {
  "kernelspec": {
   "display_name": "Python 3",
   "language": "python",
   "name": "python3"
  },
  "language_info": {
   "codemirror_mode": {
    "name": "ipython",
    "version": 3
   },
   "file_extension": ".py",
   "mimetype": "text/x-python",
   "name": "python",
   "nbconvert_exporter": "python",
   "pygments_lexer": "ipython3",
   "version": "3.6.5"
  }
 },
 "nbformat": 4,
 "nbformat_minor": 2
}
