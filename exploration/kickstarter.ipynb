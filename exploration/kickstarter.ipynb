{
 "cells": [
  {
   "cell_type": "markdown",
   "metadata": {},
   "source": [
    "## Kickstarter Project Exploration\n",
    "\n",
    "Explore cancer projects from Kickstarter"
   ]
  },
  {
   "cell_type": "code",
   "execution_count": 1,
   "metadata": {},
   "outputs": [],
   "source": [
    "import os.path as op\n",
    "\n",
    "import numpy as np\n",
    "import json\n",
    "\n",
    "import seaborn as sns\n",
    "import matplotlib.pyplot as plt\n",
    "import pandas as pd\n",
    "pd.options.display.max_columns = 100\n",
    "\n",
    "from scipy.stats import ttest_ind\n",
    "\n",
    "import statsmodels.api as sm"
   ]
  },
  {
   "cell_type": "code",
   "execution_count": 2,
   "metadata": {},
   "outputs": [],
   "source": [
    "DATA_PROCESSED = '../data/processed'"
   ]
  },
  {
   "cell_type": "code",
   "execution_count": 3,
   "metadata": {},
   "outputs": [
    {
     "data": {
      "text/html": [
       "<div>\n",
       "<style scoped>\n",
       "    .dataframe tbody tr th:only-of-type {\n",
       "        vertical-align: middle;\n",
       "    }\n",
       "\n",
       "    .dataframe tbody tr th {\n",
       "        vertical-align: top;\n",
       "    }\n",
       "\n",
       "    .dataframe thead th {\n",
       "        text-align: right;\n",
       "    }\n",
       "</style>\n",
       "<table border=\"1\" class=\"dataframe\">\n",
       "  <thead>\n",
       "    <tr style=\"text-align: right;\">\n",
       "      <th></th>\n",
       "      <th>id</th>\n",
       "      <th>name</th>\n",
       "      <th>blurb</th>\n",
       "      <th>created</th>\n",
       "      <th>launched</th>\n",
       "      <th>deadline</th>\n",
       "      <th>goal</th>\n",
       "      <th>spotlight</th>\n",
       "      <th>staff_pick</th>\n",
       "      <th>status</th>\n",
       "      <th>status_changed_at</th>\n",
       "      <th>backers</th>\n",
       "      <th>usd_pledged</th>\n",
       "      <th>pledged</th>\n",
       "      <th>currency</th>\n",
       "      <th>current_currency</th>\n",
       "      <th>category</th>\n",
       "      <th>geo_country</th>\n",
       "      <th>geo_state</th>\n",
       "      <th>geo_type</th>\n",
       "      <th>url</th>\n",
       "      <th>text</th>\n",
       "      <th>mean_donation</th>\n",
       "      <th>text_length_chars</th>\n",
       "      <th>text_length_words</th>\n",
       "      <th>text_length_sentences</th>\n",
       "      <th>pledged_to_goal</th>\n",
       "      <th>duration</th>\n",
       "      <th>month</th>\n",
       "      <th>day_of_week</th>\n",
       "      <th>year</th>\n",
       "      <th>from_US</th>\n",
       "      <th>from_Town</th>\n",
       "      <th>blurb_length_words</th>\n",
       "    </tr>\n",
       "  </thead>\n",
       "  <tbody>\n",
       "    <tr>\n",
       "      <th>68</th>\n",
       "      <td>215789301</td>\n",
       "      <td>Food fight against cancer, animal abuse and mu...</td>\n",
       "      <td>I'm a business owner &amp; former chef. I have an ...</td>\n",
       "      <td>1510931812</td>\n",
       "      <td>1512181098</td>\n",
       "      <td>1517365098</td>\n",
       "      <td>25000</td>\n",
       "      <td>False</td>\n",
       "      <td>False</td>\n",
       "      <td>failed</td>\n",
       "      <td>1517365098</td>\n",
       "      <td>0</td>\n",
       "      <td>0.000000</td>\n",
       "      <td>0.00</td>\n",
       "      <td>USD</td>\n",
       "      <td>USD</td>\n",
       "      <td>food</td>\n",
       "      <td>US</td>\n",
       "      <td>NY</td>\n",
       "      <td>Town</td>\n",
       "      <td>https://www.kickstarter.com/projects/203003512...</td>\n",
       "      <td>First and foremost... Thank you for reading th...</td>\n",
       "      <td>0.000000</td>\n",
       "      <td>4429</td>\n",
       "      <td>828</td>\n",
       "      <td>42</td>\n",
       "      <td>0.000000</td>\n",
       "      <td>5184000</td>\n",
       "      <td>12</td>\n",
       "      <td>5</td>\n",
       "      <td>2017</td>\n",
       "      <td>1</td>\n",
       "      <td>1</td>\n",
       "      <td>24</td>\n",
       "    </tr>\n",
       "    <tr>\n",
       "      <th>5</th>\n",
       "      <td>798429667</td>\n",
       "      <td>Grumpy Fish Aid…Comfort Tips From Kids with Ca...</td>\n",
       "      <td>Illustrated acupressure, reflexology points; s...</td>\n",
       "      <td>1398449643</td>\n",
       "      <td>1408055669</td>\n",
       "      <td>1410561000</td>\n",
       "      <td>10000</td>\n",
       "      <td>True</td>\n",
       "      <td>False</td>\n",
       "      <td>successful</td>\n",
       "      <td>1410561010</td>\n",
       "      <td>208</td>\n",
       "      <td>10901.000000</td>\n",
       "      <td>10901.00</td>\n",
       "      <td>USD</td>\n",
       "      <td>USD</td>\n",
       "      <td>publishing</td>\n",
       "      <td>US</td>\n",
       "      <td>NY</td>\n",
       "      <td>Town</td>\n",
       "      <td>https://www.kickstarter.com/projects/grumpyfis...</td>\n",
       "      <td>Video production, editing, and post done by Me...</td>\n",
       "      <td>52.408654</td>\n",
       "      <td>3239</td>\n",
       "      <td>537</td>\n",
       "      <td>23</td>\n",
       "      <td>1.090100</td>\n",
       "      <td>2505331</td>\n",
       "      <td>8</td>\n",
       "      <td>3</td>\n",
       "      <td>2014</td>\n",
       "      <td>1</td>\n",
       "      <td>1</td>\n",
       "      <td>17</td>\n",
       "    </tr>\n",
       "    <tr>\n",
       "      <th>366</th>\n",
       "      <td>1692789349</td>\n",
       "      <td>The Eulogy of Toby Peach - Edinburgh Festival ...</td>\n",
       "      <td>An honest &amp; inspiring journey with cancer, dis...</td>\n",
       "      <td>1435588770</td>\n",
       "      <td>1436283107</td>\n",
       "      <td>1438875107</td>\n",
       "      <td>3000</td>\n",
       "      <td>True</td>\n",
       "      <td>False</td>\n",
       "      <td>successful</td>\n",
       "      <td>1438875107</td>\n",
       "      <td>90</td>\n",
       "      <td>4753.635632</td>\n",
       "      <td>3055.00</td>\n",
       "      <td>GBP</td>\n",
       "      <td>USD</td>\n",
       "      <td>theater</td>\n",
       "      <td>GB</td>\n",
       "      <td>Scotland</td>\n",
       "      <td>Town</td>\n",
       "      <td>https://www.kickstarter.com/projects/421295000...</td>\n",
       "      <td>Hello! Thanks so much for taking the time to v...</td>\n",
       "      <td>52.818174</td>\n",
       "      <td>7050</td>\n",
       "      <td>1231</td>\n",
       "      <td>40</td>\n",
       "      <td>1.018333</td>\n",
       "      <td>2592000</td>\n",
       "      <td>7</td>\n",
       "      <td>1</td>\n",
       "      <td>2015</td>\n",
       "      <td>0</td>\n",
       "      <td>1</td>\n",
       "      <td>19</td>\n",
       "    </tr>\n",
       "    <tr>\n",
       "      <th>75</th>\n",
       "      <td>871430700</td>\n",
       "      <td>Gone to Die in Dublin</td>\n",
       "      <td>After Chris loses his wife to leukemia, he has...</td>\n",
       "      <td>1366855127</td>\n",
       "      <td>1367893980</td>\n",
       "      <td>1370485980</td>\n",
       "      <td>2500</td>\n",
       "      <td>True</td>\n",
       "      <td>False</td>\n",
       "      <td>successful</td>\n",
       "      <td>1370485983</td>\n",
       "      <td>25</td>\n",
       "      <td>2602.890000</td>\n",
       "      <td>2602.89</td>\n",
       "      <td>USD</td>\n",
       "      <td>USD</td>\n",
       "      <td>publishing</td>\n",
       "      <td>IE</td>\n",
       "      <td>Dublin</td>\n",
       "      <td>Town</td>\n",
       "      <td>https://www.kickstarter.com/projects/797894602...</td>\n",
       "      <td>The funds raised for this project will go dire...</td>\n",
       "      <td>104.115600</td>\n",
       "      <td>1718</td>\n",
       "      <td>329</td>\n",
       "      <td>24</td>\n",
       "      <td>1.041156</td>\n",
       "      <td>2592000</td>\n",
       "      <td>5</td>\n",
       "      <td>1</td>\n",
       "      <td>2013</td>\n",
       "      <td>0</td>\n",
       "      <td>1</td>\n",
       "      <td>23</td>\n",
       "    </tr>\n",
       "    <tr>\n",
       "      <th>66</th>\n",
       "      <td>359963115</td>\n",
       "      <td>UNTITLED BREAST CANCER PROJECT Based on true s...</td>\n",
       "      <td>Breast Cancer drama about a young woman diagno...</td>\n",
       "      <td>1498883984</td>\n",
       "      <td>1499922768</td>\n",
       "      <td>1502514768</td>\n",
       "      <td>5000</td>\n",
       "      <td>False</td>\n",
       "      <td>False</td>\n",
       "      <td>failed</td>\n",
       "      <td>1502514770</td>\n",
       "      <td>1</td>\n",
       "      <td>1.000000</td>\n",
       "      <td>1.00</td>\n",
       "      <td>USD</td>\n",
       "      <td>USD</td>\n",
       "      <td>film &amp; video</td>\n",
       "      <td>US</td>\n",
       "      <td>GA</td>\n",
       "      <td>Town</td>\n",
       "      <td>https://www.kickstarter.com/projects/109677522...</td>\n",
       "      <td>Carlette Edward, a 30-year-old Mother is diagn...</td>\n",
       "      <td>1.000000</td>\n",
       "      <td>777</td>\n",
       "      <td>143</td>\n",
       "      <td>7</td>\n",
       "      <td>0.000200</td>\n",
       "      <td>2592000</td>\n",
       "      <td>7</td>\n",
       "      <td>3</td>\n",
       "      <td>2017</td>\n",
       "      <td>1</td>\n",
       "      <td>1</td>\n",
       "      <td>19</td>\n",
       "    </tr>\n",
       "  </tbody>\n",
       "</table>\n",
       "</div>"
      ],
      "text/plain": [
       "             id                                               name  \\\n",
       "68    215789301  Food fight against cancer, animal abuse and mu...   \n",
       "5     798429667  Grumpy Fish Aid…Comfort Tips From Kids with Ca...   \n",
       "366  1692789349  The Eulogy of Toby Peach - Edinburgh Festival ...   \n",
       "75    871430700                              Gone to Die in Dublin   \n",
       "66    359963115  UNTITLED BREAST CANCER PROJECT Based on true s...   \n",
       "\n",
       "                                                 blurb     created  \\\n",
       "68   I'm a business owner & former chef. I have an ...  1510931812   \n",
       "5    Illustrated acupressure, reflexology points; s...  1398449643   \n",
       "366  An honest & inspiring journey with cancer, dis...  1435588770   \n",
       "75   After Chris loses his wife to leukemia, he has...  1366855127   \n",
       "66   Breast Cancer drama about a young woman diagno...  1498883984   \n",
       "\n",
       "       launched    deadline   goal  spotlight  staff_pick      status  \\\n",
       "68   1512181098  1517365098  25000      False       False      failed   \n",
       "5    1408055669  1410561000  10000       True       False  successful   \n",
       "366  1436283107  1438875107   3000       True       False  successful   \n",
       "75   1367893980  1370485980   2500       True       False  successful   \n",
       "66   1499922768  1502514768   5000      False       False      failed   \n",
       "\n",
       "     status_changed_at  backers   usd_pledged   pledged currency  \\\n",
       "68          1517365098        0      0.000000      0.00      USD   \n",
       "5           1410561010      208  10901.000000  10901.00      USD   \n",
       "366         1438875107       90   4753.635632   3055.00      GBP   \n",
       "75          1370485983       25   2602.890000   2602.89      USD   \n",
       "66          1502514770        1      1.000000      1.00      USD   \n",
       "\n",
       "    current_currency      category geo_country geo_state geo_type  \\\n",
       "68               USD          food          US        NY     Town   \n",
       "5                USD    publishing          US        NY     Town   \n",
       "366              USD       theater          GB  Scotland     Town   \n",
       "75               USD    publishing          IE    Dublin     Town   \n",
       "66               USD  film & video          US        GA     Town   \n",
       "\n",
       "                                                   url  \\\n",
       "68   https://www.kickstarter.com/projects/203003512...   \n",
       "5    https://www.kickstarter.com/projects/grumpyfis...   \n",
       "366  https://www.kickstarter.com/projects/421295000...   \n",
       "75   https://www.kickstarter.com/projects/797894602...   \n",
       "66   https://www.kickstarter.com/projects/109677522...   \n",
       "\n",
       "                                                  text  mean_donation  \\\n",
       "68   First and foremost... Thank you for reading th...       0.000000   \n",
       "5    Video production, editing, and post done by Me...      52.408654   \n",
       "366  Hello! Thanks so much for taking the time to v...      52.818174   \n",
       "75   The funds raised for this project will go dire...     104.115600   \n",
       "66   Carlette Edward, a 30-year-old Mother is diagn...       1.000000   \n",
       "\n",
       "     text_length_chars  text_length_words  text_length_sentences  \\\n",
       "68                4429                828                     42   \n",
       "5                 3239                537                     23   \n",
       "366               7050               1231                     40   \n",
       "75                1718                329                     24   \n",
       "66                 777                143                      7   \n",
       "\n",
       "     pledged_to_goal  duration  month  day_of_week  year  from_US  from_Town  \\\n",
       "68          0.000000   5184000     12            5  2017        1          1   \n",
       "5           1.090100   2505331      8            3  2014        1          1   \n",
       "366         1.018333   2592000      7            1  2015        0          1   \n",
       "75          1.041156   2592000      5            1  2013        0          1   \n",
       "66          0.000200   2592000      7            3  2017        1          1   \n",
       "\n",
       "     blurb_length_words  \n",
       "68                   24  \n",
       "5                    17  \n",
       "366                  19  \n",
       "75                   23  \n",
       "66                   19  "
      ]
     },
     "execution_count": 3,
     "metadata": {},
     "output_type": "execute_result"
    }
   ],
   "source": [
    "data = pd.read_csv(op.join(DATA_PROCESSED, 'cancer_projects_full.csv'))\n",
    "\n",
    "data.sample(5)"
   ]
  },
  {
   "cell_type": "code",
   "execution_count": 4,
   "metadata": {
    "scrolled": true
   },
   "outputs": [
    {
     "data": {
      "text/plain": [
       "(455, 34)"
      ]
     },
     "execution_count": 4,
     "metadata": {},
     "output_type": "execute_result"
    }
   ],
   "source": [
    "data.shape"
   ]
  },
  {
   "cell_type": "markdown",
   "metadata": {},
   "source": [
    "Clean out projects not classified as Success or Fail"
   ]
  },
  {
   "cell_type": "code",
   "execution_count": 5,
   "metadata": {},
   "outputs": [
    {
     "data": {
      "image/png": "[encoded data removed]",
      "text/plain": [
       "<Figure size 576x288 with 1 Axes>"
      ]
     },
     "metadata": {},
     "output_type": "display_data"
    }
   ],
   "source": [
    "cnt = data['status'].value_counts()\n",
    "plt.subplots(figsize=(8,4))\n",
    "sns.barplot(cnt.index, cnt.values)\n",
    "plt.xticks(rotation=20);"
   ]
  },
  {
   "cell_type": "code",
   "execution_count": 6,
   "metadata": {},
   "outputs": [
    {
     "data": {
      "text/plain": [
       "(409, 34)"
      ]
     },
     "execution_count": 6,
     "metadata": {},
     "output_type": "execute_result"
    }
   ],
   "source": [
    "data = data[data['status'].isin(['successful', 'failed'])]\n",
    "data['status'] = data['status'].apply(lambda r: 1 if r == 'successful' else 0)\n",
    "data.shape"
   ]
  },
  {
   "cell_type": "markdown",
   "metadata": {},
   "source": [
    "Popular Country of Origin"
   ]
  },
  {
   "cell_type": "code",
   "execution_count": 7,
   "metadata": {},
   "outputs": [
    {
     "data": {
      "image/png": "[encoded data removed]",
      "text/plain": [
       "<Figure size 864x432 with 1 Axes>"
      ]
     },
     "metadata": {},
     "output_type": "display_data"
    }
   ],
   "source": [
    "cnt = data['geo_country'].value_counts()\n",
    "plt.subplots(figsize=(12,6))\n",
    "sns.barplot(cnt.index, cnt.values)\n",
    "plt.xticks(rotation=20)\n",
    "plt.title('Project Country of Origin Distribution');"
   ]
  },
  {
   "cell_type": "markdown",
   "metadata": {},
   "source": [
    "Popular Project Parent Categories"
   ]
  },
  {
   "cell_type": "code",
   "execution_count": 8,
   "metadata": {},
   "outputs": [
    {
     "data": {
      "image/png": "[encoded data removed]",
      "text/plain": [
       "<Figure size 864x432 with 1 Axes>"
      ]
     },
     "metadata": {},
     "output_type": "display_data"
    }
   ],
   "source": [
    "cnt = data['category'].value_counts()\n",
    "plt.subplots(figsize=(12,6))\n",
    "sns.barplot(cnt.index, cnt.values)\n",
    "plt.xticks(rotation=20)\n",
    "plt.title('Project Parent Category Distribution');"
   ]
  },
  {
   "cell_type": "markdown",
   "metadata": {},
   "source": [
    "Geo Types"
   ]
  },
  {
   "cell_type": "code",
   "execution_count": 9,
   "metadata": {},
   "outputs": [
    {
     "data": {
      "image/png": "[encoded data removed]",
      "text/plain": [
       "<Figure size 432x216 with 1 Axes>"
      ]
     },
     "metadata": {},
     "output_type": "display_data"
    }
   ],
   "source": [
    "cnt = data['geo_type'].value_counts()\n",
    "plt.subplots(figsize=(6,3))\n",
    "sns.barplot(cnt.index, cnt.values)\n",
    "plt.xticks(rotation=20)\n",
    "plt.title('Project Geographical Type Distribution');"
   ]
  },
  {
   "cell_type": "markdown",
   "metadata": {},
   "source": [
    "Duration"
   ]
  },
  {
   "cell_type": "code",
   "execution_count": 12,
   "metadata": {},
   "outputs": [
    {
     "data": {
      "image/png": "[encoded data removed]",
      "text/plain": [
       "<Figure size 864x360 with 1 Axes>"
      ]
     },
     "metadata": {},
     "output_type": "display_data"
    }
   ],
   "source": [
    "plt.subplots(figsize=(12,5))\n",
    "td = pd.Series([ pd.Timedelta(days=i) for i in range(0, 92, 7)])\n",
    "r = pd.cut(pd.TimedeltaIndex(data['duration'], unit='s').to_series(), td, labels=False).value_counts()\n",
    "g = sns.barplot(r.index, r.values)\n",
    "g.set_xticklabels([f'>{int(w)} weeks' for w in td.dt.days / 7])\n",
    "plt.title('Project Duration Distribution');"
   ]
  },
  {
   "cell_type": "code",
   "execution_count": 13,
   "metadata": {},
   "outputs": [
    {
     "data": {
      "image/png": "[encoded data removed]",
      "text/plain": [
       "<Figure size 432x288 with 1 Axes>"
      ]
     },
     "metadata": {},
     "output_type": "display_data"
    }
   ],
   "source": [
    "vc = data['month'].value_counts()\n",
    "sns.barplot(vc.index, vc.values)\n",
    "plt.title('Monthly Project Volume');"
   ]
  },
  {
   "cell_type": "code",
   "execution_count": null,
   "metadata": {},
   "outputs": [],
   "source": []
  }
 ],
 "metadata": {
  "kernelspec": {
   "display_name": "Python 3",
   "language": "python",
   "name": "python3"
  },
  "language_info": {
   "codemirror_mode": {
    "name": "ipython",
    "version": 3
   },
   "file_extension": ".py",
   "mimetype": "text/x-python",
   "name": "python",
   "nbconvert_exporter": "python",
   "pygments_lexer": "ipython3",
   "version": "3.6.3"
  }
 },
 "nbformat": 4,
 "nbformat_minor": 2
}
