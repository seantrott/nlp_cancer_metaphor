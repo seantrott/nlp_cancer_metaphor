{
 "cells": [
  {
   "cell_type": "markdown",
   "metadata": {},
   "source": [
    "## Kickstarter Project Exploration\n",
    "\n",
    "Explore cancer projects from Kickstarter"
   ]
  },
  {
   "cell_type": "code",
   "execution_count": 1,
   "metadata": {},
   "outputs": [],
   "source": [
    "import os.path as op\n",
    "\n",
    "import numpy as np\n",
    "import json\n",
    "\n",
    "import seaborn as sns\n",
    "import matplotlib.pyplot as plt\n",
    "import pandas as pd\n",
    "pd.options.display.max_columns = 100\n",
    "\n",
    "from scipy.stats import ttest_ind\n",
    "\n",
    "import statsmodels.api as sm"
   ]
  },
  {
   "cell_type": "code",
   "execution_count": 2,
   "metadata": {},
   "outputs": [],
   "source": [
    "DATA_PROCESSED = '../data/processed'"
   ]
  },
  {
   "cell_type": "code",
   "execution_count": 3,
   "metadata": {},
   "outputs": [
    {
     "data": {
      "text/html": [
       "<div>\n",
       "<style scoped>\n",
       "    .dataframe tbody tr th:only-of-type {\n",
       "        vertical-align: middle;\n",
       "    }\n",
       "\n",
       "    .dataframe tbody tr th {\n",
       "        vertical-align: top;\n",
       "    }\n",
       "\n",
       "    .dataframe thead th {\n",
       "        text-align: right;\n",
       "    }\n",
       "</style>\n",
       "<table border=\"1\" class=\"dataframe\">\n",
       "  <thead>\n",
       "    <tr style=\"text-align: right;\">\n",
       "      <th></th>\n",
       "      <th>id</th>\n",
       "      <th>name</th>\n",
       "      <th>blurb</th>\n",
       "      <th>created</th>\n",
       "      <th>launched</th>\n",
       "      <th>deadline</th>\n",
       "      <th>goal</th>\n",
       "      <th>spotlight</th>\n",
       "      <th>staff_pick</th>\n",
       "      <th>status</th>\n",
       "      <th>status_changed_at</th>\n",
       "      <th>backers</th>\n",
       "      <th>usd_pledged</th>\n",
       "      <th>pledged</th>\n",
       "      <th>currency</th>\n",
       "      <th>current_currency</th>\n",
       "      <th>fx_rate</th>\n",
       "      <th>category</th>\n",
       "      <th>geo_country</th>\n",
       "      <th>geo_state</th>\n",
       "      <th>geo_type</th>\n",
       "      <th>url</th>\n",
       "      <th>text</th>\n",
       "      <th>mean_donation</th>\n",
       "      <th>text_length_chars</th>\n",
       "      <th>text_length_words</th>\n",
       "      <th>text_length_sentences</th>\n",
       "      <th>pledged_to_goal</th>\n",
       "      <th>duration</th>\n",
       "      <th>month</th>\n",
       "      <th>day_of_week</th>\n",
       "      <th>year</th>\n",
       "      <th>from_US</th>\n",
       "      <th>from_Town</th>\n",
       "      <th>blurb_length_words</th>\n",
       "    </tr>\n",
       "  </thead>\n",
       "  <tbody>\n",
       "    <tr>\n",
       "      <th>193</th>\n",
       "      <td>1208203509</td>\n",
       "      <td>MARIANNE</td>\n",
       "      <td>A man takes his cancer-stricken wife to a pent...</td>\n",
       "      <td>2015-01-04 00:52:35</td>\n",
       "      <td>2015-01-04 16:20:25</td>\n",
       "      <td>2015-01-26 23:00:00</td>\n",
       "      <td>5000</td>\n",
       "      <td>False</td>\n",
       "      <td>False</td>\n",
       "      <td>failed</td>\n",
       "      <td>1422313212</td>\n",
       "      <td>58</td>\n",
       "      <td>5625.788508</td>\n",
       "      <td>3670.0</td>\n",
       "      <td>GBP</td>\n",
       "      <td>USD</td>\n",
       "      <td>1.305277</td>\n",
       "      <td>film &amp; video</td>\n",
       "      <td>GB</td>\n",
       "      <td>England</td>\n",
       "      <td>Town</td>\n",
       "      <td>https://www.kickstarter.com/projects/266726441...</td>\n",
       "      <td>NaN</td>\n",
       "      <td>96.996354</td>\n",
       "      <td>0</td>\n",
       "      <td>0</td>\n",
       "      <td>0</td>\n",
       "      <td>0.734000</td>\n",
       "      <td>22 days 06:39:35.000000000</td>\n",
       "      <td>1</td>\n",
       "      <td>6</td>\n",
       "      <td>2015</td>\n",
       "      <td>0</td>\n",
       "      <td>1</td>\n",
       "      <td>20</td>\n",
       "    </tr>\n",
       "    <tr>\n",
       "      <th>218</th>\n",
       "      <td>939180409</td>\n",
       "      <td>pauir - Changing the lives of women with breas...</td>\n",
       "      <td>Women affected by breast cancer can now fit ea...</td>\n",
       "      <td>2014-04-15 17:58:02</td>\n",
       "      <td>2014-10-15 00:40:33</td>\n",
       "      <td>2014-11-28 04:59:00</td>\n",
       "      <td>15000</td>\n",
       "      <td>True</td>\n",
       "      <td>False</td>\n",
       "      <td>successful</td>\n",
       "      <td>1417150742</td>\n",
       "      <td>177</td>\n",
       "      <td>16136.000000</td>\n",
       "      <td>16136.0</td>\n",
       "      <td>USD</td>\n",
       "      <td>USD</td>\n",
       "      <td>1.000000</td>\n",
       "      <td>fashion</td>\n",
       "      <td>US</td>\n",
       "      <td>KY</td>\n",
       "      <td>Town</td>\n",
       "      <td>https://www.kickstarter.com/projects/scarweary...</td>\n",
       "      <td>And for those who are fortunate to never endur...</td>\n",
       "      <td>91.163842</td>\n",
       "      <td>981</td>\n",
       "      <td>184</td>\n",
       "      <td>9</td>\n",
       "      <td>1.075733</td>\n",
       "      <td>44 days 04:18:27.000000000</td>\n",
       "      <td>10</td>\n",
       "      <td>2</td>\n",
       "      <td>2014</td>\n",
       "      <td>1</td>\n",
       "      <td>1</td>\n",
       "      <td>24</td>\n",
       "    </tr>\n",
       "    <tr>\n",
       "      <th>301</th>\n",
       "      <td>116374896</td>\n",
       "      <td>SUSPICIOUS DENSITIES</td>\n",
       "      <td>A celebration of life and of those who face th...</td>\n",
       "      <td>2011-12-12 19:13:42</td>\n",
       "      <td>2012-01-14 00:21:45</td>\n",
       "      <td>2012-02-13 00:21:45</td>\n",
       "      <td>7000</td>\n",
       "      <td>True</td>\n",
       "      <td>False</td>\n",
       "      <td>successful</td>\n",
       "      <td>1329092506</td>\n",
       "      <td>68</td>\n",
       "      <td>7170.000000</td>\n",
       "      <td>7170.0</td>\n",
       "      <td>USD</td>\n",
       "      <td>USD</td>\n",
       "      <td>1.000000</td>\n",
       "      <td>film &amp; video</td>\n",
       "      <td>US</td>\n",
       "      <td>DC</td>\n",
       "      <td>Town</td>\n",
       "      <td>https://www.kickstarter.com/projects/113218348...</td>\n",
       "      <td>20 years ago I lost my best friend to Stage 4 ...</td>\n",
       "      <td>105.441176</td>\n",
       "      <td>1087</td>\n",
       "      <td>194</td>\n",
       "      <td>13</td>\n",
       "      <td>1.024286</td>\n",
       "      <td>30 days 00:00:00.000000000</td>\n",
       "      <td>1</td>\n",
       "      <td>5</td>\n",
       "      <td>2012</td>\n",
       "      <td>1</td>\n",
       "      <td>1</td>\n",
       "      <td>26</td>\n",
       "    </tr>\n",
       "    <tr>\n",
       "      <th>73</th>\n",
       "      <td>1459261341</td>\n",
       "      <td>Pacific Crest Trail hike to write poetry -Outs...</td>\n",
       "      <td>To hike the PCT writing poetry, celebrate my 5...</td>\n",
       "      <td>2015-05-01 01:34:49</td>\n",
       "      <td>2015-05-21 15:10:27</td>\n",
       "      <td>2015-05-23 05:27:00</td>\n",
       "      <td>5000</td>\n",
       "      <td>False</td>\n",
       "      <td>False</td>\n",
       "      <td>failed</td>\n",
       "      <td>1432358822</td>\n",
       "      <td>0</td>\n",
       "      <td>0.000000</td>\n",
       "      <td>0.0</td>\n",
       "      <td>USD</td>\n",
       "      <td>USD</td>\n",
       "      <td>1.000000</td>\n",
       "      <td>publishing</td>\n",
       "      <td>US</td>\n",
       "      <td>CA</td>\n",
       "      <td>Town</td>\n",
       "      <td>https://www.kickstarter.com/projects/27609132/...</td>\n",
       "      <td>I  want to write a poetry book about cancer su...</td>\n",
       "      <td>0.000000</td>\n",
       "      <td>439</td>\n",
       "      <td>89</td>\n",
       "      <td>6</td>\n",
       "      <td>0.000000</td>\n",
       "      <td>1 days 14:16:33.000000000</td>\n",
       "      <td>5</td>\n",
       "      <td>3</td>\n",
       "      <td>2015</td>\n",
       "      <td>1</td>\n",
       "      <td>1</td>\n",
       "      <td>26</td>\n",
       "    </tr>\n",
       "    <tr>\n",
       "      <th>442</th>\n",
       "      <td>1868025474</td>\n",
       "      <td>Comics for good - Next Book: Cancer in the Family</td>\n",
       "      <td>Help us make the next book to help kids in fam...</td>\n",
       "      <td>2016-04-01 17:40:39</td>\n",
       "      <td>2016-04-26 21:10:08</td>\n",
       "      <td>2016-05-26 21:10:08</td>\n",
       "      <td>60000</td>\n",
       "      <td>False</td>\n",
       "      <td>False</td>\n",
       "      <td>failed</td>\n",
       "      <td>1464297008</td>\n",
       "      <td>34</td>\n",
       "      <td>1001.519211</td>\n",
       "      <td>6632.0</td>\n",
       "      <td>DKK</td>\n",
       "      <td>USD</td>\n",
       "      <td>0.167192</td>\n",
       "      <td>comics</td>\n",
       "      <td>DK</td>\n",
       "      <td>Midtjylland</td>\n",
       "      <td>Town</td>\n",
       "      <td>https://www.kickstarter.com/projects/266424214...</td>\n",
       "      <td>Our idea with Comics For Good is to make comic...</td>\n",
       "      <td>29.456447</td>\n",
       "      <td>3165</td>\n",
       "      <td>591</td>\n",
       "      <td>26</td>\n",
       "      <td>0.110533</td>\n",
       "      <td>30 days 00:00:00.000000000</td>\n",
       "      <td>4</td>\n",
       "      <td>1</td>\n",
       "      <td>2016</td>\n",
       "      <td>0</td>\n",
       "      <td>1</td>\n",
       "      <td>13</td>\n",
       "    </tr>\n",
       "  </tbody>\n",
       "</table>\n",
       "</div>"
      ],
      "text/plain": [
       "             id                                               name  \\\n",
       "193  1208203509                                           MARIANNE   \n",
       "218   939180409  pauir - Changing the lives of women with breas...   \n",
       "301   116374896                               SUSPICIOUS DENSITIES   \n",
       "73   1459261341  Pacific Crest Trail hike to write poetry -Outs...   \n",
       "442  1868025474  Comics for good - Next Book: Cancer in the Family   \n",
       "\n",
       "                                                 blurb              created  \\\n",
       "193  A man takes his cancer-stricken wife to a pent...  2015-01-04 00:52:35   \n",
       "218  Women affected by breast cancer can now fit ea...  2014-04-15 17:58:02   \n",
       "301  A celebration of life and of those who face th...  2011-12-12 19:13:42   \n",
       "73   To hike the PCT writing poetry, celebrate my 5...  2015-05-01 01:34:49   \n",
       "442  Help us make the next book to help kids in fam...  2016-04-01 17:40:39   \n",
       "\n",
       "                launched             deadline   goal  spotlight  staff_pick  \\\n",
       "193  2015-01-04 16:20:25  2015-01-26 23:00:00   5000      False       False   \n",
       "218  2014-10-15 00:40:33  2014-11-28 04:59:00  15000       True       False   \n",
       "301  2012-01-14 00:21:45  2012-02-13 00:21:45   7000       True       False   \n",
       "73   2015-05-21 15:10:27  2015-05-23 05:27:00   5000      False       False   \n",
       "442  2016-04-26 21:10:08  2016-05-26 21:10:08  60000      False       False   \n",
       "\n",
       "         status  status_changed_at  backers   usd_pledged  pledged currency  \\\n",
       "193      failed         1422313212       58   5625.788508   3670.0      GBP   \n",
       "218  successful         1417150742      177  16136.000000  16136.0      USD   \n",
       "301  successful         1329092506       68   7170.000000   7170.0      USD   \n",
       "73       failed         1432358822        0      0.000000      0.0      USD   \n",
       "442      failed         1464297008       34   1001.519211   6632.0      DKK   \n",
       "\n",
       "    current_currency   fx_rate      category geo_country    geo_state  \\\n",
       "193              USD  1.305277  film & video          GB      England   \n",
       "218              USD  1.000000       fashion          US           KY   \n",
       "301              USD  1.000000  film & video          US           DC   \n",
       "73               USD  1.000000    publishing          US           CA   \n",
       "442              USD  0.167192        comics          DK  Midtjylland   \n",
       "\n",
       "    geo_type                                                url  \\\n",
       "193     Town  https://www.kickstarter.com/projects/266726441...   \n",
       "218     Town  https://www.kickstarter.com/projects/scarweary...   \n",
       "301     Town  https://www.kickstarter.com/projects/113218348...   \n",
       "73      Town  https://www.kickstarter.com/projects/27609132/...   \n",
       "442     Town  https://www.kickstarter.com/projects/266424214...   \n",
       "\n",
       "                                                  text  mean_donation  \\\n",
       "193                                                NaN      96.996354   \n",
       "218  And for those who are fortunate to never endur...      91.163842   \n",
       "301  20 years ago I lost my best friend to Stage 4 ...     105.441176   \n",
       "73   I  want to write a poetry book about cancer su...       0.000000   \n",
       "442  Our idea with Comics For Good is to make comic...      29.456447   \n",
       "\n",
       "     text_length_chars  text_length_words  text_length_sentences  \\\n",
       "193                  0                  0                      0   \n",
       "218                981                184                      9   \n",
       "301               1087                194                     13   \n",
       "73                 439                 89                      6   \n",
       "442               3165                591                     26   \n",
       "\n",
       "     pledged_to_goal                    duration  month  day_of_week  year  \\\n",
       "193         0.734000  22 days 06:39:35.000000000      1            6  2015   \n",
       "218         1.075733  44 days 04:18:27.000000000     10            2  2014   \n",
       "301         1.024286  30 days 00:00:00.000000000      1            5  2012   \n",
       "73          0.000000   1 days 14:16:33.000000000      5            3  2015   \n",
       "442         0.110533  30 days 00:00:00.000000000      4            1  2016   \n",
       "\n",
       "     from_US  from_Town  blurb_length_words  \n",
       "193        0          1                  20  \n",
       "218        1          1                  24  \n",
       "301        1          1                  26  \n",
       "73         1          1                  26  \n",
       "442        0          1                  13  "
      ]
     },
     "execution_count": 3,
     "metadata": {},
     "output_type": "execute_result"
    }
   ],
   "source": [
    "data = pd.read_csv(op.join(DATA_PROCESSED, 'cancer_projects_full.csv'))\n",
    "\n",
    "data.sample(5)"
   ]
  },
  {
   "cell_type": "code",
   "execution_count": 4,
   "metadata": {
    "scrolled": true
   },
   "outputs": [
    {
     "data": {
      "text/plain": [
       "(455, 35)"
      ]
     },
     "execution_count": 4,
     "metadata": {},
     "output_type": "execute_result"
    }
   ],
   "source": [
    "data.shape"
   ]
  },
  {
   "cell_type": "markdown",
   "metadata": {},
   "source": [
    "Clean out projects not classified as Success or Fail"
   ]
  },
  {
   "cell_type": "code",
   "execution_count": 5,
   "metadata": {},
   "outputs": [
    {
     "data": {
      "image/png": "[encoded data removed]",
      "text/plain": [
       "<Figure size 576x288 with 1 Axes>"
      ]
     },
     "metadata": {},
     "output_type": "display_data"
    }
   ],
   "source": [
    "cnt = data['status'].value_counts()\n",
    "plt.subplots(figsize=(8,4))\n",
    "sns.barplot(cnt.index, cnt.values)\n",
    "plt.xticks(rotation=20);"
   ]
  },
  {
   "cell_type": "code",
   "execution_count": 6,
   "metadata": {},
   "outputs": [
    {
     "data": {
      "text/plain": [
       "(409, 35)"
      ]
     },
     "execution_count": 6,
     "metadata": {},
     "output_type": "execute_result"
    }
   ],
   "source": [
    "data = data[data['status'].isin(['successful', 'failed'])]\n",
    "data['status'] = data['status'].apply(lambda r: 1 if r == 'successful' else 0)\n",
    "data.shape"
   ]
  },
  {
   "cell_type": "markdown",
   "metadata": {},
   "source": [
    "Popular Country of Origin"
   ]
  },
  {
   "cell_type": "code",
   "execution_count": 7,
   "metadata": {},
   "outputs": [
    {
     "data": {
      "image/png": "[encoded data removed]",
      "text/plain": [
       "<Figure size 864x432 with 1 Axes>"
      ]
     },
     "metadata": {},
     "output_type": "display_data"
    }
   ],
   "source": [
    "cnt = data['geo_country'].value_counts()\n",
    "plt.subplots(figsize=(12,6))\n",
    "sns.barplot(cnt.index, cnt.values)\n",
    "plt.xticks(rotation=20)\n",
    "plt.title('Project Country of Origin Distribution');"
   ]
  },
  {
   "cell_type": "markdown",
   "metadata": {},
   "source": [
    "Popular Project Parent Categories"
   ]
  },
  {
   "cell_type": "code",
   "execution_count": 8,
   "metadata": {},
   "outputs": [
    {
     "data": {
      "image/png": "[encoded data removed]",
      "text/plain": [
       "<Figure size 864x432 with 1 Axes>"
      ]
     },
     "metadata": {},
     "output_type": "display_data"
    }
   ],
   "source": [
    "cnt = data['category'].value_counts()\n",
    "plt.subplots(figsize=(12,6))\n",
    "sns.barplot(cnt.index, cnt.values)\n",
    "plt.xticks(rotation=20)\n",
    "plt.title('Project Parent Category Distribution');"
   ]
  },
  {
   "cell_type": "markdown",
   "metadata": {},
   "source": [
    "Geo Types"
   ]
  },
  {
   "cell_type": "code",
   "execution_count": 9,
   "metadata": {},
   "outputs": [
    {
     "data": {
      "image/png": "[encoded data removed]",
      "text/plain": [
       "<Figure size 432x216 with 1 Axes>"
      ]
     },
     "metadata": {},
     "output_type": "display_data"
    }
   ],
   "source": [
    "cnt = data['geo_type'].value_counts()\n",
    "plt.subplots(figsize=(6,3))\n",
    "sns.barplot(cnt.index, cnt.values)\n",
    "plt.xticks(rotation=20)\n",
    "plt.title('Project Geographical Type Distribution');"
   ]
  },
  {
   "cell_type": "markdown",
   "metadata": {},
   "source": [
    "Duration"
   ]
  },
  {
   "cell_type": "code",
   "execution_count": 10,
   "metadata": {},
   "outputs": [
    {
     "data": {
      "image/png": "[encoded data removed]",
      "text/plain": [
       "<Figure size 864x360 with 1 Axes>"
      ]
     },
     "metadata": {},
     "output_type": "display_data"
    }
   ],
   "source": [
    "plt.subplots(figsize=(12,5))\n",
    "td = pd.Series([ pd.Timedelta(days=i) for i in range(0, 92, 7)])\n",
    "r = pd.cut(pd.TimedeltaIndex(data['duration'], unit='s').to_series(), td, labels=False).value_counts()\n",
    "g = sns.barplot(r.index, r.values)\n",
    "g.set_xticklabels([f'>{int(w)} weeks' for w in td.dt.days / 7])\n",
    "plt.title('Project Duration Distribution');"
   ]
  },
  {
   "cell_type": "code",
   "execution_count": 13,
   "metadata": {},
   "outputs": [
    {
     "data": {
      "image/png": "[encoded data removed]",
      "text/plain": [
       "<Figure size 432x288 with 1 Axes>"
      ]
     },
     "metadata": {},
     "output_type": "display_data"
    }
   ],
   "source": [
    "vc = data['month'].value_counts()\n",
    "sns.barplot(vc.index, vc.values)\n",
    "plt.title('Monthly Project Volume');"
   ]
  },
  {
   "cell_type": "code",
   "execution_count": null,
   "metadata": {},
   "outputs": [],
   "source": []
  }
 ],
 "metadata": {
  "kernelspec": {
   "display_name": "Python 3",
   "language": "python",
   "name": "python3"
  },
  "language_info": {
   "codemirror_mode": {
    "name": "ipython",
    "version": 3
   },
   "file_extension": ".py",
   "mimetype": "text/x-python",
   "name": "python",
   "nbconvert_exporter": "python",
   "pygments_lexer": "ipython3",
   "version": "3.6.5"
  }
 },
 "nbformat": 4,
 "nbformat_minor": 2
}
