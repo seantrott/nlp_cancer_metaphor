{
 "cells": [
  {
   "cell_type": "markdown",
   "metadata": {},
   "source": [
    "## Kickstarter Project Exploration\n",
    "\n",
    "Explore cancer projects from Kickstarter"
   ]
  },
  {
   "cell_type": "code",
   "execution_count": 1,
   "metadata": {},
   "outputs": [],
   "source": [
    "import os.path as op\n",
    "\n",
    "import numpy as np\n",
    "import json\n",
    "\n",
    "import seaborn as sns\n",
    "import matplotlib.pyplot as plt\n",
    "import pandas as pd\n",
    "pd.options.display.max_columns = 100\n",
    "\n",
    "from scipy.stats import ttest_ind\n",
    "\n",
    "import statsmodels.api as sm"
   ]
  },
  {
   "cell_type": "code",
   "execution_count": 2,
   "metadata": {},
   "outputs": [],
   "source": [
    "DATA_PROCESSED = '../data/processed'"
   ]
  },
  {
   "cell_type": "code",
   "execution_count": 3,
   "metadata": {},
   "outputs": [
    {
     "data": {
      "text/html": [
       "<div>\n",
       "<style scoped>\n",
       "    .dataframe tbody tr th:only-of-type {\n",
       "        vertical-align: middle;\n",
       "    }\n",
       "\n",
       "    .dataframe tbody tr th {\n",
       "        vertical-align: top;\n",
       "    }\n",
       "\n",
       "    .dataframe thead th {\n",
       "        text-align: right;\n",
       "    }\n",
       "</style>\n",
       "<table border=\"1\" class=\"dataframe\">\n",
       "  <thead>\n",
       "    <tr style=\"text-align: right;\">\n",
       "      <th></th>\n",
       "      <th>id</th>\n",
       "      <th>name</th>\n",
       "      <th>blurb</th>\n",
       "      <th>created</th>\n",
       "      <th>launched</th>\n",
       "      <th>deadline</th>\n",
       "      <th>goal</th>\n",
       "      <th>spotlight</th>\n",
       "      <th>staff_pick</th>\n",
       "      <th>status</th>\n",
       "      <th>status_changed_at</th>\n",
       "      <th>backers</th>\n",
       "      <th>usd_pledged</th>\n",
       "      <th>pledged</th>\n",
       "      <th>currency</th>\n",
       "      <th>current_currency</th>\n",
       "      <th>category</th>\n",
       "      <th>geo_country</th>\n",
       "      <th>geo_state</th>\n",
       "      <th>geo_type</th>\n",
       "      <th>url</th>\n",
       "      <th>text</th>\n",
       "      <th>mean_donation</th>\n",
       "      <th>text_length_chars</th>\n",
       "      <th>text_length_words</th>\n",
       "      <th>text_length_sentences</th>\n",
       "      <th>pledged_to_goal</th>\n",
       "      <th>duration</th>\n",
       "      <th>month</th>\n",
       "      <th>day_of_week</th>\n",
       "      <th>year</th>\n",
       "      <th>from_US</th>\n",
       "      <th>from_Town</th>\n",
       "      <th>blurb_length_words</th>\n",
       "    </tr>\n",
       "  </thead>\n",
       "  <tbody>\n",
       "    <tr>\n",
       "      <th>339</th>\n",
       "      <td>1266882117</td>\n",
       "      <td>ANGRY BACTERIA - GAME FOR ADULTS and KIDS</td>\n",
       "      <td>Save your internal body parts! Fight bacteria ...</td>\n",
       "      <td>2012-07-13 14:11:02</td>\n",
       "      <td>2012-07-14 14:05:44</td>\n",
       "      <td>2012-08-08 14:05:44</td>\n",
       "      <td>8000</td>\n",
       "      <td>False</td>\n",
       "      <td>False</td>\n",
       "      <td>failed</td>\n",
       "      <td>1344434746</td>\n",
       "      <td>3</td>\n",
       "      <td>20.000000</td>\n",
       "      <td>20.0</td>\n",
       "      <td>USD</td>\n",
       "      <td>USD</td>\n",
       "      <td>games</td>\n",
       "      <td>UA</td>\n",
       "      <td>Rivne Oblast</td>\n",
       "      <td>Town</td>\n",
       "      <td>https://www.kickstarter.com/projects/112916790...</td>\n",
       "      <td>Hi! My name is Zhanna &amp; I`m a translator (I am...</td>\n",
       "      <td>6.666667</td>\n",
       "      <td>6434</td>\n",
       "      <td>1145</td>\n",
       "      <td>45</td>\n",
       "      <td>0.002500</td>\n",
       "      <td>25 days 00:00:00.000000000</td>\n",
       "      <td>7</td>\n",
       "      <td>5</td>\n",
       "      <td>2012</td>\n",
       "      <td>0</td>\n",
       "      <td>1</td>\n",
       "      <td>17</td>\n",
       "    </tr>\n",
       "    <tr>\n",
       "      <th>219</th>\n",
       "      <td>499711991</td>\n",
       "      <td>Nurse Ted: A Children's Guide to Cancer</td>\n",
       "      <td>A picture book to help support children's unde...</td>\n",
       "      <td>2015-11-04 20:57:44</td>\n",
       "      <td>2016-05-27 08:39:41</td>\n",
       "      <td>2016-07-06 08:39:41</td>\n",
       "      <td>1500</td>\n",
       "      <td>True</td>\n",
       "      <td>False</td>\n",
       "      <td>successful</td>\n",
       "      <td>1467794381</td>\n",
       "      <td>37</td>\n",
       "      <td>2357.938957</td>\n",
       "      <td>1603.0</td>\n",
       "      <td>GBP</td>\n",
       "      <td>USD</td>\n",
       "      <td>publishing</td>\n",
       "      <td>GB</td>\n",
       "      <td>England</td>\n",
       "      <td>Town</td>\n",
       "      <td>https://www.kickstarter.com/projects/158608160...</td>\n",
       "      <td>We are creating the Nurse Ted picture books in...</td>\n",
       "      <td>63.728080</td>\n",
       "      <td>4040</td>\n",
       "      <td>691</td>\n",
       "      <td>39</td>\n",
       "      <td>1.068667</td>\n",
       "      <td>40 days 00:00:00.000000000</td>\n",
       "      <td>5</td>\n",
       "      <td>4</td>\n",
       "      <td>2016</td>\n",
       "      <td>0</td>\n",
       "      <td>1</td>\n",
       "      <td>21</td>\n",
       "    </tr>\n",
       "    <tr>\n",
       "      <th>104</th>\n",
       "      <td>1884688500</td>\n",
       "      <td>\"give HOPE to help them cope\"</td>\n",
       "      <td>Cancer Cares is social enterprise, whose sole ...</td>\n",
       "      <td>2015-09-04 06:31:50</td>\n",
       "      <td>2017-04-28 15:38:02</td>\n",
       "      <td>2017-05-28 15:38:02</td>\n",
       "      <td>10000</td>\n",
       "      <td>False</td>\n",
       "      <td>False</td>\n",
       "      <td>failed</td>\n",
       "      <td>1495985882</td>\n",
       "      <td>1</td>\n",
       "      <td>25.000000</td>\n",
       "      <td>25.0</td>\n",
       "      <td>USD</td>\n",
       "      <td>USD</td>\n",
       "      <td>crafts</td>\n",
       "      <td>US</td>\n",
       "      <td>AZ</td>\n",
       "      <td>Town</td>\n",
       "      <td>https://www.kickstarter.com/projects/914430562...</td>\n",
       "      <td></td>\n",
       "      <td>25.000000</td>\n",
       "      <td>5</td>\n",
       "      <td>0</td>\n",
       "      <td>0</td>\n",
       "      <td>0.002500</td>\n",
       "      <td>30 days 00:00:00.000000000</td>\n",
       "      <td>4</td>\n",
       "      <td>4</td>\n",
       "      <td>2017</td>\n",
       "      <td>1</td>\n",
       "      <td>1</td>\n",
       "      <td>21</td>\n",
       "    </tr>\n",
       "    <tr>\n",
       "      <th>386</th>\n",
       "      <td>84054747</td>\n",
       "      <td>\"Do Us Part\" - Indie Romantic Drama</td>\n",
       "      <td>After Parker and Ellie find out that her cance...</td>\n",
       "      <td>2015-09-21 19:34:40</td>\n",
       "      <td>2015-10-10 19:02:22</td>\n",
       "      <td>2015-11-09 20:02:22</td>\n",
       "      <td>3000</td>\n",
       "      <td>True</td>\n",
       "      <td>False</td>\n",
       "      <td>successful</td>\n",
       "      <td>1447099342</td>\n",
       "      <td>51</td>\n",
       "      <td>5015.000000</td>\n",
       "      <td>5015.0</td>\n",
       "      <td>USD</td>\n",
       "      <td>USD</td>\n",
       "      <td>film &amp; video</td>\n",
       "      <td>US</td>\n",
       "      <td>CA</td>\n",
       "      <td>Town</td>\n",
       "      <td>https://www.kickstarter.com/projects/richardva...</td>\n",
       "      <td>The Do Us Part crew is thrilled to see our pro...</td>\n",
       "      <td>98.333333</td>\n",
       "      <td>4029</td>\n",
       "      <td>709</td>\n",
       "      <td>38</td>\n",
       "      <td>1.671667</td>\n",
       "      <td>30 days 01:00:00.000000000</td>\n",
       "      <td>10</td>\n",
       "      <td>5</td>\n",
       "      <td>2015</td>\n",
       "      <td>1</td>\n",
       "      <td>1</td>\n",
       "      <td>22</td>\n",
       "    </tr>\n",
       "    <tr>\n",
       "      <th>150</th>\n",
       "      <td>1312205664</td>\n",
       "      <td>All Things Cancer Podcast</td>\n",
       "      <td>Help fund the 1st month of podcasts to offer s...</td>\n",
       "      <td>2017-03-13 13:26:58</td>\n",
       "      <td>2017-03-13 15:43:44</td>\n",
       "      <td>2017-03-20 15:43:44</td>\n",
       "      <td>2500</td>\n",
       "      <td>False</td>\n",
       "      <td>False</td>\n",
       "      <td>failed</td>\n",
       "      <td>1490024624</td>\n",
       "      <td>1</td>\n",
       "      <td>150.000000</td>\n",
       "      <td>150.0</td>\n",
       "      <td>USD</td>\n",
       "      <td>USD</td>\n",
       "      <td>publishing</td>\n",
       "      <td>US</td>\n",
       "      <td>TX</td>\n",
       "      <td>Town</td>\n",
       "      <td>https://www.kickstarter.com/projects/558516877...</td>\n",
       "      <td>All Things Cancer is a podcast dedicated to pr...</td>\n",
       "      <td>150.000000</td>\n",
       "      <td>955</td>\n",
       "      <td>164</td>\n",
       "      <td>9</td>\n",
       "      <td>0.060000</td>\n",
       "      <td>7 days 00:00:00.000000000</td>\n",
       "      <td>3</td>\n",
       "      <td>0</td>\n",
       "      <td>2017</td>\n",
       "      <td>1</td>\n",
       "      <td>1</td>\n",
       "      <td>21</td>\n",
       "    </tr>\n",
       "  </tbody>\n",
       "</table>\n",
       "</div>"
      ],
      "text/plain": [
       "             id                                       name  \\\n",
       "339  1266882117  ANGRY BACTERIA - GAME FOR ADULTS and KIDS   \n",
       "219   499711991    Nurse Ted: A Children's Guide to Cancer   \n",
       "104  1884688500              \"give HOPE to help them cope\"   \n",
       "386    84054747        \"Do Us Part\" - Indie Romantic Drama   \n",
       "150  1312205664                  All Things Cancer Podcast   \n",
       "\n",
       "                                                 blurb              created  \\\n",
       "339  Save your internal body parts! Fight bacteria ...  2012-07-13 14:11:02   \n",
       "219  A picture book to help support children's unde...  2015-11-04 20:57:44   \n",
       "104  Cancer Cares is social enterprise, whose sole ...  2015-09-04 06:31:50   \n",
       "386  After Parker and Ellie find out that her cance...  2015-09-21 19:34:40   \n",
       "150  Help fund the 1st month of podcasts to offer s...  2017-03-13 13:26:58   \n",
       "\n",
       "                launched             deadline   goal  spotlight  staff_pick  \\\n",
       "339  2012-07-14 14:05:44  2012-08-08 14:05:44   8000      False       False   \n",
       "219  2016-05-27 08:39:41  2016-07-06 08:39:41   1500       True       False   \n",
       "104  2017-04-28 15:38:02  2017-05-28 15:38:02  10000      False       False   \n",
       "386  2015-10-10 19:02:22  2015-11-09 20:02:22   3000       True       False   \n",
       "150  2017-03-13 15:43:44  2017-03-20 15:43:44   2500      False       False   \n",
       "\n",
       "         status  status_changed_at  backers  usd_pledged  pledged currency  \\\n",
       "339      failed         1344434746        3    20.000000     20.0      USD   \n",
       "219  successful         1467794381       37  2357.938957   1603.0      GBP   \n",
       "104      failed         1495985882        1    25.000000     25.0      USD   \n",
       "386  successful         1447099342       51  5015.000000   5015.0      USD   \n",
       "150      failed         1490024624        1   150.000000    150.0      USD   \n",
       "\n",
       "    current_currency      category geo_country     geo_state geo_type  \\\n",
       "339              USD         games          UA  Rivne Oblast     Town   \n",
       "219              USD    publishing          GB       England     Town   \n",
       "104              USD        crafts          US            AZ     Town   \n",
       "386              USD  film & video          US            CA     Town   \n",
       "150              USD    publishing          US            TX     Town   \n",
       "\n",
       "                                                   url  \\\n",
       "339  https://www.kickstarter.com/projects/112916790...   \n",
       "219  https://www.kickstarter.com/projects/158608160...   \n",
       "104  https://www.kickstarter.com/projects/914430562...   \n",
       "386  https://www.kickstarter.com/projects/richardva...   \n",
       "150  https://www.kickstarter.com/projects/558516877...   \n",
       "\n",
       "                                                  text  mean_donation  \\\n",
       "339  Hi! My name is Zhanna & I`m a translator (I am...       6.666667   \n",
       "219  We are creating the Nurse Ted picture books in...      63.728080   \n",
       "104                                                         25.000000   \n",
       "386  The Do Us Part crew is thrilled to see our pro...      98.333333   \n",
       "150  All Things Cancer is a podcast dedicated to pr...     150.000000   \n",
       "\n",
       "     text_length_chars  text_length_words  text_length_sentences  \\\n",
       "339               6434               1145                     45   \n",
       "219               4040                691                     39   \n",
       "104                  5                  0                      0   \n",
       "386               4029                709                     38   \n",
       "150                955                164                      9   \n",
       "\n",
       "     pledged_to_goal                    duration  month  day_of_week  year  \\\n",
       "339         0.002500  25 days 00:00:00.000000000      7            5  2012   \n",
       "219         1.068667  40 days 00:00:00.000000000      5            4  2016   \n",
       "104         0.002500  30 days 00:00:00.000000000      4            4  2017   \n",
       "386         1.671667  30 days 01:00:00.000000000     10            5  2015   \n",
       "150         0.060000   7 days 00:00:00.000000000      3            0  2017   \n",
       "\n",
       "     from_US  from_Town  blurb_length_words  \n",
       "339        0          1                  17  \n",
       "219        0          1                  21  \n",
       "104        1          1                  21  \n",
       "386        1          1                  22  \n",
       "150        1          1                  21  "
      ]
     },
     "execution_count": 3,
     "metadata": {},
     "output_type": "execute_result"
    }
   ],
   "source": [
    "data = pd.read_csv(op.join(DATA_PROCESSED, 'cancer_projects_full.csv'))\n",
    "\n",
    "data.sample(5)"
   ]
  },
  {
   "cell_type": "code",
   "execution_count": 4,
   "metadata": {
    "scrolled": true
   },
   "outputs": [
    {
     "data": {
      "text/plain": [
       "(455, 34)"
      ]
     },
     "execution_count": 4,
     "metadata": {},
     "output_type": "execute_result"
    }
   ],
   "source": [
    "data.shape"
   ]
  },
  {
   "cell_type": "markdown",
   "metadata": {},
   "source": [
    "Clean out projects not classified as Success or Fail"
   ]
  },
  {
   "cell_type": "code",
   "execution_count": 5,
   "metadata": {},
   "outputs": [
    {
     "data": {
      "image/png": "[encoded data removed]",
      "text/plain": [
       "<Figure size 576x288 with 1 Axes>"
      ]
     },
     "metadata": {},
     "output_type": "display_data"
    }
   ],
   "source": [
    "cnt = data['status'].value_counts()\n",
    "plt.subplots(figsize=(8,4))\n",
    "sns.barplot(cnt.index, cnt.values)\n",
    "plt.xticks(rotation=20);"
   ]
  },
  {
   "cell_type": "code",
   "execution_count": 6,
   "metadata": {},
   "outputs": [
    {
     "data": {
      "text/plain": [
       "(409, 34)"
      ]
     },
     "execution_count": 6,
     "metadata": {},
     "output_type": "execute_result"
    }
   ],
   "source": [
    "data = data[data['status'].isin(['successful', 'failed'])]\n",
    "data.shape"
   ]
  },
  {
   "cell_type": "markdown",
   "metadata": {},
   "source": [
    "Popular Country of Origin"
   ]
  },
  {
   "cell_type": "code",
   "execution_count": 7,
   "metadata": {},
   "outputs": [
    {
     "data": {
      "image/png": "[encoded data removed]",
      "text/plain": [
       "<Figure size 864x432 with 1 Axes>"
      ]
     },
     "metadata": {},
     "output_type": "display_data"
    }
   ],
   "source": [
    "cnt = data['geo_country'].value_counts()\n",
    "plt.subplots(figsize=(12,6))\n",
    "sns.barplot(cnt.index, cnt.values)\n",
    "plt.xticks(rotation=20);"
   ]
  },
  {
   "cell_type": "markdown",
   "metadata": {},
   "source": [
    "Popular Project Parent Categories"
   ]
  },
  {
   "cell_type": "code",
   "execution_count": 8,
   "metadata": {},
   "outputs": [
    {
     "data": {
      "image/png": "[encoded data removed]",
      "text/plain": [
       "<Figure size 864x432 with 1 Axes>"
      ]
     },
     "metadata": {},
     "output_type": "display_data"
    }
   ],
   "source": [
    "cnt = data['category'].value_counts()\n",
    "plt.subplots(figsize=(12,6))\n",
    "sns.barplot(cnt.index, cnt.values)\n",
    "plt.xticks(rotation=20);"
   ]
  },
  {
   "cell_type": "markdown",
   "metadata": {},
   "source": [
    "Geo Types"
   ]
  },
  {
   "cell_type": "code",
   "execution_count": 9,
   "metadata": {},
   "outputs": [
    {
     "data": {
      "image/png": "[encoded data removed]",
      "text/plain": [
       "<Figure size 432x216 with 1 Axes>"
      ]
     },
     "metadata": {},
     "output_type": "display_data"
    }
   ],
   "source": [
    "cnt = data['geo_type'].value_counts()\n",
    "plt.subplots(figsize=(6,3))\n",
    "sns.barplot(cnt.index, cnt.values)\n",
    "plt.xticks(rotation=20);"
   ]
  },
  {
   "cell_type": "markdown",
   "metadata": {},
   "source": [
    "Duration"
   ]
  },
  {
   "cell_type": "code",
   "execution_count": 10,
   "metadata": {},
   "outputs": [
    {
     "data": {
      "image/png": "[encoded data removed]",
      "text/plain": [
       "<Figure size 864x360 with 1 Axes>"
      ]
     },
     "metadata": {},
     "output_type": "display_data"
    }
   ],
   "source": [
    "plt.subplots(figsize=(12,5))\n",
    "td = pd.Series([ pd.Timedelta(days=i) for i in range(0, 92, 7)])\n",
    "r = pd.cut(pd.TimedeltaIndex(data['duration']).to_series(), td, labels=False).value_counts()\n",
    "g = sns.barplot(r.index, r.values)\n",
    "g.set_xticklabels([f'>{int(w)} weeks' for w in td.dt.days / 7]);"
   ]
  }
 ],
 "metadata": {
  "kernelspec": {
   "display_name": "Python 3",
   "language": "python",
   "name": "python3"
  },
  "language_info": {
   "codemirror_mode": {
    "name": "ipython",
    "version": 3
   },
   "file_extension": ".py",
   "mimetype": "text/x-python",
   "name": "python",
   "nbconvert_exporter": "python",
   "pygments_lexer": "ipython3",
   "version": "3.6.3"
  }
 },
 "nbformat": 4,
 "nbformat_minor": 2
}
