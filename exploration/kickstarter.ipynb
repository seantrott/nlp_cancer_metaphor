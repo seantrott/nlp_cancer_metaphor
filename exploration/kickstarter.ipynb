{
 "cells": [
  {
   "cell_type": "markdown",
   "metadata": {},
   "source": [
    "## Kickstarter Project Exploration\n",
    "\n",
    "Explore cancer projects from Kickstarter"
   ]
  },
  {
   "cell_type": "code",
   "execution_count": 1,
   "metadata": {},
   "outputs": [],
   "source": [
    "import os.path as op\n",
    "\n",
    "import numpy as np\n",
    "import json\n",
    "\n",
    "import seaborn as sns\n",
    "import matplotlib.pyplot as plt\n",
    "import pandas as pd\n",
    "\n",
    "from scipy.stats import ttest_ind\n",
    "\n",
    "import statsmodels.api as sm"
   ]
  },
  {
   "cell_type": "code",
   "execution_count": 2,
   "metadata": {},
   "outputs": [],
   "source": [
    "DATA_PROCESSED = '../data/processed'"
   ]
  },
  {
   "cell_type": "code",
   "execution_count": 3,
   "metadata": {},
   "outputs": [],
   "source": [
    "with open(op.join(DATA_PROCESSED, 'cancer_project_text.json'), 'r') as f:\n",
    "    text_data = json.load(f)"
   ]
  },
  {
   "cell_type": "markdown",
   "metadata": {},
   "source": [
    "This json file comes from `src/data/data_download.py`."
   ]
  },
  {
   "cell_type": "code",
   "execution_count": 4,
   "metadata": {},
   "outputs": [],
   "source": [
    "with open(op.join(DATA_PROCESSED, 'cancer_project_data.json'), 'r') as f:\n",
    "    json_data = json.load(f)"
   ]
  },
  {
   "cell_type": "code",
   "execution_count": 5,
   "metadata": {},
   "outputs": [
    {
     "data": {
      "text/html": [
       "<div>\n",
       "<style scoped>\n",
       "    .dataframe tbody tr th:only-of-type {\n",
       "        vertical-align: middle;\n",
       "    }\n",
       "\n",
       "    .dataframe tbody tr th {\n",
       "        vertical-align: top;\n",
       "    }\n",
       "\n",
       "    .dataframe thead th {\n",
       "        text-align: right;\n",
       "    }\n",
       "</style>\n",
       "<table border=\"1\" class=\"dataframe\">\n",
       "  <thead>\n",
       "    <tr style=\"text-align: right;\">\n",
       "      <th></th>\n",
       "      <th>backers_count</th>\n",
       "      <th>blurb</th>\n",
       "      <th>category_slug</th>\n",
       "      <th>country</th>\n",
       "      <th>created_at</th>\n",
       "      <th>currency</th>\n",
       "      <th>current_currency</th>\n",
       "      <th>deadline</th>\n",
       "      <th>geo_type</th>\n",
       "      <th>goal</th>\n",
       "      <th>id</th>\n",
       "      <th>launched_at</th>\n",
       "      <th>pledged</th>\n",
       "      <th>spotlight</th>\n",
       "      <th>staff_pick</th>\n",
       "      <th>state</th>\n",
       "      <th>status</th>\n",
       "      <th>status_changed_at</th>\n",
       "      <th>url</th>\n",
       "      <th>usd_pledged</th>\n",
       "    </tr>\n",
       "  </thead>\n",
       "  <tbody>\n",
       "    <tr>\n",
       "      <th>330</th>\n",
       "      <td>173</td>\n",
       "      <td>With Grace B. Bold™ is a luxurious collection ...</td>\n",
       "      <td>fashion/apparel</td>\n",
       "      <td>US</td>\n",
       "      <td>2017-06-28 18:37:11</td>\n",
       "      <td>USD</td>\n",
       "      <td>USD</td>\n",
       "      <td>2017-11-13 04:59:00</td>\n",
       "      <td>Town</td>\n",
       "      <td>35000</td>\n",
       "      <td>2013121773</td>\n",
       "      <td>2017-10-01 13:00:04</td>\n",
       "      <td>35251.00</td>\n",
       "      <td>True</td>\n",
       "      <td>False</td>\n",
       "      <td>OH</td>\n",
       "      <td>successful</td>\n",
       "      <td>1510549141</td>\n",
       "      <td>https://www.kickstarter.com/projects/758146846...</td>\n",
       "      <td>35251.00</td>\n",
       "    </tr>\n",
       "    <tr>\n",
       "      <th>150</th>\n",
       "      <td>1</td>\n",
       "      <td>Help fund the 1st month of podcasts to offer s...</td>\n",
       "      <td>publishing/radio &amp; podcasts</td>\n",
       "      <td>US</td>\n",
       "      <td>2017-03-13 13:26:58</td>\n",
       "      <td>USD</td>\n",
       "      <td>USD</td>\n",
       "      <td>2017-03-20 15:43:44</td>\n",
       "      <td>Town</td>\n",
       "      <td>2500</td>\n",
       "      <td>1312205664</td>\n",
       "      <td>2017-03-13 15:43:44</td>\n",
       "      <td>150.00</td>\n",
       "      <td>False</td>\n",
       "      <td>False</td>\n",
       "      <td>TX</td>\n",
       "      <td>failed</td>\n",
       "      <td>1490024624</td>\n",
       "      <td>https://www.kickstarter.com/projects/558516877...</td>\n",
       "      <td>150.00</td>\n",
       "    </tr>\n",
       "    <tr>\n",
       "      <th>144</th>\n",
       "      <td>6</td>\n",
       "      <td>Hollywood Newest Fashion Sensation. Exclusive ...</td>\n",
       "      <td>fashion/accessories</td>\n",
       "      <td>US</td>\n",
       "      <td>2014-07-30 02:09:08</td>\n",
       "      <td>USD</td>\n",
       "      <td>USD</td>\n",
       "      <td>2014-11-08 05:24:35</td>\n",
       "      <td>Town</td>\n",
       "      <td>150000</td>\n",
       "      <td>1276765651</td>\n",
       "      <td>2014-09-24 04:24:35</td>\n",
       "      <td>33.00</td>\n",
       "      <td>False</td>\n",
       "      <td>False</td>\n",
       "      <td>CA</td>\n",
       "      <td>failed</td>\n",
       "      <td>1415424275</td>\n",
       "      <td>https://www.kickstarter.com/projects/192854814...</td>\n",
       "      <td>33.00</td>\n",
       "    </tr>\n",
       "    <tr>\n",
       "      <th>164</th>\n",
       "      <td>124</td>\n",
       "      <td>We're transforming the image of cancer and bre...</td>\n",
       "      <td>comics</td>\n",
       "      <td>US</td>\n",
       "      <td>2012-01-16 15:49:06</td>\n",
       "      <td>USD</td>\n",
       "      <td>USD</td>\n",
       "      <td>2012-05-22 00:01:59</td>\n",
       "      <td>Town</td>\n",
       "      <td>5500</td>\n",
       "      <td>147573601</td>\n",
       "      <td>2012-04-20 00:01:59</td>\n",
       "      <td>6240.09</td>\n",
       "      <td>True</td>\n",
       "      <td>False</td>\n",
       "      <td>CA</td>\n",
       "      <td>successful</td>\n",
       "      <td>1337644919</td>\n",
       "      <td>https://www.kickstarter.com/projects/kaylinmar...</td>\n",
       "      <td>6240.09</td>\n",
       "    </tr>\n",
       "    <tr>\n",
       "      <th>68</th>\n",
       "      <td>0</td>\n",
       "      <td>I'm a business owner &amp; former chef. I have an ...</td>\n",
       "      <td>food/food trucks</td>\n",
       "      <td>US</td>\n",
       "      <td>2017-11-17 15:16:52</td>\n",
       "      <td>USD</td>\n",
       "      <td>USD</td>\n",
       "      <td>2018-01-31 02:18:18</td>\n",
       "      <td>Town</td>\n",
       "      <td>25000</td>\n",
       "      <td>215789301</td>\n",
       "      <td>2017-12-02 02:18:18</td>\n",
       "      <td>0.00</td>\n",
       "      <td>False</td>\n",
       "      <td>False</td>\n",
       "      <td>NY</td>\n",
       "      <td>failed</td>\n",
       "      <td>1517365098</td>\n",
       "      <td>https://www.kickstarter.com/projects/203003512...</td>\n",
       "      <td>0.00</td>\n",
       "    </tr>\n",
       "  </tbody>\n",
       "</table>\n",
       "</div>"
      ],
      "text/plain": [
       "     backers_count                                              blurb  \\\n",
       "330            173  With Grace B. Bold™ is a luxurious collection ...   \n",
       "150              1  Help fund the 1st month of podcasts to offer s...   \n",
       "144              6  Hollywood Newest Fashion Sensation. Exclusive ...   \n",
       "164            124  We're transforming the image of cancer and bre...   \n",
       "68               0  I'm a business owner & former chef. I have an ...   \n",
       "\n",
       "                   category_slug country          created_at currency  \\\n",
       "330              fashion/apparel      US 2017-06-28 18:37:11      USD   \n",
       "150  publishing/radio & podcasts      US 2017-03-13 13:26:58      USD   \n",
       "144          fashion/accessories      US 2014-07-30 02:09:08      USD   \n",
       "164                       comics      US 2012-01-16 15:49:06      USD   \n",
       "68              food/food trucks      US 2017-11-17 15:16:52      USD   \n",
       "\n",
       "    current_currency            deadline geo_type    goal          id  \\\n",
       "330              USD 2017-11-13 04:59:00     Town   35000  2013121773   \n",
       "150              USD 2017-03-20 15:43:44     Town    2500  1312205664   \n",
       "144              USD 2014-11-08 05:24:35     Town  150000  1276765651   \n",
       "164              USD 2012-05-22 00:01:59     Town    5500   147573601   \n",
       "68               USD 2018-01-31 02:18:18     Town   25000   215789301   \n",
       "\n",
       "            launched_at   pledged  spotlight  staff_pick state      status  \\\n",
       "330 2017-10-01 13:00:04  35251.00       True       False    OH  successful   \n",
       "150 2017-03-13 15:43:44    150.00      False       False    TX      failed   \n",
       "144 2014-09-24 04:24:35     33.00      False       False    CA      failed   \n",
       "164 2012-04-20 00:01:59   6240.09       True       False    CA  successful   \n",
       "68  2017-12-02 02:18:18      0.00      False       False    NY      failed   \n",
       "\n",
       "     status_changed_at                                                url  \\\n",
       "330         1510549141  https://www.kickstarter.com/projects/758146846...   \n",
       "150         1490024624  https://www.kickstarter.com/projects/558516877...   \n",
       "144         1415424275  https://www.kickstarter.com/projects/192854814...   \n",
       "164         1337644919  https://www.kickstarter.com/projects/kaylinmar...   \n",
       "68          1517365098  https://www.kickstarter.com/projects/203003512...   \n",
       "\n",
       "     usd_pledged  \n",
       "330     35251.00  \n",
       "150       150.00  \n",
       "144        33.00  \n",
       "164      6240.09  \n",
       "68          0.00  "
      ]
     },
     "execution_count": 5,
     "metadata": {},
     "output_type": "execute_result"
    }
   ],
   "source": [
    "data = pd.DataFrame(json_data)\n",
    "\n",
    "data = data.drop_duplicates(subset='id')\n",
    "data = data[data['id'].isin(list(text_data.keys()))]\n",
    "\n",
    "data['usd_pledged'] = data['usd_pledged'].astype(float)\n",
    "data['deadline'] = pd.to_datetime(data['deadline'], unit='s')\n",
    "data['created_at'] = pd.to_datetime(data['created_at'], unit='s')\n",
    "data['launched_at'] = pd.to_datetime(data['launched_at'], unit='s')\n",
    "\n",
    "data.sample(5)"
   ]
  },
  {
   "cell_type": "code",
   "execution_count": 6,
   "metadata": {},
   "outputs": [
    {
     "data": {
      "text/plain": [
       "(472, (455, 20))"
      ]
     },
     "execution_count": 6,
     "metadata": {},
     "output_type": "execute_result"
    }
   ],
   "source": [
    "len(json_data), data.shape"
   ]
  },
  {
   "cell_type": "markdown",
   "metadata": {},
   "source": [
    "Clean out projects not classified as Success or Fail"
   ]
  },
  {
   "cell_type": "code",
   "execution_count": 7,
   "metadata": {},
   "outputs": [
    {
     "data": {
      "image/png": "[encoded data removed]",
      "text/plain": [
       "<Figure size 576x288 with 1 Axes>"
      ]
     },
     "metadata": {},
     "output_type": "display_data"
    }
   ],
   "source": [
    "cnt = data['status'].value_counts()\n",
    "plt.subplots(figsize=(8,4))\n",
    "sns.barplot(cnt.index, cnt.values)\n",
    "plt.xticks(rotation=20);"
   ]
  },
  {
   "cell_type": "code",
   "execution_count": 8,
   "metadata": {},
   "outputs": [
    {
     "data": {
      "text/plain": [
       "(409, 20)"
      ]
     },
     "execution_count": 8,
     "metadata": {},
     "output_type": "execute_result"
    }
   ],
   "source": [
    "data = data[data['status'].isin(['successful', 'failed'])]\n",
    "data.shape"
   ]
  },
  {
   "cell_type": "code",
   "execution_count": 9,
   "metadata": {},
   "outputs": [
    {
     "name": "stdout",
     "output_type": "stream",
     "text": [
      "Percent spotlight: 54.09%\n"
     ]
    },
    {
     "data": {
      "text/plain": [
       "<matplotlib.axes._subplots.AxesSubplot at 0x1c1ebfbac8>"
      ]
     },
     "execution_count": 9,
     "metadata": {},
     "output_type": "execute_result"
    },
    {
     "data": {
      "image/png": "[encoded data removed]",
      "text/plain": [
       "<Figure size 432x288 with 1 Axes>"
      ]
     },
     "metadata": {},
     "output_type": "display_data"
    }
   ],
   "source": [
    "sub_data = data[data['goal'] < 50000]\n",
    "print(f\"Percent spotlight: {sub_data['spotlight'].mean()*100:.2f}%\")\n",
    "sns.scatterplot(sub_data['goal'], sub_data['usd_pledged'], hue=sub_data['spotlight'], s=12)"
   ]
  },
  {
   "cell_type": "markdown",
   "metadata": {},
   "source": [
    "Welsh's t-test of spotlight (true or false) distributions\n",
    "\n",
    "What exactly is spotlight? Has a pretty significant correlation with pledged to goal ratio. Doesn't take into account currency conversions but these should be negligible for now."
   ]
  },
  {
   "cell_type": "code",
   "execution_count": 10,
   "metadata": {},
   "outputs": [
    {
     "data": {
      "text/plain": [
       "Ttest_indResult(statistic=19.276260866752335, pvalue=1.5106371238579e-48)"
      ]
     },
     "execution_count": 10,
     "metadata": {},
     "output_type": "execute_result"
    }
   ],
   "source": [
    "spotlight_true = sub_data[sub_data['spotlight'] == True]\n",
    "spotlight_true = (spotlight_true['usd_pledged'] / spotlight_true['goal']).values\n",
    "spotlight_false = sub_data[sub_data['spotlight'] == False]\n",
    "spotlight_false = (spotlight_false['usd_pledged'] / spotlight_false['goal']).values\n",
    "\n",
    "ttest_ind(spotlight_true, spotlight_false, equal_var=False)"
   ]
  },
  {
   "cell_type": "code",
   "execution_count": 11,
   "metadata": {},
   "outputs": [
    {
     "name": "stdout",
     "output_type": "stream",
     "text": [
      "Percent staff pick: 5.01%\n"
     ]
    },
    {
     "data": {
      "text/plain": [
       "<matplotlib.axes._subplots.AxesSubplot at 0x1c1cb12da0>"
      ]
     },
     "execution_count": 11,
     "metadata": {},
     "output_type": "execute_result"
    },
    {
     "data": {
      "image/png": "[encoded data removed]",
      "text/plain": [
       "<Figure size 432x288 with 1 Axes>"
      ]
     },
     "metadata": {},
     "output_type": "display_data"
    }
   ],
   "source": [
    "print(f\"Percent staff pick: {sub_data['staff_pick'].mean()*100:.2f}%\")\n",
    "sns.scatterplot(sub_data['goal'], sub_data['usd_pledged'], hue=sub_data['staff_pick'])"
   ]
  },
  {
   "cell_type": "markdown",
   "metadata": {},
   "source": [
    "Welsh's t-test of staff-pick (true or false) distributions"
   ]
  },
  {
   "cell_type": "code",
   "execution_count": 12,
   "metadata": {},
   "outputs": [
    {
     "data": {
      "text/plain": [
       "Ttest_indResult(statistic=2.634838875291475, pvalue=0.01674144505617373)"
      ]
     },
     "execution_count": 12,
     "metadata": {},
     "output_type": "execute_result"
    }
   ],
   "source": [
    "staff_pick_true = sub_data[sub_data['staff_pick'] == True]\n",
    "staff_pick_true = (staff_pick_true['pledged'] / staff_pick_true['goal']).values\n",
    "staff_pick_false = sub_data[sub_data['staff_pick'] == False]\n",
    "staff_pick_false = (staff_pick_false['pledged'] / staff_pick_false['goal']).values\n",
    "\n",
    "ttest_ind(staff_pick_true, staff_pick_false, equal_var=False)"
   ]
  },
  {
   "cell_type": "markdown",
   "metadata": {},
   "source": [
    "Popular Country of Origin"
   ]
  },
  {
   "cell_type": "code",
   "execution_count": 13,
   "metadata": {},
   "outputs": [
    {
     "data": {
      "image/png": "[encoded data removed]",
      "text/plain": [
       "<Figure size 864x432 with 1 Axes>"
      ]
     },
     "metadata": {},
     "output_type": "display_data"
    }
   ],
   "source": [
    "cnt = data['country'].value_counts()\n",
    "plt.subplots(figsize=(12,6))\n",
    "sns.barplot(cnt.index, cnt.values)\n",
    "plt.xticks(rotation=20);"
   ]
  },
  {
   "cell_type": "markdown",
   "metadata": {},
   "source": [
    "Popular Project Categories\n",
    "\n",
    "TODO: Aggregate less popular categories into larger supersets."
   ]
  },
  {
   "cell_type": "code",
   "execution_count": 14,
   "metadata": {},
   "outputs": [
    {
     "data": {
      "image/png": "[encoded data removed]",
      "text/plain": [
       "<Figure size 864x432 with 1 Axes>"
      ]
     },
     "metadata": {},
     "output_type": "display_data"
    }
   ],
   "source": [
    "cnt = data['category_slug'].value_counts().nlargest(10)\n",
    "plt.subplots(figsize=(12,6))\n",
    "sns.barplot(cnt.index, cnt.values)\n",
    "plt.xticks(rotation=20);"
   ]
  },
  {
   "cell_type": "markdown",
   "metadata": {},
   "source": [
    "Geo Types"
   ]
  },
  {
   "cell_type": "code",
   "execution_count": 15,
   "metadata": {},
   "outputs": [
    {
     "data": {
      "image/png": "[encoded data removed]",
      "text/plain": [
       "<Figure size 432x216 with 1 Axes>"
      ]
     },
     "metadata": {},
     "output_type": "display_data"
    }
   ],
   "source": [
    "cnt = data['geo_type'].value_counts()\n",
    "plt.subplots(figsize=(6,3))\n",
    "sns.barplot(cnt.index, cnt.values)\n",
    "plt.xticks(rotation=20);"
   ]
  },
  {
   "cell_type": "markdown",
   "metadata": {},
   "source": [
    "Average Duration"
   ]
  },
  {
   "cell_type": "code",
   "execution_count": 16,
   "metadata": {},
   "outputs": [
    {
     "data": {
      "text/plain": [
       "Timedelta('30 days 00:00:00')"
      ]
     },
     "execution_count": 16,
     "metadata": {},
     "output_type": "execute_result"
    }
   ],
   "source": [
    "pd.Timedelta(np.median(data['deadline'] - data['launched_at']))"
   ]
  },
  {
   "cell_type": "markdown",
   "metadata": {},
   "source": [
    "Maximum Duration"
   ]
  },
  {
   "cell_type": "code",
   "execution_count": 17,
   "metadata": {},
   "outputs": [
    {
     "data": {
      "text/plain": [
       "Timedelta('89 days 17:06:15')"
      ]
     },
     "execution_count": 17,
     "metadata": {},
     "output_type": "execute_result"
    }
   ],
   "source": [
    "pd.Timedelta(np.max(data['deadline'] - data['launched_at']))"
   ]
  }
 ],
 "metadata": {
  "kernelspec": {
   "display_name": "Python 3",
   "language": "python",
   "name": "python3"
  },
  "language_info": {
   "codemirror_mode": {
    "name": "ipython",
    "version": 3
   },
   "file_extension": ".py",
   "mimetype": "text/x-python",
   "name": "python",
   "nbconvert_exporter": "python",
   "pygments_lexer": "ipython3",
   "version": "3.6.3"
  }
 },
 "nbformat": 4,
 "nbformat_minor": 2
}
