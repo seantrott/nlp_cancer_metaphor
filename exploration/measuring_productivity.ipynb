{
 "cells": [
  {
   "cell_type": "markdown",
   "metadata": {},
   "source": [
    "Load Libraries"
   ]
  },
  {
   "cell_type": "code",
   "execution_count": 1,
   "metadata": {},
   "outputs": [],
   "source": [
    "import numpy as np\n",
    "import pandas as pd\n",
    "import os.path as op\n",
    "import spacy\n",
    "nlp = spacy.load('en')"
   ]
  },
  {
   "cell_type": "markdown",
   "metadata": {},
   "source": [
    "Load Data"
   ]
  },
  {
   "cell_type": "code",
   "execution_count": 2,
   "metadata": {},
   "outputs": [],
   "source": [
    "DATA_PROCESSED = '../data/processed'"
   ]
  },
  {
   "cell_type": "code",
   "execution_count": 3,
   "metadata": {},
   "outputs": [],
   "source": [
    "labeled = pd.read_csv(op.join(DATA_PROCESSED, 'labeled_projects.csv'))\n",
    "all_projects = pd.read_csv(op.join(DATA_PROCESSED, 'cancer_projects_full.csv'))"
   ]
  },
  {
   "cell_type": "markdown",
   "metadata": {},
   "source": [
    "# Simpson's Index of Diversity"
   ]
  },
  {
   "cell_type": "code",
   "execution_count": null,
   "metadata": {},
   "outputs": [],
   "source": [
    "kw = np.array([1,1,1])\n",
    "\n",
    "tot = sum(kw * (kw-1))\n",
    "print(1 - tot / (sum(kw) * (sum(kw) - 1)))\n",
    "\n",
    "kw = np.array([1,0,1])\n",
    "\n",
    "tot = sum(kw * (kw-1))\n",
    "print(1 - tot / (sum(kw) * (sum(kw) - 1)))"
   ]
  },
  {
   "cell_type": "code",
   "execution_count": null,
   "metadata": {},
   "outputs": [],
   "source": [
    "# will create a dataframe with project ID, and measures of productivity for battle and journey\n",
    "productivities = []\n",
    "\n",
    "# group by id\n",
    "for i, g in labeled.groupby('project_id'):\n",
    "    # get the number of words total for the project text\n",
    "    all_words = all_projects.loc[all_projects['id'] == i, 'text_length_words']\n",
    "    \n",
    "    # some (~20) projects don't have data on text body size... potential bug\n",
    "    if all_words.size > 0 and all_words.values[0] > 0:\n",
    "        \n",
    "        # battle productivity\n",
    "        kw = g.loc[g['type'] == 'battle', 'keyword'].value_counts().values\n",
    "#         kw = np.append(kw, all_words.values[0])\n",
    "\n",
    "        # compute Simpson's Index of Diversity\n",
    "        #     sum n(n - 1) \n",
    "        tot = sum(kw * (kw-1))\n",
    "        if sum(kw) > 0:\n",
    "            battle_div = tot / (sum(kw) * (sum(kw) - 1))\n",
    "        else:\n",
    "            battle_div = 0.0\n",
    "        \n",
    "        # journey productivity\n",
    "        kw = g.loc[g['type'] == 'journey', 'keyword'].value_counts().values\n",
    "#         kw = np.append(kw, all_words.values[0])\n",
    "\n",
    "        # compute Simpson's Index of Diversity\n",
    "        tot = sum(kw * (kw-1))\n",
    "        if sum(kw) > 0:\n",
    "            journey_div = tot / (sum(kw) * (sum(kw) - 1))\n",
    "        else:\n",
    "            journey_div = 0.0\n",
    "        \n",
    "    else:\n",
    "        battle_div, journey_div = 0.0, 0.0\n",
    "        \n",
    "    productivities.append([i, battle_div, journey_div])\n",
    "    \n",
    "productivities = pd.DataFrame(productivities, columns=['id', 'battle_prod', 'journey_prod'])"
   ]
  },
  {
   "cell_type": "markdown",
   "metadata": {},
   "source": [
    "Top projects by productivity, after looking at the text of these projects, the measure seems like an accurate representation of diversity in metaphor instantiation."
   ]
  },
  {
   "cell_type": "code",
   "execution_count": null,
   "metadata": {},
   "outputs": [],
   "source": [
    "productivities.nlargest(10, 'battle_prod')"
   ]
  },
  {
   "cell_type": "markdown",
   "metadata": {},
   "source": [
    "An example project:"
   ]
  },
  {
   "cell_type": "code",
   "execution_count": null,
   "metadata": {},
   "outputs": [],
   "source": [
    "all_projects.loc[all_projects['id'] == 1665364667, :]"
   ]
  },
  {
   "cell_type": "code",
   "execution_count": null,
   "metadata": {},
   "outputs": [],
   "source": [
    "labeled.loc[labeled['project_id'] == 1665364667]"
   ]
  },
  {
   "cell_type": "markdown",
   "metadata": {},
   "source": [
    "Create a copy (so as to not affect the original) and merge"
   ]
  },
  {
   "cell_type": "code",
   "execution_count": null,
   "metadata": {},
   "outputs": [],
   "source": [
    "all_projects_c = all_projects.copy(deep=True)"
   ]
  },
  {
   "cell_type": "code",
   "execution_count": null,
   "metadata": {},
   "outputs": [],
   "source": [
    "all_projects_c = all_projects_c.merge(productivities, how='left', on='id', validate='one_to_one')"
   ]
  },
  {
   "cell_type": "markdown",
   "metadata": {},
   "source": [
    "It looks like our measures of diversity are highly correlated with salience:"
   ]
  },
  {
   "cell_type": "code",
   "execution_count": null,
   "metadata": {},
   "outputs": [],
   "source": [
    "np.corrcoef(all_projects_c[['battle_prod', 'journey_prod', 'battle_salience', 'journey_salience']], rowvar=False)"
   ]
  },
  {
   "cell_type": "markdown",
   "metadata": {},
   "source": [
    "# Custom Productivity\n",
    "\n",
    "Let $C$ be the set of keyword counts over all projects. Each keyword appears $C_i \\gt 0$ times, such that $i=1, 2, ..., N$ where $N$ is the number of unique keywords in the corpus.\n",
    "\n",
    "Let $W$ be the set of keyword counts for a given project, where $W_i \\geq 0$ for $i=1, 2, ..., N$. $C_i$ and $W_i$ represent the same keyword.\n",
    "\n",
    "Productivity for a given keyword family of a given project is:\n",
    "$$\n",
    "P_{\\text{family}} = \\sum_{i=1}^N W_i \\times \\big(\\frac{\\sum_{k=1}^N C_k}{C_i}\\big)^r\n",
    "$$\n",
    "where $r$ is some proportionality constant.\n",
    "\n",
    "In the following work, $r=0.4$ because this results in the least frequent word, *beats*, becoming the \"equivalent\" (in terms of how creative we perceive its usage) to about 6 usages of the most frequent word, *fight*. This number is partially arbitrary and can be changed as seen fit. The frequency proportion (the value raised to $r$) is divided by the minimum of the set of frequency proportions, thereby forcing the most frequent word to have a frequency proportion of 1.0.\n",
    "\n"
   ]
  },
  {
   "cell_type": "code",
   "execution_count": 4,
   "metadata": {},
   "outputs": [
    {
     "name": "stdout",
     "output_type": "stream",
     "text": [
      "fight       79\n",
      "fighting    59\n",
      "battle      55\n",
      "battling    27\n",
      "beat        11\n",
      "fought       9\n",
      "battled      6\n",
      "war          4\n",
      "beating      4\n",
      "fights       4\n",
      "battles      4\n",
      "enemy        3\n",
      "beaten       2\n",
      "beats        1\n",
      "brutal       1\n",
      "Name: keyword, dtype: int64\n",
      "269\n"
     ]
    },
    {
     "data": {
      "text/plain": [
       "{'fight': 1.0,\n",
       " 'fighting': 1.1238543524724893,\n",
       " 'battle': 1.1558614000295084,\n",
       " 'battling': 1.536403652173812,\n",
       " 'beat': 2.200360106775823,\n",
       " 'fought': 2.3842612073733243,\n",
       " 'battled': 2.804079590211117,\n",
       " 'war': 3.2978191835368778,\n",
       " 'beating': 3.2978191835368778,\n",
       " 'fights': 3.2978191835368778,\n",
       " 'battles': 3.2978191835368778,\n",
       " 'enemy': 3.700005201720385,\n",
       " 'beaten': 4.351498500975518,\n",
       " 'beats': 5.7418366957535865,\n",
       " 'brutal': 5.7418366957535865}"
      ]
     },
     "execution_count": 4,
     "metadata": {},
     "output_type": "execute_result"
    }
   ],
   "source": [
    "battle_vc = labeled.dropna().loc[labeled['type'] == 'battle', 'keyword'].value_counts()\n",
    "journey_vc = labeled.dropna().loc[labeled['type'] == 'journey', 'keyword'].value_counts()\n",
    "\n",
    "print(battle_vc)\n",
    "\n",
    "r = 0.4\n",
    "\n",
    "battle_freq_map = (sum(battle_vc) / battle_vc) ** r\n",
    "battle_freq_map = dict(battle_freq_map / min(battle_freq_map))\n",
    "\n",
    "journey_freq_map = (sum(journey_vc) / journey_vc) ** r\n",
    "journey_freq_map = dict(journey_freq_map / min(journey_freq_map))\n",
    "\n",
    "\n",
    "print(sum(battle_vc))\n",
    "battle_freq_map"
   ]
  },
  {
   "cell_type": "code",
   "execution_count": 5,
   "metadata": {},
   "outputs": [],
   "source": [
    "# will create a dataframe with project ID, and measures of productivity for battle and journey\n",
    "productivities = []\n",
    "\n",
    "# group by id\n",
    "for i, g in labeled.groupby('project_id'):\n",
    "    # get the number of words total for the project text\n",
    "    all_words = all_projects.loc[all_projects['id'] == i, 'text_length_words']\n",
    "    \n",
    "    # some (~20) projects don't have data on text body size... potential bug\n",
    "    if all_words.size > 0 and all_words.values[0] > 0:\n",
    "        \n",
    "        kw = g.loc[g['type'] == 'battle', 'keyword'].value_counts()\n",
    "        s = [battle_freq_map[k] * kw[k] for k in dict(kw)]\n",
    "        battle_div = sum(s)\n",
    "        \n",
    "        kw = g.loc[g['type'] == 'journey', 'keyword'].value_counts()\n",
    "        s = [journey_freq_map[k] * kw[k] for k in dict(kw)]\n",
    "        journey_div = sum(s)\n",
    "        \n",
    "    else:\n",
    "        battle_div, journey_div = 0.0, 0.0\n",
    "        \n",
    "    productivities.append([i, battle_div, journey_div])\n",
    "    \n",
    "productivities = pd.DataFrame(productivities, columns=['id', 'battle_prod', 'journey_prod'])"
   ]
  },
  {
   "cell_type": "code",
   "execution_count": 6,
   "metadata": {},
   "outputs": [],
   "source": [
    "all_projects_c = all_projects.copy(deep=True)\n",
    "all_projects_c = all_projects_c.merge(productivities, how='left', on='id', validate='one_to_one')"
   ]
  },
  {
   "cell_type": "code",
   "execution_count": 8,
   "metadata": {},
   "outputs": [
    {
     "data": {
      "text/plain": [
       "<matplotlib.axes._subplots.AxesSubplot at 0x1300f9c88>"
      ]
     },
     "execution_count": 8,
     "metadata": {},
     "output_type": "execute_result"
    },
    {
     "data": {
      "image/png": "[encoded data removed]",
      "text/plain": [
       "<Figure size 432x288 with 1 Axes>"
      ]
     },
     "metadata": {
      "needs_background": "light"
     },
     "output_type": "display_data"
    }
   ],
   "source": [
    "import seaborn as sns\n",
    "sns.distplot(all_projects_c['journey_prod'], kde=False)"
   ]
  },
  {
   "cell_type": "code",
   "execution_count": 9,
   "metadata": {},
   "outputs": [
    {
     "data": {
      "text/plain": [
       "(391, 50)"
      ]
     },
     "execution_count": 9,
     "metadata": {},
     "output_type": "execute_result"
    }
   ],
   "source": [
    "all_projects_c.loc[all_projects_c['battle_prod'] < 5].shape"
   ]
  },
  {
   "cell_type": "code",
   "execution_count": 11,
   "metadata": {},
   "outputs": [
    {
     "data": {
      "text/html": [
       "<div>\n",
       "<style scoped>\n",
       "    .dataframe tbody tr th:only-of-type {\n",
       "        vertical-align: middle;\n",
       "    }\n",
       "\n",
       "    .dataframe tbody tr th {\n",
       "        vertical-align: top;\n",
       "    }\n",
       "\n",
       "    .dataframe thead th {\n",
       "        text-align: right;\n",
       "    }\n",
       "</style>\n",
       "<table border=\"1\" class=\"dataframe\">\n",
       "  <thead>\n",
       "    <tr style=\"text-align: right;\">\n",
       "      <th></th>\n",
       "      <th>id</th>\n",
       "      <th>name</th>\n",
       "      <th>blurb</th>\n",
       "      <th>created</th>\n",
       "      <th>launched</th>\n",
       "      <th>deadline</th>\n",
       "      <th>goal</th>\n",
       "      <th>spotlight</th>\n",
       "      <th>staff_pick</th>\n",
       "      <th>status</th>\n",
       "      <th>...</th>\n",
       "      <th>journey_salience</th>\n",
       "      <th>battle_productivity</th>\n",
       "      <th>journey_productivity</th>\n",
       "      <th>dominant_battle</th>\n",
       "      <th>dominant_journey</th>\n",
       "      <th>dominant_both</th>\n",
       "      <th>dominant_neither</th>\n",
       "      <th>dominant</th>\n",
       "      <th>battle_prod</th>\n",
       "      <th>journey_prod</th>\n",
       "    </tr>\n",
       "  </thead>\n",
       "  <tbody>\n",
       "    <tr>\n",
       "      <th>26</th>\n",
       "      <td>134281058</td>\n",
       "      <td>THE BOOK OF HEALERS HEALING: AN ODYSSEY THROUG...</td>\n",
       "      <td>Combining narrative, poetry &amp; interviews with ...</td>\n",
       "      <td>1380120239</td>\n",
       "      <td>1381249864</td>\n",
       "      <td>1384060320</td>\n",
       "      <td>5000</td>\n",
       "      <td>True</td>\n",
       "      <td>False</td>\n",
       "      <td>1</td>\n",
       "      <td>...</td>\n",
       "      <td>0.0</td>\n",
       "      <td>1.000000</td>\n",
       "      <td>0.0</td>\n",
       "      <td>1</td>\n",
       "      <td>0</td>\n",
       "      <td>0</td>\n",
       "      <td>0</td>\n",
       "      <td>Battle</td>\n",
       "      <td>18.481498</td>\n",
       "      <td>0.0</td>\n",
       "    </tr>\n",
       "    <tr>\n",
       "      <th>3</th>\n",
       "      <td>1665364667</td>\n",
       "      <td>A Recipe for Hope</td>\n",
       "      <td>Our family's journey living with and fighting ...</td>\n",
       "      <td>1470688455</td>\n",
       "      <td>1473253802</td>\n",
       "      <td>1475845802</td>\n",
       "      <td>5500</td>\n",
       "      <td>True</td>\n",
       "      <td>False</td>\n",
       "      <td>1</td>\n",
       "      <td>...</td>\n",
       "      <td>0.0</td>\n",
       "      <td>0.625000</td>\n",
       "      <td>0.0</td>\n",
       "      <td>1</td>\n",
       "      <td>0</td>\n",
       "      <td>0</td>\n",
       "      <td>0</td>\n",
       "      <td>Battle</td>\n",
       "      <td>17.155542</td>\n",
       "      <td>0.0</td>\n",
       "    </tr>\n",
       "    <tr>\n",
       "      <th>78</th>\n",
       "      <td>238840799</td>\n",
       "      <td>THE KNOCKOUT</td>\n",
       "      <td>For our KNOCKOUT Breast Cancer Photo Shoot eve...</td>\n",
       "      <td>1396740076</td>\n",
       "      <td>1406927542</td>\n",
       "      <td>1412111542</td>\n",
       "      <td>5000</td>\n",
       "      <td>True</td>\n",
       "      <td>False</td>\n",
       "      <td>1</td>\n",
       "      <td>...</td>\n",
       "      <td>0.0</td>\n",
       "      <td>0.500000</td>\n",
       "      <td>0.0</td>\n",
       "      <td>1</td>\n",
       "      <td>0</td>\n",
       "      <td>0</td>\n",
       "      <td>0</td>\n",
       "      <td>Battle</td>\n",
       "      <td>9.900365</td>\n",
       "      <td>0.0</td>\n",
       "    </tr>\n",
       "    <tr>\n",
       "      <th>33</th>\n",
       "      <td>1490542747</td>\n",
       "      <td>Whatever Happened to Patient 2410</td>\n",
       "      <td>The inspiring autobiography of the late Minda ...</td>\n",
       "      <td>1385095833</td>\n",
       "      <td>1409332843</td>\n",
       "      <td>1411924843</td>\n",
       "      <td>6000</td>\n",
       "      <td>True</td>\n",
       "      <td>True</td>\n",
       "      <td>1</td>\n",
       "      <td>...</td>\n",
       "      <td>0.0</td>\n",
       "      <td>0.666667</td>\n",
       "      <td>0.0</td>\n",
       "      <td>1</td>\n",
       "      <td>0</td>\n",
       "      <td>0</td>\n",
       "      <td>0</td>\n",
       "      <td>Battle</td>\n",
       "      <td>9.399718</td>\n",
       "      <td>0.0</td>\n",
       "    </tr>\n",
       "    <tr>\n",
       "      <th>158</th>\n",
       "      <td>8143920</td>\n",
       "      <td>Music for cancer Fighters</td>\n",
       "      <td>My mother is a cancer survivor I seen her pain...</td>\n",
       "      <td>1455843485</td>\n",
       "      <td>1484560151</td>\n",
       "      <td>1487152151</td>\n",
       "      <td>2500</td>\n",
       "      <td>False</td>\n",
       "      <td>False</td>\n",
       "      <td>0</td>\n",
       "      <td>...</td>\n",
       "      <td>0.0</td>\n",
       "      <td>0.500000</td>\n",
       "      <td>0.0</td>\n",
       "      <td>1</td>\n",
       "      <td>0</td>\n",
       "      <td>0</td>\n",
       "      <td>0</td>\n",
       "      <td>Battle</td>\n",
       "      <td>7.879679</td>\n",
       "      <td>0.0</td>\n",
       "    </tr>\n",
       "    <tr>\n",
       "      <th>42</th>\n",
       "      <td>481532678</td>\n",
       "      <td>Always Live Laugh Love Featured Film</td>\n",
       "      <td>Featured Film nearly completed 10 % of this fi...</td>\n",
       "      <td>1471127729</td>\n",
       "      <td>1471144844</td>\n",
       "      <td>1475032844</td>\n",
       "      <td>5000</td>\n",
       "      <td>False</td>\n",
       "      <td>False</td>\n",
       "      <td>0</td>\n",
       "      <td>...</td>\n",
       "      <td>0.0</td>\n",
       "      <td>1.000000</td>\n",
       "      <td>0.0</td>\n",
       "      <td>1</td>\n",
       "      <td>0</td>\n",
       "      <td>0</td>\n",
       "      <td>0</td>\n",
       "      <td>Battle</td>\n",
       "      <td>7.708476</td>\n",
       "      <td>0.0</td>\n",
       "    </tr>\n",
       "  </tbody>\n",
       "</table>\n",
       "<p>6 rows × 50 columns</p>\n",
       "</div>"
      ],
      "text/plain": [
       "             id                                               name  \\\n",
       "26    134281058  THE BOOK OF HEALERS HEALING: AN ODYSSEY THROUG...   \n",
       "3    1665364667                                  A Recipe for Hope   \n",
       "78    238840799                                       THE KNOCKOUT   \n",
       "33   1490542747                  Whatever Happened to Patient 2410   \n",
       "158     8143920                          Music for cancer Fighters   \n",
       "42    481532678               Always Live Laugh Love Featured Film   \n",
       "\n",
       "                                                 blurb     created  \\\n",
       "26   Combining narrative, poetry & interviews with ...  1380120239   \n",
       "3    Our family's journey living with and fighting ...  1470688455   \n",
       "78   For our KNOCKOUT Breast Cancer Photo Shoot eve...  1396740076   \n",
       "33   The inspiring autobiography of the late Minda ...  1385095833   \n",
       "158  My mother is a cancer survivor I seen her pain...  1455843485   \n",
       "42   Featured Film nearly completed 10 % of this fi...  1471127729   \n",
       "\n",
       "       launched    deadline  goal  spotlight  staff_pick  status     ...       \\\n",
       "26   1381249864  1384060320  5000       True       False       1     ...        \n",
       "3    1473253802  1475845802  5500       True       False       1     ...        \n",
       "78   1406927542  1412111542  5000       True       False       1     ...        \n",
       "33   1409332843  1411924843  6000       True        True       1     ...        \n",
       "158  1484560151  1487152151  2500      False       False       0     ...        \n",
       "42   1471144844  1475032844  5000      False       False       0     ...        \n",
       "\n",
       "     journey_salience  battle_productivity  journey_productivity  \\\n",
       "26                0.0             1.000000                   0.0   \n",
       "3                 0.0             0.625000                   0.0   \n",
       "78                0.0             0.500000                   0.0   \n",
       "33                0.0             0.666667                   0.0   \n",
       "158               0.0             0.500000                   0.0   \n",
       "42                0.0             1.000000                   0.0   \n",
       "\n",
       "     dominant_battle dominant_journey dominant_both  dominant_neither  \\\n",
       "26                 1                0             0                 0   \n",
       "3                  1                0             0                 0   \n",
       "78                 1                0             0                 0   \n",
       "33                 1                0             0                 0   \n",
       "158                1                0             0                 0   \n",
       "42                 1                0             0                 0   \n",
       "\n",
       "    dominant battle_prod journey_prod  \n",
       "26    Battle   18.481498          0.0  \n",
       "3     Battle   17.155542          0.0  \n",
       "78    Battle    9.900365          0.0  \n",
       "33    Battle    9.399718          0.0  \n",
       "158   Battle    7.879679          0.0  \n",
       "42    Battle    7.708476          0.0  \n",
       "\n",
       "[6 rows x 50 columns]"
      ]
     },
     "execution_count": 11,
     "metadata": {},
     "output_type": "execute_result"
    }
   ],
   "source": [
    "all_projects_c.nlargest(6, 'battle_prod')"
   ]
  },
  {
   "cell_type": "code",
   "execution_count": 12,
   "metadata": {},
   "outputs": [
    {
     "data": {
      "text/html": [
       "<div>\n",
       "<style scoped>\n",
       "    .dataframe tbody tr th:only-of-type {\n",
       "        vertical-align: middle;\n",
       "    }\n",
       "\n",
       "    .dataframe tbody tr th {\n",
       "        vertical-align: top;\n",
       "    }\n",
       "\n",
       "    .dataframe thead th {\n",
       "        text-align: right;\n",
       "    }\n",
       "</style>\n",
       "<table border=\"1\" class=\"dataframe\">\n",
       "  <thead>\n",
       "    <tr style=\"text-align: right;\">\n",
       "      <th></th>\n",
       "      <th>project_id</th>\n",
       "      <th>fragment</th>\n",
       "      <th>char_location</th>\n",
       "      <th>type</th>\n",
       "      <th>keyword</th>\n",
       "    </tr>\n",
       "  </thead>\n",
       "  <tbody>\n",
       "    <tr>\n",
       "      <th>91</th>\n",
       "      <td>134281058</td>\n",
       "      <td>r eyes, whisper, horrible.Others\\nlaugh, give ...</td>\n",
       "      <td>5399.0</td>\n",
       "      <td>battle</td>\n",
       "      <td>beating</td>\n",
       "    </tr>\n",
       "    <tr>\n",
       "      <th>92</th>\n",
       "      <td>134281058</td>\n",
       "      <td>ngratulate me on beating ovarian cancer.I don'...</td>\n",
       "      <td>5462.0</td>\n",
       "      <td>battle</td>\n",
       "      <td>beats</td>\n",
       "    </tr>\n",
       "    <tr>\n",
       "      <th>642</th>\n",
       "      <td>134281058</td>\n",
       "      <td>me a high five, congratulate me on beating ov...</td>\n",
       "      <td>5443.0</td>\n",
       "      <td>battle</td>\n",
       "      <td>enemy</td>\n",
       "    </tr>\n",
       "    <tr>\n",
       "      <th>643</th>\n",
       "      <td>134281058</td>\n",
       "      <td>y a world-renowned ovarian cancer expert for t...</td>\n",
       "      <td>879.0</td>\n",
       "      <td>battle</td>\n",
       "      <td>brutal</td>\n",
       "    </tr>\n",
       "  </tbody>\n",
       "</table>\n",
       "</div>"
      ],
      "text/plain": [
       "     project_id                                           fragment  \\\n",
       "91    134281058  r eyes, whisper, horrible.Others\\nlaugh, give ...   \n",
       "92    134281058  ngratulate me on beating ovarian cancer.I don'...   \n",
       "642   134281058   me a high five, congratulate me on beating ov...   \n",
       "643   134281058  y a world-renowned ovarian cancer expert for t...   \n",
       "\n",
       "     char_location    type  keyword  \n",
       "91          5399.0  battle  beating  \n",
       "92          5462.0  battle    beats  \n",
       "642         5443.0  battle    enemy  \n",
       "643          879.0  battle   brutal  "
      ]
     },
     "execution_count": 12,
     "metadata": {},
     "output_type": "execute_result"
    }
   ],
   "source": [
    "labeled.loc[labeled['project_id'] == 134281058]"
   ]
  }
 ],
 "metadata": {
  "kernelspec": {
   "display_name": "Python [conda env:nlp]",
   "language": "python",
   "name": "conda-env-nlp-py"
  },
  "language_info": {
   "codemirror_mode": {
    "name": "ipython",
    "version": 3
   },
   "file_extension": ".py",
   "mimetype": "text/x-python",
   "name": "python",
   "nbconvert_exporter": "python",
   "pygments_lexer": "ipython3",
   "version": "3.6.7"
  }
 },
 "nbformat": 4,
 "nbformat_minor": 2
}
