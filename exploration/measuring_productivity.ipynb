{
 "cells": [
  {
   "cell_type": "markdown",
   "metadata": {},
   "source": [
    "Load Libraries"
   ]
  },
  {
   "cell_type": "code",
   "execution_count": 1,
   "metadata": {},
   "outputs": [],
   "source": [
    "import numpy as np\n",
    "import pandas as pd\n",
    "import os.path as op\n",
    "\n",
    "import matplotlib.pyplot as plt\n",
    "import seaborn as sns\n",
    "# import spacy\n",
    "# nlp = spacy.load('en')"
   ]
  },
  {
   "cell_type": "markdown",
   "metadata": {},
   "source": [
    "Load Data"
   ]
  },
  {
   "cell_type": "code",
   "execution_count": 2,
   "metadata": {},
   "outputs": [],
   "source": [
    "DATA_PROCESSED = '../data/processed'"
   ]
  },
  {
   "cell_type": "code",
   "execution_count": 3,
   "metadata": {},
   "outputs": [],
   "source": [
    "labeled = pd.read_csv(op.join(DATA_PROCESSED, 'labeled.csv'))\n",
    "all_projects = pd.read_csv(op.join(DATA_PROCESSED, 'gofundme_projects.csv'))"
   ]
  },
  {
   "cell_type": "code",
   "execution_count": 4,
   "metadata": {},
   "outputs": [],
   "source": [
    "labeled = labeled.loc[labeled['project_id'].isin(all_projects['id'])]"
   ]
  },
  {
   "cell_type": "markdown",
   "metadata": {},
   "source": [
    "# Simpson's Index of Diversity"
   ]
  },
  {
   "cell_type": "code",
   "execution_count": null,
   "metadata": {},
   "outputs": [],
   "source": [
    "kw = np.array([1,1,1])\n",
    "\n",
    "tot = sum(kw * (kw-1))\n",
    "print(1 - tot / (sum(kw) * (sum(kw) - 1)))\n",
    "\n",
    "kw = np.array([1,0,1])\n",
    "\n",
    "tot = sum(kw * (kw-1))\n",
    "print(1 - tot / (sum(kw) * (sum(kw) - 1)))"
   ]
  },
  {
   "cell_type": "code",
   "execution_count": null,
   "metadata": {},
   "outputs": [],
   "source": [
    "# will create a dataframe with project ID, and measures of productivity for battle and journey\n",
    "productivities = []\n",
    "\n",
    "# group by id\n",
    "for i, g in labeled.groupby('project_id'):\n",
    "    # get the number of words total for the project text\n",
    "    all_words = all_projects.loc[all_projects['id'] == i, 'text_length_words']\n",
    "    \n",
    "    # some (~20) projects don't have data on text body size... potential bug\n",
    "    if all_words.size > 0 and all_words.values[0] > 0:\n",
    "        \n",
    "        # battle productivity\n",
    "        kw = g.loc[g['type'] == 'battle', 'keyword'].value_counts().values\n",
    "#         kw = np.append(kw, all_words.values[0])\n",
    "\n",
    "        # compute Simpson's Index of Diversity\n",
    "        #     sum n(n - 1) \n",
    "        tot = sum(kw * (kw-1))\n",
    "        if sum(kw) > 0:\n",
    "            battle_div = tot / (sum(kw) * (sum(kw) - 1))\n",
    "        else:\n",
    "            battle_div = 0.0\n",
    "        \n",
    "        # journey productivity\n",
    "        kw = g.loc[g['type'] == 'journey', 'keyword'].value_counts().values\n",
    "#         kw = np.append(kw, all_words.values[0])\n",
    "\n",
    "        # compute Simpson's Index of Diversity\n",
    "        tot = sum(kw * (kw-1))\n",
    "        if sum(kw) > 0:\n",
    "            journey_div = tot / (sum(kw) * (sum(kw) - 1))\n",
    "        else:\n",
    "            journey_div = 0.0\n",
    "        \n",
    "    else:\n",
    "        battle_div, journey_div = 0.0, 0.0\n",
    "        \n",
    "    productivities.append([i, battle_div, journey_div])\n",
    "    \n",
    "productivities = pd.DataFrame(productivities, columns=['id', 'battle_prod', 'journey_prod'])"
   ]
  },
  {
   "cell_type": "markdown",
   "metadata": {},
   "source": [
    "Top projects by productivity, after looking at the text of these projects, the measure seems like an accurate representation of diversity in metaphor instantiation."
   ]
  },
  {
   "cell_type": "code",
   "execution_count": null,
   "metadata": {},
   "outputs": [],
   "source": [
    "productivities.nlargest(10, 'battle_prod')"
   ]
  },
  {
   "cell_type": "markdown",
   "metadata": {},
   "source": [
    "An example project:"
   ]
  },
  {
   "cell_type": "code",
   "execution_count": null,
   "metadata": {},
   "outputs": [],
   "source": [
    "all_projects.loc[all_projects['id'] == 1665364667, :]"
   ]
  },
  {
   "cell_type": "code",
   "execution_count": null,
   "metadata": {},
   "outputs": [],
   "source": [
    "labeled.loc[labeled['project_id'] == 1665364667]"
   ]
  },
  {
   "cell_type": "markdown",
   "metadata": {},
   "source": [
    "Create a copy (so as to not affect the original) and merge"
   ]
  },
  {
   "cell_type": "code",
   "execution_count": null,
   "metadata": {},
   "outputs": [],
   "source": [
    "all_projects_c = all_projects.copy(deep=True)"
   ]
  },
  {
   "cell_type": "code",
   "execution_count": null,
   "metadata": {},
   "outputs": [],
   "source": [
    "all_projects_c = all_projects_c.merge(productivities, how='left', on='id', validate='one_to_one')"
   ]
  },
  {
   "cell_type": "markdown",
   "metadata": {},
   "source": [
    "It looks like our measures of diversity are highly correlated with salience:"
   ]
  },
  {
   "cell_type": "code",
   "execution_count": null,
   "metadata": {},
   "outputs": [],
   "source": [
    "np.corrcoef(all_projects_c[['battle_prod', 'journey_prod', 'battle_salience', 'journey_salience']], rowvar=False)"
   ]
  },
  {
   "cell_type": "markdown",
   "metadata": {},
   "source": [
    "# Custom Productivity\n",
    "\n",
    "Let $C$ be the set of keyword counts over all projects. Each keyword appears $C_i \\gt 0$ times, such that $i=1, 2, ..., N$ where $N$ is the number of unique keywords in the corpus.\n",
    "\n",
    "Let $W$ be the set of keyword counts for a given project, where $W_i \\geq 0$ for $i=1, 2, ..., N$. $C_i$ and $W_i$ represent the same keyword.\n",
    "\n",
    "Productivity for each keyword family of a given project is:\n",
    "$$\n",
    "P_{\\text{family}} = \\sum_{i=1}^N W_i \\times \\big(\\frac{\\sum_{k=1}^N C_k}{C_i}\\big)^r\n",
    "$$\n",
    "where $r$ is some proportionality constant.\n",
    "\n",
    "In the following work, $r=0.4$ because this results in the least frequent word, *enemy*, becoming the \"equivalent\" (in terms of how creative we perceive its usage) to about 8 usages of the most frequent word, *fight*. This number is partially arbitrary and can be changed as seen fit. The frequency proportion (the value raised to $r$) is divided by the minimum of the set of frequency proportions, thereby forcing the most frequent word to have a frequency proportion of 1.0.\n",
    "\n"
   ]
  },
  {
   "cell_type": "code",
   "execution_count": 15,
   "metadata": {},
   "outputs": [
    {
     "name": "stdout",
     "output_type": "stream",
     "text": [
      "{'fight': 1.0, 'battle': 1.2890154787469803, 'fighting': 1.5667614302472295, 'beat': 1.9168186008037111, 'battling': 2.4199258523982503, 'fought': 3.5281847218780915, 'win': 3.7615247337989635, 'beating': 4.321126143442353, 'fights': 4.393755198661244, 'battled': 5.336197147782304, 'battles': 5.474822756083188, 'defeat': 7.0371684028758885, 'beaten': 8.57227338386626, 'winning': 9.360309002131531, 'war': 9.952058996050493, 'combat': 9.952058996050493, 'beats': 10.949645512166375, 'enemy': 13.778001790293587}\n",
      "{'journey': 1.0, 'road': 1.344276625556548, 'path': 3.3681514877517675, 'rollercoaster': 6.149375156454094}\n"
     ]
    }
   ],
   "source": [
    "battle_vc = labeled.dropna().loc[(labeled['type'] == 'battle') & (labeled['metaphorical'] == True), 'keyword'].value_counts()\n",
    "journey_vc = labeled.dropna().loc[(labeled['type'] == 'journey')& (labeled['metaphorical'] == True), 'keyword'].value_counts()\n",
    "\n",
    "# print(battle_vc)\n",
    "\n",
    "r = 0.5\n",
    "\n",
    "battle_freq_map = (sum(battle_vc) / battle_vc) ** r\n",
    "battle_freq_map = dict(battle_freq_map / min(battle_freq_map))\n",
    "\n",
    "journey_freq_map = (sum(journey_vc) / journey_vc) ** r\n",
    "journey_freq_map = dict(journey_freq_map / min(journey_freq_map))\n",
    "\n",
    "print(battle_freq_map)\n",
    "print(journey_freq_map)"
   ]
  },
  {
   "cell_type": "code",
   "execution_count": 6,
   "metadata": {},
   "outputs": [],
   "source": [
    "# will create a dataframe with project ID, and measures of productivity for battle and journey\n",
    "productivities = []\n",
    "\n",
    "c = 0\n",
    "\n",
    "# group by id\n",
    "for i, g in labeled.loc[labeled['metaphorical'].fillna(False)].groupby('project_id'):\n",
    "    # get the number of words total for the project text\n",
    "    all_words = all_projects.loc[all_projects['id'] == i, 'text_length_words']\n",
    "    \n",
    "    kw = g.loc[g['type'] == 'battle', 'keyword'].value_counts()\n",
    "    s = [battle_freq_map[k] * kw[k] for k in dict(kw)]\n",
    "    battle_div = sum(s)\n",
    "\n",
    "    kw = g.loc[g['type'] == 'journey', 'keyword'].value_counts()\n",
    "    s = [journey_freq_map[k] * kw[k] for k in dict(kw)]\n",
    "    journey_div = sum(s)\n",
    "        \n",
    "    productivities.append([i, battle_div, journey_div])\n",
    "    \n",
    "productivities = pd.DataFrame(productivities, columns=['id', 'battle_prod', 'journey_prod'])"
   ]
  },
  {
   "cell_type": "code",
   "execution_count": 7,
   "metadata": {},
   "outputs": [],
   "source": [
    "all_projects_c = all_projects.copy(deep=True)\n",
    "all_projects_c = all_projects_c.merge(productivities, how='left', on='id', validate='one_to_one')\n",
    "all_projects_c['battle_prod_y'] = all_projects_c['battle_prod_y'].fillna(0)\n",
    "all_projects_c['journey_prod_y'] = all_projects_c['journey_prod_y'].fillna(0)"
   ]
  },
  {
   "cell_type": "markdown",
   "metadata": {},
   "source": [
    "## Inverse TF-IDF"
   ]
  },
  {
   "cell_type": "code",
   "execution_count": 8,
   "metadata": {},
   "outputs": [],
   "source": [
    "j_mask = labeled[\"type\"] == \"journey\"\n",
    "b_mask = labeled[\"type\"] == \"battle\""
   ]
  },
  {
   "cell_type": "code",
   "execution_count": 9,
   "metadata": {},
   "outputs": [
    {
     "data": {
      "text/plain": [
       "(3097, 6943, 1324, 1866)"
      ]
     },
     "execution_count": 9,
     "metadata": {},
     "output_type": "execute_result"
    }
   ],
   "source": [
    "j_N = len(set(labeled[j_mask].dropna()[\"project_id\"]))\n",
    "j_T = len(labeled[j_mask].dropna()[\"keyword\"])\n",
    "b_N = len(set(labeled[b_mask].dropna()[\"project_id\"]))\n",
    "b_T = len(labeled[b_mask].dropna()[\"keyword\"])\n",
    "b_N, b_T, j_N, j_T"
   ]
  },
  {
   "cell_type": "code",
   "execution_count": 62,
   "metadata": {},
   "outputs": [
    {
     "data": {
      "text/plain": [
       "keyword\n",
       "battle       (1413, 0.204, 0.347, 4.64)\n",
       "battled      (88, 0.013, 0.028, 22.086)\n",
       "battles      (86, 0.012, 0.027, 22.306)\n",
       "battling      (422, 0.061, 0.127, 7.98)\n",
       "beat         (673, 0.097, 0.187, 6.146)\n",
       "beaten       (33, 0.005, 0.011, 46.325)\n",
       "beating     (132, 0.019, 0.041, 16.427)\n",
       "beats        (25, 0.004, 0.007, 56.646)\n",
       "combat       (40, 0.006, 0.012, 38.965)\n",
       "defeat       (49, 0.007, 0.015, 34.004)\n",
       "enemy        (17, 0.002, 0.005, 77.562)\n",
       "fight       (2347, 0.338, 0.496, 4.222)\n",
       "fighting     (1008, 0.145, 0.269, 5.25)\n",
       "fights      (122, 0.018, 0.036, 17.143)\n",
       "fought      (215, 0.031, 0.065, 11.829)\n",
       "war           (61, 0.009, 0.016, 27.45)\n",
       "win          (176, 0.025, 0.05, 13.173)\n",
       "winning      (36, 0.005, 0.012, 43.294)\n",
       "dtype: object"
      ]
     },
     "execution_count": 62,
     "metadata": {},
     "output_type": "execute_result"
    }
   ],
   "source": [
    "labeled[b_mask].dropna().groupby(\"keyword\").apply(\n",
    "    lambda x: \n",
    "        (x[\"project_id\"].count(), # number of times keyword found\n",
    "#          b_T, # total battle keywords\n",
    "         round(x[\"project_id\"].count() / b_T, 3), # frequency of keyword among battle words\n",
    "#          b_N, # total number of unique campaigns\n",
    "#          len(set(x[\"project_id\"])), # number of campaigns the keyword appears in\n",
    "         round(len(set(x[\"project_id\"])) / b_N, 3), # portion of campaigns the word appears in\n",
    "#          round(b_N / len(set(x[\"project_id\"])), 2), # average # of campaigns between word appearance\n",
    "         round(1 / ((x[\"project_id\"].count() / b_T) * np.log(b_N / len(set(x[\"project_id\"])))), 3))\n",
    ")"
   ]
  },
  {
   "cell_type": "code",
   "execution_count": 33,
   "metadata": {},
   "outputs": [
    {
     "name": "stdout",
     "output_type": "stream",
     "text": [
      "keyword\n",
      "battle       1.088517\n",
      "battled      4.433026\n",
      "battles      4.472700\n",
      "battling     1.773272\n",
      "beat         1.401897\n",
      "beaten       8.634320\n",
      "beating      3.396263\n",
      "beats       10.347807\n",
      "combat       7.389205\n",
      "defeat       6.536860\n",
      "enemy       13.730254\n",
      "fight        1.000000\n",
      "fighting     1.216589\n",
      "fights       3.529182\n",
      "fought       2.527295\n",
      "war          5.391228\n",
      "win          2.784184\n",
      "winning      8.124178\n",
      "dtype: float64\n",
      "keyword\n",
      "journey          1.000000\n",
      "path             1.775184\n",
      "road             1.079024\n",
      "rollercoaster    5.398056\n",
      "dtype: float64\n"
     ]
    }
   ],
   "source": [
    "itfidf_battle = labeled[b_mask].dropna().groupby(\"keyword\").apply(\n",
    "    lambda x: \n",
    "        1 / (x[\"project_id\"].count() / b_T * np.log(b_N / len(set(x[\"project_id\"]))))\n",
    "    # inverse    total kw count     total docs      unique   \n",
    ")\n",
    "itfidf_journey = labeled[j_mask].dropna().groupby(\"keyword\").apply(\n",
    "    lambda x: \n",
    "        1 / (x[\"project_id\"].count() / j_T * np.log(j_N / len(set(x[\"project_id\"]))))\n",
    ")\n",
    "\n",
    "itfidf_battle = (itfidf_battle / min(itfidf_battle)) ** 0.9\n",
    "itfidf_journey = (itfidf_journey / min(itfidf_journey))\n",
    "\n",
    "print(itfidf_battle)\n",
    "print(itfidf_journey)"
   ]
  },
  {
   "cell_type": "code",
   "execution_count": 34,
   "metadata": {},
   "outputs": [
    {
     "data": {
      "text/html": [
       "<div>\n",
       "<style scoped>\n",
       "    .dataframe tbody tr th:only-of-type {\n",
       "        vertical-align: middle;\n",
       "    }\n",
       "\n",
       "    .dataframe tbody tr th {\n",
       "        vertical-align: top;\n",
       "    }\n",
       "\n",
       "    .dataframe thead th {\n",
       "        text-align: right;\n",
       "    }\n",
       "</style>\n",
       "<table border=\"1\" class=\"dataframe\">\n",
       "  <thead>\n",
       "    <tr style=\"text-align: right;\">\n",
       "      <th></th>\n",
       "      <th>kw</th>\n",
       "      <th>w</th>\n",
       "      <th>method</th>\n",
       "      <th>family</th>\n",
       "    </tr>\n",
       "  </thead>\n",
       "  <tbody>\n",
       "    <tr>\n",
       "      <th>0</th>\n",
       "      <td>journey</td>\n",
       "      <td>1.000000</td>\n",
       "      <td>itfidf</td>\n",
       "      <td>journey</td>\n",
       "    </tr>\n",
       "    <tr>\n",
       "      <th>1</th>\n",
       "      <td>path</td>\n",
       "      <td>1.775184</td>\n",
       "      <td>itfidf</td>\n",
       "      <td>journey</td>\n",
       "    </tr>\n",
       "    <tr>\n",
       "      <th>2</th>\n",
       "      <td>road</td>\n",
       "      <td>1.079024</td>\n",
       "      <td>itfidf</td>\n",
       "      <td>journey</td>\n",
       "    </tr>\n",
       "    <tr>\n",
       "      <th>3</th>\n",
       "      <td>rollercoaster</td>\n",
       "      <td>5.398056</td>\n",
       "      <td>itfidf</td>\n",
       "      <td>journey</td>\n",
       "    </tr>\n",
       "    <tr>\n",
       "      <th>0</th>\n",
       "      <td>battle</td>\n",
       "      <td>1.088517</td>\n",
       "      <td>itfidf</td>\n",
       "      <td>battle</td>\n",
       "    </tr>\n",
       "    <tr>\n",
       "      <th>1</th>\n",
       "      <td>battled</td>\n",
       "      <td>4.433026</td>\n",
       "      <td>itfidf</td>\n",
       "      <td>battle</td>\n",
       "    </tr>\n",
       "    <tr>\n",
       "      <th>2</th>\n",
       "      <td>battles</td>\n",
       "      <td>4.472700</td>\n",
       "      <td>itfidf</td>\n",
       "      <td>battle</td>\n",
       "    </tr>\n",
       "    <tr>\n",
       "      <th>3</th>\n",
       "      <td>battling</td>\n",
       "      <td>1.773272</td>\n",
       "      <td>itfidf</td>\n",
       "      <td>battle</td>\n",
       "    </tr>\n",
       "    <tr>\n",
       "      <th>4</th>\n",
       "      <td>beat</td>\n",
       "      <td>1.401897</td>\n",
       "      <td>itfidf</td>\n",
       "      <td>battle</td>\n",
       "    </tr>\n",
       "    <tr>\n",
       "      <th>5</th>\n",
       "      <td>beaten</td>\n",
       "      <td>8.634320</td>\n",
       "      <td>itfidf</td>\n",
       "      <td>battle</td>\n",
       "    </tr>\n",
       "    <tr>\n",
       "      <th>6</th>\n",
       "      <td>beating</td>\n",
       "      <td>3.396263</td>\n",
       "      <td>itfidf</td>\n",
       "      <td>battle</td>\n",
       "    </tr>\n",
       "    <tr>\n",
       "      <th>7</th>\n",
       "      <td>beats</td>\n",
       "      <td>10.347807</td>\n",
       "      <td>itfidf</td>\n",
       "      <td>battle</td>\n",
       "    </tr>\n",
       "    <tr>\n",
       "      <th>8</th>\n",
       "      <td>combat</td>\n",
       "      <td>7.389205</td>\n",
       "      <td>itfidf</td>\n",
       "      <td>battle</td>\n",
       "    </tr>\n",
       "    <tr>\n",
       "      <th>9</th>\n",
       "      <td>defeat</td>\n",
       "      <td>6.536860</td>\n",
       "      <td>itfidf</td>\n",
       "      <td>battle</td>\n",
       "    </tr>\n",
       "    <tr>\n",
       "      <th>10</th>\n",
       "      <td>enemy</td>\n",
       "      <td>13.730254</td>\n",
       "      <td>itfidf</td>\n",
       "      <td>battle</td>\n",
       "    </tr>\n",
       "    <tr>\n",
       "      <th>11</th>\n",
       "      <td>fight</td>\n",
       "      <td>1.000000</td>\n",
       "      <td>itfidf</td>\n",
       "      <td>battle</td>\n",
       "    </tr>\n",
       "    <tr>\n",
       "      <th>12</th>\n",
       "      <td>fighting</td>\n",
       "      <td>1.216589</td>\n",
       "      <td>itfidf</td>\n",
       "      <td>battle</td>\n",
       "    </tr>\n",
       "    <tr>\n",
       "      <th>13</th>\n",
       "      <td>fights</td>\n",
       "      <td>3.529182</td>\n",
       "      <td>itfidf</td>\n",
       "      <td>battle</td>\n",
       "    </tr>\n",
       "    <tr>\n",
       "      <th>14</th>\n",
       "      <td>fought</td>\n",
       "      <td>2.527295</td>\n",
       "      <td>itfidf</td>\n",
       "      <td>battle</td>\n",
       "    </tr>\n",
       "    <tr>\n",
       "      <th>15</th>\n",
       "      <td>war</td>\n",
       "      <td>5.391228</td>\n",
       "      <td>itfidf</td>\n",
       "      <td>battle</td>\n",
       "    </tr>\n",
       "    <tr>\n",
       "      <th>16</th>\n",
       "      <td>win</td>\n",
       "      <td>2.784184</td>\n",
       "      <td>itfidf</td>\n",
       "      <td>battle</td>\n",
       "    </tr>\n",
       "    <tr>\n",
       "      <th>17</th>\n",
       "      <td>winning</td>\n",
       "      <td>8.124178</td>\n",
       "      <td>itfidf</td>\n",
       "      <td>battle</td>\n",
       "    </tr>\n",
       "    <tr>\n",
       "      <th>0</th>\n",
       "      <td>journey</td>\n",
       "      <td>1.000000</td>\n",
       "      <td>custom</td>\n",
       "      <td>journey</td>\n",
       "    </tr>\n",
       "    <tr>\n",
       "      <th>1</th>\n",
       "      <td>road</td>\n",
       "      <td>1.344277</td>\n",
       "      <td>custom</td>\n",
       "      <td>journey</td>\n",
       "    </tr>\n",
       "    <tr>\n",
       "      <th>2</th>\n",
       "      <td>path</td>\n",
       "      <td>3.368151</td>\n",
       "      <td>custom</td>\n",
       "      <td>journey</td>\n",
       "    </tr>\n",
       "    <tr>\n",
       "      <th>3</th>\n",
       "      <td>rollercoaster</td>\n",
       "      <td>6.149375</td>\n",
       "      <td>custom</td>\n",
       "      <td>journey</td>\n",
       "    </tr>\n",
       "    <tr>\n",
       "      <th>0</th>\n",
       "      <td>fight</td>\n",
       "      <td>1.000000</td>\n",
       "      <td>custom</td>\n",
       "      <td>battle</td>\n",
       "    </tr>\n",
       "    <tr>\n",
       "      <th>1</th>\n",
       "      <td>battle</td>\n",
       "      <td>1.289015</td>\n",
       "      <td>custom</td>\n",
       "      <td>battle</td>\n",
       "    </tr>\n",
       "    <tr>\n",
       "      <th>2</th>\n",
       "      <td>fighting</td>\n",
       "      <td>1.566761</td>\n",
       "      <td>custom</td>\n",
       "      <td>battle</td>\n",
       "    </tr>\n",
       "    <tr>\n",
       "      <th>3</th>\n",
       "      <td>beat</td>\n",
       "      <td>1.916819</td>\n",
       "      <td>custom</td>\n",
       "      <td>battle</td>\n",
       "    </tr>\n",
       "    <tr>\n",
       "      <th>4</th>\n",
       "      <td>battling</td>\n",
       "      <td>2.419926</td>\n",
       "      <td>custom</td>\n",
       "      <td>battle</td>\n",
       "    </tr>\n",
       "    <tr>\n",
       "      <th>5</th>\n",
       "      <td>fought</td>\n",
       "      <td>3.528185</td>\n",
       "      <td>custom</td>\n",
       "      <td>battle</td>\n",
       "    </tr>\n",
       "    <tr>\n",
       "      <th>6</th>\n",
       "      <td>win</td>\n",
       "      <td>3.761525</td>\n",
       "      <td>custom</td>\n",
       "      <td>battle</td>\n",
       "    </tr>\n",
       "    <tr>\n",
       "      <th>7</th>\n",
       "      <td>beating</td>\n",
       "      <td>4.321126</td>\n",
       "      <td>custom</td>\n",
       "      <td>battle</td>\n",
       "    </tr>\n",
       "    <tr>\n",
       "      <th>8</th>\n",
       "      <td>fights</td>\n",
       "      <td>4.393755</td>\n",
       "      <td>custom</td>\n",
       "      <td>battle</td>\n",
       "    </tr>\n",
       "    <tr>\n",
       "      <th>9</th>\n",
       "      <td>battled</td>\n",
       "      <td>5.336197</td>\n",
       "      <td>custom</td>\n",
       "      <td>battle</td>\n",
       "    </tr>\n",
       "    <tr>\n",
       "      <th>10</th>\n",
       "      <td>battles</td>\n",
       "      <td>5.474823</td>\n",
       "      <td>custom</td>\n",
       "      <td>battle</td>\n",
       "    </tr>\n",
       "    <tr>\n",
       "      <th>11</th>\n",
       "      <td>defeat</td>\n",
       "      <td>7.037168</td>\n",
       "      <td>custom</td>\n",
       "      <td>battle</td>\n",
       "    </tr>\n",
       "    <tr>\n",
       "      <th>12</th>\n",
       "      <td>beaten</td>\n",
       "      <td>8.572273</td>\n",
       "      <td>custom</td>\n",
       "      <td>battle</td>\n",
       "    </tr>\n",
       "    <tr>\n",
       "      <th>13</th>\n",
       "      <td>winning</td>\n",
       "      <td>9.360309</td>\n",
       "      <td>custom</td>\n",
       "      <td>battle</td>\n",
       "    </tr>\n",
       "    <tr>\n",
       "      <th>14</th>\n",
       "      <td>war</td>\n",
       "      <td>9.952059</td>\n",
       "      <td>custom</td>\n",
       "      <td>battle</td>\n",
       "    </tr>\n",
       "    <tr>\n",
       "      <th>15</th>\n",
       "      <td>combat</td>\n",
       "      <td>9.952059</td>\n",
       "      <td>custom</td>\n",
       "      <td>battle</td>\n",
       "    </tr>\n",
       "    <tr>\n",
       "      <th>16</th>\n",
       "      <td>beats</td>\n",
       "      <td>10.949646</td>\n",
       "      <td>custom</td>\n",
       "      <td>battle</td>\n",
       "    </tr>\n",
       "    <tr>\n",
       "      <th>17</th>\n",
       "      <td>enemy</td>\n",
       "      <td>13.778002</td>\n",
       "      <td>custom</td>\n",
       "      <td>battle</td>\n",
       "    </tr>\n",
       "  </tbody>\n",
       "</table>\n",
       "</div>"
      ],
      "text/plain": [
       "               kw          w  method   family\n",
       "0         journey   1.000000  itfidf  journey\n",
       "1            path   1.775184  itfidf  journey\n",
       "2            road   1.079024  itfidf  journey\n",
       "3   rollercoaster   5.398056  itfidf  journey\n",
       "0          battle   1.088517  itfidf   battle\n",
       "1         battled   4.433026  itfidf   battle\n",
       "2         battles   4.472700  itfidf   battle\n",
       "3        battling   1.773272  itfidf   battle\n",
       "4            beat   1.401897  itfidf   battle\n",
       "5          beaten   8.634320  itfidf   battle\n",
       "6         beating   3.396263  itfidf   battle\n",
       "7           beats  10.347807  itfidf   battle\n",
       "8          combat   7.389205  itfidf   battle\n",
       "9          defeat   6.536860  itfidf   battle\n",
       "10          enemy  13.730254  itfidf   battle\n",
       "11          fight   1.000000  itfidf   battle\n",
       "12       fighting   1.216589  itfidf   battle\n",
       "13         fights   3.529182  itfidf   battle\n",
       "14         fought   2.527295  itfidf   battle\n",
       "15            war   5.391228  itfidf   battle\n",
       "16            win   2.784184  itfidf   battle\n",
       "17        winning   8.124178  itfidf   battle\n",
       "0         journey   1.000000  custom  journey\n",
       "1            road   1.344277  custom  journey\n",
       "2            path   3.368151  custom  journey\n",
       "3   rollercoaster   6.149375  custom  journey\n",
       "0           fight   1.000000  custom   battle\n",
       "1          battle   1.289015  custom   battle\n",
       "2        fighting   1.566761  custom   battle\n",
       "3            beat   1.916819  custom   battle\n",
       "4        battling   2.419926  custom   battle\n",
       "5          fought   3.528185  custom   battle\n",
       "6             win   3.761525  custom   battle\n",
       "7         beating   4.321126  custom   battle\n",
       "8          fights   4.393755  custom   battle\n",
       "9         battled   5.336197  custom   battle\n",
       "10        battles   5.474823  custom   battle\n",
       "11         defeat   7.037168  custom   battle\n",
       "12         beaten   8.572273  custom   battle\n",
       "13        winning   9.360309  custom   battle\n",
       "14            war   9.952059  custom   battle\n",
       "15         combat   9.952059  custom   battle\n",
       "16          beats  10.949646  custom   battle\n",
       "17          enemy  13.778002  custom   battle"
      ]
     },
     "execution_count": 34,
     "metadata": {},
     "output_type": "execute_result"
    }
   ],
   "source": [
    "itfidf_journey = pd.DataFrame({\"kw\": itfidf_journey.index, \"w\": itfidf_journey.values, \"method\": \"itfidf\", \"family\": \"journey\"})\n",
    "itfidf_battle = pd.DataFrame({\"kw\": itfidf_battle.index, \"w\": itfidf_battle.values, \"method\": \"itfidf\", \"family\": \"battle\"})\n",
    "custom_journey = pd.DataFrame({\"kw\": list(journey_freq_map.keys()), \"w\": list(journey_freq_map.values()), \"method\": \"custom\", \"family\": \"journey\"})\n",
    "custom_battle = pd.DataFrame({\"kw\": list(battle_freq_map.keys()), \"w\": list(battle_freq_map.values()), \"method\": \"custom\", \"family\": \"battle\"})\n",
    "\n",
    "comb = pd.concat([itfidf_journey,\n",
    "                itfidf_battle,\n",
    "                custom_journey,\n",
    "                custom_battle], axis=0)\n",
    "comb"
   ]
  },
  {
   "cell_type": "code",
   "execution_count": 36,
   "metadata": {},
   "outputs": [
    {
     "data": {
      "text/plain": [
       "<matplotlib.axes._subplots.AxesSubplot at 0x1a22f001d0>"
      ]
     },
     "execution_count": 36,
     "metadata": {},
     "output_type": "execute_result"
    },
    {
     "data": {
      "image/png": "[encoded data removed]",
      "text/plain": [
       "<Figure size 432x288 with 1 Axes>"
      ]
     },
     "metadata": {
      "needs_background": "light"
     },
     "output_type": "display_data"
    }
   ],
   "source": [
    "sns.barplot(\"kw\", \"w\", hue=\"method\", data = comb[comb[\"family\"] == \"journey\"])"
   ]
  },
  {
   "cell_type": "code",
   "execution_count": 40,
   "metadata": {},
   "outputs": [
    {
     "data": {
      "text/plain": [
       "<matplotlib.axes._subplots.AxesSubplot at 0x1a221b00d0>"
      ]
     },
     "execution_count": 40,
     "metadata": {},
     "output_type": "execute_result"
    },
    {
     "data": {
      "image/png": "[encoded data removed]",
      "text/plain": [
       "<Figure size 432x288 with 1 Axes>"
      ]
     },
     "metadata": {
      "needs_background": "light"
     },
     "output_type": "display_data"
    }
   ],
   "source": [
    "sns.barplot(\"kw\", \"w\", hue=\"method\", data = comb[comb[\"family\"] == \"battle\"])"
   ]
  },
  {
   "cell_type": "code",
   "execution_count": null,
   "metadata": {},
   "outputs": [],
   "source": []
  }
 ],
 "metadata": {
  "kernelspec": {
   "display_name": "pyNLP",
   "language": "python",
   "name": "nlp"
  },
  "language_info": {
   "codemirror_mode": {
    "name": "ipython",
    "version": 3
   },
   "file_extension": ".py",
   "mimetype": "text/x-python",
   "name": "python",
   "nbconvert_exporter": "python",
   "pygments_lexer": "ipython3",
   "version": "3.7.5"
  }
 },
 "nbformat": 4,
 "nbformat_minor": 2
}
