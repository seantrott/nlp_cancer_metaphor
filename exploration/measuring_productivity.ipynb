{
 "cells": [
  {
   "cell_type": "markdown",
   "metadata": {},
   "source": [
    "Load Libraries"
   ]
  },
  {
   "cell_type": "code",
   "execution_count": 1,
   "metadata": {},
   "outputs": [],
   "source": [
    "import numpy as np\n",
    "import pandas as pd\n",
    "import os.path as op\n",
    "import spacy\n",
    "nlp = spacy.load('en')"
   ]
  },
  {
   "cell_type": "markdown",
   "metadata": {},
   "source": [
    "Load Data"
   ]
  },
  {
   "cell_type": "code",
   "execution_count": 2,
   "metadata": {},
   "outputs": [],
   "source": [
    "DATA_PROCESSED = '../data/processed'"
   ]
  },
  {
   "cell_type": "code",
   "execution_count": 3,
   "metadata": {},
   "outputs": [],
   "source": [
    "labeled = pd.read_csv(op.join(DATA_PROCESSED, 'labeled_projects.csv'))\n",
    "all_projects = pd.read_csv(op.join(DATA_PROCESSED, 'cancer_projects_full.csv'))"
   ]
  },
  {
   "cell_type": "code",
   "execution_count": 4,
   "metadata": {},
   "outputs": [],
   "source": [
    "# will create a dataframe with project ID, and measures of productivity for battle and journey\n",
    "productivities = []\n",
    "\n",
    "# group by id\n",
    "for i, g in labeled.groupby('project_id'):\n",
    "    # get the number of words total for the project text\n",
    "    all_words = all_projects.loc[all_projects['id'] == i, 'text_length_words']\n",
    "    \n",
    "    # some (~20) projects don't have data on text body size... potential bug\n",
    "    if all_words.size > 0 and all_words.values[0] > 0:\n",
    "        \n",
    "        # battle productivity\n",
    "        kw = g.loc[g['type'] == 'battle', 'keyword'].value_counts().values\n",
    "        kw = np.append(kw, all_words.values[0])\n",
    "\n",
    "        # compute Simpson's Index of Diversity\n",
    "        tot = sum(kw * (kw-1))\n",
    "        battle_div = 1 - tot / (sum(kw) * (sum(kw) - 1))\n",
    "        \n",
    "        # journey productivity\n",
    "        kw = g.loc[g['type'] == 'journey', 'keyword'].value_counts().values\n",
    "        kw = np.append(kw, all_words.values[0])\n",
    "\n",
    "        # compute Simpson's Index of Diversity\n",
    "        tot = sum(kw * (kw-1))\n",
    "        journey_div = 1 - tot / (sum(kw) * (sum(kw) - 1))\n",
    "    else:\n",
    "        battle_div, journey_div = 0.0, 0.0\n",
    "        \n",
    "    productivities.append([i, battle_div, journey_div])\n",
    "    \n",
    "productivities = pd.DataFrame(productivities, columns=['id', 'battle_prod', 'journey_prod'])"
   ]
  },
  {
   "cell_type": "markdown",
   "metadata": {},
   "source": [
    "Top projects by productivity, after looking at the text of these projects, the measure seems like an accurate representation of diversity in metaphor instantiation."
   ]
  },
  {
   "cell_type": "code",
   "execution_count": 5,
   "metadata": {},
   "outputs": [
    {
     "data": {
      "text/html": [
       "<div>\n",
       "<style scoped>\n",
       "    .dataframe tbody tr th:only-of-type {\n",
       "        vertical-align: middle;\n",
       "    }\n",
       "\n",
       "    .dataframe tbody tr th {\n",
       "        vertical-align: top;\n",
       "    }\n",
       "\n",
       "    .dataframe thead th {\n",
       "        text-align: right;\n",
       "    }\n",
       "</style>\n",
       "<table border=\"1\" class=\"dataframe\">\n",
       "  <thead>\n",
       "    <tr style=\"text-align: right;\">\n",
       "      <th></th>\n",
       "      <th>id</th>\n",
       "      <th>battle_prod</th>\n",
       "      <th>journey_prod</th>\n",
       "    </tr>\n",
       "  </thead>\n",
       "  <tbody>\n",
       "    <tr>\n",
       "      <th>118</th>\n",
       "      <td>512019652</td>\n",
       "      <td>0.000000</td>\n",
       "      <td>0.063784</td>\n",
       "    </tr>\n",
       "    <tr>\n",
       "      <th>377</th>\n",
       "      <td>1746035032</td>\n",
       "      <td>0.000000</td>\n",
       "      <td>0.054054</td>\n",
       "    </tr>\n",
       "    <tr>\n",
       "      <th>391</th>\n",
       "      <td>1792294790</td>\n",
       "      <td>0.000000</td>\n",
       "      <td>0.019417</td>\n",
       "    </tr>\n",
       "    <tr>\n",
       "      <th>332</th>\n",
       "      <td>1570902301</td>\n",
       "      <td>0.000000</td>\n",
       "      <td>0.016667</td>\n",
       "    </tr>\n",
       "    <tr>\n",
       "      <th>201</th>\n",
       "      <td>973883863</td>\n",
       "      <td>0.000000</td>\n",
       "      <td>0.016427</td>\n",
       "    </tr>\n",
       "    <tr>\n",
       "      <th>311</th>\n",
       "      <td>1470430678</td>\n",
       "      <td>0.000000</td>\n",
       "      <td>0.012434</td>\n",
       "    </tr>\n",
       "    <tr>\n",
       "      <th>261</th>\n",
       "      <td>1252992481</td>\n",
       "      <td>0.010256</td>\n",
       "      <td>0.010256</td>\n",
       "    </tr>\n",
       "    <tr>\n",
       "      <th>55</th>\n",
       "      <td>247063397</td>\n",
       "      <td>0.009901</td>\n",
       "      <td>0.009901</td>\n",
       "    </tr>\n",
       "    <tr>\n",
       "      <th>221</th>\n",
       "      <td>1071447964</td>\n",
       "      <td>0.000000</td>\n",
       "      <td>0.008511</td>\n",
       "    </tr>\n",
       "    <tr>\n",
       "      <th>38</th>\n",
       "      <td>164834653</td>\n",
       "      <td>0.000000</td>\n",
       "      <td>0.008306</td>\n",
       "    </tr>\n",
       "  </tbody>\n",
       "</table>\n",
       "</div>"
      ],
      "text/plain": [
       "             id  battle_prod  journey_prod\n",
       "118   512019652     0.000000      0.063784\n",
       "377  1746035032     0.000000      0.054054\n",
       "391  1792294790     0.000000      0.019417\n",
       "332  1570902301     0.000000      0.016667\n",
       "201   973883863     0.000000      0.016427\n",
       "311  1470430678     0.000000      0.012434\n",
       "261  1252992481     0.010256      0.010256\n",
       "55    247063397     0.009901      0.009901\n",
       "221  1071447964     0.000000      0.008511\n",
       "38    164834653     0.000000      0.008306"
      ]
     },
     "execution_count": 5,
     "metadata": {},
     "output_type": "execute_result"
    }
   ],
   "source": [
    "productivities.nlargest(10, 'journey_prod')"
   ]
  },
  {
   "cell_type": "markdown",
   "metadata": {},
   "source": [
    "An example project:"
   ]
  },
  {
   "cell_type": "code",
   "execution_count": 6,
   "metadata": {},
   "outputs": [
    {
     "data": {
      "text/plain": [
       "\"\\xa0 \\xa0 \\xa0 \\xa0 \\xa0 \\xa0 \\xa0 \\xa0 \\xa0 \\xa0Shouldn't I be dead by now I am a 68 year old male, who lives on an Australian old age pension because my retirement funds were swallowed up trying to stay alive for the last seven years,with this cancer. I think my story is something that needs to be told, I do not claim to have the cure for cancer as I believe there is no 'one size fits all' in beating cancer. This is one of many mistakes that our medical system makes. But I truly do believe I have found a way and perspective that could very well lead to an end of all cancer. My project is to write the story of my journey through seven years with cancer and how I rejected the Western medical system and go on to discover the true problem of what cancer is and how we get it.\\xa0 It is a total change of perspective to the way people are treated, who suffer cancer. After the book is published I want to do lecture tours to explain in greater depth and to answer the many questions I imagine people will want to ask.\""
      ]
     },
     "execution_count": 6,
     "metadata": {},
     "output_type": "execute_result"
    }
   ],
   "source": [
    "all_projects.loc[all_projects['id'] == 1252992481, 'text'].values[0]"
   ]
  },
  {
   "cell_type": "code",
   "execution_count": 7,
   "metadata": {},
   "outputs": [
    {
     "data": {
      "text/html": [
       "<div>\n",
       "<style scoped>\n",
       "    .dataframe tbody tr th:only-of-type {\n",
       "        vertical-align: middle;\n",
       "    }\n",
       "\n",
       "    .dataframe tbody tr th {\n",
       "        vertical-align: top;\n",
       "    }\n",
       "\n",
       "    .dataframe thead th {\n",
       "        text-align: right;\n",
       "    }\n",
       "</style>\n",
       "<table border=\"1\" class=\"dataframe\">\n",
       "  <thead>\n",
       "    <tr style=\"text-align: right;\">\n",
       "      <th></th>\n",
       "      <th>project_id</th>\n",
       "      <th>fragment</th>\n",
       "      <th>char_location</th>\n",
       "      <th>type</th>\n",
       "      <th>keyword</th>\n",
       "    </tr>\n",
       "  </thead>\n",
       "  <tbody>\n",
       "    <tr>\n",
       "      <th>406</th>\n",
       "      <td>1252992481</td>\n",
       "      <td>laim to have the cure for cancer as I believe ...</td>\n",
       "      <td>367.0</td>\n",
       "      <td>battle</td>\n",
       "      <td>beating</td>\n",
       "    </tr>\n",
       "    <tr>\n",
       "      <th>407</th>\n",
       "      <td>1252992481</td>\n",
       "      <td>d very well lead to an end of all cancer. My p...</td>\n",
       "      <td>591.0</td>\n",
       "      <td>journey</td>\n",
       "      <td>journey</td>\n",
       "    </tr>\n",
       "  </tbody>\n",
       "</table>\n",
       "</div>"
      ],
      "text/plain": [
       "     project_id                                           fragment  \\\n",
       "406  1252992481  laim to have the cure for cancer as I believe ...   \n",
       "407  1252992481  d very well lead to an end of all cancer. My p...   \n",
       "\n",
       "     char_location     type  keyword  \n",
       "406          367.0   battle  beating  \n",
       "407          591.0  journey  journey  "
      ]
     },
     "execution_count": 7,
     "metadata": {},
     "output_type": "execute_result"
    }
   ],
   "source": [
    "labeled.loc[labeled['project_id'] == 1252992481]"
   ]
  },
  {
   "cell_type": "markdown",
   "metadata": {},
   "source": [
    "Create a copy (so as to not affect the original) and merge"
   ]
  },
  {
   "cell_type": "code",
   "execution_count": 8,
   "metadata": {},
   "outputs": [],
   "source": [
    "all_projects_c = all_projects.copy(deep=True)"
   ]
  },
  {
   "cell_type": "code",
   "execution_count": 9,
   "metadata": {},
   "outputs": [],
   "source": [
    "all_projects_c = all_projects_c.merge(productivities, how='left', on='id', validate='one_to_one')"
   ]
  },
  {
   "cell_type": "markdown",
   "metadata": {},
   "source": [
    "It looks like our measures of diversity are highly correlated with salience:"
   ]
  },
  {
   "cell_type": "code",
   "execution_count": 10,
   "metadata": {},
   "outputs": [
    {
     "data": {
      "text/plain": [
       "array([[1.        , 0.00524885, 0.99994957, 0.00394083],\n",
       "       [0.00524885, 1.        , 0.00547719, 0.99979795],\n",
       "       [0.99994957, 0.00547719, 1.        , 0.00417079],\n",
       "       [0.00394083, 0.99979795, 0.00417079, 1.        ]])"
      ]
     },
     "execution_count": 10,
     "metadata": {},
     "output_type": "execute_result"
    }
   ],
   "source": [
    "np.corrcoef(all_projects_c[['battle_prod', 'journey_prod', 'battle_salience', 'journey_salience']], rowvar=False)"
   ]
  }
 ],
 "metadata": {
  "kernelspec": {
   "display_name": "Python [conda env:nlp]",
   "language": "python",
   "name": "conda-env-nlp-py"
  },
  "language_info": {
   "codemirror_mode": {
    "name": "ipython",
    "version": 3
   },
   "file_extension": ".py",
   "mimetype": "text/x-python",
   "name": "python",
   "nbconvert_exporter": "python",
   "pygments_lexer": "ipython3",
   "version": "3.6.7"
  }
 },
 "nbformat": 4,
 "nbformat_minor": 2
}
