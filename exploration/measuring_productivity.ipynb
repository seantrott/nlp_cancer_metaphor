{
 "cells": [
  {
   "cell_type": "markdown",
   "metadata": {},
   "source": [
    "Load Libraries"
   ]
  },
  {
   "cell_type": "code",
   "execution_count": 1,
   "metadata": {},
   "outputs": [],
   "source": [
    "import numpy as np\n",
    "import pandas as pd\n",
    "import os.path as op\n",
    "import spacy\n",
    "nlp = spacy.load('en')"
   ]
  },
  {
   "cell_type": "markdown",
   "metadata": {},
   "source": [
    "Load Data"
   ]
  },
  {
   "cell_type": "code",
   "execution_count": 2,
   "metadata": {},
   "outputs": [],
   "source": [
    "DATA_PROCESSED = '../data/processed'"
   ]
  },
  {
   "cell_type": "code",
   "execution_count": 3,
   "metadata": {},
   "outputs": [],
   "source": [
    "labeled = pd.read_csv(op.join(DATA_PROCESSED, 'labeled.csv'))\n",
    "all_projects = pd.read_csv(op.join(DATA_PROCESSED, 'gofundme_projects.csv'))"
   ]
  },
  {
   "cell_type": "code",
   "execution_count": 4,
   "metadata": {},
   "outputs": [],
   "source": [
    "labeled = labeled.loc[labeled['project_id'].isin(all_projects['id'])]"
   ]
  },
  {
   "cell_type": "markdown",
   "metadata": {},
   "source": [
    "# Simpson's Index of Diversity"
   ]
  },
  {
   "cell_type": "code",
   "execution_count": null,
   "metadata": {},
   "outputs": [],
   "source": [
    "kw = np.array([1,1,1])\n",
    "\n",
    "tot = sum(kw * (kw-1))\n",
    "print(1 - tot / (sum(kw) * (sum(kw) - 1)))\n",
    "\n",
    "kw = np.array([1,0,1])\n",
    "\n",
    "tot = sum(kw * (kw-1))\n",
    "print(1 - tot / (sum(kw) * (sum(kw) - 1)))"
   ]
  },
  {
   "cell_type": "code",
   "execution_count": null,
   "metadata": {},
   "outputs": [],
   "source": [
    "# will create a dataframe with project ID, and measures of productivity for battle and journey\n",
    "productivities = []\n",
    "\n",
    "# group by id\n",
    "for i, g in labeled.groupby('project_id'):\n",
    "    # get the number of words total for the project text\n",
    "    all_words = all_projects.loc[all_projects['id'] == i, 'text_length_words']\n",
    "    \n",
    "    # some (~20) projects don't have data on text body size... potential bug\n",
    "    if all_words.size > 0 and all_words.values[0] > 0:\n",
    "        \n",
    "        # battle productivity\n",
    "        kw = g.loc[g['type'] == 'battle', 'keyword'].value_counts().values\n",
    "#         kw = np.append(kw, all_words.values[0])\n",
    "\n",
    "        # compute Simpson's Index of Diversity\n",
    "        #     sum n(n - 1) \n",
    "        tot = sum(kw * (kw-1))\n",
    "        if sum(kw) > 0:\n",
    "            battle_div = tot / (sum(kw) * (sum(kw) - 1))\n",
    "        else:\n",
    "            battle_div = 0.0\n",
    "        \n",
    "        # journey productivity\n",
    "        kw = g.loc[g['type'] == 'journey', 'keyword'].value_counts().values\n",
    "#         kw = np.append(kw, all_words.values[0])\n",
    "\n",
    "        # compute Simpson's Index of Diversity\n",
    "        tot = sum(kw * (kw-1))\n",
    "        if sum(kw) > 0:\n",
    "            journey_div = tot / (sum(kw) * (sum(kw) - 1))\n",
    "        else:\n",
    "            journey_div = 0.0\n",
    "        \n",
    "    else:\n",
    "        battle_div, journey_div = 0.0, 0.0\n",
    "        \n",
    "    productivities.append([i, battle_div, journey_div])\n",
    "    \n",
    "productivities = pd.DataFrame(productivities, columns=['id', 'battle_prod', 'journey_prod'])"
   ]
  },
  {
   "cell_type": "markdown",
   "metadata": {},
   "source": [
    "Top projects by productivity, after looking at the text of these projects, the measure seems like an accurate representation of diversity in metaphor instantiation."
   ]
  },
  {
   "cell_type": "code",
   "execution_count": null,
   "metadata": {},
   "outputs": [],
   "source": [
    "productivities.nlargest(10, 'battle_prod')"
   ]
  },
  {
   "cell_type": "markdown",
   "metadata": {},
   "source": [
    "An example project:"
   ]
  },
  {
   "cell_type": "code",
   "execution_count": null,
   "metadata": {},
   "outputs": [],
   "source": [
    "all_projects.loc[all_projects['id'] == 1665364667, :]"
   ]
  },
  {
   "cell_type": "code",
   "execution_count": null,
   "metadata": {},
   "outputs": [],
   "source": [
    "labeled.loc[labeled['project_id'] == 1665364667]"
   ]
  },
  {
   "cell_type": "markdown",
   "metadata": {},
   "source": [
    "Create a copy (so as to not affect the original) and merge"
   ]
  },
  {
   "cell_type": "code",
   "execution_count": null,
   "metadata": {},
   "outputs": [],
   "source": [
    "all_projects_c = all_projects.copy(deep=True)"
   ]
  },
  {
   "cell_type": "code",
   "execution_count": null,
   "metadata": {},
   "outputs": [],
   "source": [
    "all_projects_c = all_projects_c.merge(productivities, how='left', on='id', validate='one_to_one')"
   ]
  },
  {
   "cell_type": "markdown",
   "metadata": {},
   "source": [
    "It looks like our measures of diversity are highly correlated with salience:"
   ]
  },
  {
   "cell_type": "code",
   "execution_count": null,
   "metadata": {},
   "outputs": [],
   "source": [
    "np.corrcoef(all_projects_c[['battle_prod', 'journey_prod', 'battle_salience', 'journey_salience']], rowvar=False)"
   ]
  },
  {
   "cell_type": "markdown",
   "metadata": {},
   "source": [
    "# Custom Productivity\n",
    "\n",
    "Let $C$ be the set of keyword counts over all projects. Each keyword appears $C_i \\gt 0$ times, such that $i=1, 2, ..., N$ where $N$ is the number of unique keywords in the corpus.\n",
    "\n",
    "Let $W$ be the set of keyword counts for a given project, where $W_i \\geq 0$ for $i=1, 2, ..., N$. $C_i$ and $W_i$ represent the same keyword.\n",
    "\n",
    "Productivity for each keyword family of a given project is:\n",
    "$$\n",
    "P_{\\text{family}} = \\sum_{i=1}^N W_i \\times \\big(\\frac{\\sum_{k=1}^N C_k}{C_i}\\big)^r\n",
    "$$\n",
    "where $r$ is some proportionality constant.\n",
    "\n",
    "In the following work, $r=0.4$ because this results in the least frequent word, *enemy*, becoming the \"equivalent\" (in terms of how creative we perceive its usage) to about 8 usages of the most frequent word, *fight*. This number is partially arbitrary and can be changed as seen fit. The frequency proportion (the value raised to $r$) is divided by the minimum of the set of frequency proportions, thereby forcing the most frequent word to have a frequency proportion of 1.0.\n",
    "\n"
   ]
  },
  {
   "cell_type": "code",
   "execution_count": 5,
   "metadata": {},
   "outputs": [
    {
     "name": "stdout",
     "output_type": "stream",
     "text": [
      "{'fight': 1.0, 'battle': 1.229158512685047, 'fighting': 1.4377593500395272, 'beat': 1.6811389359792683, 'battling': 2.018701998502793, 'fought': 2.7369962496283278, 'win': 2.8853092224044503, 'beating': 3.2045695731754025, 'fights': 3.2942381636628055, 'battled': 3.8268894194389174, 'battles': 3.888208231480954, 'defeat': 4.786974705308483, 'beaten': 5.579479694098934, 'winning': 6.100391489864418, 'war': 6.316450992324286, 'beats': 7.002653455522158, 'enemy': 8.049514829687741}\n",
      "{'journey': 1.0, 'road': 2.3872497410557854, 'path': 2.6752333020574484, 'travel': 15.817186386761122}\n"
     ]
    }
   ],
   "source": [
    "battle_vc = labeled.dropna().loc[(labeled['type'] == 'battle') & (labeled['metaphorical'] == True), 'keyword'].value_counts()\n",
    "journey_vc = labeled.dropna().loc[(labeled['type'] == 'journey')& (labeled['metaphorical'] == True), 'keyword'].value_counts()\n",
    "\n",
    "# print(battle_vc)\n",
    "\n",
    "r = 0.4\n",
    "\n",
    "battle_freq_map = (sum(battle_vc) / battle_vc) ** r\n",
    "battle_freq_map = dict(battle_freq_map / min(battle_freq_map))\n",
    "\n",
    "journey_freq_map = (sum(journey_vc) / journey_vc) ** r\n",
    "journey_freq_map = dict(journey_freq_map / min(journey_freq_map))\n",
    "\n",
    "print(battle_freq_map)\n",
    "print(journey_freq_map)\n"
   ]
  },
  {
   "cell_type": "code",
   "execution_count": 72,
   "metadata": {},
   "outputs": [],
   "source": [
    "# will create a dataframe with project ID, and measures of productivity for battle and journey\n",
    "productivities = []\n",
    "\n",
    "c = 0\n",
    "\n",
    "# group by id\n",
    "for i, g in labeled.loc[labeled['metaphorical'].fillna(False)].groupby('project_id'):\n",
    "    # get the number of words total for the project text\n",
    "    all_words = all_projects.loc[all_projects['id'] == i, 'text_length_words']\n",
    "    \n",
    "    kw = g.loc[g['type'] == 'battle', 'keyword'].value_counts()\n",
    "    s = [battle_freq_map[k] * kw[k] for k in dict(kw)]\n",
    "    battle_div = sum(s)\n",
    "\n",
    "    kw = g.loc[g['type'] == 'journey', 'keyword'].value_counts()\n",
    "    s = [journey_freq_map[k] * kw[k] for k in dict(kw)]\n",
    "    journey_div = sum(s)\n",
    "        \n",
    "    productivities.append([i, battle_div, journey_div])\n",
    "    \n",
    "productivities = pd.DataFrame(productivities, columns=['id', 'battle_prod', 'journey_prod'])"
   ]
  },
  {
   "cell_type": "code",
   "execution_count": 73,
   "metadata": {},
   "outputs": [],
   "source": [
    "all_projects_c = all_projects.copy(deep=True)\n",
    "all_projects_c = all_projects_c.merge(productivities, how='left', on='id', validate='one_to_one')\n",
    "all_projects_c['battle_prod_y'] = all_projects_c['battle_prod_y'].fillna(0)\n",
    "all_projects_c['journey_prod_y'] = all_projects_c['journey_prod_y'].fillna(0)"
   ]
  },
  {
   "cell_type": "code",
   "execution_count": 75,
   "metadata": {},
   "outputs": [
    {
     "data": {
      "text/plain": [
       "<matplotlib.axes._subplots.AxesSubplot at 0x1a369a6080>"
      ]
     },
     "execution_count": 75,
     "metadata": {},
     "output_type": "execute_result"
    },
    {
     "data": {
      "image/png": "[encoded data removed]",
      "text/plain": [
       "<Figure size 432x288 with 1 Axes>"
      ]
     },
     "metadata": {
      "needs_background": "light"
     },
     "output_type": "display_data"
    }
   ],
   "source": [
    "import seaborn as sns\n",
    "sns.distplot(all_projects_c.loc[all_projects_c['battle_prod_y'] > 0, 'battle_prod_y'].dropna(), kde=False)"
   ]
  },
  {
   "cell_type": "code",
   "execution_count": 76,
   "metadata": {},
   "outputs": [
    {
     "data": {
      "text/html": [
       "<div>\n",
       "<style scoped>\n",
       "    .dataframe tbody tr th:only-of-type {\n",
       "        vertical-align: middle;\n",
       "    }\n",
       "\n",
       "    .dataframe tbody tr th {\n",
       "        vertical-align: top;\n",
       "    }\n",
       "\n",
       "    .dataframe thead th {\n",
       "        text-align: right;\n",
       "    }\n",
       "</style>\n",
       "<table border=\"1\" class=\"dataframe\">\n",
       "  <thead>\n",
       "    <tr style=\"text-align: right;\">\n",
       "      <th></th>\n",
       "      <th>id</th>\n",
       "      <th>name</th>\n",
       "      <th>url</th>\n",
       "      <th>battle_prod_y</th>\n",
       "      <th>journey_prod_y</th>\n",
       "    </tr>\n",
       "  </thead>\n",
       "  <tbody>\n",
       "    <tr>\n",
       "      <th>6413</th>\n",
       "      <td>41a26131e9dc8e5974506affe5709099</td>\n",
       "      <td>Donna's Healing Journey</td>\n",
       "      <td>https://www.gofundme.com/donnashealingjourney</td>\n",
       "      <td>7.987859</td>\n",
       "      <td>9.000000</td>\n",
       "    </tr>\n",
       "    <tr>\n",
       "      <th>1195</th>\n",
       "      <td>d2822c53ff35826317b245e14ff98832</td>\n",
       "      <td>Lara's Heal Breast Cancer Fund</td>\n",
       "      <td>https://www.gofundme.com/larashealbreastcancer...</td>\n",
       "      <td>0.000000</td>\n",
       "      <td>7.659609</td>\n",
       "    </tr>\n",
       "    <tr>\n",
       "      <th>198</th>\n",
       "      <td>352d6883409cd7234eeca26599abeb21</td>\n",
       "      <td>Laura Studer's Answer To Cancer</td>\n",
       "      <td>https://www.gofundme.com/laura-studer039s-answ...</td>\n",
       "      <td>4.861777</td>\n",
       "      <td>7.319218</td>\n",
       "    </tr>\n",
       "    <tr>\n",
       "      <th>7086</th>\n",
       "      <td>c9b0511c2c378619c869a16ad791299c</td>\n",
       "      <td>Sue's Fight to Beat Cancer</td>\n",
       "      <td>https://www.gofundme.com/sues-fight-to-beat-ca...</td>\n",
       "      <td>4.180024</td>\n",
       "      <td>7.319218</td>\n",
       "    </tr>\n",
       "    <tr>\n",
       "      <th>1212</th>\n",
       "      <td>2db9397665633bf8e5546208fe3328c5</td>\n",
       "      <td>Shelly's Breast Cancer Fight</td>\n",
       "      <td>https://www.gofundme.com/pt5mh6-kick-breast-ca...</td>\n",
       "      <td>5.561235</td>\n",
       "      <td>6.659609</td>\n",
       "    </tr>\n",
       "    <tr>\n",
       "      <th>1473</th>\n",
       "      <td>cfd3ec6d08e07aa9cbb417075e2e30cc</td>\n",
       "      <td>Beth's Breast Cancer Recovery Fund</td>\n",
       "      <td>https://www.gofundme.com/bethboyd</td>\n",
       "      <td>1.231038</td>\n",
       "      <td>6.659609</td>\n",
       "    </tr>\n",
       "  </tbody>\n",
       "</table>\n",
       "</div>"
      ],
      "text/plain": [
       "                                    id                                name  \\\n",
       "6413  41a26131e9dc8e5974506affe5709099             Donna's Healing Journey   \n",
       "1195  d2822c53ff35826317b245e14ff98832      Lara's Heal Breast Cancer Fund   \n",
       "198   352d6883409cd7234eeca26599abeb21     Laura Studer's Answer To Cancer   \n",
       "7086  c9b0511c2c378619c869a16ad791299c          Sue's Fight to Beat Cancer   \n",
       "1212  2db9397665633bf8e5546208fe3328c5        Shelly's Breast Cancer Fight   \n",
       "1473  cfd3ec6d08e07aa9cbb417075e2e30cc  Beth's Breast Cancer Recovery Fund   \n",
       "\n",
       "                                                    url  battle_prod_y  \\\n",
       "6413      https://www.gofundme.com/donnashealingjourney       7.987859   \n",
       "1195  https://www.gofundme.com/larashealbreastcancer...       0.000000   \n",
       "198   https://www.gofundme.com/laura-studer039s-answ...       4.861777   \n",
       "7086  https://www.gofundme.com/sues-fight-to-beat-ca...       4.180024   \n",
       "1212  https://www.gofundme.com/pt5mh6-kick-breast-ca...       5.561235   \n",
       "1473                  https://www.gofundme.com/bethboyd       1.231038   \n",
       "\n",
       "      journey_prod_y  \n",
       "6413        9.000000  \n",
       "1195        7.659609  \n",
       "198         7.319218  \n",
       "7086        7.319218  \n",
       "1212        6.659609  \n",
       "1473        6.659609  "
      ]
     },
     "execution_count": 76,
     "metadata": {},
     "output_type": "execute_result"
    }
   ],
   "source": [
    "all_projects_c.nlargest(6, 'journey_prod_y')[['id', 'name', 'url', 'battle_prod_y', 'journey_prod_y']]"
   ]
  },
  {
   "cell_type": "code",
   "execution_count": 62,
   "metadata": {},
   "outputs": [
    {
     "data": {
      "text/html": [
       "<div>\n",
       "<style scoped>\n",
       "    .dataframe tbody tr th:only-of-type {\n",
       "        vertical-align: middle;\n",
       "    }\n",
       "\n",
       "    .dataframe tbody tr th {\n",
       "        vertical-align: top;\n",
       "    }\n",
       "\n",
       "    .dataframe thead th {\n",
       "        text-align: right;\n",
       "    }\n",
       "</style>\n",
       "<table border=\"1\" class=\"dataframe\">\n",
       "  <thead>\n",
       "    <tr style=\"text-align: right;\">\n",
       "      <th></th>\n",
       "      <th>char_location</th>\n",
       "      <th>fragment</th>\n",
       "      <th>keyword</th>\n",
       "      <th>kw_start</th>\n",
       "      <th>metaphorical</th>\n",
       "      <th>project_id</th>\n",
       "      <th>type</th>\n",
       "    </tr>\n",
       "  </thead>\n",
       "  <tbody>\n",
       "    <tr>\n",
       "      <th>6957</th>\n",
       "      <td>843.0</td>\n",
       "      <td>grace as she pursues it without complaint.   ...</td>\n",
       "      <td>beating</td>\n",
       "      <td>81.0</td>\n",
       "      <td>True</td>\n",
       "      <td>352d6883409cd7234eeca26599abeb21</td>\n",
       "      <td>battle</td>\n",
       "    </tr>\n",
       "    <tr>\n",
       "      <th>6958</th>\n",
       "      <td>4657.0</td>\n",
       "      <td>ueprint for how to proceed, and instilled a co...</td>\n",
       "      <td>beat</td>\n",
       "      <td>81.0</td>\n",
       "      <td>True</td>\n",
       "      <td>352d6883409cd7234eeca26599abeb21</td>\n",
       "      <td>battle</td>\n",
       "    </tr>\n",
       "    <tr>\n",
       "      <th>6959</th>\n",
       "      <td>714.0</td>\n",
       "      <td>an extremely strong and intuitive will. When s...</td>\n",
       "      <td>path</td>\n",
       "      <td>81.0</td>\n",
       "      <td>True</td>\n",
       "      <td>352d6883409cd7234eeca26599abeb21</td>\n",
       "      <td>journey</td>\n",
       "    </tr>\n",
       "    <tr>\n",
       "      <th>6960</th>\n",
       "      <td>964.0</td>\n",
       "      <td>rtunately, the cancer has returned.  This time...</td>\n",
       "      <td>path</td>\n",
       "      <td>81.0</td>\n",
       "      <td>True</td>\n",
       "      <td>352d6883409cd7234eeca26599abeb21</td>\n",
       "      <td>journey</td>\n",
       "    </tr>\n",
       "    <tr>\n",
       "      <th>6961</th>\n",
       "      <td>473.0</td>\n",
       "      <td>if it reoccurred in the future.         If yo...</td>\n",
       "      <td>journey</td>\n",
       "      <td>81.0</td>\n",
       "      <td>True</td>\n",
       "      <td>352d6883409cd7234eeca26599abeb21</td>\n",
       "      <td>journey</td>\n",
       "    </tr>\n",
       "    <tr>\n",
       "      <th>6962</th>\n",
       "      <td>14894.0</td>\n",
       "      <td>ales from the road, and invite you all to come...</td>\n",
       "      <td>journey</td>\n",
       "      <td>81.0</td>\n",
       "      <td>True</td>\n",
       "      <td>352d6883409cd7234eeca26599abeb21</td>\n",
       "      <td>journey</td>\n",
       "    </tr>\n",
       "  </tbody>\n",
       "</table>\n",
       "</div>"
      ],
      "text/plain": [
       "      char_location                                           fragment  \\\n",
       "6957          843.0   grace as she pursues it without complaint.   ...   \n",
       "6958         4657.0  ueprint for how to proceed, and instilled a co...   \n",
       "6959          714.0  an extremely strong and intuitive will. When s...   \n",
       "6960          964.0  rtunately, the cancer has returned.  This time...   \n",
       "6961          473.0   if it reoccurred in the future.         If yo...   \n",
       "6962        14894.0  ales from the road, and invite you all to come...   \n",
       "\n",
       "      keyword  kw_start metaphorical                        project_id  \\\n",
       "6957  beating      81.0         True  352d6883409cd7234eeca26599abeb21   \n",
       "6958     beat      81.0         True  352d6883409cd7234eeca26599abeb21   \n",
       "6959     path      81.0         True  352d6883409cd7234eeca26599abeb21   \n",
       "6960     path      81.0         True  352d6883409cd7234eeca26599abeb21   \n",
       "6961  journey      81.0         True  352d6883409cd7234eeca26599abeb21   \n",
       "6962  journey      81.0         True  352d6883409cd7234eeca26599abeb21   \n",
       "\n",
       "         type  \n",
       "6957   battle  \n",
       "6958   battle  \n",
       "6959  journey  \n",
       "6960  journey  \n",
       "6961  journey  \n",
       "6962  journey  "
      ]
     },
     "execution_count": 62,
     "metadata": {},
     "output_type": "execute_result"
    }
   ],
   "source": [
    "labeled.loc[labeled['project_id'] == '352d6883409cd7234eeca26599abeb21']"
   ]
  },
  {
   "cell_type": "code",
   "execution_count": null,
   "metadata": {},
   "outputs": [],
   "source": []
  }
 ],
 "metadata": {
  "kernelspec": {
   "display_name": "Python [conda env:nlp]",
   "language": "python",
   "name": "conda-env-nlp-py"
  },
  "language_info": {
   "codemirror_mode": {
    "name": "ipython",
    "version": 3
   },
   "file_extension": ".py",
   "mimetype": "text/x-python",
   "name": "python",
   "nbconvert_exporter": "python",
   "pygments_lexer": "ipython3",
   "version": "3.6.7"
  }
 },
 "nbformat": 4,
 "nbformat_minor": 2
}
