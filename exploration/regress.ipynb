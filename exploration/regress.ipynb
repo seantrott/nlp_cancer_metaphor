{
 "cells": [
  {
   "cell_type": "markdown",
   "metadata": {},
   "source": [
    "# Metaphor - Regressions\n",
    "\n",
    "### Load Libraries"
   ]
  },
  {
   "cell_type": "code",
   "execution_count": 1,
   "metadata": {},
   "outputs": [],
   "source": [
    "import os.path as op\n",
    "\n",
    "import numpy as np\n",
    "import seaborn as sns\n",
    "import matplotlib.pyplot as plt\n",
    "import pandas as pd\n",
    "\n",
    "import statsmodels.formula.api as smf\n",
    "from statsmodels.discrete.discrete_model import (Poisson, Logit)\n",
    "\n",
    "import re"
   ]
  },
  {
   "cell_type": "markdown",
   "metadata": {},
   "source": [
    "# Load Data\n",
    "\n",
    "We end up with 455 cancer-related projects in total"
   ]
  },
  {
   "cell_type": "code",
   "execution_count": 2,
   "metadata": {},
   "outputs": [],
   "source": [
    "DATA_PROCESSED = '../data/processed'"
   ]
  },
  {
   "cell_type": "code",
   "execution_count": 3,
   "metadata": {},
   "outputs": [],
   "source": [
    "labeled = pd.read_csv(op.join(DATA_PROCESSED, 'labeled_projects.csv'))\n",
    "all_projects = pd.read_csv(op.join(DATA_PROCESSED, 'cancer_projects_full.csv'))"
   ]
  },
  {
   "cell_type": "code",
   "execution_count": 4,
   "metadata": {},
   "outputs": [
    {
     "data": {
      "text/plain": [
       "(455, 455)"
      ]
     },
     "execution_count": 4,
     "metadata": {},
     "output_type": "execute_result"
    }
   ],
   "source": [
    "len(set(labeled['project_id'])), len(all_projects)"
   ]
  },
  {
   "cell_type": "markdown",
   "metadata": {},
   "source": [
    "Create features related to metaphor usage in each project.\n",
    "\n",
    "**\\*_metaphor**: A count of how many (battle/journey)-related keywords were found in the project body text.\n",
    "\n",
    "**\\*_uniques**: A count of how many unique (battle/journey) keywords were found in the project body text.\n",
    "\n",
    "**\\*_salience**: A ratio of (battle/journey)-related keywords to total words in the project body text.\n",
    "\n",
    "**\\*_productivity**: A ratio of unique (battle/journey) keywords to total number of (battle/journey)-related keywords found in the project body text.\n",
    "\n",
    "**dominant_\\***: Boolean value if the dominant metaphor type used in the project body text was either battle, journey, equal amount of both, or neither."
   ]
  },
  {
   "cell_type": "code",
   "execution_count": 5,
   "metadata": {},
   "outputs": [],
   "source": [
    "all_projects['battle_metaphor'] = all_projects['id'].apply(\n",
    "    lambda ix: len(labeled.loc[(labeled['project_id'] == ix) & (labeled['type'] == 'battle')])\n",
    ")\n",
    "all_projects['journey_metaphor'] = all_projects['id'].apply(\n",
    "    lambda ix: len(labeled.loc[(labeled['project_id'] == ix) & (labeled['type'] == 'journey')])\n",
    ")\n",
    "all_projects['battle_uniques'] = all_projects['id'].apply(\n",
    "    lambda ix: len(set(labeled.loc[(labeled['project_id'] == ix) & (labeled['type'] == 'battle'), 'keyword']))\n",
    ")\n",
    "all_projects['journey_uniques'] = all_projects['id'].apply(\n",
    "    lambda ix: len(set(labeled.loc[(labeled['project_id'] == ix) & (labeled['type'] == 'journey'), 'keyword']))\n",
    ")"
   ]
  },
  {
   "cell_type": "code",
   "execution_count": 6,
   "metadata": {},
   "outputs": [],
   "source": [
    "all_projects['battle_salience'] = all_projects['battle_metaphor'] / all_projects['text_length_words']\n",
    "all_projects['journey_salience'] = all_projects['journey_metaphor'] / all_projects['text_length_words']\n",
    "\n",
    "all_projects['battle_productivity'] = all_projects['battle_uniques'] / all_projects['battle_metaphor']\n",
    "all_projects['journey_productivity'] = all_projects['journey_uniques'] / all_projects['journey_metaphor']\n",
    "\n",
    "all_projects = all_projects.fillna(0)\n",
    "\n",
    "all_projects['dominant_battle'] = (all_projects['battle_salience'] > all_projects['journey_salience']).astype(int)\n",
    "all_projects['dominant_journey'] = (all_projects['battle_salience'] < all_projects['journey_salience']).astype(int)\n",
    "all_projects['dominant_both'] = ((all_projects['battle_salience'] == all_projects['journey_salience']) & (all_projects['battle_salience'] > 0)).astype(int)\n",
    "all_projects['dominant_neither'] = ((all_projects['battle_salience'] == all_projects['journey_salience']) & (all_projects['battle_salience'] == 0)).astype(int)"
   ]
  },
  {
   "cell_type": "markdown",
   "metadata": {},
   "source": [
    "Keep only projects labeled as successful or failed. Remove outlier projects with more than 500 backers (removes less than 10).\n",
    "\n",
    "Convert duration into a decimal of days. Boolean feature if the project lasted around $30 \\pm 2$ days.\n",
    "\n",
    "Dataset reduced to just over 400 projects."
   ]
  },
  {
   "cell_type": "code",
   "execution_count": 7,
   "metadata": {},
   "outputs": [],
   "source": [
    "all_projects = all_projects[all_projects['status'].isin(['successful', 'failed'])].copy()\n",
    "\n",
    "all_projects = all_projects.loc[all_projects['backers'] < 500].copy()\n",
    "\n",
    "all_projects['status'] = all_projects['status'].apply(lambda r: 1 if r == 'successful' else 0)\n",
    "\n",
    "all_projects['duration_float'] = all_projects['duration'] / (60 * 60 * 24)\n",
    "all_projects['duration_30days'] = all_projects['duration_float'].apply(lambda d: 1 if np.abs(d - 30) < 2 else 0)"
   ]
  },
  {
   "cell_type": "code",
   "execution_count": 8,
   "metadata": {},
   "outputs": [
    {
     "data": {
      "text/plain": [
       "402"
      ]
     },
     "execution_count": 8,
     "metadata": {},
     "output_type": "execute_result"
    }
   ],
   "source": [
    "len(all_projects)"
   ]
  },
  {
   "cell_type": "markdown",
   "metadata": {},
   "source": [
    "# Regressions\n",
    "\n",
    "### Dependent Variables to Focus on\n",
    "\n",
    " - Pledged to Goal\n",
    "  - Focused mainly around 0 and 1-2, with some outliers after 2\n",
    " - Mean Donation\n",
    " - Status (success or failure)\n",
    "  - Logistic Regression\n",
    " - Backers\n",
    "  - Long tailed Poisson, remove the outliers"
   ]
  },
  {
   "cell_type": "code",
   "execution_count": 9,
   "metadata": {},
   "outputs": [],
   "source": [
    "independent_var_keys = np.array(\n",
    "    ['battle_salience', 'journey_salience', 'journey_metaphor', 'battle_metaphor', 'journey_productivity', 'battle_productivity', \n",
    "    'dominant_battle', 'dominant_journey', 'dominant_neither', 'dominant_both',\n",
    "    'duration_30days', 'day_of_week', 'month', 'year',\n",
    "    'from_US', 'from_Town', \n",
    "    'blurb_length_words', 'text_length_sentences', 'text_length_words', 'text_length_chars', \n",
    "    'staff_pick'])"
   ]
  },
  {
   "cell_type": "markdown",
   "metadata": {},
   "source": [
    "### Regress over the project status (success/fail)"
   ]
  },
  {
   "cell_type": "code",
   "execution_count": 10,
   "metadata": {},
   "outputs": [
    {
     "name": "stdout",
     "output_type": "stream",
     "text": [
      "Optimization terminated successfully.\n",
      "         Current function value: 0.586655\n",
      "         Iterations 8\n"
     ]
    }
   ],
   "source": [
    "status_model = Logit(all_projects['status'], all_projects[independent_var_keys].astype(float)).fit()"
   ]
  },
  {
   "cell_type": "code",
   "execution_count": 11,
   "metadata": {},
   "outputs": [
    {
     "data": {
      "text/html": [
       "<table class=\"simpletable\">\n",
       "<caption>Logit Regression Results</caption>\n",
       "<tr>\n",
       "  <th>Dep. Variable:</th>      <td>status</td>      <th>  No. Observations:  </th>  <td>   402</td>  \n",
       "</tr>\n",
       "<tr>\n",
       "  <th>Model:</th>               <td>Logit</td>      <th>  Df Residuals:      </th>  <td>   381</td>  \n",
       "</tr>\n",
       "<tr>\n",
       "  <th>Method:</th>               <td>MLE</td>       <th>  Df Model:          </th>  <td>    20</td>  \n",
       "</tr>\n",
       "<tr>\n",
       "  <th>Date:</th>          <td>Tue, 06 Nov 2018</td> <th>  Pseudo R-squ.:     </th>  <td>0.1536</td>  \n",
       "</tr>\n",
       "<tr>\n",
       "  <th>Time:</th>              <td>19:20:31</td>     <th>  Log-Likelihood:    </th> <td> -235.84</td> \n",
       "</tr>\n",
       "<tr>\n",
       "  <th>converged:</th>           <td>True</td>       <th>  LL-Null:           </th> <td> -278.64</td> \n",
       "</tr>\n",
       "<tr>\n",
       "  <th> </th>                      <td> </td>        <th>  LLR p-value:       </th> <td>4.296e-10</td>\n",
       "</tr>\n",
       "</table>\n",
       "<table class=\"simpletable\">\n",
       "<tr>\n",
       "            <td></td>               <th>coef</th>     <th>std err</th>      <th>z</th>      <th>P>|z|</th>  <th>[0.025</th>    <th>0.975]</th>  \n",
       "</tr>\n",
       "<tr>\n",
       "  <th>battle_salience</th>       <td> -111.7327</td> <td>   75.795</td> <td>   -1.474</td> <td> 0.140</td> <td> -260.288</td> <td>   36.822</td>\n",
       "</tr>\n",
       "<tr>\n",
       "  <th>journey_salience</th>      <td>  -86.5065</td> <td>   78.848</td> <td>   -1.097</td> <td> 0.273</td> <td> -241.046</td> <td>   68.033</td>\n",
       "</tr>\n",
       "<tr>\n",
       "  <th>journey_metaphor</th>      <td>    0.9568</td> <td>    0.546</td> <td>    1.751</td> <td> 0.080</td> <td>   -0.114</td> <td>    2.028</td>\n",
       "</tr>\n",
       "<tr>\n",
       "  <th>battle_metaphor</th>       <td>    0.2443</td> <td>    0.238</td> <td>    1.027</td> <td> 0.304</td> <td>   -0.222</td> <td>    0.710</td>\n",
       "</tr>\n",
       "<tr>\n",
       "  <th>journey_productivity</th>  <td>    1.3905</td> <td>    1.152</td> <td>    1.207</td> <td> 0.228</td> <td>   -0.868</td> <td>    3.649</td>\n",
       "</tr>\n",
       "<tr>\n",
       "  <th>battle_productivity</th>   <td>    0.9355</td> <td>    1.398</td> <td>    0.669</td> <td> 0.503</td> <td>   -1.805</td> <td>    3.676</td>\n",
       "</tr>\n",
       "<tr>\n",
       "  <th>dominant_battle</th>       <td>  566.1393</td> <td>  131.696</td> <td>    4.299</td> <td> 0.000</td> <td>  308.020</td> <td>  824.259</td>\n",
       "</tr>\n",
       "<tr>\n",
       "  <th>dominant_journey</th>      <td>  564.9081</td> <td>  131.784</td> <td>    4.287</td> <td> 0.000</td> <td>  306.616</td> <td>  823.200</td>\n",
       "</tr>\n",
       "<tr>\n",
       "  <th>dominant_neither</th>      <td>  566.5100</td> <td>  131.882</td> <td>    4.296</td> <td> 0.000</td> <td>  308.026</td> <td>  824.994</td>\n",
       "</tr>\n",
       "<tr>\n",
       "  <th>dominant_both</th>         <td>  566.2513</td> <td>  131.649</td> <td>    4.301</td> <td> 0.000</td> <td>  308.224</td> <td>  824.279</td>\n",
       "</tr>\n",
       "<tr>\n",
       "  <th>duration_30days</th>       <td>    0.2101</td> <td>    0.228</td> <td>    0.920</td> <td> 0.358</td> <td>   -0.238</td> <td>    0.658</td>\n",
       "</tr>\n",
       "<tr>\n",
       "  <th>day_of_week</th>           <td>    0.1305</td> <td>    0.061</td> <td>    2.129</td> <td> 0.033</td> <td>    0.010</td> <td>    0.251</td>\n",
       "</tr>\n",
       "<tr>\n",
       "  <th>month</th>                 <td>   -0.0559</td> <td>    0.036</td> <td>   -1.563</td> <td> 0.118</td> <td>   -0.126</td> <td>    0.014</td>\n",
       "</tr>\n",
       "<tr>\n",
       "  <th>year</th>                  <td>   -0.2816</td> <td>    0.065</td> <td>   -4.306</td> <td> 0.000</td> <td>   -0.410</td> <td>   -0.153</td>\n",
       "</tr>\n",
       "<tr>\n",
       "  <th>from_US</th>               <td>    0.0415</td> <td>    0.321</td> <td>    0.130</td> <td> 0.897</td> <td>   -0.587</td> <td>    0.670</td>\n",
       "</tr>\n",
       "<tr>\n",
       "  <th>from_Town</th>             <td>   -0.2629</td> <td>    0.538</td> <td>   -0.488</td> <td> 0.625</td> <td>   -1.318</td> <td>    0.792</td>\n",
       "</tr>\n",
       "<tr>\n",
       "  <th>blurb_length_words</th>    <td>    0.0224</td> <td>    0.027</td> <td>    0.819</td> <td> 0.413</td> <td>   -0.031</td> <td>    0.076</td>\n",
       "</tr>\n",
       "<tr>\n",
       "  <th>text_length_sentences</th> <td>    0.0086</td> <td>    0.016</td> <td>    0.536</td> <td> 0.592</td> <td>   -0.023</td> <td>    0.040</td>\n",
       "</tr>\n",
       "<tr>\n",
       "  <th>text_length_words</th>     <td>   -0.0068</td> <td>    0.004</td> <td>   -1.776</td> <td> 0.076</td> <td>   -0.014</td> <td>    0.001</td>\n",
       "</tr>\n",
       "<tr>\n",
       "  <th>text_length_chars</th>     <td>    0.0012</td> <td>    0.001</td> <td>    1.888</td> <td> 0.059</td> <td>-4.62e-05</td> <td>    0.002</td>\n",
       "</tr>\n",
       "<tr>\n",
       "  <th>staff_pick</th>            <td>    2.3672</td> <td>    0.807</td> <td>    2.933</td> <td> 0.003</td> <td>    0.785</td> <td>    3.949</td>\n",
       "</tr>\n",
       "</table>"
      ],
      "text/plain": [
       "<class 'statsmodels.iolib.summary.Summary'>\n",
       "\"\"\"\n",
       "                           Logit Regression Results                           \n",
       "==============================================================================\n",
       "Dep. Variable:                 status   No. Observations:                  402\n",
       "Model:                          Logit   Df Residuals:                      381\n",
       "Method:                           MLE   Df Model:                           20\n",
       "Date:                Tue, 06 Nov 2018   Pseudo R-squ.:                  0.1536\n",
       "Time:                        19:20:31   Log-Likelihood:                -235.84\n",
       "converged:                       True   LL-Null:                       -278.64\n",
       "                                        LLR p-value:                 4.296e-10\n",
       "=========================================================================================\n",
       "                            coef    std err          z      P>|z|      [0.025      0.975]\n",
       "-----------------------------------------------------------------------------------------\n",
       "battle_salience        -111.7327     75.795     -1.474      0.140    -260.288      36.822\n",
       "journey_salience        -86.5065     78.848     -1.097      0.273    -241.046      68.033\n",
       "journey_metaphor          0.9568      0.546      1.751      0.080      -0.114       2.028\n",
       "battle_metaphor           0.2443      0.238      1.027      0.304      -0.222       0.710\n",
       "journey_productivity      1.3905      1.152      1.207      0.228      -0.868       3.649\n",
       "battle_productivity       0.9355      1.398      0.669      0.503      -1.805       3.676\n",
       "dominant_battle         566.1393    131.696      4.299      0.000     308.020     824.259\n",
       "dominant_journey        564.9081    131.784      4.287      0.000     306.616     823.200\n",
       "dominant_neither        566.5100    131.882      4.296      0.000     308.026     824.994\n",
       "dominant_both           566.2513    131.649      4.301      0.000     308.224     824.279\n",
       "duration_30days           0.2101      0.228      0.920      0.358      -0.238       0.658\n",
       "day_of_week               0.1305      0.061      2.129      0.033       0.010       0.251\n",
       "month                    -0.0559      0.036     -1.563      0.118      -0.126       0.014\n",
       "year                     -0.2816      0.065     -4.306      0.000      -0.410      -0.153\n",
       "from_US                   0.0415      0.321      0.130      0.897      -0.587       0.670\n",
       "from_Town                -0.2629      0.538     -0.488      0.625      -1.318       0.792\n",
       "blurb_length_words        0.0224      0.027      0.819      0.413      -0.031       0.076\n",
       "text_length_sentences     0.0086      0.016      0.536      0.592      -0.023       0.040\n",
       "text_length_words        -0.0068      0.004     -1.776      0.076      -0.014       0.001\n",
       "text_length_chars         0.0012      0.001      1.888      0.059   -4.62e-05       0.002\n",
       "staff_pick                2.3672      0.807      2.933      0.003       0.785       3.949\n",
       "=========================================================================================\n",
       "\"\"\""
      ]
     },
     "execution_count": 11,
     "metadata": {},
     "output_type": "execute_result"
    }
   ],
   "source": [
    "status_model.summary()"
   ]
  },
  {
   "cell_type": "markdown",
   "metadata": {},
   "source": [
    "### Regress over the number of backers"
   ]
  },
  {
   "cell_type": "code",
   "execution_count": 12,
   "metadata": {},
   "outputs": [
    {
     "name": "stdout",
     "output_type": "stream",
     "text": [
      "Optimization terminated successfully.    (Exit mode 0)\n",
      "            Current function value: 34.63711476848275\n",
      "            Iterations: 84\n",
      "            Function evaluations: 137\n",
      "            Gradient evaluations: 84\n"
     ]
    },
    {
     "name": "stderr",
     "output_type": "stream",
     "text": [
      "/Users/alex/anaconda3/lib/python3.6/site-packages/statsmodels/discrete/discrete_model.py:984: RuntimeWarning: overflow encountered in exp\n",
      "  return np.sum(-np.exp(XB) +  endog*XB - gammaln(endog+1))\n"
     ]
    }
   ],
   "source": [
    "backers_model = Poisson(all_projects['backers'].astype(float), \n",
    "                              all_projects[independent_var_keys].astype(float)).fit_regularized()"
   ]
  },
  {
   "cell_type": "code",
   "execution_count": 13,
   "metadata": {},
   "outputs": [
    {
     "data": {
      "text/html": [
       "<table class=\"simpletable\">\n",
       "<caption>Poisson Regression Results</caption>\n",
       "<tr>\n",
       "  <th>Dep. Variable:</th>      <td>backers</td>     <th>  No. Observations:  </th>  <td>   402</td> \n",
       "</tr>\n",
       "<tr>\n",
       "  <th>Model:</th>              <td>Poisson</td>     <th>  Df Residuals:      </th>  <td>   381</td> \n",
       "</tr>\n",
       "<tr>\n",
       "  <th>Method:</th>               <td>MLE</td>       <th>  Df Model:          </th>  <td>    20</td> \n",
       "</tr>\n",
       "<tr>\n",
       "  <th>Date:</th>          <td>Tue, 06 Nov 2018</td> <th>  Pseudo R-squ.:     </th>  <td>0.2530</td> \n",
       "</tr>\n",
       "<tr>\n",
       "  <th>Time:</th>              <td>19:20:31</td>     <th>  Log-Likelihood:    </th> <td> -13924.</td>\n",
       "</tr>\n",
       "<tr>\n",
       "  <th>converged:</th>           <td>True</td>       <th>  LL-Null:           </th> <td> -18640.</td>\n",
       "</tr>\n",
       "<tr>\n",
       "  <th> </th>                      <td> </td>        <th>  LLR p-value:       </th>  <td> 0.000</td> \n",
       "</tr>\n",
       "</table>\n",
       "<table class=\"simpletable\">\n",
       "<tr>\n",
       "            <td></td>               <th>coef</th>     <th>std err</th>      <th>z</th>      <th>P>|z|</th>  <th>[0.025</th>    <th>0.975]</th>  \n",
       "</tr>\n",
       "<tr>\n",
       "  <th>battle_salience</th>       <td>  -66.4613</td> <td>    5.136</td> <td>  -12.940</td> <td> 0.000</td> <td>  -76.528</td> <td>  -56.395</td>\n",
       "</tr>\n",
       "<tr>\n",
       "  <th>journey_salience</th>      <td>   -7.9843</td> <td>    4.369</td> <td>   -1.828</td> <td> 0.068</td> <td>  -16.547</td> <td>    0.578</td>\n",
       "</tr>\n",
       "<tr>\n",
       "  <th>journey_metaphor</th>      <td>    0.1037</td> <td>    0.017</td> <td>    6.023</td> <td> 0.000</td> <td>    0.070</td> <td>    0.137</td>\n",
       "</tr>\n",
       "<tr>\n",
       "  <th>battle_metaphor</th>       <td>    0.1333</td> <td>    0.012</td> <td>   11.466</td> <td> 0.000</td> <td>    0.110</td> <td>    0.156</td>\n",
       "</tr>\n",
       "<tr>\n",
       "  <th>journey_productivity</th>  <td>    0.3706</td> <td>    0.047</td> <td>    7.923</td> <td> 0.000</td> <td>    0.279</td> <td>    0.462</td>\n",
       "</tr>\n",
       "<tr>\n",
       "  <th>battle_productivity</th>   <td>    0.4284</td> <td>    0.057</td> <td>    7.536</td> <td> 0.000</td> <td>    0.317</td> <td>    0.540</td>\n",
       "</tr>\n",
       "<tr>\n",
       "  <th>dominant_battle</th>       <td>  202.2047</td> <td>    7.943</td> <td>   25.458</td> <td> 0.000</td> <td>  186.637</td> <td>  217.772</td>\n",
       "</tr>\n",
       "<tr>\n",
       "  <th>dominant_journey</th>      <td>  202.2090</td> <td>    7.953</td> <td>   25.425</td> <td> 0.000</td> <td>  186.621</td> <td>  217.797</td>\n",
       "</tr>\n",
       "<tr>\n",
       "  <th>dominant_neither</th>      <td>  202.5344</td> <td>    7.960</td> <td>   25.445</td> <td> 0.000</td> <td>  186.934</td> <td>  218.135</td>\n",
       "</tr>\n",
       "<tr>\n",
       "  <th>dominant_both</th>         <td>  201.9722</td> <td>    7.934</td> <td>   25.457</td> <td> 0.000</td> <td>  186.422</td> <td>  217.522</td>\n",
       "</tr>\n",
       "<tr>\n",
       "  <th>duration_30days</th>       <td>    0.0981</td> <td>    0.015</td> <td>    6.615</td> <td> 0.000</td> <td>    0.069</td> <td>    0.127</td>\n",
       "</tr>\n",
       "<tr>\n",
       "  <th>day_of_week</th>           <td>    0.0729</td> <td>    0.004</td> <td>   19.097</td> <td> 0.000</td> <td>    0.065</td> <td>    0.080</td>\n",
       "</tr>\n",
       "<tr>\n",
       "  <th>month</th>                 <td>   -0.0049</td> <td>    0.002</td> <td>   -2.142</td> <td> 0.032</td> <td>   -0.009</td> <td>   -0.000</td>\n",
       "</tr>\n",
       "<tr>\n",
       "  <th>year</th>                  <td>   -0.0989</td> <td>    0.004</td> <td>  -25.063</td> <td> 0.000</td> <td>   -0.107</td> <td>   -0.091</td>\n",
       "</tr>\n",
       "<tr>\n",
       "  <th>from_US</th>               <td>    0.1036</td> <td>    0.021</td> <td>    4.848</td> <td> 0.000</td> <td>    0.062</td> <td>    0.145</td>\n",
       "</tr>\n",
       "<tr>\n",
       "  <th>from_Town</th>             <td>   -0.1571</td> <td>    0.033</td> <td>   -4.765</td> <td> 0.000</td> <td>   -0.222</td> <td>   -0.092</td>\n",
       "</tr>\n",
       "<tr>\n",
       "  <th>blurb_length_words</th>    <td>   -0.0044</td> <td>    0.002</td> <td>   -2.384</td> <td> 0.017</td> <td>   -0.008</td> <td>   -0.001</td>\n",
       "</tr>\n",
       "<tr>\n",
       "  <th>text_length_sentences</th> <td>    0.0175</td> <td>    0.001</td> <td>   20.569</td> <td> 0.000</td> <td>    0.016</td> <td>    0.019</td>\n",
       "</tr>\n",
       "<tr>\n",
       "  <th>text_length_words</th>     <td>   -0.0032</td> <td>    0.000</td> <td>  -20.667</td> <td> 0.000</td> <td>   -0.003</td> <td>   -0.003</td>\n",
       "</tr>\n",
       "<tr>\n",
       "  <th>text_length_chars</th>     <td>    0.0005</td> <td> 2.54e-05</td> <td>   20.192</td> <td> 0.000</td> <td>    0.000</td> <td>    0.001</td>\n",
       "</tr>\n",
       "<tr>\n",
       "  <th>staff_pick</th>            <td>    1.3618</td> <td>    0.020</td> <td>   67.651</td> <td> 0.000</td> <td>    1.322</td> <td>    1.401</td>\n",
       "</tr>\n",
       "</table>"
      ],
      "text/plain": [
       "<class 'statsmodels.iolib.summary.Summary'>\n",
       "\"\"\"\n",
       "                          Poisson Regression Results                          \n",
       "==============================================================================\n",
       "Dep. Variable:                backers   No. Observations:                  402\n",
       "Model:                        Poisson   Df Residuals:                      381\n",
       "Method:                           MLE   Df Model:                           20\n",
       "Date:                Tue, 06 Nov 2018   Pseudo R-squ.:                  0.2530\n",
       "Time:                        19:20:31   Log-Likelihood:                -13924.\n",
       "converged:                       True   LL-Null:                       -18640.\n",
       "                                        LLR p-value:                     0.000\n",
       "=========================================================================================\n",
       "                            coef    std err          z      P>|z|      [0.025      0.975]\n",
       "-----------------------------------------------------------------------------------------\n",
       "battle_salience         -66.4613      5.136    -12.940      0.000     -76.528     -56.395\n",
       "journey_salience         -7.9843      4.369     -1.828      0.068     -16.547       0.578\n",
       "journey_metaphor          0.1037      0.017      6.023      0.000       0.070       0.137\n",
       "battle_metaphor           0.1333      0.012     11.466      0.000       0.110       0.156\n",
       "journey_productivity      0.3706      0.047      7.923      0.000       0.279       0.462\n",
       "battle_productivity       0.4284      0.057      7.536      0.000       0.317       0.540\n",
       "dominant_battle         202.2047      7.943     25.458      0.000     186.637     217.772\n",
       "dominant_journey        202.2090      7.953     25.425      0.000     186.621     217.797\n",
       "dominant_neither        202.5344      7.960     25.445      0.000     186.934     218.135\n",
       "dominant_both           201.9722      7.934     25.457      0.000     186.422     217.522\n",
       "duration_30days           0.0981      0.015      6.615      0.000       0.069       0.127\n",
       "day_of_week               0.0729      0.004     19.097      0.000       0.065       0.080\n",
       "month                    -0.0049      0.002     -2.142      0.032      -0.009      -0.000\n",
       "year                     -0.0989      0.004    -25.063      0.000      -0.107      -0.091\n",
       "from_US                   0.1036      0.021      4.848      0.000       0.062       0.145\n",
       "from_Town                -0.1571      0.033     -4.765      0.000      -0.222      -0.092\n",
       "blurb_length_words       -0.0044      0.002     -2.384      0.017      -0.008      -0.001\n",
       "text_length_sentences     0.0175      0.001     20.569      0.000       0.016       0.019\n",
       "text_length_words        -0.0032      0.000    -20.667      0.000      -0.003      -0.003\n",
       "text_length_chars         0.0005   2.54e-05     20.192      0.000       0.000       0.001\n",
       "staff_pick                1.3618      0.020     67.651      0.000       1.322       1.401\n",
       "=========================================================================================\n",
       "\"\"\""
      ]
     },
     "execution_count": 13,
     "metadata": {},
     "output_type": "execute_result"
    }
   ],
   "source": [
    "backers_model.summary()"
   ]
  },
  {
   "cell_type": "markdown",
   "metadata": {},
   "source": [
    "# Correlation heatmap"
   ]
  },
  {
   "cell_type": "code",
   "execution_count": 14,
   "metadata": {},
   "outputs": [
    {
     "data": {
      "image/png": "[encoded data removed]",
      "text/plain": [
       "<Figure size 1008x432 with 4 Axes>"
      ]
     },
     "metadata": {},
     "output_type": "display_data"
    }
   ],
   "source": [
    "plt.subplots(1, 2, figsize=(14,6))\n",
    "plt.subplot(121)\n",
    "g=sns.heatmap(np.triu(all_projects[independent_var_keys].corr(), k=1), center=0, cmap='RdBu', vmin=-1, vmax=1)\n",
    "g.set_xticklabels(independent_var_keys, rotation=90)\n",
    "g.set_yticklabels(independent_var_keys, rotation=0);\n",
    "plt.grid(alpha=0.3)\n",
    "\n",
    "plt.subplot(122)\n",
    "d = ['status', 'mean_donation', 'pledged_to_goal', 'backers']\n",
    "\n",
    "k2 = np.concatenate((independent_var_keys, d))\n",
    "corr = all_projects[k2].corr()\n",
    "g=sns.heatmap(corr.loc[~corr.index.isin(d), corr.index.isin(d)], center=0, cmap='RdBu', vmin=-1, vmax=1)\n",
    "plt.tight_layout()\n",
    "plt.grid(alpha=0.3)"
   ]
  },
  {
   "cell_type": "markdown",
   "metadata": {},
   "source": [
    "# Dominant Metaphor effect on Status"
   ]
  },
  {
   "cell_type": "code",
   "execution_count": 15,
   "metadata": {},
   "outputs": [],
   "source": [
    "def merge(row):\n",
    "    \n",
    "    if row['dominant_both'] == 1:\n",
    "        return 'Both'\n",
    "    elif row['dominant_neither'] == 1:\n",
    "        return 'Neither'\n",
    "    elif row['dominant_battle'] == 1:\n",
    "        return 'Battle'\n",
    "    elif row['dominant_journey'] == 1:\n",
    "        return 'Journey'\n",
    "    \n",
    "    return ''\n",
    "\n",
    "all_projects['dominant'] = all_projects.apply(merge, axis=1)"
   ]
  },
  {
   "cell_type": "code",
   "execution_count": 16,
   "metadata": {},
   "outputs": [],
   "source": [
    "dominant_anova = smf.ols('status ~ C(dominant)', data=all_projects).fit()"
   ]
  },
  {
   "cell_type": "code",
   "execution_count": 17,
   "metadata": {},
   "outputs": [
    {
     "data": {
      "text/html": [
       "<table class=\"simpletable\">\n",
       "<caption>OLS Regression Results</caption>\n",
       "<tr>\n",
       "  <th>Dep. Variable:</th>         <td>status</td>      <th>  R-squared:         </th> <td>   0.057</td>\n",
       "</tr>\n",
       "<tr>\n",
       "  <th>Model:</th>                   <td>OLS</td>       <th>  Adj. R-squared:    </th> <td>   0.050</td>\n",
       "</tr>\n",
       "<tr>\n",
       "  <th>Method:</th>             <td>Least Squares</td>  <th>  F-statistic:       </th> <td>   7.996</td>\n",
       "</tr>\n",
       "<tr>\n",
       "  <th>Date:</th>             <td>Tue, 06 Nov 2018</td> <th>  Prob (F-statistic):</th> <td>3.46e-05</td>\n",
       "</tr>\n",
       "<tr>\n",
       "  <th>Time:</th>                 <td>19:20:33</td>     <th>  Log-Likelihood:    </th> <td> -280.00</td>\n",
       "</tr>\n",
       "<tr>\n",
       "  <th>No. Observations:</th>      <td>   402</td>      <th>  AIC:               </th> <td>   568.0</td>\n",
       "</tr>\n",
       "<tr>\n",
       "  <th>Df Residuals:</th>          <td>   398</td>      <th>  BIC:               </th> <td>   584.0</td>\n",
       "</tr>\n",
       "<tr>\n",
       "  <th>Df Model:</th>              <td>     3</td>      <th>                     </th>     <td> </td>   \n",
       "</tr>\n",
       "<tr>\n",
       "  <th>Covariance Type:</th>      <td>nonrobust</td>    <th>                     </th>     <td> </td>   \n",
       "</tr>\n",
       "</table>\n",
       "<table class=\"simpletable\">\n",
       "<tr>\n",
       "             <td></td>               <th>coef</th>     <th>std err</th>      <th>t</th>      <th>P>|t|</th>  <th>[0.025</th>    <th>0.975]</th>  \n",
       "</tr>\n",
       "<tr>\n",
       "  <th>Intercept</th>              <td>    0.5882</td> <td>    0.048</td> <td>   12.174</td> <td> 0.000</td> <td>    0.493</td> <td>    0.683</td>\n",
       "</tr>\n",
       "<tr>\n",
       "  <th>C(dominant)[T.Both]</th>    <td>    0.3403</td> <td>    0.139</td> <td>    2.447</td> <td> 0.015</td> <td>    0.067</td> <td>    0.614</td>\n",
       "</tr>\n",
       "<tr>\n",
       "  <th>C(dominant)[T.Journey]</th> <td>    0.1041</td> <td>    0.107</td> <td>    0.971</td> <td> 0.332</td> <td>   -0.107</td> <td>    0.315</td>\n",
       "</tr>\n",
       "<tr>\n",
       "  <th>C(dominant)[T.Neither]</th> <td>   -0.1613</td> <td>    0.057</td> <td>   -2.829</td> <td> 0.005</td> <td>   -0.273</td> <td>   -0.049</td>\n",
       "</tr>\n",
       "</table>\n",
       "<table class=\"simpletable\">\n",
       "<tr>\n",
       "  <th>Omnibus:</th>       <td> 0.132</td> <th>  Durbin-Watson:     </th> <td>   1.938</td>\n",
       "</tr>\n",
       "<tr>\n",
       "  <th>Prob(Omnibus):</th> <td> 0.936</td> <th>  Jarque-Bera (JB):  </th> <td>  55.482</td>\n",
       "</tr>\n",
       "<tr>\n",
       "  <th>Skew:</th>          <td> 0.044</td> <th>  Prob(JB):          </th> <td>8.96e-13</td>\n",
       "</tr>\n",
       "<tr>\n",
       "  <th>Kurtosis:</th>      <td> 1.182</td> <th>  Cond. No.          </th> <td>    7.29</td>\n",
       "</tr>\n",
       "</table><br/><br/>Warnings:<br/>[1] Standard Errors assume that the covariance matrix of the errors is correctly specified."
      ],
      "text/plain": [
       "<class 'statsmodels.iolib.summary.Summary'>\n",
       "\"\"\"\n",
       "                            OLS Regression Results                            \n",
       "==============================================================================\n",
       "Dep. Variable:                 status   R-squared:                       0.057\n",
       "Model:                            OLS   Adj. R-squared:                  0.050\n",
       "Method:                 Least Squares   F-statistic:                     7.996\n",
       "Date:                Tue, 06 Nov 2018   Prob (F-statistic):           3.46e-05\n",
       "Time:                        19:20:33   Log-Likelihood:                -280.00\n",
       "No. Observations:                 402   AIC:                             568.0\n",
       "Df Residuals:                     398   BIC:                             584.0\n",
       "Df Model:                           3                                         \n",
       "Covariance Type:            nonrobust                                         \n",
       "==========================================================================================\n",
       "                             coef    std err          t      P>|t|      [0.025      0.975]\n",
       "------------------------------------------------------------------------------------------\n",
       "Intercept                  0.5882      0.048     12.174      0.000       0.493       0.683\n",
       "C(dominant)[T.Both]        0.3403      0.139      2.447      0.015       0.067       0.614\n",
       "C(dominant)[T.Journey]     0.1041      0.107      0.971      0.332      -0.107       0.315\n",
       "C(dominant)[T.Neither]    -0.1613      0.057     -2.829      0.005      -0.273      -0.049\n",
       "==============================================================================\n",
       "Omnibus:                        0.132   Durbin-Watson:                   1.938\n",
       "Prob(Omnibus):                  0.936   Jarque-Bera (JB):               55.482\n",
       "Skew:                           0.044   Prob(JB):                     8.96e-13\n",
       "Kurtosis:                       1.182   Cond. No.                         7.29\n",
       "==============================================================================\n",
       "\n",
       "Warnings:\n",
       "[1] Standard Errors assume that the covariance matrix of the errors is correctly specified.\n",
       "\"\"\""
      ]
     },
     "execution_count": 17,
     "metadata": {},
     "output_type": "execute_result"
    }
   ],
   "source": [
    "dominant_anova.summary()"
   ]
  }
 ],
 "metadata": {
  "kernelspec": {
   "display_name": "Python 3",
   "language": "python",
   "name": "python3"
  },
  "language_info": {
   "codemirror_mode": {
    "name": "ipython",
    "version": 3
   },
   "file_extension": ".py",
   "mimetype": "text/x-python",
   "name": "python",
   "nbconvert_exporter": "python",
   "pygments_lexer": "ipython3",
   "version": "3.6.3"
  }
 },
 "nbformat": 4,
 "nbformat_minor": 2
}
