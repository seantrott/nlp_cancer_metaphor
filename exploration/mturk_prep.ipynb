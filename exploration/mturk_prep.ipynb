{
 "cells": [
  {
   "cell_type": "code",
   "execution_count": 19,
   "metadata": {},
   "outputs": [],
   "source": [
    "import pandas as pd"
   ]
  },
  {
   "cell_type": "code",
   "execution_count": 45,
   "metadata": {},
   "outputs": [
    {
     "data": {
      "text/plain": [
       "1471"
      ]
     },
     "execution_count": 45,
     "metadata": {},
     "output_type": "execute_result"
    }
   ],
   "source": [
    "samples = pd.read_csv('../data/processed/mturk_samples.csv')\n",
    "len(samples)"
   ]
  },
  {
   "cell_type": "code",
   "execution_count": 46,
   "metadata": {},
   "outputs": [],
   "source": [
    "EFFECT = '\\033[1m'\n",
    "END = '\\033[0m'"
   ]
  },
  {
   "cell_type": "code",
   "execution_count": 47,
   "metadata": {},
   "outputs": [],
   "source": [
    "def underline(text, start, end):\n",
    "    return text[:start] + EFFECT + text[start:end] + END + text[end:]"
   ]
  },
  {
   "cell_type": "code",
   "execution_count": 51,
   "metadata": {},
   "outputs": [
    {
     "name": "stdout",
     "output_type": "stream",
     "text": [
      "Officially, metastatic to lymph node, intra abdominal and transitional cell carcinoma, right ureter.\n",
      "\n",
      "With that cheery bit of news from his oncologist, compounded by the threat of potential kidney failure, ####### is clearly \u001b[1mfighting\u001b[0m for his life.\n",
      "\n",
      "He has begun his \"full-on\" aggressive chemotherapy  as of January 15.\n"
     ]
    }
   ],
   "source": [
    "s = samples.sample(1)\n",
    "print(s['before'].values[0])\n",
    "print()\n",
    "print(underline(s['current'].values[0], s['start'].values[0], s['end'].values[0]))\n",
    "print()\n",
    "print(s['next'].values[0])"
   ]
  },
  {
   "cell_type": "code",
   "execution_count": null,
   "metadata": {},
   "outputs": [],
   "source": []
  }
 ],
 "metadata": {
  "kernelspec": {
   "display_name": "Python 3",
   "language": "python",
   "name": "python3"
  },
  "language_info": {
   "codemirror_mode": {
    "name": "ipython",
    "version": 3
   },
   "file_extension": ".py",
   "mimetype": "text/x-python",
   "name": "python",
   "nbconvert_exporter": "python",
   "pygments_lexer": "ipython3",
   "version": "3.6.7"
  }
 },
 "nbformat": 4,
 "nbformat_minor": 2
}
