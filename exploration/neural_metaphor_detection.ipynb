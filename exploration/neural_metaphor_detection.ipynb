{
 "cells": [
  {
   "cell_type": "markdown",
   "metadata": {},
   "source": [
    "## Automatic Metaphor Detection\n",
    "\n",
    "Given a fragment of text that has a metaphor keyword in it, predict whether that fragment is actually metaphorical. Save the models for use in the `extract_metaphors` notebook."
   ]
  },
  {
   "cell_type": "code",
   "execution_count": null,
   "metadata": {
    "scrolled": true
   },
   "outputs": [],
   "source": [
    "import os.path as op\n",
    "\n",
    "import numpy as np\n",
    "import seaborn as sns\n",
    "import matplotlib.pyplot as plt\n",
    "\n",
    "%config InlineBackend.figure_format = 'retina'\n",
    "\n",
    "import pandas as pd\n",
    "\n",
    "from tqdm import tqdm_notebook as tqdm\n",
    "\n",
    "from allennlp.commands.elmo import ElmoEmbedder\n",
    "\n",
    "from nltk.tokenize import RegexpTokenizer"
   ]
  },
  {
   "cell_type": "code",
   "execution_count": 2,
   "metadata": {},
   "outputs": [],
   "source": [
    "DATA_PROCESSED = '../data/processed'"
   ]
  },
  {
   "cell_type": "code",
   "execution_count": 3,
   "metadata": {},
   "outputs": [
    {
     "data": {
      "text/plain": [
       "1799"
      ]
     },
     "execution_count": 3,
     "metadata": {},
     "output_type": "execute_result"
    }
   ],
   "source": [
    "instances = pd.read_csv(op.join(DATA_PROCESSED, 'labeled.csv')).dropna()\n",
    "\n",
    "len(instances)"
   ]
  },
  {
   "cell_type": "markdown",
   "metadata": {},
   "source": [
    "Load up an ELMO embedder for contextualized word embeddings."
   ]
  },
  {
   "cell_type": "code",
   "execution_count": 5,
   "metadata": {},
   "outputs": [],
   "source": [
    "elmo = ElmoEmbedder()\n",
    "tokenizer = RegexpTokenizer(r'\\w+')"
   ]
  },
  {
   "cell_type": "code",
   "execution_count": 5,
   "metadata": {},
   "outputs": [],
   "source": [
    "def pad(s, kw_start, lim=20):\n",
    "    '''\n",
    "    Limit a fragment to `lim` tokens. If less than, pad with empty strings.\n",
    "    '''\n",
    "    \n",
    "    prior = tokenizer.tokenize(s[:kw_start])\n",
    "    post = tokenizer.tokenize(s[kw_start:])\n",
    "    \n",
    "    if len(prior) < lim/2:\n",
    "        while len(prior) < lim/2:\n",
    "            prior.insert(0, '')\n",
    "    else:\n",
    "        prior = prior[len(prior) - round(lim/2):]\n",
    "        \n",
    "    if len(post) < lim/2:\n",
    "        while len(post) < lim/2:\n",
    "            post.append('')\n",
    "    else:\n",
    "        post = post[:round(lim/2)]\n",
    "        \n",
    "    prior.extend(post)\n",
    "    return prior"
   ]
  },
  {
   "cell_type": "markdown",
   "metadata": {},
   "source": [
    "We create two models, one for journey metaphors and one for battle metaphors."
   ]
  },
  {
   "cell_type": "code",
   "execution_count": 6,
   "metadata": {},
   "outputs": [],
   "source": [
    "battle_fragments = [pad(fragment.fragment, int(fragment.kw_start)) for fragment in instances.loc[instances['type'] == 'battle', ['fragment', 'kw_start']].itertuples()]\n",
    "\n",
    "journey_fragments = [pad(fragment.fragment, int(fragment.kw_start)) for fragment in instances.loc[instances['type'] == 'journey', ['fragment', 'kw_start']].itertuples()]"
   ]
  },
  {
   "cell_type": "markdown",
   "metadata": {},
   "source": [
    "Embed the fragment sequences with ELMO."
   ]
  },
  {
   "cell_type": "code",
   "execution_count": 7,
   "metadata": {},
   "outputs": [
    {
     "data": {
      "application/vnd.jupyter.widget-view+json": {
       "model_id": "46266c220412477f908af485d6f5d437",
       "version_major": 2,
       "version_minor": 0
      },
      "text/plain": [
       "HBox(children=(IntProgress(value=1, bar_style='info', max=1), HTML(value='')))"
      ]
     },
     "metadata": {},
     "output_type": "display_data"
    },
    {
     "name": "stdout",
     "output_type": "stream",
     "text": [
      "\n"
     ]
    },
    {
     "data": {
      "application/vnd.jupyter.widget-view+json": {
       "model_id": "2446f9ef993e45088861359c1c97fb12",
       "version_major": 2,
       "version_minor": 0
      },
      "text/plain": [
       "HBox(children=(IntProgress(value=1, bar_style='info', max=1), HTML(value='')))"
      ]
     },
     "metadata": {},
     "output_type": "display_data"
    },
    {
     "name": "stdout",
     "output_type": "stream",
     "text": [
      "\n"
     ]
    }
   ],
   "source": [
    "battle_embds = elmo.embed_sentences(battle_fragments)\n",
    "battle_embedded_fragments = np.array([embd[2] for embd in tqdm(battle_embds)])\n",
    "journey_embds = elmo.embed_sentences(journey_fragments)\n",
    "journey_embedded_fragments = np.array([embd[2] for embd in tqdm(journey_embds)])"
   ]
  },
  {
   "cell_type": "code",
   "execution_count": 8,
   "metadata": {},
   "outputs": [
    {
     "data": {
      "text/plain": [
       "((1472, 20, 1024), (327, 20, 1024))"
      ]
     },
     "execution_count": 8,
     "metadata": {},
     "output_type": "execute_result"
    }
   ],
   "source": [
    "battle_embedded_fragments.shape, journey_embedded_fragments.shape"
   ]
  },
  {
   "cell_type": "markdown",
   "metadata": {},
   "source": [
    "Separate the target values: whether a fragment is truly metaphorical"
   ]
  },
  {
   "cell_type": "code",
   "execution_count": 9,
   "metadata": {},
   "outputs": [],
   "source": [
    "y_data_battle = instances.loc[instances['type'] == 'battle', 'metaphorical'].astype(int).values\n",
    "y_data_journey = instances.loc[instances['type'] == 'journey', 'metaphorical'].astype(int).values"
   ]
  },
  {
   "cell_type": "code",
   "execution_count": 23,
   "metadata": {},
   "outputs": [],
   "source": [
    "from sklearn.model_selection import StratifiedKFold, train_test_split"
   ]
  },
  {
   "cell_type": "code",
   "execution_count": 11,
   "metadata": {},
   "outputs": [
    {
     "name": "stderr",
     "output_type": "stream",
     "text": [
      "/Users/alex/anaconda3/envs/nlp/lib/python3.6/site-packages/sklearn/model_selection/_split.py:2179: FutureWarning: From version 0.21, test_size will always complement train_size unless both are specified.\n",
      "  FutureWarning)\n",
      "/Users/alex/anaconda3/envs/nlp/lib/python3.6/site-packages/sklearn/model_selection/_split.py:2179: FutureWarning: From version 0.21, test_size will always complement train_size unless both are specified.\n",
      "  FutureWarning)\n"
     ]
    }
   ],
   "source": [
    "X_train_battle, X_test_battle, y_train_battle, y_test_battle = train_test_split(battle_embedded_fragments, y_data_battle, train_size=0.8, stratify=y_data_battle)\n",
    "X_train_journey, X_test_journey, y_train_journey, y_test_journey = train_test_split(journey_embedded_fragments, y_data_journey, train_size=0.8, stratify=y_data_journey)"
   ]
  },
  {
   "cell_type": "markdown",
   "metadata": {},
   "source": [
    "# Building Models"
   ]
  },
  {
   "cell_type": "code",
   "execution_count": 13,
   "metadata": {},
   "outputs": [
    {
     "name": "stderr",
     "output_type": "stream",
     "text": [
      "Using TensorFlow backend.\n"
     ]
    }
   ],
   "source": [
    "from keras import backend as K\n",
    "from keras.layers import *\n",
    "from keras.models import Model\n",
    "from keras import optimizers\n",
    "from keras.callbacks import EarlyStopping\n",
    "\n",
    "from sklearn import metrics\n",
    "\n",
    "from datetime import datetime\n",
    "\n",
    "from skopt.space import Real, Categorical, Integer\n",
    "from skopt.utils import use_named_args\n",
    "from skopt import gp_minimize"
   ]
  },
  {
   "cell_type": "markdown",
   "metadata": {},
   "source": [
    "Based on *Detecting Figurative Word Occurrences Using Recurrent Neural Networks* (Mykowiecka et al. 2018)\n",
    "\n",
    "https://github.com/gao-g/metaphor-in-context/blob/master/classification/main_vua.py"
   ]
  },
  {
   "cell_type": "code",
   "execution_count": 59,
   "metadata": {},
   "outputs": [],
   "source": [
    "def random_model(length, weight=0.5):\n",
    "    return np.random.binomial(1, weight, length)\n",
    "    \n",
    "def gru_model(dropout):\n",
    "\n",
    "def build_model(rnn_layer, dropout, hidden_layers, hidden_units, lr):\n",
    "    inputs = Input(shape=(20, 1024), name=\"input\")\n",
    "    \n",
    "    rnn_layer = GRU if rnn_layer is 'gru' else LSTM\n",
    "\n",
    "    x = Bidirectional(GRU(20, return_sequences=True, name=\"gru\"))(inputs)\n",
    "    x = Dropout(dropout)(x)\n",
    "    x = Bidirectional(GRU(20, name='gru2'))(x)\n",
    "\n",
    "    x = Dropout(dropout)(x)\n",
    "    x = Dense(20, activation='relu', name=\"dense\")(x)\n",
    "    x = Bidirectional(rnn_layer(20, return_sequences=True, name=\"rnn\"))(inputs)\n",
    "    x = Dropout(dropout)(x)\n",
    "    x = Bidirectional(rnn_layer(20, name='rnn2'))(x)\n",
    "\n",
    "    for lyr in range(1,hidden_layers+1):\n",
    "        x = Dropout(dropout)(x)\n",
    "        x = Dense(int(round(hidden_units/lyr)), activation='relu', name=f\"dense{lyr+1}\")(x)\n",
    "        \n",
    "    predictions = Dense(1, activation='sigmoid', name=\"out\")(x)\n",
    "    _model = Model(inputs=inputs, outputs=predictions)\n",
    "\n",
    "    _model.compile(optimizer=optimizers.Adam(lr=0.05, decay=0.5),\n",
    "                  loss='binary_crossentropy')\n",
    "    _model.compile(optimizer=optimizers.Adam(lr=lr, decay=0.1),\n",
    "                  loss='binary_crossentropy')\n",
    "    \n",
    "    return _model"
   ]
  },
  {
   "cell_type": "markdown",
   "metadata": {},
   "source": [
    "Perform some parameter search and cross validation. This can take a while."
   ]
  },
  {
   "cell_type": "code",
   "execution_count": 15,
   "metadata": {},
   "outputs": [],
   "source": [
    "space = [Categorical(['gru', 'lstm'], name='model'),\n",
    "         Real(0, 0.5, 'uniform', name='dropout'),\n",
    "         Integer(1, 3, name='hidden_layers'),\n",
    "         Integer(8, 20, name='hidden_units'),\n",
    "         Real(1e-3, 0.1, 'log-uniform', name='lr'),\n",
    "         Real(2, 60, 'uniform', name='class_weight')]"
   ]
  },
  {
   "cell_type": "markdown",
   "metadata": {},
   "source": [
    "### Battle Model Hyperparameter Optimization"
   ]
  },
  {
   "cell_type": "code",
   "execution_count": 16,
   "metadata": {},
   "outputs": [],
   "source": [
    "kfold = StratifiedKFold(n_splits=6, shuffle=True)\n",
    "\n",
    "earlystop = EarlyStopping(monitor='val_loss', patience=3)\n",
    "\n",
    "@use_named_args(space)\n",
    "def objective(**params):\n",
    "    \n",
    "    kappas = []\n",
    "            \n",
    "    model_obj = build_model(params['model'], params['dropout'], params['hidden_layers'], \n",
    "                              params['hidden_units'], params['lr'])\n",
    "    \n",
    "    min_epochs = 30\n",
    "\n",
    "def build_model(rnn_layer, dropout, hidden_layers, hidden_units, lr):\n",
    "    inputs = Input(shape=(20, 1024), name=\"input\")\n",
    "    \n",
    "    rnn_layer = GRU if rnn_layer is 'gru' else LSTM\n",
    "\n",
    "    x = Bidirectional(rnn_layer(20, return_sequences=True, name=\"rnn\"))(inputs)\n",
    "    x = Dropout(dropout)(x)\n",
    "    x = Bidirectional(rnn_layer(20, name='rnn2'))(x)\n",
    "\n",
    "    for lyr in range(1,hidden_layers+1):\n",
    "        x = Dropout(dropout)(x)\n",
    "        x = Dense(int(round(hidden_units/lyr)), activation='relu', name=f\"dense{lyr+1}\")(x)\n",
    "        \n",
    "    predictions = Dense(1, activation='sigmoid', name=\"out\")(x)\n",
    "    _model = Model(inputs=inputs, outputs=predictions)\n",
    "\n",
    "    _model.compile(optimizer=optimizers.Adam(lr=lr, decay=0.1),\n",
    "                  loss='binary_crossentropy')\n",
    "    for fold, (train_ixs, val_ixs) in enumerate(kfold.split(X_train_battle, y_train_battle)):\n",
    "        now = datetime.now()\n",
    "\n",
    "        weights = {0: params['class_weight'], 1: 1.0}\n",
    "\n",
    "        history = model_obj.fit(X_train_battle[train_ixs], y_train_battle[train_ixs], epochs=30,\n",
    "                  validation_data=(X_train_battle[val_ixs], y_train_battle[val_ixs]), \n",
    "                  class_weight=weights, callbacks=[earlystop], \n",
    "                  verbose=0)\n",
    "\n",
    "        preds = (model_obj.predict(X_train_battle[val_ixs]) > 0.5).astype(int)\n",
    "\n",
    "        model_obj.reset_states()\n",
    "\n",
    "        kappa = metrics.cohen_kappa_score(y_train_battle[val_ixs], preds)\n",
    "\n",
    "        kappas.append(kappa)\n",
    "        \n",
    "        if len(history.history['loss']) < min_epochs:\n",
    "            min_epochs = len(history.history['loss'])\n",
    "\n",
    "        del preds\n",
    "\n",
    "        if fold == 2:\n",
    "            # break after completing half of the folds. This just saves time.\n",
    "            break\n",
    "            \n",
    "    print(f'\\t M: {params[\"model\"]} E: {min_epochs} D: {params[\"dropout\"]:.3f} L: {params[\"hidden_layers\"]} U: {params[\"hidden_units\"]} LR: {params[\"lr\"]:.3f} W: {params[\"class_weight\"]:.2f}')\n",
    "    \n",
    "    del history      \n",
    "          \n",
    "    return 1-np.mean(kappas)"
   ]
  },
  {
   "cell_type": "markdown",
   "metadata": {},
   "source": [
    "Perform some parameter search and cross validation. This can take a while."
   ]
  },
  {
   "cell_type": "code",
   "execution_count": 69,
   "metadata": {},
   "outputs": [],
   "source": [
    "space = [Categorical(['gru', 'lstm'], name='model'),\n",
    "         Real(0, 0.5, 'uniform', name='dropout'),\n",
    "         Integer(1, 3, name='hidden_layers'),\n",
    "         Integer(8, 20, name='hidden_units'),\n",
    "         Real(1e-3, 0.1, 'log-uniform', name='lr'),\n",
    "         Real(2, 60, 'uniform', name='class_weight')]"
   ]
  },
  {
   "cell_type": "markdown",
   "metadata": {},
   "source": [
    "### Battle Model Hyperparameter Optimization"
   ]
  },
  {
   "cell_type": "code",
   "execution_count": 70,
   "metadata": {},
   "outputs": [],
   "source": [
    "kfold = StratifiedKFold(n_splits=5, shuffle=True)\n",
    "\n",
    "earlystop = EarlyStopping(monitor='val_loss', patience=3)\n",
    "\n",
    "@use_named_args(space)\n",
    "def objective(**params):\n",
    "    \n",
    "    kappas = []\n",
    "            \n",
    "    model_obj = build_model(params['model'], params['dropout'], params['hidden_layers'], \n",
    "                              params['hidden_units'], params['lr'])\n",
    "\n",
    "    for fold, (train_ixs, val_ixs) in enumerate(kfold.split(X_train_battle, y_train_battle)):\n",
    "        now = datetime.now()\n",
    "\n",
    "        weights = {0: params['class_weight'], 1: 1.0}\n",
    "\n",
    "        history = model_obj.fit(X_train_battle[train_ixs], y_train_battle[train_ixs], epochs=30,\n",
    "                  validation_data=(X_train_battle[val_ixs], y_train_battle[val_ixs]), \n",
    "                  class_weight=weights, callbacks=[earlystop], \n",
    "                  verbose=0)\n",
    "\n",
    "        preds = (model_obj.predict(X_train_battle[val_ixs]) > 0.5).astype(int)\n",
    "\n",
    "        model_obj.reset_states()\n",
    "\n",
    "        kappa = metrics.cohen_kappa_score(y_train_battle[val_ixs], preds)\n",
    "\n",
    "        kappas.append(kappa)\n",
    "\n",
    "        del history, preds\n",
    "\n",
    "        if fold == 2:\n",
    "            break\n",
    "            \n",
    "    print(f'\\t {params[\"model\"]} {params[\"dropout\"]:.3f} {params[\"hidden_layers\"]} {params[\"hidden_units\"]} {params[\"lr\"]:.3f} {params[\"class_weight\"]:.2f}')\n",
    "    \n",
    "    return 1-np.mean(kappas)"
   ]
  },
  {
   "cell_type": "code",
   "execution_count": 72,
   "metadata": {},
   "outputs": [
    {
     "name": "stdout",
     "output_type": "stream",
     "text": [
      "Iteration No: 1 started. Evaluating function at provided point.\n",
      "\t gru 0.300 1 20 0.050 30.00\n",
      "Iteration No: 1 ended. Evaluation done at provided point.\n",
      "Time taken: 87.1696\n",
      "Function value obtained: 0.5752\n",
      "Current minimum: 0.5752\n",
      "Iteration No: 2 started. Evaluating function at random point.\n",
      "\t gru 0.484 2 10 0.005 11.28\n",
      "Iteration No: 2 ended. Evaluation done at random point.\n",
      "Time taken: 50.6474\n",
      "Function value obtained: 0.9553\n",
      "Current minimum: 0.5752\n",
      "Iteration No: 3 started. Evaluating function at random point.\n",
      "\t gru 0.288 1 18 0.026 18.95\n",
      "Iteration No: 3 ended. Evaluation done at random point.\n",
      "Time taken: 178.0555\n",
      "Function value obtained: 0.2563\n",
      "Current minimum: 0.2563\n",
      "Iteration No: 4 started. Evaluating function at random point.\n",
      "\t lstm 0.500 2 14 0.001 11.91\n",
      "Iteration No: 4 ended. Evaluation done at random point.\n",
      "Time taken: 58.4905\n",
      "Function value obtained: 1.0048\n",
      "Current minimum: 0.2563\n",
      "Iteration No: 5 started. Evaluating function at random point.\n",
      "\t lstm 0.418 1 10 0.046 52.35\n",
      "Iteration No: 5 ended. Evaluation done at random point.\n",
      "Time taken: 148.8000\n",
      "Function value obtained: 0.5956\n",
      "Current minimum: 0.2563\n",
      "Iteration No: 6 started. Evaluating function at random point.\n",
      "\t gru 0.079 2 12 0.016 12.98\n",
      "Iteration No: 6 ended. Evaluation done at random point.\n",
      "Time taken: 165.4013\n",
      "Function value obtained: 0.3371\n",
      "Current minimum: 0.2563\n",
      "Iteration No: 7 started. Evaluating function at random point.\n",
      "\t lstm 0.181 2 16 0.007 38.09\n",
      "Iteration No: 7 ended. Evaluation done at random point.\n",
      "Time taken: 124.9254\n",
      "Function value obtained: 0.5036\n",
      "Current minimum: 0.2563\n",
      "Iteration No: 8 started. Evaluating function at random point.\n",
      "\t lstm 0.401 3 9 0.001 56.06\n",
      "Iteration No: 8 ended. Evaluation done at random point.\n",
      "Time taken: 63.9384\n",
      "Function value obtained: 1.0000\n",
      "Current minimum: 0.2563\n",
      "Iteration No: 9 started. Evaluating function at random point.\n",
      "\t lstm 0.016 2 15 0.004 43.27\n",
      "Iteration No: 9 ended. Evaluation done at random point.\n",
      "Time taken: 201.1414\n",
      "Function value obtained: 0.7074\n",
      "Current minimum: 0.2563\n",
      "Iteration No: 10 started. Searching for the next optimal point.\n",
      "\t gru 0.265 1 19 0.023 16.74\n",
      "Iteration No: 10 ended. Search finished for the next optimal point.\n",
      "Time taken: 107.7916\n",
      "Function value obtained: 0.2442\n",
      "Current minimum: 0.2442\n",
      "Iteration No: 11 started. Searching for the next optimal point.\n",
      "\t gru 0.415 1 20 0.022 21.57\n",
      "Iteration No: 11 ended. Search finished for the next optimal point.\n",
      "Time taken: 108.9207\n",
      "Function value obtained: 0.4477\n",
      "Current minimum: 0.2442\n",
      "Iteration No: 12 started. Searching for the next optimal point.\n",
      "\t lstm 0.230 1 8 0.024 29.37\n",
      "Iteration No: 12 ended. Search finished for the next optimal point.\n",
      "Time taken: 137.1280\n",
      "Function value obtained: 0.4079\n",
      "Current minimum: 0.2442\n",
      "Iteration No: 13 started. Searching for the next optimal point.\n",
      "\t gru 0.219 1 18 0.021 14.15\n",
      "Iteration No: 13 ended. Search finished for the next optimal point.\n",
      "Time taken: 137.3599\n",
      "Function value obtained: 0.2168\n",
      "Current minimum: 0.2168\n",
      "Iteration No: 14 started. Searching for the next optimal point.\n",
      "\t gru 0.191 3 17 0.023 60.00\n",
      "Iteration No: 14 ended. Search finished for the next optimal point.\n",
      "Time taken: 73.5838\n",
      "Function value obtained: 1.0000\n",
      "Current minimum: 0.2168\n",
      "Iteration No: 15 started. Searching for the next optimal point.\n",
      "\t gru 0.180 1 13 0.031 14.89\n",
      "Iteration No: 15 ended. Search finished for the next optimal point.\n",
      "Time taken: 121.5701\n",
      "Function value obtained: 0.2085\n",
      "Current minimum: 0.2085\n",
      "Iteration No: 16 started. Searching for the next optimal point.\n",
      "\t gru 0.211 1 8 0.023 16.43\n",
      "Iteration No: 16 ended. Search finished for the next optimal point.\n",
      "Time taken: 209.5690\n",
      "Function value obtained: 0.2498\n",
      "Current minimum: 0.2085\n",
      "Iteration No: 17 started. Searching for the next optimal point.\n",
      "\t gru 0.153 1 17 0.046 14.21\n",
      "Iteration No: 17 ended. Search finished for the next optimal point.\n",
      "Time taken: 116.0276\n",
      "Function value obtained: 0.2613\n",
      "Current minimum: 0.2085\n",
      "Iteration No: 18 started. Searching for the next optimal point.\n",
      "\t gru 0.194 1 20 0.028 13.49\n",
      "Iteration No: 18 ended. Search finished for the next optimal point.\n",
      "Time taken: 102.3059\n",
      "Function value obtained: 0.3105\n",
      "Current minimum: 0.2085\n",
      "Iteration No: 19 started. Searching for the next optimal point.\n",
      "\t gru 0.232 1 16 0.018 14.45\n",
      "Iteration No: 19 ended. Search finished for the next optimal point.\n",
      "Time taken: 176.6787\n",
      "Function value obtained: 0.3010\n",
      "Current minimum: 0.2085\n",
      "Iteration No: 20 started. Searching for the next optimal point.\n",
      "\t lstm 0.113 1 8 0.021 19.93\n",
      "Iteration No: 20 ended. Search finished for the next optimal point.\n",
      "Time taken: 147.6879\n",
      "Function value obtained: 0.2752\n",
      "Current minimum: 0.2085\n",
      "Iteration No: 21 started. Searching for the next optimal point.\n",
      "\t gru 0.040 2 8 0.008 19.31\n",
      "Iteration No: 21 ended. Search finished for the next optimal point.\n",
      "Time taken: 184.6608\n",
      "Function value obtained: 0.4671\n",
      "Current minimum: 0.2085\n",
      "Iteration No: 22 started. Searching for the next optimal point.\n",
      "\t lstm 0.000 1 8 0.100 2.00\n",
      "Iteration No: 22 ended. Search finished for the next optimal point.\n",
      "Time taken: 137.5846\n",
      "Function value obtained: 0.7686\n",
      "Current minimum: 0.2085\n",
      "Iteration No: 23 started. Searching for the next optimal point.\n",
      "\t lstm 0.188 3 20 0.034 17.59\n",
      "Iteration No: 23 ended. Search finished for the next optimal point.\n",
      "Time taken: 136.0064\n",
      "Function value obtained: 0.2702\n",
      "Current minimum: 0.2085\n",
      "Iteration No: 24 started. Searching for the next optimal point.\n",
      "\t gru 0.161 1 15 0.031 17.51\n",
      "Iteration No: 24 ended. Search finished for the next optimal point.\n",
      "Time taken: 125.8198\n",
      "Function value obtained: 0.2712\n",
      "Current minimum: 0.2085\n",
      "Iteration No: 25 started. Searching for the next optimal point.\n",
      "\t gru 0.324 1 8 0.051 13.57\n",
      "Iteration No: 25 ended. Search finished for the next optimal point.\n",
      "Time taken: 164.9768\n",
      "Function value obtained: 0.3393\n",
      "Current minimum: 0.2085\n",
      "Iteration No: 26 started. Searching for the next optimal point.\n",
      "\t gru 0.000 1 8 0.041 19.89\n",
      "Iteration No: 26 ended. Search finished for the next optimal point.\n",
      "Time taken: 245.6465\n",
      "Function value obtained: 0.2643\n",
      "Current minimum: 0.2085\n",
      "Iteration No: 27 started. Searching for the next optimal point.\n",
      "\t gru 0.000 1 8 0.027 16.31\n",
      "Iteration No: 27 ended. Search finished for the next optimal point.\n",
      "Time taken: 218.4830\n",
      "Function value obtained: 0.1979\n",
      "Current minimum: 0.1979\n",
      "Iteration No: 28 started. Searching for the next optimal point.\n",
      "\t gru 0.000 1 8 0.027 16.25\n",
      "Iteration No: 28 ended. Search finished for the next optimal point.\n",
      "Time taken: 152.4159\n",
      "Function value obtained: 0.6158\n",
      "Current minimum: 0.1979\n",
      "Iteration No: 29 started. Searching for the next optimal point.\n",
      "\t gru 0.198 1 8 0.100 17.77\n",
      "Iteration No: 29 ended. Search finished for the next optimal point.\n",
      "Time taken: 105.5001\n",
      "Function value obtained: 0.7259\n",
      "Current minimum: 0.1979\n",
      "Iteration No: 30 started. Searching for the next optimal point.\n",
      "\t lstm 0.244 1 9 0.029 2.25\n",
      "Iteration No: 30 ended. Search finished for the next optimal point.\n",
      "Time taken: 138.1314\n",
      "Function value obtained: 0.2716\n",
      "Current minimum: 0.1979\n",
      "Best: 0.19786442469701448 at ['gru', 0.0, 1, 8, 0.02688190550049891, 16.306835548880372]\n",
      "Iteration No: 1 started. Evaluating function at random point.\n",
      "\t M: lstm E: 4 D: 0.370 L: 3 U: 9 LR: 0.001 W: 21.97\n",
      "Iteration No: 1 ended. Evaluation done at random point.\n",
      "Time taken: 36.3463\n",
      "Function value obtained: 0.9996\n",
      "Current minimum: 0.9996\n",
      "Iteration No: 2 started. Evaluating function at random point.\n",
      "\t M: lstm E: 4 D: 0.423 L: 3 U: 17 LR: 0.030 W: 38.06\n",
      "Iteration No: 2 ended. Evaluation done at random point.\n",
      "Time taken: 40.5572\n",
      "Function value obtained: 1.0000\n",
      "Current minimum: 0.9996\n",
      "Iteration No: 3 started. Evaluating function at random point.\n",
      "\t M: gru E: 5 D: 0.016 L: 1 U: 18 LR: 0.053 W: 44.29\n",
      "Iteration No: 3 ended. Evaluation done at random point.\n",
      "Time taken: 83.1940\n",
      "Function value obtained: 0.2704\n",
      "Current minimum: 0.2704\n",
      "Iteration No: 4 started. Evaluating function at random point.\n",
      "\t M: gru E: 4 D: 0.385 L: 1 U: 19 LR: 0.001 W: 56.51\n",
      "Iteration No: 4 ended. Evaluation done at random point.\n",
      "Time taken: 44.5126\n",
      "Function value obtained: 1.0000\n",
      "Current minimum: 0.2704\n",
      "Iteration No: 5 started. Evaluating function at random point.\n",
      "\t M: lstm E: 6 D: 0.470 L: 1 U: 18 LR: 0.002 W: 51.62\n",
      "Iteration No: 5 ended. Evaluation done at random point.\n",
      "Time taken: 112.9656\n",
      "Function value obtained: 0.6334\n",
      "Current minimum: 0.2704\n",
      "Iteration No: 6 started. Evaluating function at random point.\n",
      "\t M: gru E: 5 D: 0.108 L: 3 U: 9 LR: 0.052 W: 10.22\n",
      "Iteration No: 6 ended. Evaluation done at random point.\n",
      "Time taken: 72.6873\n",
      "Function value obtained: 0.3857\n",
      "Current minimum: 0.2704\n",
      "Iteration No: 7 started. Evaluating function at random point.\n",
      "\t M: gru E: 5 D: 0.197 L: 2 U: 9 LR: 0.017 W: 56.28\n",
      "Iteration No: 7 ended. Evaluation done at random point.\n",
      "Time taken: 66.6719\n",
      "Function value obtained: 1.0000\n",
      "Current minimum: 0.2704\n",
      "Iteration No: 8 started. Evaluating function at random point.\n",
      "\t M: lstm E: 6 D: 0.194 L: 1 U: 13 LR: 0.078 W: 57.08\n",
      "Iteration No: 8 ended. Evaluation done at random point.\n",
      "Time taken: 123.3589\n",
      "Function value obtained: 0.7854\n",
      "Current minimum: 0.2704\n",
      "Iteration No: 9 started. Evaluating function at random point.\n",
      "\t M: lstm E: 4 D: 0.380 L: 2 U: 15 LR: 0.002 W: 23.66\n",
      "Iteration No: 9 ended. Evaluation done at random point.\n",
      "Time taken: 42.4291\n",
      "Function value obtained: 1.0000\n",
      "Current minimum: 0.2704\n",
      "Iteration No: 10 started. Evaluating function at random point.\n",
      "\t M: gru E: 4 D: 0.480 L: 1 U: 9 LR: 0.002 W: 52.92\n",
      "Iteration No: 10 ended. Evaluation done at random point.\n",
      "Time taken: 104.2781\n",
      "Function value obtained: 0.9484\n",
      "Current minimum: 0.2704\n",
      "Iteration No: 11 started. Evaluating function at random point.\n",
      "\t M: lstm E: 4 D: 0.483 L: 2 U: 14 LR: 0.003 W: 24.74\n",
      "Iteration No: 11 ended. Evaluation done at random point.\n",
      "Time taken: 86.9023\n",
      "Function value obtained: 1.0000\n",
      "Current minimum: 0.2704\n",
      "Iteration No: 12 started. Evaluating function at random point.\n",
      "\t M: gru E: 4 D: 0.442 L: 2 U: 15 LR: 0.075 W: 20.28\n",
      "Iteration No: 12 ended. Evaluation done at random point.\n",
      "Time taken: 47.9616\n",
      "Function value obtained: 1.0000\n",
      "Current minimum: 0.2704\n",
      "Iteration No: 13 started. Evaluating function at random point.\n",
      "\t M: lstm E: 4 D: 0.092 L: 2 U: 17 LR: 0.004 W: 10.46\n",
      "Iteration No: 13 ended. Evaluation done at random point.\n",
      "Time taken: 90.4798\n",
      "Function value obtained: 0.3258\n",
      "Current minimum: 0.2704\n",
      "Iteration No: 14 started. Evaluating function at random point.\n",
      "\t M: gru E: 7 D: 0.170 L: 1 U: 16 LR: 0.014 W: 3.70\n",
      "Iteration No: 14 ended. Evaluation done at random point.\n",
      "Time taken: 104.0691\n",
      "Function value obtained: 0.1631\n",
      "Current minimum: 0.1631\n",
      "Iteration No: 15 started. Searching for the next optimal point.\n",
      "\t M: lstm E: 12 D: 0.145 L: 1 U: 19 LR: 0.005 W: 4.34\n",
      "Iteration No: 15 ended. Search finished for the next optimal point.\n",
      "Time taken: 144.6640\n",
      "Function value obtained: 0.1418\n",
      "Current minimum: 0.1418\n",
      "Iteration No: 16 started. Searching for the next optimal point.\n",
      "\t M: lstm E: 30 D: 0.000 L: 3 U: 8 LR: 0.001 W: 5.42\n",
      "Iteration No: 16 ended. Search finished for the next optimal point.\n",
      "Time taken: 254.0958\n",
      "Function value obtained: 1.0000\n",
      "Current minimum: 0.1418\n",
      "Iteration No: 17 started. Searching for the next optimal point.\n",
      "\t M: lstm E: 9 D: 0.157 L: 1 U: 20 LR: 0.056 W: 6.18\n",
      "Iteration No: 17 ended. Search finished for the next optimal point.\n",
      "Time taken: 99.3160\n",
      "Function value obtained: 0.2646\n",
      "Current minimum: 0.1418\n",
      "Iteration No: 18 started. Searching for the next optimal point.\n",
      "\t M: gru E: 30 D: 0.150 L: 1 U: 15 LR: 0.001 W: 2.00\n",
      "Iteration No: 18 ended. Search finished for the next optimal point.\n",
      "Time taken: 190.4974\n",
      "Function value obtained: 0.3163\n",
      "Current minimum: 0.1418\n",
      "Iteration No: 19 started. Searching for the next optimal point.\n",
      "\t M: gru E: 4 D: 0.132 L: 1 U: 20 LR: 0.100 W: 21.40\n",
      "Iteration No: 19 ended. Search finished for the next optimal point.\n",
      "Time taken: 41.7414\n",
      "Function value obtained: 1.0000\n",
      "Current minimum: 0.1418\n",
      "Iteration No: 20 started. Searching for the next optimal point.\n",
      "\t M: lstm E: 4 D: 0.242 L: 1 U: 20 LR: 0.010 W: 4.42\n",
      "Iteration No: 20 ended. Search finished for the next optimal point.\n",
      "Time taken: 88.7124\n",
      "Function value obtained: 0.1624\n",
      "Current minimum: 0.1418\n",
      "Iteration No: 21 started. Searching for the next optimal point.\n",
      "\t M: lstm E: 5 D: 0.019 L: 1 U: 18 LR: 0.003 W: 4.29\n",
      "Iteration No: 21 ended. Search finished for the next optimal point.\n",
      "Time taken: 132.2161\n",
      "Function value obtained: 0.2486\n",
      "Current minimum: 0.1418\n",
      "Iteration No: 22 started. Searching for the next optimal point.\n",
      "\t M: lstm E: 13 D: 0.175 L: 1 U: 13 LR: 0.002 W: 4.46\n",
      "Iteration No: 22 ended. Search finished for the next optimal point.\n",
      "Time taken: 200.4904\n",
      "Function value obtained: 0.2363\n",
      "Current minimum: 0.1418\n",
      "Iteration No: 23 started. Searching for the next optimal point.\n",
      "\t M: gru E: 6 D: 0.166 L: 1 U: 20 LR: 0.016 W: 4.05\n",
      "Iteration No: 23 ended. Search finished for the next optimal point.\n",
      "Time taken: 104.4984\n",
      "Function value obtained: 0.1624\n",
      "Current minimum: 0.1418\n",
      "Iteration No: 24 started. Searching for the next optimal point.\n",
      "\t M: gru E: 10 D: 0.451 L: 1 U: 20 LR: 0.100 W: 4.00\n",
      "Iteration No: 24 ended. Search finished for the next optimal point.\n",
      "Time taken: 159.8223\n",
      "Function value obtained: 0.8144\n",
      "Current minimum: 0.1418\n",
      "Iteration No: 25 started. Searching for the next optimal point.\n",
      "\t M: lstm E: 9 D: 0.158 L: 1 U: 20 LR: 0.007 W: 4.27\n",
      "Iteration No: 25 ended. Search finished for the next optimal point.\n",
      "Time taken: 152.9422\n",
      "Function value obtained: 0.1954\n",
      "Current minimum: 0.1418\n",
      "Iteration No: 26 started. Searching for the next optimal point.\n",
      "\t M: lstm E: 10 D: 0.147 L: 1 U: 20 LR: 0.012 W: 46.43\n",
      "Iteration No: 26 ended. Search finished for the next optimal point.\n",
      "Time taken: 157.3360\n",
      "Function value obtained: 0.1733\n",
      "Current minimum: 0.1418\n",
      "Iteration No: 27 started. Searching for the next optimal point.\n",
      "\t M: gru E: 4 D: 0.060 L: 1 U: 20 LR: 0.021 W: 47.07\n",
      "Iteration No: 27 ended. Search finished for the next optimal point.\n",
      "Time taken: 83.2736\n",
      "Function value obtained: 0.2061\n",
      "Current minimum: 0.1418\n",
      "Iteration No: 28 started. Searching for the next optimal point.\n",
      "\t M: gru E: 6 D: 0.261 L: 1 U: 20 LR: 0.060 W: 47.07\n",
      "Iteration No: 28 ended. Search finished for the next optimal point.\n",
      "Time taken: 101.3272\n",
      "Function value obtained: 0.3118\n",
      "Current minimum: 0.1418\n",
      "Iteration No: 29 started. Searching for the next optimal point.\n",
      "\t M: gru E: 8 D: 0.136 L: 1 U: 18 LR: 0.010 W: 6.04\n",
      "Iteration No: 29 ended. Search finished for the next optimal point.\n",
      "Time taken: 135.9662\n",
      "Function value obtained: 0.1401\n",
      "Current minimum: 0.1401\n",
      "Iteration No: 30 started. Searching for the next optimal point.\n",
      "\t M: gru E: 9 D: 0.142 L: 1 U: 17 LR: 0.010 W: 6.20\n",
      "Iteration No: 30 ended. Search finished for the next optimal point.\n",
      "Time taken: 151.1856\n",
      "Function value obtained: 0.1364\n",
      "Current minimum: 0.1364\n",
      "Iteration No: 31 started. Searching for the next optimal point.\n",
      "\t M: lstm E: 21 D: 0.052 L: 1 U: 20 LR: 0.004 W: 44.79\n",
      "Iteration No: 31 ended. Search finished for the next optimal point.\n",
      "Time taken: 179.8602\n",
      "Function value obtained: 0.3199\n",
      "Current minimum: 0.1364\n",
      "Iteration No: 32 started. Searching for the next optimal point.\n",
      "\t M: lstm E: 11 D: 0.089 L: 1 U: 15 LR: 0.015 W: 6.39\n",
      "Iteration No: 32 ended. Search finished for the next optimal point.\n",
      "Time taken: 180.8001\n",
      "Function value obtained: 0.1739\n",
      "Current minimum: 0.1364\n",
      "Iteration No: 33 started. Searching for the next optimal point.\n"
     ]
    },
    {
     "name": "stdout",
     "output_type": "stream",
     "text": [
      "\t M: gru E: 9 D: 0.177 L: 1 U: 20 LR: 0.006 W: 6.69\n",
      "Iteration No: 33 ended. Search finished for the next optimal point.\n",
      "Time taken: 120.7869\n",
      "Function value obtained: 0.1967\n",
      "Current minimum: 0.1364\n",
      "Iteration No: 34 started. Searching for the next optimal point.\n",
      "\t M: gru E: 8 D: 0.140 L: 1 U: 18 LR: 0.013 W: 5.57\n",
      "Iteration No: 34 ended. Search finished for the next optimal point.\n",
      "Time taken: 133.4265\n",
      "Function value obtained: 0.1416\n",
      "Current minimum: 0.1364\n",
      "Iteration No: 35 started. Searching for the next optimal point.\n",
      "\t M: gru E: 7 D: 0.146 L: 1 U: 17 LR: 0.012 W: 5.55\n",
      "Iteration No: 35 ended. Search finished for the next optimal point.\n",
      "Time taken: 143.6843\n",
      "Function value obtained: 0.2388\n",
      "Current minimum: 0.1364\n",
      "Iteration No: 36 started. Searching for the next optimal point.\n",
      "\t M: lstm E: 4 D: 0.000 L: 1 U: 20 LR: 0.025 W: 5.19\n",
      "Iteration No: 36 ended. Search finished for the next optimal point.\n",
      "Time taken: 106.1114\n",
      "Function value obtained: 0.2171\n",
      "Current minimum: 0.1364\n",
      "Iteration No: 37 started. Searching for the next optimal point.\n",
      "\t M: lstm E: 8 D: 0.129 L: 1 U: 20 LR: 0.013 W: 5.69\n",
      "Iteration No: 37 ended. Search finished for the next optimal point.\n",
      "Time taken: 160.0853\n",
      "Function value obtained: 0.1562\n",
      "Current minimum: 0.1364\n",
      "Iteration No: 38 started. Searching for the next optimal point.\n",
      "\t M: lstm E: 7 D: 0.129 L: 1 U: 20 LR: 0.013 W: 5.71\n",
      "Iteration No: 38 ended. Search finished for the next optimal point.\n",
      "Time taken: 130.7198\n",
      "Function value obtained: 0.2004\n",
      "Current minimum: 0.1364\n",
      "Iteration No: 39 started. Searching for the next optimal point.\n",
      "\t M: lstm E: 4 D: 0.000 L: 1 U: 8 LR: 0.081 W: 2.00\n",
      "Iteration No: 39 ended. Search finished for the next optimal point.\n",
      "Time taken: 62.5450\n",
      "Function value obtained: 1.0000\n",
      "Current minimum: 0.1364\n",
      "Iteration No: 40 started. Searching for the next optimal point.\n",
      "\t M: lstm E: 7 D: 0.108 L: 1 U: 20 LR: 0.100 W: 49.48\n",
      "Iteration No: 40 ended. Search finished for the next optimal point.\n",
      "Time taken: 144.5570\n",
      "Function value obtained: 0.8100\n",
      "Current minimum: 0.1364\n",
      "Best Kappa: 0.864 at ['gru', 0.14186240616929843, 1, 17, 0.009654811470017174, 6.2011667958398435]\n"
     ]
    }
   ],
   "source": [
    "res_gp = gp_minimize(objective, space, n_calls=30, n_random_starts=8, acq_func=\"PI\", \n",
    "                     x0=['gru', 0.3, 1, 20, 0.05, 30],\n",
    "                     acq_optimizer=\"auto\", verbose=True, n_jobs=3)\n",
    "\n",
    "print(f'Best: {res_gp.fun} at {res_gp.x}')\n",
    "\n",
    "# results = pd.DataFrame(results, columns=['dur', 'family', 'weight', 'fold', 'epochs', 'kappa'])res_gp = gp_minimize(objective, space, n_calls=40, n_random_starts=14, acq_func=\"PI\", \n",
    "                     acq_optimizer=\"auto\", verbose=True, n_jobs=3)\n",
    "\n",
    "print(f'Best Kappa: {1-res_gp.fun:.3f} at {res_gp.x}')"
   ]
  },
  {
   "cell_type": "code",
   "execution_count": 73,
   "metadata": {},
   "outputs": [
    {
     "data": {
      "image/png": "[encoded data removed]",
      "text/plain": [
       "<Figure size 432x288 with 1 Axes>"
      ]
     },
     "metadata": {
      "image/png": {
       "height": 277,
       "width": 394
      },
      "needs_background": "light"
     },
     "output_type": "display_data"
    }
   ],
   "source": [
    "from skopt.plots import plot_convergence\n",
    "\n",
    "plot_convergence(res_gp);"
   ]
  },
  {
   "cell_type": "markdown",
   "metadata": {},
   "source": [
    "### Journey Model Hyperparameter Optimization"
   ]
  },
  {
   "cell_type": "code",
   "execution_count": 74,
   "metadata": {},
   "outputs": [],
   "source": [
    "kfold = StratifiedKFold(n_splits=5, shuffle=True)\n",
    "\n",
    "earlystop = EarlyStopping(monitor='val_loss', patience=3)\n",
    "\n",
    "@use_named_args(space)\n",
    "def objective(**params):\n",
    "    \n",
    "    kappas = []\n",
    "            \n",
    "    model_obj = build_model(params['model'], params['dropout'], params['hidden_layers'], \n",
    "                              params['hidden_units'], params['lr'])\n",
    "\n",
    "    for fold, (train_ixs, val_ixs) in enumerate(kfold.split(X_train_journey, y_train_journey)):\n",
    "        now = datetime.now()\n",
    "\n",
    "        weights = {0: params['class_weight'], 1: 1.0}\n",
    "\n",
    "        history = model_obj.fit(X_train_journey[train_ixs], y_train_journey[train_ixs], epochs=30,\n",
    "                  validation_data=(X_train_journey[val_ixs], y_train_journey[val_ixs]), \n",
    "                  class_weight=weights, callbacks=[earlystop], \n",
    "                  verbose=0)\n",
    "\n",
    "        preds = (model_obj.predict(X_train_journey[val_ixs]) > 0.5).astype(int)\n",
    "\n",
    "        model_obj.reset_states()\n",
    "\n",
    "        kappa = metrics.cohen_kappa_score(y_train_journey[val_ixs], preds)\n",
    "\n",
    "        kappas.append(kappa)\n",
    "\n",
    "        del history, preds\n",
    "\n",
    "        if fold == 2:\n",
    "            break\n",
    "            \n",
    "    print(f'\\t {params[\"model\"]} {params[\"dropout\"]:.3f} {params[\"hidden_layers\"]} {params[\"hidden_units\"]} {params[\"lr\"]:.3f} {params[\"class_weight\"]:.2f}')\n",
    "    \n",
    "    return 1-np.mean(kappas)"
   ]
  },
  {
   "cell_type": "code",
   "execution_count": 75,
   "metadata": {},
   "outputs": [
    {
     "name": "stdout",
     "output_type": "stream",
     "text": [
      "Iteration No: 1 started. Evaluating function at provided point.\n",
      "\t gru 0.000 1 8 0.027 16.31\n",
      "Iteration No: 1 ended. Evaluation done at provided point.\n",
      "Time taken: 86.8615\n",
      "Function value obtained: 0.3009\n",
      "Current minimum: 0.3009\n",
      "Iteration No: 2 started. Evaluating function at random point.\n",
      "\t lstm 0.403 2 8 0.009 19.03\n",
      "Iteration No: 2 ended. Evaluation done at random point.\n",
      "Time taken: 61.4794\n",
      "Function value obtained: 1.0000\n",
      "Current minimum: 0.3009\n",
      "Iteration No: 3 started. Evaluating function at random point.\n",
      "\t gru 0.362 2 17 0.003 16.73\n",
      "Iteration No: 3 ended. Evaluation done at random point.\n",
      "Time taken: 67.7568\n",
      "Function value obtained: 1.0000\n",
      "Current minimum: 0.3009\n",
      "Iteration No: 4 started. Evaluating function at random point.\n",
      "\t gru 0.152 2 17 0.015 18.60\n",
      "Iteration No: 4 ended. Evaluation done at random point.\n",
      "Time taken: 60.9893\n",
      "Function value obtained: 0.4730\n",
      "Current minimum: 0.3009\n",
      "Iteration No: 5 started. Evaluating function at random point.\n",
      "\t lstm 0.380 2 18 0.002 17.46\n",
      "Iteration No: 5 ended. Evaluation done at random point.\n",
      "Time taken: 55.5506\n",
      "Function value obtained: 1.0000\n",
      "Current minimum: 0.3009\n",
      "Iteration No: 6 started. Evaluating function at random point.\n",
      "\t lstm 0.025 2 18 0.001 4.60\n",
      "Iteration No: 6 ended. Evaluation done at random point.\n",
      "Time taken: 64.2864\n",
      "Function value obtained: 0.8819\n",
      "Current minimum: 0.3009\n",
      "Iteration No: 7 started. Evaluating function at random point.\n",
      "\t gru 0.354 2 13 0.003 33.38\n",
      "Iteration No: 7 ended. Evaluation done at random point.\n",
      "Time taken: 58.4567\n",
      "Function value obtained: 1.0000\n",
      "Current minimum: 0.3009\n",
      "Iteration No: 8 started. Evaluating function at random point.\n",
      "\t gru 0.412 1 17 0.001 53.40\n",
      "Iteration No: 8 ended. Evaluation done at random point.\n",
      "Time taken: 59.4757\n",
      "Function value obtained: 1.0000\n",
      "Current minimum: 0.3009\n",
      "Iteration No: 9 started. Evaluating function at random point.\n",
      "\t lstm 0.489 2 12 0.094 57.80\n",
      "Iteration No: 9 ended. Evaluation done at random point.\n",
      "Time taken: 123.5351\n",
      "Function value obtained: 1.0000\n",
      "Current minimum: 0.3009\n",
      "Iteration No: 10 started. Searching for the next optimal point.\n",
      "\t gru 0.016 1 16 0.038 2.00\n",
      "Iteration No: 10 ended. Search finished for the next optimal point.\n",
      "Time taken: 106.3010\n",
      "Function value obtained: 0.2811\n",
      "Current minimum: 0.2811\n",
      "Iteration No: 11 started. Searching for the next optimal point.\n",
      "\t gru 0.041 1 20 0.100 2.00\n",
      "Iteration No: 11 ended. Search finished for the next optimal point.\n",
      "Time taken: 70.8625\n",
      "Function value obtained: 0.2785\n",
      "Current minimum: 0.2785\n",
      "Iteration No: 12 started. Searching for the next optimal point.\n",
      "\t gru 0.032 3 20 0.001 60.00\n",
      "Iteration No: 12 ended. Search finished for the next optimal point.\n",
      "Time taken: 66.5185\n",
      "Function value obtained: 1.0000\n",
      "Current minimum: 0.2785\n",
      "Iteration No: 13 started. Searching for the next optimal point.\n",
      "\t lstm 0.003 1 8 0.069 2.00\n",
      "Iteration No: 13 ended. Search finished for the next optimal point.\n",
      "Time taken: 87.3537\n",
      "Function value obtained: 0.3406\n",
      "Current minimum: 0.2785\n",
      "Iteration No: 14 started. Searching for the next optimal point.\n",
      "\t gru 0.053 1 20 0.047 2.00\n",
      "Iteration No: 14 ended. Search finished for the next optimal point.\n",
      "Time taken: 82.2853\n",
      "Function value obtained: 0.2811\n",
      "Current minimum: 0.2785\n",
      "Iteration No: 15 started. Searching for the next optimal point.\n",
      "\t gru 0.023 3 20 0.066 2.00\n",
      "Iteration No: 15 ended. Search finished for the next optimal point.\n",
      "Time taken: 472.0785\n",
      "Function value obtained: 0.2193\n",
      "Current minimum: 0.2193\n",
      "Iteration No: 16 started. Searching for the next optimal point.\n",
      "\t gru 0.004 3 20 0.076 60.00\n",
      "Iteration No: 16 ended. Search finished for the next optimal point.\n",
      "Time taken: 198.6686\n",
      "Function value obtained: 1.0000\n",
      "Current minimum: 0.2193\n",
      "Best: 0.2192710687101166 at ['gru', 0.022675664888536746, 3, 20, 0.06571330873754073, 2.0]\n"
     ]
    }
   ],
   "source": [
    "res_gp_j = gp_minimize(objective, space, n_calls=16, n_random_starts=8, acq_func=\"PI\", \n",
    "                     x0=['gru', 0.0, 1, 8, 0.026881, 16.3068],\n",
    "                     acq_optimizer=\"auto\", verbose=True, n_jobs=3)\n",
    "\n",
    "print(f'Best: {res_gp_j.fun} at {res_gp_j.x}')"
   ]
  },
  {
   "cell_type": "code",
   "execution_count": 76,
   "metadata": {},
   "outputs": [
    {
     "data": {
      "image/png": "[encoded data removed]",
      "text/plain": [
       "<Figure size 432x288 with 1 Axes>"
      ]
     },
     "metadata": {
      "image/png": {
       "height": 277,
       "width": 394
      },
      "needs_background": "light"
     },
     "output_type": "display_data"
    }
   ],
   "source": [
    "plot_convergence(res_gp_j);"
   ]
  },
  {
   "cell_type": "markdown",
   "metadata": {},
   "source": [
    "## Model Building"
   ]
  },
  {
   "cell_type": "code",
   "execution_count": 26,
   "metadata": {},
   "outputs": [
    {
     "name": "stdout",
     "output_type": "stream",
     "text": [
      "Battle Model Cohen's Kappa:\n",
      "0.502\n",
      "Journey Model Cohen's Kappa:\n",
      "0.172\n"
     ]
    }
   ],
   "source": [
    "print('Battle Model Cohen\\'s Kappa:')\n",
    "print(f'{metrics.cohen_kappa_score(y_test_battle, battle_preds.argmax(axis=1)):.3f}')\n",
    "print('Journey Model Cohen\\'s Kappa:')\n",
    "print(f'{metrics.cohen_kappa_score(y_test_journey, journey_preds.argmax(axis=1)):.3f}')"
   ]
  }
 ],
 "metadata": {
  "kernelspec": {
   "display_name": "Python [conda env:nlp]",
   "language": "python",
   "name": "conda-env-nlp-py"
  },
  "language_info": {
   "codemirror_mode": {
    "name": "ipython",
    "version": 3
   },
   "file_extension": ".py",
   "mimetype": "text/x-python",
   "name": "python",
   "nbconvert_exporter": "python",
   "pygments_lexer": "ipython3",
   "version": "3.6.7"
  }
 },
 "nbformat": 4,
 "nbformat_minor": 2
}
