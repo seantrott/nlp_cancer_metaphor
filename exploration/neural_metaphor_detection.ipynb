{
 "cells": [
  {
   "cell_type": "markdown",
   "metadata": {},
   "source": [
    "## Automatic Metaphor Detection\n",
    "\n",
    "Given a fragment of text that has a metaphor keyword in it, predict whether that fragment is actually metaphorical. Save the models for use in the `extract_metaphors` notebook."
   ]
  },
  {
   "cell_type": "code",
<<<<<<< HEAD
   "execution_count": 1,
   "metadata": {
    "scrolled": true
   },
   "outputs": [
    {
     "name": "stderr",
     "output_type": "stream",
     "text": [
      "/Users/alex/anaconda3/envs/nlp/lib/python3.6/site-packages/allennlp/commands/find_learning_rate.py:42: UserWarning: \n",
      "This call to matplotlib.use() has no effect because the backend has already\n",
      "been chosen; matplotlib.use() must be called *before* pylab, matplotlib.pyplot,\n",
      "or matplotlib.backends is imported for the first time.\n",
      "\n",
      "The backend was *originally* set to 'module://ipykernel.pylab.backend_inline' by the following code:\n",
      "  File \"/Users/alex/anaconda3/envs/nlp/lib/python3.6/runpy.py\", line 193, in _run_module_as_main\n",
      "    \"__main__\", mod_spec)\n",
      "  File \"/Users/alex/anaconda3/envs/nlp/lib/python3.6/runpy.py\", line 85, in _run_code\n",
      "    exec(code, run_globals)\n",
      "  File \"/Users/alex/anaconda3/envs/nlp/lib/python3.6/site-packages/ipykernel_launcher.py\", line 16, in <module>\n",
      "    app.launch_new_instance()\n",
      "  File \"/Users/alex/anaconda3/envs/nlp/lib/python3.6/site-packages/traitlets/config/application.py\", line 658, in launch_instance\n",
      "    app.start()\n",
      "  File \"/Users/alex/anaconda3/envs/nlp/lib/python3.6/site-packages/ipykernel/kernelapp.py\", line 505, in start\n",
      "    self.io_loop.start()\n",
      "  File \"/Users/alex/anaconda3/envs/nlp/lib/python3.6/site-packages/tornado/platform/asyncio.py\", line 132, in start\n",
      "    self.asyncio_loop.run_forever()\n",
      "  File \"/Users/alex/anaconda3/envs/nlp/lib/python3.6/asyncio/base_events.py\", line 427, in run_forever\n",
      "    self._run_once()\n",
      "  File \"/Users/alex/anaconda3/envs/nlp/lib/python3.6/asyncio/base_events.py\", line 1440, in _run_once\n",
      "    handle._run()\n",
      "  File \"/Users/alex/anaconda3/envs/nlp/lib/python3.6/asyncio/events.py\", line 145, in _run\n",
      "    self._callback(*self._args)\n",
      "  File \"/Users/alex/anaconda3/envs/nlp/lib/python3.6/site-packages/tornado/ioloop.py\", line 758, in _run_callback\n",
      "    ret = callback()\n",
      "  File \"/Users/alex/anaconda3/envs/nlp/lib/python3.6/site-packages/tornado/stack_context.py\", line 300, in null_wrapper\n",
      "    return fn(*args, **kwargs)\n",
      "  File \"/Users/alex/anaconda3/envs/nlp/lib/python3.6/site-packages/tornado/gen.py\", line 1233, in inner\n",
      "    self.run()\n",
      "  File \"/Users/alex/anaconda3/envs/nlp/lib/python3.6/site-packages/tornado/gen.py\", line 1147, in run\n",
      "    yielded = self.gen.send(value)\n",
      "  File \"/Users/alex/anaconda3/envs/nlp/lib/python3.6/site-packages/ipykernel/kernelbase.py\", line 357, in process_one\n",
      "    yield gen.maybe_future(dispatch(*args))\n",
      "  File \"/Users/alex/anaconda3/envs/nlp/lib/python3.6/site-packages/tornado/gen.py\", line 326, in wrapper\n",
      "    yielded = next(result)\n",
      "  File \"/Users/alex/anaconda3/envs/nlp/lib/python3.6/site-packages/ipykernel/kernelbase.py\", line 267, in dispatch_shell\n",
      "    yield gen.maybe_future(handler(stream, idents, msg))\n",
      "  File \"/Users/alex/anaconda3/envs/nlp/lib/python3.6/site-packages/tornado/gen.py\", line 326, in wrapper\n",
      "    yielded = next(result)\n",
      "  File \"/Users/alex/anaconda3/envs/nlp/lib/python3.6/site-packages/ipykernel/kernelbase.py\", line 534, in execute_request\n",
      "    user_expressions, allow_stdin,\n",
      "  File \"/Users/alex/anaconda3/envs/nlp/lib/python3.6/site-packages/tornado/gen.py\", line 326, in wrapper\n",
      "    yielded = next(result)\n",
      "  File \"/Users/alex/anaconda3/envs/nlp/lib/python3.6/site-packages/ipykernel/ipkernel.py\", line 294, in do_execute\n",
      "    res = shell.run_cell(code, store_history=store_history, silent=silent)\n",
      "  File \"/Users/alex/anaconda3/envs/nlp/lib/python3.6/site-packages/ipykernel/zmqshell.py\", line 536, in run_cell\n",
      "    return super(ZMQInteractiveShell, self).run_cell(*args, **kwargs)\n",
      "  File \"/Users/alex/anaconda3/envs/nlp/lib/python3.6/site-packages/IPython/core/interactiveshell.py\", line 2819, in run_cell\n",
      "    raw_cell, store_history, silent, shell_futures)\n",
      "  File \"/Users/alex/anaconda3/envs/nlp/lib/python3.6/site-packages/IPython/core/interactiveshell.py\", line 2845, in _run_cell\n",
      "    return runner(coro)\n",
      "  File \"/Users/alex/anaconda3/envs/nlp/lib/python3.6/site-packages/IPython/core/async_helpers.py\", line 67, in _pseudo_sync_runner\n",
      "    coro.send(None)\n",
      "  File \"/Users/alex/anaconda3/envs/nlp/lib/python3.6/site-packages/IPython/core/interactiveshell.py\", line 3020, in run_cell_async\n",
      "    interactivity=interactivity, compiler=compiler, result=result)\n",
      "  File \"/Users/alex/anaconda3/envs/nlp/lib/python3.6/site-packages/IPython/core/interactiveshell.py\", line 3185, in run_ast_nodes\n",
      "    if (yield from self.run_code(code, result)):\n",
      "  File \"/Users/alex/anaconda3/envs/nlp/lib/python3.6/site-packages/IPython/core/interactiveshell.py\", line 3267, in run_code\n",
      "    exec(code_obj, self.user_global_ns, self.user_ns)\n",
      "  File \"<ipython-input-1-c281f16056bb>\", line 4, in <module>\n",
      "    import seaborn as sns\n",
      "  File \"/Users/alex/anaconda3/envs/nlp/lib/python3.6/site-packages/seaborn/__init__.py\", line 6, in <module>\n",
      "    from .rcmod import *\n",
      "  File \"/Users/alex/anaconda3/envs/nlp/lib/python3.6/site-packages/seaborn/rcmod.py\", line 5, in <module>\n",
      "    from . import palettes, _orig_rc_params\n",
      "  File \"/Users/alex/anaconda3/envs/nlp/lib/python3.6/site-packages/seaborn/palettes.py\", line 12, in <module>\n",
      "    from .utils import desaturate, set_hls_values, get_color_cycle\n",
      "  File \"/Users/alex/anaconda3/envs/nlp/lib/python3.6/site-packages/seaborn/utils.py\", line 11, in <module>\n",
      "    import matplotlib.pyplot as plt\n",
      "  File \"/Users/alex/anaconda3/envs/nlp/lib/python3.6/site-packages/matplotlib/pyplot.py\", line 71, in <module>\n",
      "    from matplotlib.backends import pylab_setup\n",
      "  File \"/Users/alex/anaconda3/envs/nlp/lib/python3.6/site-packages/matplotlib/backends/__init__.py\", line 16, in <module>\n",
      "    line for line in traceback.format_stack()\n",
      "\n",
      "\n",
      "  import matplotlib; matplotlib.use('Agg') # pylint: disable=multiple-statements,wrong-import-position\n"
     ]
    }
   ],
=======
   "execution_count": null,
   "metadata": {
    "scrolled": true
   },
   "outputs": [],
>>>>>>> fixed
   "source": [
    "import os.path as op\n",
    "\n",
    "import numpy as np\n",
    "import seaborn as sns\n",
    "import matplotlib.pyplot as plt\n",
    "\n",
    "%config InlineBackend.figure_format = 'retina'\n",
    "\n",
    "import pandas as pd\n",
    "\n",
    "from tqdm import tqdm_notebook as tqdm\n",
    "\n",
    "from allennlp.commands.elmo import ElmoEmbedder\n",
    "\n",
    "from nltk.tokenize import RegexpTokenizer"
   ]
  },
  {
   "cell_type": "code",
   "execution_count": 2,
   "metadata": {},
   "outputs": [],
   "source": [
    "DATA_PROCESSED = '../data/processed'"
   ]
  },
  {
   "cell_type": "code",
   "execution_count": 3,
   "metadata": {},
   "outputs": [
    {
     "data": {
      "text/plain": [
<<<<<<< HEAD
       "1683"
=======
       "1799"
>>>>>>> fixed
      ]
     },
     "execution_count": 3,
     "metadata": {},
     "output_type": "execute_result"
    }
   ],
   "source": [
    "instances = pd.read_csv(op.join(DATA_PROCESSED, 'labeled.csv')).dropna()\n",
    "\n",
    "len(instances)"
   ]
  },
  {
   "cell_type": "markdown",
   "metadata": {},
   "source": [
    "Load up an ELMO embedder for contextualized word embeddings."
   ]
  },
  {
   "cell_type": "code",
   "execution_count": 5,
   "metadata": {},
   "outputs": [],
   "source": [
    "elmo = ElmoEmbedder()\n",
    "tokenizer = RegexpTokenizer(r'\\w+')"
   ]
  },
  {
   "cell_type": "code",
   "execution_count": 5,
   "metadata": {},
<<<<<<< HEAD
   "outputs": [
    {
     "data": {
      "text/html": [
       "<div>\n",
       "<style scoped>\n",
       "    .dataframe tbody tr th:only-of-type {\n",
       "        vertical-align: middle;\n",
       "    }\n",
       "\n",
       "    .dataframe tbody tr th {\n",
       "        vertical-align: top;\n",
       "    }\n",
       "\n",
       "    .dataframe thead th {\n",
       "        text-align: right;\n",
       "    }\n",
       "</style>\n",
       "<table border=\"1\" class=\"dataframe\">\n",
       "  <thead>\n",
       "    <tr style=\"text-align: right;\">\n",
       "      <th></th>\n",
       "      <th>char_location</th>\n",
       "      <th>fragment</th>\n",
       "      <th>keyword</th>\n",
       "      <th>kw_start</th>\n",
       "      <th>metaphorical</th>\n",
       "      <th>project_id</th>\n",
       "      <th>type</th>\n",
       "    </tr>\n",
       "  </thead>\n",
       "  <tbody>\n",
       "    <tr>\n",
       "      <th>824</th>\n",
       "      <td>2699.0</td>\n",
       "      <td>g well enough to work, we need everyone to ral...</td>\n",
       "      <td>fight</td>\n",
       "      <td>81.0</td>\n",
       "      <td>True</td>\n",
       "      <td>f02acd38a06a2890275b80048839ec6d</td>\n",
       "      <td>battle</td>\n",
       "    </tr>\n",
       "    <tr>\n",
       "      <th>164</th>\n",
       "      <td>1658.0</td>\n",
       "      <td>eir emotions through art. With your help I wil...</td>\n",
       "      <td>journey</td>\n",
       "      <td>81.0</td>\n",
       "      <td>True</td>\n",
       "      <td>88d5e6ea6d8cf28c13d51c2414bd78dc</td>\n",
       "      <td>journey</td>\n",
       "    </tr>\n",
       "    <tr>\n",
       "      <th>1016</th>\n",
       "      <td>1346.0</td>\n",
       "      <td>nd stubborn!), but these two attributes may be...</td>\n",
       "      <td>battle</td>\n",
       "      <td>81.0</td>\n",
       "      <td>True</td>\n",
       "      <td>1f4a41ba8b6d2a91d53e1fedbb5fd92a</td>\n",
       "      <td>battle</td>\n",
       "    </tr>\n",
       "  </tbody>\n",
       "</table>\n",
       "</div>"
      ],
      "text/plain": [
       "      char_location                                           fragment  \\\n",
       "824          2699.0  g well enough to work, we need everyone to ral...   \n",
       "164          1658.0  eir emotions through art. With your help I wil...   \n",
       "1016         1346.0  nd stubborn!), but these two attributes may be...   \n",
       "\n",
       "      keyword  kw_start metaphorical                        project_id  \\\n",
       "824     fight      81.0         True  f02acd38a06a2890275b80048839ec6d   \n",
       "164   journey      81.0         True  88d5e6ea6d8cf28c13d51c2414bd78dc   \n",
       "1016   battle      81.0         True  1f4a41ba8b6d2a91d53e1fedbb5fd92a   \n",
       "\n",
       "         type  \n",
       "824    battle  \n",
       "164   journey  \n",
       "1016   battle  "
      ]
     },
     "execution_count": 5,
     "metadata": {},
     "output_type": "execute_result"
    }
   ],
   "source": [
    "instances.sample(3)"
   ]
  },
  {
   "cell_type": "code",
   "execution_count": 6,
   "metadata": {},
=======
>>>>>>> fixed
   "outputs": [],
   "source": [
    "def pad(s, kw_start, lim=20):\n",
    "    '''\n",
    "    Limit a fragment to `lim` tokens. If less than, pad with empty strings.\n",
    "    '''\n",
    "    \n",
    "    prior = tokenizer.tokenize(s[:kw_start])\n",
    "    post = tokenizer.tokenize(s[kw_start:])\n",
    "    \n",
    "    if len(prior) < lim/2:\n",
    "        while len(prior) < lim/2:\n",
    "            prior.insert(0, '')\n",
    "    else:\n",
    "        prior = prior[len(prior) - round(lim/2):]\n",
    "        \n",
    "    if len(post) < lim/2:\n",
    "        while len(post) < lim/2:\n",
    "            post.append('')\n",
    "    else:\n",
    "        post = post[:round(lim/2)]\n",
    "        \n",
    "    prior.extend(post)\n",
    "    return prior"
   ]
  },
  {
   "cell_type": "markdown",
   "metadata": {},
   "source": [
    "We create two models, one for journey metaphors and one for battle metaphors."
   ]
  },
  {
   "cell_type": "code",
   "execution_count": 6,
   "metadata": {},
   "outputs": [],
   "source": [
    "battle_fragments = [pad(fragment.fragment, int(fragment.kw_start)) for fragment in instances.loc[instances['type'] == 'battle', ['fragment', 'kw_start']].itertuples()]\n",
    "\n",
    "journey_fragments = [pad(fragment.fragment, int(fragment.kw_start)) for fragment in instances.loc[instances['type'] == 'journey', ['fragment', 'kw_start']].itertuples()]"
   ]
  },
  {
   "cell_type": "markdown",
   "metadata": {},
   "source": [
    "Embed the fragment sequences with ELMO."
   ]
  },
  {
   "cell_type": "code",
   "execution_count": 7,
   "metadata": {},
   "outputs": [
    {
     "data": {
      "application/vnd.jupyter.widget-view+json": {
<<<<<<< HEAD
       "model_id": "118815dcc1af4e3896839d7fd16820b2",
=======
       "model_id": "46266c220412477f908af485d6f5d437",
>>>>>>> fixed
       "version_major": 2,
       "version_minor": 0
      },
      "text/plain": [
       "HBox(children=(IntProgress(value=1, bar_style='info', max=1), HTML(value='')))"
      ]
     },
     "metadata": {},
     "output_type": "display_data"
    },
    {
     "name": "stdout",
     "output_type": "stream",
     "text": [
      "\n"
     ]
    },
    {
     "data": {
      "application/vnd.jupyter.widget-view+json": {
<<<<<<< HEAD
       "model_id": "5e3b760d73b54b0b861d72041b1eb496",
=======
       "model_id": "2446f9ef993e45088861359c1c97fb12",
>>>>>>> fixed
       "version_major": 2,
       "version_minor": 0
      },
      "text/plain": [
       "HBox(children=(IntProgress(value=1, bar_style='info', max=1), HTML(value='')))"
      ]
     },
     "metadata": {},
     "output_type": "display_data"
    },
    {
     "name": "stdout",
     "output_type": "stream",
     "text": [
      "\n"
     ]
    }
   ],
   "source": [
    "battle_embds = elmo.embed_sentences(battle_fragments)\n",
    "battle_embedded_fragments = np.array([embd[2] for embd in tqdm(battle_embds)])\n",
    "journey_embds = elmo.embed_sentences(journey_fragments)\n",
    "journey_embedded_fragments = np.array([embd[2] for embd in tqdm(journey_embds)])"
   ]
  },
  {
   "cell_type": "code",
   "execution_count": 8,
   "metadata": {},
   "outputs": [
    {
     "data": {
      "text/plain": [
<<<<<<< HEAD
       "((1377, 20, 1024), (306, 20, 1024))"
=======
       "((1472, 20, 1024), (327, 20, 1024))"
>>>>>>> fixed
      ]
     },
     "execution_count": 8,
     "metadata": {},
     "output_type": "execute_result"
    }
   ],
   "source": [
    "battle_embedded_fragments.shape, journey_embedded_fragments.shape"
   ]
  },
  {
   "cell_type": "markdown",
   "metadata": {},
   "source": [
    "Separate the target values: whether a fragment is truly metaphorical"
   ]
  },
  {
   "cell_type": "code",
   "execution_count": 9,
   "metadata": {},
   "outputs": [],
   "source": [
    "y_data_battle = instances.loc[instances['type'] == 'battle', 'metaphorical'].astype(int).values\n",
    "y_data_journey = instances.loc[instances['type'] == 'journey', 'metaphorical'].astype(int).values"
   ]
  },
  {
   "cell_type": "code",
   "execution_count": 23,
   "metadata": {},
   "outputs": [],
   "source": [
    "from sklearn.model_selection import StratifiedKFold, train_test_split"
   ]
  },
  {
   "cell_type": "code",
   "execution_count": 12,
   "metadata": {},
<<<<<<< HEAD
   "outputs": [],
=======
   "outputs": [
    {
     "name": "stderr",
     "output_type": "stream",
     "text": [
      "/Users/alex/anaconda3/envs/nlp/lib/python3.6/site-packages/sklearn/model_selection/_split.py:2179: FutureWarning: From version 0.21, test_size will always complement train_size unless both are specified.\n",
      "  FutureWarning)\n",
      "/Users/alex/anaconda3/envs/nlp/lib/python3.6/site-packages/sklearn/model_selection/_split.py:2179: FutureWarning: From version 0.21, test_size will always complement train_size unless both are specified.\n",
      "  FutureWarning)\n"
     ]
    }
   ],
>>>>>>> fixed
   "source": [
    "X_train_battle, X_test_battle, y_train_battle, y_test_battle = train_test_split(battle_embedded_fragments, y_data_battle, train_size=0.8, stratify=y_data_battle)\n",
    "X_train_journey, X_test_journey, y_train_journey, y_test_journey = train_test_split(journey_embedded_fragments, y_data_journey, train_size=0.8, stratify=y_data_journey)"
   ]
  },
  {
   "cell_type": "markdown",
   "metadata": {},
   "source": [
    "# Building Models"
   ]
  },
  {
   "cell_type": "code",
   "execution_count": 13,
   "metadata": {},
   "outputs": [
    {
     "name": "stderr",
     "output_type": "stream",
     "text": [
<<<<<<< HEAD
      "/Users/alex/anaconda3/envs/nlp/lib/python3.6/site-packages/sklearn/model_selection/_split.py:2179: FutureWarning: From version 0.21, test_size will always complement train_size unless both are specified.\n",
      "  FutureWarning)\n",
      "/Users/alex/anaconda3/envs/nlp/lib/python3.6/site-packages/sklearn/model_selection/_split.py:2179: FutureWarning: From version 0.21, test_size will always complement train_size unless both are specified.\n",
      "  FutureWarning)\n"
=======
      "Using TensorFlow backend.\n"
>>>>>>> fixed
     ]
    }
   ],
   "source": [
<<<<<<< HEAD
    "X_train_battle, X_test_battle, y_train_battle, y_test_battle = train_test_split(battle_embedded_fragments, y_data_battle, train_size=0.8, stratify=y_data_battle)\n",
    "X_train_journey, X_test_journey, y_train_journey, y_test_journey = train_test_split(journey_embedded_fragments, y_data_journey, train_size=0.8, stratify=y_data_journey)"
=======
    "from keras import backend as K\n",
    "from keras.layers import *\n",
    "from keras.models import Model\n",
    "from keras import optimizers\n",
    "from keras.callbacks import EarlyStopping\n",
    "\n",
    "from sklearn import metrics\n",
    "\n",
    "from datetime import datetime\n",
    "\n",
    "from skopt.space import Real, Categorical, Integer\n",
    "from skopt.utils import use_named_args\n",
    "from skopt import gp_minimize"
>>>>>>> fixed
   ]
  },
  {
   "cell_type": "markdown",
   "metadata": {},
   "source": [
    "Based on *Detecting Figurative Word Occurrences Using Recurrent Neural Networks* (Mykowiecka et al. 2018)\n",
    "\n",
    "https://github.com/gao-g/metaphor-in-context/blob/master/classification/main_vua.py"
   ]
  },
  {
   "cell_type": "code",
   "execution_count": 59,
   "metadata": {},
   "outputs": [],
   "source": [
<<<<<<< HEAD
    "def build_model1():\n",
    "\n",
    "    inputs = Input(shape=(20, 1024), name=\"input\")\n",
=======
    "def random_model(length, weight=0.5):\n",
    "    return np.random.binomial(1, weight, length)\n",
    "    \n",
    "def gru_model(dropout):\n",
    "\n",
    "def build_model(rnn_layer, dropout, hidden_layers, hidden_units, lr):\n",
    "    inputs = Input(shape=(20, 1024), name=\"input\")\n",
    "    \n",
    "    rnn_layer = GRU if rnn_layer is 'gru' else LSTM\n",
>>>>>>> fixed
    "\n",
    "    x = Bidirectional(GRU(20, return_sequences=True, name=\"gru\"))(inputs)\n",
    "    x = Dropout(dropout)(x)\n",
    "    x = Bidirectional(GRU(20, name='gru2'))(x)\n",
    "\n",
    "    x = Dropout(dropout)(x)\n",
    "    x = Dense(20, activation='relu', name=\"dense\")(x)\n",
    "    x = Bidirectional(rnn_layer(20, return_sequences=True, name=\"rnn\"))(inputs)\n",
    "    x = Dropout(dropout)(x)\n",
    "    x = Bidirectional(rnn_layer(20, name='rnn2'))(x)\n",
    "\n",
<<<<<<< HEAD
    "    _model.compile(optimizer=optimizers.Adam(lr=0.5*1e-3),\n",
    "                  loss='sparse_categorical_crossentropy')\n",
    "    \n",
    "    return _model\n",
    "\n",
    "def build_model2():\n",
    "\n",
    "    inputs = Input(shape=(20, 1024), name=\"input\")\n",
    "\n",
    "    x = Bidirectional(LSTM(20, return_sequences=True, name=\"lstm\"))(inputs)\n",
    "    x = Dropout(0.3)(x)\n",
    "    x = Bidirectional(LSTM(20, name='lstm2'))(x)\n",
    "\n",
    "    x = Dropout(0.1)(x)\n",
    "    x = Dense(20, activation='relu', name=\"dense\")(x)\n",
=======
    "    for lyr in range(1,hidden_layers+1):\n",
    "        x = Dropout(dropout)(x)\n",
    "        x = Dense(int(round(hidden_units/lyr)), activation='relu', name=f\"dense{lyr+1}\")(x)\n",
>>>>>>> fixed
    "        \n",
    "    predictions = Dense(1, activation='sigmoid', name=\"out\")(x)\n",
    "    _model = Model(inputs=inputs, outputs=predictions)\n",
    "\n",
<<<<<<< HEAD
    "    _model.compile(optimizer=optimizers.Adam(lr=0.5*1e-3),\n",
    "                  loss='sparse_categorical_crossentropy')\n",
=======
    "    _model.compile(optimizer=optimizers.Adam(lr=0.05, decay=0.5),\n",
    "                  loss='binary_crossentropy')\n",
    "    _model.compile(optimizer=optimizers.Adam(lr=lr, decay=0.1),\n",
    "                  loss='binary_crossentropy')\n",
>>>>>>> fixed
    "    \n",
    "    return _model"
   ]
  },
  {
   "cell_type": "markdown",
   "metadata": {},
   "source": [
<<<<<<< HEAD
    "build_model2().summary()"
   ]
  },
  {
   "cell_type": "markdown",
=======
    "Perform some parameter search and cross validation. This can take a while."
   ]
  },
  {
   "cell_type": "code",
   "execution_count": 15,
>>>>>>> fixed
   "metadata": {},
   "source": [
<<<<<<< HEAD
    "Perform some parameter search and cross validation. This takes a few hours."
   ]
  },
  {
   "cell_type": "code",
   "execution_count": 15,
   "metadata": {},
   "outputs": [],
   "source": [
    "parameter_grid = {\n",
    "    'weight': (20, 80),\n",
    "}"
   ]
  },
  {
   "cell_type": "code",
   "execution_count": 23,
   "metadata": {
    "scrolled": true
   },
   "outputs": [
    {
     "name": "stdout",
     "output_type": "stream",
     "text": [
      "[2019-03-02 16:06:52.538888] Model: 1 Family: battle Weight: 42.540 Trial: 1 Fold: 1\n",
      "[2019-03-02 16:07:49.317158] Model: 2 Family: battle Weight: 42.540 Trial: 1 Fold: 1\n",
      "[2019-03-02 16:08:46.777586] Model: 1 Family: battle Weight: 42.540 Trial: 1 Fold: 2\n",
      "[2019-03-02 16:09:45.986431] Model: 2 Family: battle Weight: 42.540 Trial: 1 Fold: 2\n",
      "[2019-03-02 16:10:49.948918] Model: 1 Family: battle Weight: 42.540 Trial: 1 Fold: 3\n",
      "[2019-03-02 16:12:15.987592] Model: 2 Family: battle Weight: 42.540 Trial: 1 Fold: 3\n",
      "[2019-03-02 16:13:05.832640] Model: 1 Family: journey Weight: 42.540 Trial: 1 Fold: 1\n",
      "[2019-03-02 16:13:56.327896] Model: 2 Family: journey Weight: 42.540 Trial: 1 Fold: 1\n",
      "[2019-03-02 16:14:38.354107] Model: 1 Family: journey Weight: 42.540 Trial: 1 Fold: 2\n"
     ]
    },
    {
     "name": "stderr",
     "output_type": "stream",
     "text": [
      "/Users/alex/anaconda3/envs/nlp/lib/python3.6/site-packages/sklearn/metrics/classification.py:1143: UndefinedMetricWarning: Precision is ill-defined and being set to 0.0 due to no predicted samples.\n",
      "  'precision', 'predicted', average, warn_for)\n"
     ]
    },
    {
     "name": "stdout",
     "output_type": "stream",
     "text": [
      "[2019-03-02 16:15:20.687875] Model: 2 Family: journey Weight: 42.540 Trial: 1 Fold: 2\n",
      "[2019-03-02 16:16:27.637360] Model: 1 Family: journey Weight: 42.540 Trial: 1 Fold: 3\n"
     ]
    },
    {
     "name": "stderr",
     "output_type": "stream",
     "text": [
      "/Users/alex/anaconda3/envs/nlp/lib/python3.6/site-packages/sklearn/metrics/classification.py:1143: UndefinedMetricWarning: Precision is ill-defined and being set to 0.0 due to no predicted samples.\n",
      "  'precision', 'predicted', average, warn_for)\n"
     ]
    },
    {
     "name": "stdout",
     "output_type": "stream",
     "text": [
      "[2019-03-02 16:17:16.886271] Model: 2 Family: journey Weight: 42.540 Trial: 1 Fold: 3\n",
      "[2019-03-02 16:18:28.318645] Model: 1 Family: battle Weight: 53.950 Trial: 2 Fold: 1\n",
      "[2019-03-02 16:19:43.381613] Model: 2 Family: battle Weight: 53.950 Trial: 2 Fold: 1\n",
      "[2019-03-02 16:20:54.132866] Model: 1 Family: battle Weight: 53.950 Trial: 2 Fold: 2\n",
      "[2019-03-02 16:22:16.386017] Model: 2 Family: battle Weight: 53.950 Trial: 2 Fold: 2\n",
      "[2019-03-02 16:23:34.407316] Model: 1 Family: battle Weight: 53.950 Trial: 2 Fold: 3\n",
      "[2019-03-02 16:24:48.893663] Model: 2 Family: battle Weight: 53.950 Trial: 2 Fold: 3\n"
     ]
    },
    {
     "name": "stderr",
     "output_type": "stream",
     "text": [
      "/Users/alex/anaconda3/envs/nlp/lib/python3.6/site-packages/sklearn/metrics/classification.py:1143: UndefinedMetricWarning: Precision is ill-defined and being set to 0.0 due to no predicted samples.\n",
      "  'precision', 'predicted', average, warn_for)\n"
     ]
    },
    {
     "name": "stdout",
     "output_type": "stream",
     "text": [
      "[2019-03-02 16:25:48.828138] Model: 1 Family: journey Weight: 53.950 Trial: 2 Fold: 1\n"
     ]
    },
    {
     "name": "stderr",
     "output_type": "stream",
     "text": [
      "/Users/alex/anaconda3/envs/nlp/lib/python3.6/site-packages/sklearn/metrics/classification.py:1143: UndefinedMetricWarning: Precision is ill-defined and being set to 0.0 due to no predicted samples.\n",
      "  'precision', 'predicted', average, warn_for)\n"
     ]
    },
    {
     "name": "stdout",
     "output_type": "stream",
     "text": [
      "[2019-03-02 16:26:50.309529] Model: 2 Family: journey Weight: 53.950 Trial: 2 Fold: 1\n"
     ]
    },
    {
     "name": "stderr",
     "output_type": "stream",
     "text": [
      "/Users/alex/anaconda3/envs/nlp/lib/python3.6/site-packages/sklearn/metrics/classification.py:1143: UndefinedMetricWarning: Precision is ill-defined and being set to 0.0 due to no predicted samples.\n",
      "  'precision', 'predicted', average, warn_for)\n"
     ]
    },
    {
     "name": "stdout",
     "output_type": "stream",
     "text": [
      "[2019-03-02 16:27:43.237820] Model: 1 Family: journey Weight: 53.950 Trial: 2 Fold: 2\n"
     ]
    },
    {
     "name": "stderr",
     "output_type": "stream",
     "text": [
      "/Users/alex/anaconda3/envs/nlp/lib/python3.6/site-packages/sklearn/metrics/classification.py:1143: UndefinedMetricWarning: Precision is ill-defined and being set to 0.0 due to no predicted samples.\n",
      "  'precision', 'predicted', average, warn_for)\n"
     ]
    },
    {
     "name": "stdout",
     "output_type": "stream",
     "text": [
      "[2019-03-02 16:28:40.500276] Model: 2 Family: journey Weight: 53.950 Trial: 2 Fold: 2\n",
      "[2019-03-02 16:29:38.188886] Model: 1 Family: journey Weight: 53.950 Trial: 2 Fold: 3\n"
     ]
    },
    {
     "name": "stderr",
     "output_type": "stream",
     "text": [
      "/Users/alex/anaconda3/envs/nlp/lib/python3.6/site-packages/sklearn/metrics/classification.py:1143: UndefinedMetricWarning: Precision is ill-defined and being set to 0.0 due to no predicted samples.\n",
      "  'precision', 'predicted', average, warn_for)\n"
     ]
    },
    {
     "name": "stdout",
     "output_type": "stream",
     "text": [
      "[2019-03-02 16:30:42.761910] Model: 2 Family: journey Weight: 53.950 Trial: 2 Fold: 3\n",
      "[2019-03-02 16:32:08.159086] Model: 1 Family: battle Weight: 59.360 Trial: 3 Fold: 1\n",
      "[2019-03-02 16:34:37.471476] Model: 2 Family: battle Weight: 59.360 Trial: 3 Fold: 1\n",
      "[2019-03-02 16:36:25.600154] Model: 1 Family: battle Weight: 59.360 Trial: 3 Fold: 2\n",
      "[2019-03-02 16:38:14.962251] Model: 2 Family: battle Weight: 59.360 Trial: 3 Fold: 2\n",
      "[2019-03-02 16:40:31.096105] Model: 1 Family: battle Weight: 59.360 Trial: 3 Fold: 3\n",
      "[2019-03-02 16:42:32.976590] Model: 2 Family: battle Weight: 59.360 Trial: 3 Fold: 3\n"
     ]
    },
    {
     "name": "stderr",
     "output_type": "stream",
     "text": [
      "/Users/alex/anaconda3/envs/nlp/lib/python3.6/site-packages/sklearn/metrics/classification.py:1143: UndefinedMetricWarning: Precision is ill-defined and being set to 0.0 due to no predicted samples.\n",
      "  'precision', 'predicted', average, warn_for)\n"
     ]
    },
    {
     "name": "stdout",
     "output_type": "stream",
     "text": [
      "[2019-03-02 16:44:12.752804] Model: 1 Family: journey Weight: 59.360 Trial: 3 Fold: 1\n"
     ]
    },
    {
     "name": "stderr",
     "output_type": "stream",
     "text": [
      "/Users/alex/anaconda3/envs/nlp/lib/python3.6/site-packages/sklearn/metrics/classification.py:1143: UndefinedMetricWarning: Precision is ill-defined and being set to 0.0 due to no predicted samples.\n",
      "  'precision', 'predicted', average, warn_for)\n"
     ]
    },
    {
     "name": "stdout",
     "output_type": "stream",
     "text": [
      "[2019-03-02 16:45:31.471256] Model: 2 Family: journey Weight: 59.360 Trial: 3 Fold: 1\n"
     ]
    },
    {
     "name": "stderr",
     "output_type": "stream",
     "text": [
      "/Users/alex/anaconda3/envs/nlp/lib/python3.6/site-packages/sklearn/metrics/classification.py:1143: UndefinedMetricWarning: Precision is ill-defined and being set to 0.0 due to no predicted samples.\n",
      "  'precision', 'predicted', average, warn_for)\n"
     ]
    },
    {
     "name": "stdout",
     "output_type": "stream",
     "text": [
      "[2019-03-02 16:46:50.536121] Model: 1 Family: journey Weight: 59.360 Trial: 3 Fold: 2\n"
     ]
    },
    {
     "name": "stderr",
     "output_type": "stream",
     "text": [
      "/Users/alex/anaconda3/envs/nlp/lib/python3.6/site-packages/sklearn/metrics/classification.py:1143: UndefinedMetricWarning: Precision is ill-defined and being set to 0.0 due to no predicted samples.\n",
      "  'precision', 'predicted', average, warn_for)\n"
     ]
    },
    {
     "name": "stdout",
     "output_type": "stream",
     "text": [
      "[2019-03-02 16:48:09.304807] Model: 2 Family: journey Weight: 59.360 Trial: 3 Fold: 2\n"
     ]
    },
    {
     "name": "stderr",
     "output_type": "stream",
     "text": [
      "/Users/alex/anaconda3/envs/nlp/lib/python3.6/site-packages/sklearn/metrics/classification.py:1143: UndefinedMetricWarning: Precision is ill-defined and being set to 0.0 due to no predicted samples.\n",
      "  'precision', 'predicted', average, warn_for)\n"
     ]
    },
    {
     "name": "stdout",
     "output_type": "stream",
     "text": [
      "[2019-03-02 16:49:44.964116] Model: 1 Family: journey Weight: 59.360 Trial: 3 Fold: 3\n"
     ]
    },
    {
     "name": "stderr",
     "output_type": "stream",
     "text": [
      "/Users/alex/anaconda3/envs/nlp/lib/python3.6/site-packages/sklearn/metrics/classification.py:1143: UndefinedMetricWarning: Precision is ill-defined and being set to 0.0 due to no predicted samples.\n",
      "  'precision', 'predicted', average, warn_for)\n"
     ]
    },
    {
     "name": "stdout",
     "output_type": "stream",
     "text": [
      "[2019-03-02 16:51:00.067770] Model: 2 Family: journey Weight: 59.360 Trial: 3 Fold: 3\n",
      "[2019-03-02 16:52:52.985209] Model: 1 Family: battle Weight: 57.820 Trial: 4 Fold: 1\n",
      "[2019-03-02 16:54:37.497494] Model: 2 Family: battle Weight: 57.820 Trial: 4 Fold: 1\n",
      "[2019-03-02 16:56:19.802866] Model: 1 Family: battle Weight: 57.820 Trial: 4 Fold: 2\n",
      "[2019-03-02 16:58:09.632581] Model: 2 Family: battle Weight: 57.820 Trial: 4 Fold: 2\n",
      "[2019-03-02 16:59:37.070203] Model: 1 Family: battle Weight: 57.820 Trial: 4 Fold: 3\n",
      "[2019-03-02 17:01:00.475694] Model: 2 Family: battle Weight: 57.820 Trial: 4 Fold: 3\n"
     ]
    },
    {
     "name": "stderr",
     "output_type": "stream",
     "text": [
      "/Users/alex/anaconda3/envs/nlp/lib/python3.6/site-packages/sklearn/metrics/classification.py:1143: UndefinedMetricWarning: Precision is ill-defined and being set to 0.0 due to no predicted samples.\n",
      "  'precision', 'predicted', average, warn_for)\n"
     ]
    },
    {
     "name": "stdout",
     "output_type": "stream",
     "text": [
      "[2019-03-02 17:03:55.084345] Model: 1 Family: journey Weight: 57.820 Trial: 4 Fold: 1\n"
     ]
    },
    {
     "name": "stderr",
     "output_type": "stream",
     "text": [
      "/Users/alex/anaconda3/envs/nlp/lib/python3.6/site-packages/sklearn/metrics/classification.py:1143: UndefinedMetricWarning: Precision is ill-defined and being set to 0.0 due to no predicted samples.\n",
      "  'precision', 'predicted', average, warn_for)\n"
     ]
    },
    {
     "name": "stdout",
     "output_type": "stream",
     "text": [
      "[2019-03-02 17:05:23.693378] Model: 2 Family: journey Weight: 57.820 Trial: 4 Fold: 1\n",
      "[2019-03-02 17:07:35.366355] Model: 1 Family: journey Weight: 57.820 Trial: 4 Fold: 2\n"
     ]
    },
    {
     "name": "stderr",
     "output_type": "stream",
     "text": [
      "/Users/alex/anaconda3/envs/nlp/lib/python3.6/site-packages/sklearn/metrics/classification.py:1143: UndefinedMetricWarning: Precision is ill-defined and being set to 0.0 due to no predicted samples.\n",
      "  'precision', 'predicted', average, warn_for)\n"
     ]
    },
    {
     "name": "stdout",
     "output_type": "stream",
     "text": [
      "[2019-03-02 17:08:59.804254] Model: 2 Family: journey Weight: 57.820 Trial: 4 Fold: 2\n",
      "[2019-03-02 17:10:21.416627] Model: 1 Family: journey Weight: 57.820 Trial: 4 Fold: 3\n"
     ]
    },
    {
     "name": "stderr",
     "output_type": "stream",
     "text": [
      "/Users/alex/anaconda3/envs/nlp/lib/python3.6/site-packages/sklearn/metrics/classification.py:1143: UndefinedMetricWarning: Precision is ill-defined and being set to 0.0 due to no predicted samples.\n",
      "  'precision', 'predicted', average, warn_for)\n"
     ]
    },
    {
     "name": "stdout",
     "output_type": "stream",
     "text": [
      "[2019-03-02 17:11:50.388981] Model: 2 Family: journey Weight: 57.820 Trial: 4 Fold: 3\n",
      "[2019-03-02 17:13:42.736479] Model: 1 Family: battle Weight: 31.480 Trial: 5 Fold: 1\n",
      "[2019-03-02 17:15:16.207497] Model: 2 Family: battle Weight: 31.480 Trial: 5 Fold: 1\n",
      "[2019-03-02 17:16:43.354818] Model: 1 Family: battle Weight: 31.480 Trial: 5 Fold: 2\n",
      "[2019-03-02 17:18:22.340709] Model: 2 Family: battle Weight: 31.480 Trial: 5 Fold: 2\n",
      "[2019-03-02 17:19:52.439353] Model: 1 Family: battle Weight: 31.480 Trial: 5 Fold: 3\n",
      "[2019-03-02 17:21:39.585116] Model: 2 Family: battle Weight: 31.480 Trial: 5 Fold: 3\n",
      "[2019-03-02 17:22:53.431738] Model: 1 Family: journey Weight: 31.480 Trial: 5 Fold: 1\n"
     ]
    },
    {
     "name": "stderr",
     "output_type": "stream",
     "text": [
      "/Users/alex/anaconda3/envs/nlp/lib/python3.6/site-packages/sklearn/metrics/classification.py:1143: UndefinedMetricWarning: Precision is ill-defined and being set to 0.0 due to no predicted samples.\n",
      "  'precision', 'predicted', average, warn_for)\n"
     ]
    },
    {
     "name": "stdout",
     "output_type": "stream",
     "text": [
      "[2019-03-02 17:24:12.756866] Model: 2 Family: journey Weight: 31.480 Trial: 5 Fold: 1\n",
      "[2019-03-02 17:25:34.371270] Model: 1 Family: journey Weight: 31.480 Trial: 5 Fold: 2\n"
     ]
    },
    {
     "name": "stderr",
     "output_type": "stream",
     "text": [
      "/Users/alex/anaconda3/envs/nlp/lib/python3.6/site-packages/sklearn/metrics/classification.py:1143: UndefinedMetricWarning: Precision is ill-defined and being set to 0.0 due to no predicted samples.\n",
      "  'precision', 'predicted', average, warn_for)\n"
     ]
    },
    {
     "name": "stdout",
     "output_type": "stream",
     "text": [
      "[2019-03-02 17:26:58.047252] Model: 2 Family: journey Weight: 31.480 Trial: 5 Fold: 2\n",
      "[2019-03-02 17:28:16.535834] Model: 1 Family: journey Weight: 31.480 Trial: 5 Fold: 3\n"
     ]
    },
    {
     "name": "stderr",
     "output_type": "stream",
     "text": [
      "/Users/alex/anaconda3/envs/nlp/lib/python3.6/site-packages/sklearn/metrics/classification.py:1143: UndefinedMetricWarning: Precision is ill-defined and being set to 0.0 due to no predicted samples.\n",
      "  'precision', 'predicted', average, warn_for)\n"
     ]
    },
    {
     "name": "stdout",
     "output_type": "stream",
     "text": [
      "[2019-03-02 17:29:36.023762] Model: 2 Family: journey Weight: 31.480 Trial: 5 Fold: 3\n",
      "[2019-03-02 17:32:02.774880] Model: 1 Family: battle Weight: 56.420 Trial: 6 Fold: 1\n",
      "[2019-03-02 17:34:04.235116] Model: 2 Family: battle Weight: 56.420 Trial: 6 Fold: 1\n",
      "[2019-03-02 17:36:08.999125] Model: 1 Family: battle Weight: 56.420 Trial: 6 Fold: 2\n",
      "[2019-03-02 17:38:18.783057] Model: 2 Family: battle Weight: 56.420 Trial: 6 Fold: 2\n",
      "[2019-03-02 17:44:28.707094] Model: 1 Family: battle Weight: 56.420 Trial: 6 Fold: 3\n",
      "[2019-03-02 17:47:41.530206] Model: 2 Family: battle Weight: 56.420 Trial: 6 Fold: 3\n"
     ]
    },
    {
     "name": "stderr",
     "output_type": "stream",
     "text": [
      "/Users/alex/anaconda3/envs/nlp/lib/python3.6/site-packages/sklearn/metrics/classification.py:1143: UndefinedMetricWarning: Precision is ill-defined and being set to 0.0 due to no predicted samples.\n",
      "  'precision', 'predicted', average, warn_for)\n"
     ]
    },
    {
     "name": "stdout",
     "output_type": "stream",
     "text": [
      "[2019-03-02 17:49:38.347743] Model: 1 Family: journey Weight: 56.420 Trial: 6 Fold: 1\n"
     ]
    },
    {
     "name": "stderr",
     "output_type": "stream",
     "text": [
      "/Users/alex/anaconda3/envs/nlp/lib/python3.6/site-packages/sklearn/metrics/classification.py:1143: UndefinedMetricWarning: Precision is ill-defined and being set to 0.0 due to no predicted samples.\n",
      "  'precision', 'predicted', average, warn_for)\n"
     ]
    },
    {
     "name": "stdout",
     "output_type": "stream",
     "text": [
      "[2019-03-02 17:51:37.789299] Model: 2 Family: journey Weight: 56.420 Trial: 6 Fold: 1\n",
      "[2019-03-02 17:54:02.516967] Model: 1 Family: journey Weight: 56.420 Trial: 6 Fold: 2\n"
     ]
    },
    {
     "name": "stderr",
     "output_type": "stream",
     "text": [
      "/Users/alex/anaconda3/envs/nlp/lib/python3.6/site-packages/sklearn/metrics/classification.py:1143: UndefinedMetricWarning: Precision is ill-defined and being set to 0.0 due to no predicted samples.\n",
      "  'precision', 'predicted', average, warn_for)\n"
     ]
    },
    {
     "name": "stdout",
     "output_type": "stream",
     "text": [
      "[2019-03-02 17:56:37.005737] Model: 2 Family: journey Weight: 56.420 Trial: 6 Fold: 2\n",
      "[2019-03-02 17:58:54.808079] Model: 1 Family: journey Weight: 56.420 Trial: 6 Fold: 3\n"
     ]
    },
    {
     "name": "stderr",
     "output_type": "stream",
     "text": [
      "/Users/alex/anaconda3/envs/nlp/lib/python3.6/site-packages/sklearn/metrics/classification.py:1143: UndefinedMetricWarning: Precision is ill-defined and being set to 0.0 due to no predicted samples.\n",
      "  'precision', 'predicted', average, warn_for)\n"
     ]
    },
    {
     "name": "stdout",
     "output_type": "stream",
     "text": [
      "[2019-03-02 18:01:01.291737] Model: 2 Family: journey Weight: 56.420 Trial: 6 Fold: 3\n",
      "[2019-03-02 18:03:28.326744] Model: 1 Family: battle Weight: 79.270 Trial: 7 Fold: 1\n",
      "[2019-03-02 18:06:07.467755] Model: 2 Family: battle Weight: 79.270 Trial: 7 Fold: 1\n",
      "[2019-03-02 18:08:40.537870] Model: 1 Family: battle Weight: 79.270 Trial: 7 Fold: 2\n",
      "[2019-03-02 18:11:05.317342] Model: 2 Family: battle Weight: 79.270 Trial: 7 Fold: 2\n",
      "[2019-03-02 18:13:45.797886] Model: 1 Family: battle Weight: 79.270 Trial: 7 Fold: 3\n",
      "[2019-03-02 18:16:21.676563] Model: 2 Family: battle Weight: 79.270 Trial: 7 Fold: 3\n"
     ]
    },
    {
     "name": "stderr",
     "output_type": "stream",
     "text": [
      "/Users/alex/anaconda3/envs/nlp/lib/python3.6/site-packages/sklearn/metrics/classification.py:1143: UndefinedMetricWarning: Precision is ill-defined and being set to 0.0 due to no predicted samples.\n",
      "  'precision', 'predicted', average, warn_for)\n"
     ]
    },
    {
     "name": "stdout",
     "output_type": "stream",
     "text": [
      "[2019-03-02 18:18:51.775516] Model: 1 Family: journey Weight: 79.270 Trial: 7 Fold: 1\n"
     ]
    },
    {
     "name": "stderr",
     "output_type": "stream",
     "text": [
      "/Users/alex/anaconda3/envs/nlp/lib/python3.6/site-packages/sklearn/metrics/classification.py:1143: UndefinedMetricWarning: Precision is ill-defined and being set to 0.0 due to no predicted samples.\n",
      "  'precision', 'predicted', average, warn_for)\n"
     ]
    },
    {
     "name": "stdout",
     "output_type": "stream",
     "text": [
      "[2019-03-02 18:21:05.909066] Model: 2 Family: journey Weight: 79.270 Trial: 7 Fold: 1\n"
     ]
    },
    {
     "name": "stderr",
     "output_type": "stream",
     "text": [
      "/Users/alex/anaconda3/envs/nlp/lib/python3.6/site-packages/sklearn/metrics/classification.py:1143: UndefinedMetricWarning: Precision is ill-defined and being set to 0.0 due to no predicted samples.\n",
      "  'precision', 'predicted', average, warn_for)\n"
     ]
    },
    {
     "name": "stdout",
     "output_type": "stream",
     "text": [
      "[2019-03-02 18:23:17.621763] Model: 1 Family: journey Weight: 79.270 Trial: 7 Fold: 2\n"
     ]
    },
    {
     "name": "stderr",
     "output_type": "stream",
     "text": [
      "/Users/alex/anaconda3/envs/nlp/lib/python3.6/site-packages/sklearn/metrics/classification.py:1143: UndefinedMetricWarning: Precision is ill-defined and being set to 0.0 due to no predicted samples.\n",
      "  'precision', 'predicted', average, warn_for)\n"
     ]
    },
    {
     "name": "stdout",
     "output_type": "stream",
     "text": [
      "[2019-03-02 18:25:36.111901] Model: 2 Family: journey Weight: 79.270 Trial: 7 Fold: 2\n"
     ]
    },
    {
     "name": "stderr",
     "output_type": "stream",
     "text": [
      "/Users/alex/anaconda3/envs/nlp/lib/python3.6/site-packages/sklearn/metrics/classification.py:1143: UndefinedMetricWarning: Precision is ill-defined and being set to 0.0 due to no predicted samples.\n",
      "  'precision', 'predicted', average, warn_for)\n"
     ]
    },
    {
     "name": "stdout",
     "output_type": "stream",
     "text": [
      "[2019-03-02 18:28:33.698132] Model: 1 Family: journey Weight: 79.270 Trial: 7 Fold: 3\n"
     ]
    },
    {
     "name": "stderr",
     "output_type": "stream",
     "text": [
      "/Users/alex/anaconda3/envs/nlp/lib/python3.6/site-packages/sklearn/metrics/classification.py:1143: UndefinedMetricWarning: Precision is ill-defined and being set to 0.0 due to no predicted samples.\n",
      "  'precision', 'predicted', average, warn_for)\n"
     ]
    },
    {
     "name": "stdout",
     "output_type": "stream",
     "text": [
      "[2019-03-02 18:31:02.080874] Model: 2 Family: journey Weight: 79.270 Trial: 7 Fold: 3\n",
      "[2019-03-02 18:34:07.921424] Model: 1 Family: battle Weight: 58.460 Trial: 8 Fold: 1\n",
      "[2019-03-02 18:36:57.435912] Model: 2 Family: battle Weight: 58.460 Trial: 8 Fold: 1\n",
      "[2019-03-02 18:39:56.101065] Model: 1 Family: battle Weight: 58.460 Trial: 8 Fold: 2\n",
      "[2019-03-02 18:43:02.734107] Model: 2 Family: battle Weight: 58.460 Trial: 8 Fold: 2\n",
      "[2019-03-02 18:46:32.668223] Model: 1 Family: battle Weight: 58.460 Trial: 8 Fold: 3\n",
      "[2019-03-02 18:50:33.489591] Model: 2 Family: battle Weight: 58.460 Trial: 8 Fold: 3\n",
      "[2019-03-02 18:53:31.025687] Model: 1 Family: journey Weight: 58.460 Trial: 8 Fold: 1\n"
     ]
    },
    {
     "name": "stderr",
     "output_type": "stream",
     "text": [
      "/Users/alex/anaconda3/envs/nlp/lib/python3.6/site-packages/sklearn/metrics/classification.py:1143: UndefinedMetricWarning: Precision is ill-defined and being set to 0.0 due to no predicted samples.\n",
      "  'precision', 'predicted', average, warn_for)\n"
     ]
    },
    {
     "name": "stdout",
     "output_type": "stream",
     "text": [
      "[2019-03-02 19:06:45.037215] Model: 2 Family: journey Weight: 58.460 Trial: 8 Fold: 1\n"
     ]
    },
    {
     "name": "stderr",
     "output_type": "stream",
     "text": [
      "/Users/alex/anaconda3/envs/nlp/lib/python3.6/site-packages/sklearn/metrics/classification.py:1143: UndefinedMetricWarning: Precision is ill-defined and being set to 0.0 due to no predicted samples.\n",
      "  'precision', 'predicted', average, warn_for)\n"
     ]
    },
    {
     "name": "stdout",
     "output_type": "stream",
     "text": [
      "[2019-03-02 19:09:24.583282] Model: 1 Family: journey Weight: 58.460 Trial: 8 Fold: 2\n"
     ]
    },
    {
     "name": "stderr",
     "output_type": "stream",
     "text": [
      "/Users/alex/anaconda3/envs/nlp/lib/python3.6/site-packages/sklearn/metrics/classification.py:1143: UndefinedMetricWarning: Precision is ill-defined and being set to 0.0 due to no predicted samples.\n",
      "  'precision', 'predicted', average, warn_for)\n"
     ]
    },
    {
     "name": "stdout",
     "output_type": "stream",
     "text": [
      "[2019-03-02 19:11:46.400551] Model: 2 Family: journey Weight: 58.460 Trial: 8 Fold: 2\n"
     ]
    },
    {
     "name": "stderr",
     "output_type": "stream",
     "text": [
      "/Users/alex/anaconda3/envs/nlp/lib/python3.6/site-packages/sklearn/metrics/classification.py:1143: UndefinedMetricWarning: Precision is ill-defined and being set to 0.0 due to no predicted samples.\n",
      "  'precision', 'predicted', average, warn_for)\n"
     ]
    },
    {
     "name": "stdout",
     "output_type": "stream",
     "text": [
      "[2019-03-02 19:14:01.088444] Model: 1 Family: journey Weight: 58.460 Trial: 8 Fold: 3\n"
     ]
    },
    {
     "name": "stderr",
     "output_type": "stream",
     "text": [
      "/Users/alex/anaconda3/envs/nlp/lib/python3.6/site-packages/sklearn/metrics/classification.py:1143: UndefinedMetricWarning: Precision is ill-defined and being set to 0.0 due to no predicted samples.\n",
      "  'precision', 'predicted', average, warn_for)\n"
     ]
    },
    {
     "name": "stdout",
     "output_type": "stream",
     "text": [
      "[2019-03-02 19:16:31.013619] Model: 2 Family: journey Weight: 58.460 Trial: 8 Fold: 3\n",
      "[2019-03-02 19:19:37.024005] Model: 1 Family: battle Weight: 27.730 Trial: 9 Fold: 1\n",
      "[2019-03-02 19:22:59.116956] Model: 2 Family: battle Weight: 27.730 Trial: 9 Fold: 1\n",
      "[2019-03-02 19:26:08.123325] Model: 1 Family: battle Weight: 27.730 Trial: 9 Fold: 2\n",
      "[2019-03-02 19:29:06.338382] Model: 2 Family: battle Weight: 27.730 Trial: 9 Fold: 2\n",
      "[2019-03-02 19:32:26.596243] Model: 1 Family: battle Weight: 27.730 Trial: 9 Fold: 3\n",
      "[2019-03-02 19:36:36.262410] Model: 2 Family: battle Weight: 27.730 Trial: 9 Fold: 3\n",
      "[2019-03-02 19:39:50.417468] Model: 1 Family: journey Weight: 27.730 Trial: 9 Fold: 1\n",
      "[2019-03-02 19:42:50.562380] Model: 2 Family: journey Weight: 27.730 Trial: 9 Fold: 1\n",
      "[2019-03-02 19:45:56.460982] Model: 1 Family: journey Weight: 27.730 Trial: 9 Fold: 2\n",
      "[2019-03-02 19:48:46.454163] Model: 2 Family: journey Weight: 27.730 Trial: 9 Fold: 2\n",
      "[2019-03-02 19:51:33.436774] Model: 1 Family: journey Weight: 27.730 Trial: 9 Fold: 3\n",
      "[2019-03-02 19:54:11.996850] Model: 2 Family: journey Weight: 27.730 Trial: 9 Fold: 3\n",
      "[2019-03-02 19:58:43.377388] Model: 1 Family: battle Weight: 29.730 Trial: 10 Fold: 1\n",
      "[2019-03-02 20:02:20.912772] Model: 2 Family: battle Weight: 29.730 Trial: 10 Fold: 1\n",
      "[2019-03-02 20:07:13.624967] Model: 1 Family: battle Weight: 29.730 Trial: 10 Fold: 2\n",
      "[2019-03-02 20:11:30.824393] Model: 2 Family: battle Weight: 29.730 Trial: 10 Fold: 2\n",
      "[2019-03-02 20:16:36.478958] Model: 1 Family: battle Weight: 29.730 Trial: 10 Fold: 3\n",
      "[2019-03-02 20:21:40.261976] Model: 2 Family: battle Weight: 29.730 Trial: 10 Fold: 3\n",
      "[2019-03-02 20:26:36.835731] Model: 1 Family: journey Weight: 29.730 Trial: 10 Fold: 1\n"
     ]
    },
    {
     "name": "stderr",
     "output_type": "stream",
     "text": [
      "/Users/alex/anaconda3/envs/nlp/lib/python3.6/site-packages/sklearn/metrics/classification.py:1143: UndefinedMetricWarning: Precision is ill-defined and being set to 0.0 due to no predicted samples.\n",
      "  'precision', 'predicted', average, warn_for)\n"
     ]
    },
    {
     "name": "stdout",
     "output_type": "stream",
     "text": [
      "[2019-03-02 20:31:57.953476] Model: 2 Family: journey Weight: 29.730 Trial: 10 Fold: 1\n",
      "[2019-03-02 21:26:39.844531] Model: 1 Family: journey Weight: 29.730 Trial: 10 Fold: 2\n",
      "[2019-03-02 21:30:57.145308] Model: 2 Family: journey Weight: 29.730 Trial: 10 Fold: 2\n"
     ]
    },
    {
     "name": "stderr",
     "output_type": "stream",
     "text": [
      "/Users/alex/anaconda3/envs/nlp/lib/python3.6/site-packages/sklearn/metrics/classification.py:1143: UndefinedMetricWarning: Precision is ill-defined and being set to 0.0 due to no predicted samples.\n",
      "  'precision', 'predicted', average, warn_for)\n"
     ]
    },
    {
     "name": "stdout",
     "output_type": "stream",
     "text": [
      "[2019-03-02 21:35:54.326416] Model: 1 Family: journey Weight: 29.730 Trial: 10 Fold: 3\n"
     ]
    },
    {
     "name": "stderr",
     "output_type": "stream",
     "text": [
      "/Users/alex/anaconda3/envs/nlp/lib/python3.6/site-packages/sklearn/metrics/classification.py:1143: UndefinedMetricWarning: Precision is ill-defined and being set to 0.0 due to no predicted samples.\n",
      "  'precision', 'predicted', average, warn_for)\n"
     ]
    },
    {
     "name": "stdout",
     "output_type": "stream",
     "text": [
      "[2019-03-02 21:40:18.841685] Model: 2 Family: journey Weight: 29.730 Trial: 10 Fold: 3\n"
     ]
    }
   ],
   "source": [
    "results = []\n",
    "\n",
    "kfold = KFold(n_splits=3, shuffle=True)\n",
    "\n",
    "for trial in range(10):\n",
    "    for param in parameter_grid:\n",
    "        \n",
    "        vals = parameter_grid[param]\n",
    "        weight = round(np.random.uniform(vals[0], vals[1]), 2)\n",
    "        \n",
    "        for fold, (train_ixs, val_ixs) in enumerate(kfold.split(X_train_battle)):\n",
    "\n",
    "            for model_ix, model in enumerate([build_model1(), build_model2()]):\n",
    "\n",
    "                now = datetime.now()\n",
    "\n",
    "                weights = {0: weight, 1: 1.0}\n",
    "\n",
    "                history = model.fit(X_train_battle[train_ixs], y_train_battle[train_ixs], epochs=15, class_weight=weights, verbose=0)\n",
    "\n",
    "                probs = model.predict(X_train_battle[val_ixs])\n",
    "                preds = probs.argmax(axis=1)\n",
    "\n",
    "                precision = metrics.precision_score(  y_train_battle[val_ixs], preds)\n",
    "                recall =    metrics.recall_score(     y_train_battle[val_ixs], preds)\n",
    "                cohen =     metrics.cohen_kappa_score(y_train_battle[val_ixs], preds)\n",
    "\n",
    "                results.append({'dur': datetime.now() - now,\n",
    "                                'model': model_ix+1, \n",
    "                                'family': 'battle',\n",
    "                                'trial': trial+1, \n",
    "                                'weight': weight, \n",
    "                                'fold': fold+1, \n",
    "                                'precision': precision, \n",
    "                                'recall': recall, \n",
    "                                'cohen': cohen})\n",
    "                \n",
    "                print(f'[{datetime.now()}] Model: {model_ix+1} Family: battle Weight: {weight:.3f} Trial: {trial+1} Fold: {fold+1}')\n",
    "\n",
    "                del weights, history, model, probs, preds\n",
    "\n",
    "        for fold, (train_ixs, val_ixs) in enumerate(kfold.split(X_train_journey)):\n",
    "\n",
    "            for model_ix, model in enumerate([build_model1(), build_model2()]):\n",
    "\n",
    "                now = datetime.now()\n",
    "\n",
    "                weights = {0: weight, 1: 1.0}\n",
    "\n",
    "                history = model.fit(X_train_journey[train_ixs], y_train_journey[train_ixs], epochs=15, class_weight=weights, verbose=0)\n",
    "\n",
    "                probs = model.predict(X_train_journey[val_ixs])\n",
    "                preds = probs.argmax(axis=1)\n",
    "\n",
    "                precision = metrics.precision_score(  y_train_journey[val_ixs], preds)\n",
    "                recall =    metrics.recall_score(     y_train_journey[val_ixs], preds)\n",
    "                cohen =     metrics.cohen_kappa_score(y_train_journey[val_ixs], preds)\n",
    "\n",
    "                results.append({'dur': datetime.now() - now,\n",
    "                                'model': model_ix+1, \n",
    "                                'family': 'journey',\n",
    "                                'trial': trial+1, \n",
    "                                'weight': weight, \n",
    "                                'fold': fold+1, \n",
    "                                'precision': precision, \n",
    "                                'recall': recall, \n",
    "                                'cohen': cohen})\n",
    "                \n",
    "                print(f'[{datetime.now()}] Model: {model_ix+1} Family: journey Weight: {weight:.3f} Trial: {trial+1} Fold: {fold+1}')\n",
    "\n",
    "                del weights, history, model, probs, preds"
=======
    "space = [Categorical(['gru', 'lstm'], name='model'),\n",
    "         Real(0, 0.5, 'uniform', name='dropout'),\n",
    "         Integer(1, 3, name='hidden_layers'),\n",
    "         Integer(8, 20, name='hidden_units'),\n",
    "         Real(1e-3, 0.1, 'log-uniform', name='lr'),\n",
    "         Real(2, 60, 'uniform', name='class_weight')]"
   ]
  },
  {
   "cell_type": "markdown",
   "metadata": {},
   "source": [
    "### Battle Model Hyperparameter Optimization"
   ]
  },
  {
   "cell_type": "code",
   "execution_count": 16,
   "metadata": {},
   "outputs": [],
   "source": [
    "kfold = StratifiedKFold(n_splits=6, shuffle=True)\n",
    "\n",
    "earlystop = EarlyStopping(monitor='val_loss', patience=3)\n",
    "\n",
    "@use_named_args(space)\n",
    "def objective(**params):\n",
    "    \n",
    "    kappas = []\n",
    "            \n",
    "    model_obj = build_model(params['model'], params['dropout'], params['hidden_layers'], \n",
    "                              params['hidden_units'], params['lr'])\n",
    "    \n",
    "    min_epochs = 30\n",
    "\n",
    "def build_model(rnn_layer, dropout, hidden_layers, hidden_units, lr):\n",
    "    inputs = Input(shape=(20, 1024), name=\"input\")\n",
    "    \n",
    "    rnn_layer = GRU if rnn_layer is 'gru' else LSTM\n",
    "\n",
    "    x = Bidirectional(rnn_layer(20, return_sequences=True, name=\"rnn\"))(inputs)\n",
    "    x = Dropout(dropout)(x)\n",
    "    x = Bidirectional(rnn_layer(20, name='rnn2'))(x)\n",
    "\n",
    "    for lyr in range(1,hidden_layers+1):\n",
    "        x = Dropout(dropout)(x)\n",
    "        x = Dense(int(round(hidden_units/lyr)), activation='relu', name=f\"dense{lyr+1}\")(x)\n",
    "        \n",
    "    predictions = Dense(1, activation='sigmoid', name=\"out\")(x)\n",
    "    _model = Model(inputs=inputs, outputs=predictions)\n",
    "\n",
    "    _model.compile(optimizer=optimizers.Adam(lr=lr, decay=0.1),\n",
    "                  loss='binary_crossentropy')\n",
    "    for fold, (train_ixs, val_ixs) in enumerate(kfold.split(X_train_battle, y_train_battle)):\n",
    "        now = datetime.now()\n",
    "\n",
    "        weights = {0: params['class_weight'], 1: 1.0}\n",
    "\n",
    "        history = model_obj.fit(X_train_battle[train_ixs], y_train_battle[train_ixs], epochs=30,\n",
    "                  validation_data=(X_train_battle[val_ixs], y_train_battle[val_ixs]), \n",
    "                  class_weight=weights, callbacks=[earlystop], \n",
    "                  verbose=0)\n",
    "\n",
    "        preds = (model_obj.predict(X_train_battle[val_ixs]) > 0.5).astype(int)\n",
    "\n",
    "        model_obj.reset_states()\n",
    "\n",
    "        kappa = metrics.cohen_kappa_score(y_train_battle[val_ixs], preds)\n",
    "\n",
    "        kappas.append(kappa)\n",
    "        \n",
    "        if len(history.history['loss']) < min_epochs:\n",
    "            min_epochs = len(history.history['loss'])\n",
    "\n",
    "        del preds\n",
    "\n",
    "        if fold == 2:\n",
    "            # break after completing half of the folds. This just saves time.\n",
    "            break\n",
    "            \n",
    "    print(f'\\t M: {params[\"model\"]} E: {min_epochs} D: {params[\"dropout\"]:.3f} L: {params[\"hidden_layers\"]} U: {params[\"hidden_units\"]} LR: {params[\"lr\"]:.3f} W: {params[\"class_weight\"]:.2f}')\n",
    "    \n",
    "    del history      \n",
    "          \n",
    "    return 1-np.mean(kappas)"
   ]
  },
  {
   "cell_type": "markdown",
   "metadata": {},
   "source": [
    "Perform some parameter search and cross validation. This can take a while."
   ]
  },
  {
   "cell_type": "code",
   "execution_count": 69,
   "metadata": {},
   "outputs": [],
   "source": [
    "space = [Categorical(['gru', 'lstm'], name='model'),\n",
    "         Real(0, 0.5, 'uniform', name='dropout'),\n",
    "         Integer(1, 3, name='hidden_layers'),\n",
    "         Integer(8, 20, name='hidden_units'),\n",
    "         Real(1e-3, 0.1, 'log-uniform', name='lr'),\n",
    "         Real(2, 60, 'uniform', name='class_weight')]"
   ]
  },
  {
   "cell_type": "markdown",
   "metadata": {},
   "source": [
    "### Battle Model Hyperparameter Optimization"
   ]
  },
  {
   "cell_type": "code",
   "execution_count": 70,
   "metadata": {},
   "outputs": [],
   "source": [
    "kfold = StratifiedKFold(n_splits=5, shuffle=True)\n",
    "\n",
    "earlystop = EarlyStopping(monitor='val_loss', patience=3)\n",
    "\n",
    "@use_named_args(space)\n",
    "def objective(**params):\n",
    "    \n",
    "    kappas = []\n",
    "            \n",
    "    model_obj = build_model(params['model'], params['dropout'], params['hidden_layers'], \n",
    "                              params['hidden_units'], params['lr'])\n",
    "\n",
    "    for fold, (train_ixs, val_ixs) in enumerate(kfold.split(X_train_battle, y_train_battle)):\n",
    "        now = datetime.now()\n",
    "\n",
    "        weights = {0: params['class_weight'], 1: 1.0}\n",
    "\n",
    "        history = model_obj.fit(X_train_battle[train_ixs], y_train_battle[train_ixs], epochs=30,\n",
    "                  validation_data=(X_train_battle[val_ixs], y_train_battle[val_ixs]), \n",
    "                  class_weight=weights, callbacks=[earlystop], \n",
    "                  verbose=0)\n",
    "\n",
    "        preds = (model_obj.predict(X_train_battle[val_ixs]) > 0.5).astype(int)\n",
    "\n",
    "        model_obj.reset_states()\n",
    "\n",
    "        kappa = metrics.cohen_kappa_score(y_train_battle[val_ixs], preds)\n",
    "\n",
    "        kappas.append(kappa)\n",
    "\n",
    "        del history, preds\n",
    "\n",
    "        if fold == 2:\n",
    "            break\n",
    "            \n",
    "    print(f'\\t {params[\"model\"]} {params[\"dropout\"]:.3f} {params[\"hidden_layers\"]} {params[\"hidden_units\"]} {params[\"lr\"]:.3f} {params[\"class_weight\"]:.2f}')\n",
    "    \n",
    "    return 1-np.mean(kappas)"
>>>>>>> fixed
   ]
  },
  {
   "cell_type": "code",
<<<<<<< HEAD
   "execution_count": 24,
   "metadata": {
    "scrolled": true
   },
   "outputs": [],
   "source": [
    "results = pd.DataFrame(results, columns=['dur', 'model', 'family', 'trial', 'weight', 'fold', 'precision', 'recall', 'cohen'])\n",
    "# results.to_csv(op.join(DATA_PROCESSED, 'neural_net_results3.csv'), index=False)"
   ]
  },
  {
   "cell_type": "code",
   "execution_count": 25,
=======
   "execution_count": 72,
>>>>>>> fixed
   "metadata": {},
   "outputs": [
    {
     "name": "stdout",
     "output_type": "stream",
     "text": [
      "Iteration No: 1 started. Evaluating function at provided point.\n",
      "\t gru 0.300 1 20 0.050 30.00\n",
      "Iteration No: 1 ended. Evaluation done at provided point.\n",
      "Time taken: 87.1696\n",
      "Function value obtained: 0.5752\n",
      "Current minimum: 0.5752\n",
      "Iteration No: 2 started. Evaluating function at random point.\n",
      "\t gru 0.484 2 10 0.005 11.28\n",
      "Iteration No: 2 ended. Evaluation done at random point.\n",
      "Time taken: 50.6474\n",
      "Function value obtained: 0.9553\n",
      "Current minimum: 0.5752\n",
      "Iteration No: 3 started. Evaluating function at random point.\n",
      "\t gru 0.288 1 18 0.026 18.95\n",
      "Iteration No: 3 ended. Evaluation done at random point.\n",
      "Time taken: 178.0555\n",
      "Function value obtained: 0.2563\n",
      "Current minimum: 0.2563\n",
      "Iteration No: 4 started. Evaluating function at random point.\n",
      "\t lstm 0.500 2 14 0.001 11.91\n",
      "Iteration No: 4 ended. Evaluation done at random point.\n",
      "Time taken: 58.4905\n",
      "Function value obtained: 1.0048\n",
      "Current minimum: 0.2563\n",
      "Iteration No: 5 started. Evaluating function at random point.\n",
      "\t lstm 0.418 1 10 0.046 52.35\n",
      "Iteration No: 5 ended. Evaluation done at random point.\n",
      "Time taken: 148.8000\n",
      "Function value obtained: 0.5956\n",
      "Current minimum: 0.2563\n",
      "Iteration No: 6 started. Evaluating function at random point.\n",
      "\t gru 0.079 2 12 0.016 12.98\n",
      "Iteration No: 6 ended. Evaluation done at random point.\n",
      "Time taken: 165.4013\n",
      "Function value obtained: 0.3371\n",
      "Current minimum: 0.2563\n",
      "Iteration No: 7 started. Evaluating function at random point.\n",
      "\t lstm 0.181 2 16 0.007 38.09\n",
      "Iteration No: 7 ended. Evaluation done at random point.\n",
      "Time taken: 124.9254\n",
      "Function value obtained: 0.5036\n",
      "Current minimum: 0.2563\n",
      "Iteration No: 8 started. Evaluating function at random point.\n",
      "\t lstm 0.401 3 9 0.001 56.06\n",
      "Iteration No: 8 ended. Evaluation done at random point.\n",
      "Time taken: 63.9384\n",
      "Function value obtained: 1.0000\n",
      "Current minimum: 0.2563\n",
      "Iteration No: 9 started. Evaluating function at random point.\n",
      "\t lstm 0.016 2 15 0.004 43.27\n",
      "Iteration No: 9 ended. Evaluation done at random point.\n",
      "Time taken: 201.1414\n",
      "Function value obtained: 0.7074\n",
      "Current minimum: 0.2563\n",
      "Iteration No: 10 started. Searching for the next optimal point.\n",
      "\t gru 0.265 1 19 0.023 16.74\n",
      "Iteration No: 10 ended. Search finished for the next optimal point.\n",
      "Time taken: 107.7916\n",
      "Function value obtained: 0.2442\n",
      "Current minimum: 0.2442\n",
      "Iteration No: 11 started. Searching for the next optimal point.\n",
      "\t gru 0.415 1 20 0.022 21.57\n",
      "Iteration No: 11 ended. Search finished for the next optimal point.\n",
      "Time taken: 108.9207\n",
      "Function value obtained: 0.4477\n",
      "Current minimum: 0.2442\n",
      "Iteration No: 12 started. Searching for the next optimal point.\n",
      "\t lstm 0.230 1 8 0.024 29.37\n",
      "Iteration No: 12 ended. Search finished for the next optimal point.\n",
      "Time taken: 137.1280\n",
      "Function value obtained: 0.4079\n",
      "Current minimum: 0.2442\n",
      "Iteration No: 13 started. Searching for the next optimal point.\n",
      "\t gru 0.219 1 18 0.021 14.15\n",
      "Iteration No: 13 ended. Search finished for the next optimal point.\n",
      "Time taken: 137.3599\n",
      "Function value obtained: 0.2168\n",
      "Current minimum: 0.2168\n",
      "Iteration No: 14 started. Searching for the next optimal point.\n",
      "\t gru 0.191 3 17 0.023 60.00\n",
      "Iteration No: 14 ended. Search finished for the next optimal point.\n",
      "Time taken: 73.5838\n",
      "Function value obtained: 1.0000\n",
      "Current minimum: 0.2168\n",
      "Iteration No: 15 started. Searching for the next optimal point.\n",
      "\t gru 0.180 1 13 0.031 14.89\n",
      "Iteration No: 15 ended. Search finished for the next optimal point.\n",
      "Time taken: 121.5701\n",
      "Function value obtained: 0.2085\n",
      "Current minimum: 0.2085\n",
      "Iteration No: 16 started. Searching for the next optimal point.\n",
      "\t gru 0.211 1 8 0.023 16.43\n",
      "Iteration No: 16 ended. Search finished for the next optimal point.\n",
      "Time taken: 209.5690\n",
      "Function value obtained: 0.2498\n",
      "Current minimum: 0.2085\n",
      "Iteration No: 17 started. Searching for the next optimal point.\n",
      "\t gru 0.153 1 17 0.046 14.21\n",
      "Iteration No: 17 ended. Search finished for the next optimal point.\n",
      "Time taken: 116.0276\n",
      "Function value obtained: 0.2613\n",
      "Current minimum: 0.2085\n",
      "Iteration No: 18 started. Searching for the next optimal point.\n",
      "\t gru 0.194 1 20 0.028 13.49\n",
      "Iteration No: 18 ended. Search finished for the next optimal point.\n",
      "Time taken: 102.3059\n",
      "Function value obtained: 0.3105\n",
      "Current minimum: 0.2085\n",
      "Iteration No: 19 started. Searching for the next optimal point.\n",
      "\t gru 0.232 1 16 0.018 14.45\n",
      "Iteration No: 19 ended. Search finished for the next optimal point.\n",
      "Time taken: 176.6787\n",
      "Function value obtained: 0.3010\n",
      "Current minimum: 0.2085\n",
      "Iteration No: 20 started. Searching for the next optimal point.\n",
      "\t lstm 0.113 1 8 0.021 19.93\n",
      "Iteration No: 20 ended. Search finished for the next optimal point.\n",
      "Time taken: 147.6879\n",
      "Function value obtained: 0.2752\n",
      "Current minimum: 0.2085\n",
      "Iteration No: 21 started. Searching for the next optimal point.\n",
      "\t gru 0.040 2 8 0.008 19.31\n",
      "Iteration No: 21 ended. Search finished for the next optimal point.\n",
      "Time taken: 184.6608\n",
      "Function value obtained: 0.4671\n",
      "Current minimum: 0.2085\n",
      "Iteration No: 22 started. Searching for the next optimal point.\n",
      "\t lstm 0.000 1 8 0.100 2.00\n",
      "Iteration No: 22 ended. Search finished for the next optimal point.\n",
      "Time taken: 137.5846\n",
      "Function value obtained: 0.7686\n",
      "Current minimum: 0.2085\n",
      "Iteration No: 23 started. Searching for the next optimal point.\n",
      "\t lstm 0.188 3 20 0.034 17.59\n",
      "Iteration No: 23 ended. Search finished for the next optimal point.\n",
      "Time taken: 136.0064\n",
      "Function value obtained: 0.2702\n",
      "Current minimum: 0.2085\n",
      "Iteration No: 24 started. Searching for the next optimal point.\n",
      "\t gru 0.161 1 15 0.031 17.51\n",
      "Iteration No: 24 ended. Search finished for the next optimal point.\n",
      "Time taken: 125.8198\n",
      "Function value obtained: 0.2712\n",
      "Current minimum: 0.2085\n",
      "Iteration No: 25 started. Searching for the next optimal point.\n",
      "\t gru 0.324 1 8 0.051 13.57\n",
      "Iteration No: 25 ended. Search finished for the next optimal point.\n",
      "Time taken: 164.9768\n",
      "Function value obtained: 0.3393\n",
      "Current minimum: 0.2085\n",
      "Iteration No: 26 started. Searching for the next optimal point.\n",
      "\t gru 0.000 1 8 0.041 19.89\n",
      "Iteration No: 26 ended. Search finished for the next optimal point.\n",
      "Time taken: 245.6465\n",
      "Function value obtained: 0.2643\n",
      "Current minimum: 0.2085\n",
      "Iteration No: 27 started. Searching for the next optimal point.\n",
      "\t gru 0.000 1 8 0.027 16.31\n",
      "Iteration No: 27 ended. Search finished for the next optimal point.\n",
      "Time taken: 218.4830\n",
      "Function value obtained: 0.1979\n",
      "Current minimum: 0.1979\n",
      "Iteration No: 28 started. Searching for the next optimal point.\n",
      "\t gru 0.000 1 8 0.027 16.25\n",
      "Iteration No: 28 ended. Search finished for the next optimal point.\n",
      "Time taken: 152.4159\n",
      "Function value obtained: 0.6158\n",
      "Current minimum: 0.1979\n",
      "Iteration No: 29 started. Searching for the next optimal point.\n",
      "\t gru 0.198 1 8 0.100 17.77\n",
      "Iteration No: 29 ended. Search finished for the next optimal point.\n",
      "Time taken: 105.5001\n",
      "Function value obtained: 0.7259\n",
      "Current minimum: 0.1979\n",
      "Iteration No: 30 started. Searching for the next optimal point.\n",
      "\t lstm 0.244 1 9 0.029 2.25\n",
      "Iteration No: 30 ended. Search finished for the next optimal point.\n",
      "Time taken: 138.1314\n",
      "Function value obtained: 0.2716\n",
      "Current minimum: 0.1979\n",
      "Best: 0.19786442469701448 at ['gru', 0.0, 1, 8, 0.02688190550049891, 16.306835548880372]\n",
      "Iteration No: 1 started. Evaluating function at random point.\n",
      "\t M: lstm E: 4 D: 0.370 L: 3 U: 9 LR: 0.001 W: 21.97\n",
      "Iteration No: 1 ended. Evaluation done at random point.\n",
      "Time taken: 36.3463\n",
      "Function value obtained: 0.9996\n",
      "Current minimum: 0.9996\n",
      "Iteration No: 2 started. Evaluating function at random point.\n",
      "\t M: lstm E: 4 D: 0.423 L: 3 U: 17 LR: 0.030 W: 38.06\n",
      "Iteration No: 2 ended. Evaluation done at random point.\n",
      "Time taken: 40.5572\n",
      "Function value obtained: 1.0000\n",
      "Current minimum: 0.9996\n",
      "Iteration No: 3 started. Evaluating function at random point.\n",
      "\t M: gru E: 5 D: 0.016 L: 1 U: 18 LR: 0.053 W: 44.29\n",
      "Iteration No: 3 ended. Evaluation done at random point.\n",
      "Time taken: 83.1940\n",
      "Function value obtained: 0.2704\n",
      "Current minimum: 0.2704\n",
      "Iteration No: 4 started. Evaluating function at random point.\n",
      "\t M: gru E: 4 D: 0.385 L: 1 U: 19 LR: 0.001 W: 56.51\n",
      "Iteration No: 4 ended. Evaluation done at random point.\n",
      "Time taken: 44.5126\n",
      "Function value obtained: 1.0000\n",
      "Current minimum: 0.2704\n",
      "Iteration No: 5 started. Evaluating function at random point.\n",
      "\t M: lstm E: 6 D: 0.470 L: 1 U: 18 LR: 0.002 W: 51.62\n",
      "Iteration No: 5 ended. Evaluation done at random point.\n",
      "Time taken: 112.9656\n",
      "Function value obtained: 0.6334\n",
      "Current minimum: 0.2704\n",
      "Iteration No: 6 started. Evaluating function at random point.\n",
      "\t M: gru E: 5 D: 0.108 L: 3 U: 9 LR: 0.052 W: 10.22\n",
      "Iteration No: 6 ended. Evaluation done at random point.\n",
      "Time taken: 72.6873\n",
      "Function value obtained: 0.3857\n",
      "Current minimum: 0.2704\n",
      "Iteration No: 7 started. Evaluating function at random point.\n",
      "\t M: gru E: 5 D: 0.197 L: 2 U: 9 LR: 0.017 W: 56.28\n",
      "Iteration No: 7 ended. Evaluation done at random point.\n",
      "Time taken: 66.6719\n",
      "Function value obtained: 1.0000\n",
      "Current minimum: 0.2704\n",
      "Iteration No: 8 started. Evaluating function at random point.\n",
      "\t M: lstm E: 6 D: 0.194 L: 1 U: 13 LR: 0.078 W: 57.08\n",
      "Iteration No: 8 ended. Evaluation done at random point.\n",
      "Time taken: 123.3589\n",
      "Function value obtained: 0.7854\n",
      "Current minimum: 0.2704\n",
      "Iteration No: 9 started. Evaluating function at random point.\n",
      "\t M: lstm E: 4 D: 0.380 L: 2 U: 15 LR: 0.002 W: 23.66\n",
      "Iteration No: 9 ended. Evaluation done at random point.\n",
      "Time taken: 42.4291\n",
      "Function value obtained: 1.0000\n",
      "Current minimum: 0.2704\n",
      "Iteration No: 10 started. Evaluating function at random point.\n",
      "\t M: gru E: 4 D: 0.480 L: 1 U: 9 LR: 0.002 W: 52.92\n",
      "Iteration No: 10 ended. Evaluation done at random point.\n",
      "Time taken: 104.2781\n",
      "Function value obtained: 0.9484\n",
      "Current minimum: 0.2704\n",
      "Iteration No: 11 started. Evaluating function at random point.\n",
      "\t M: lstm E: 4 D: 0.483 L: 2 U: 14 LR: 0.003 W: 24.74\n",
      "Iteration No: 11 ended. Evaluation done at random point.\n",
      "Time taken: 86.9023\n",
      "Function value obtained: 1.0000\n",
      "Current minimum: 0.2704\n",
      "Iteration No: 12 started. Evaluating function at random point.\n",
      "\t M: gru E: 4 D: 0.442 L: 2 U: 15 LR: 0.075 W: 20.28\n",
      "Iteration No: 12 ended. Evaluation done at random point.\n",
      "Time taken: 47.9616\n",
      "Function value obtained: 1.0000\n",
      "Current minimum: 0.2704\n",
      "Iteration No: 13 started. Evaluating function at random point.\n",
      "\t M: lstm E: 4 D: 0.092 L: 2 U: 17 LR: 0.004 W: 10.46\n",
      "Iteration No: 13 ended. Evaluation done at random point.\n",
      "Time taken: 90.4798\n",
      "Function value obtained: 0.3258\n",
      "Current minimum: 0.2704\n",
      "Iteration No: 14 started. Evaluating function at random point.\n",
      "\t M: gru E: 7 D: 0.170 L: 1 U: 16 LR: 0.014 W: 3.70\n",
      "Iteration No: 14 ended. Evaluation done at random point.\n",
      "Time taken: 104.0691\n",
      "Function value obtained: 0.1631\n",
      "Current minimum: 0.1631\n",
      "Iteration No: 15 started. Searching for the next optimal point.\n",
      "\t M: lstm E: 12 D: 0.145 L: 1 U: 19 LR: 0.005 W: 4.34\n",
      "Iteration No: 15 ended. Search finished for the next optimal point.\n",
      "Time taken: 144.6640\n",
      "Function value obtained: 0.1418\n",
      "Current minimum: 0.1418\n",
      "Iteration No: 16 started. Searching for the next optimal point.\n",
      "\t M: lstm E: 30 D: 0.000 L: 3 U: 8 LR: 0.001 W: 5.42\n",
      "Iteration No: 16 ended. Search finished for the next optimal point.\n",
      "Time taken: 254.0958\n",
      "Function value obtained: 1.0000\n",
      "Current minimum: 0.1418\n",
      "Iteration No: 17 started. Searching for the next optimal point.\n",
      "\t M: lstm E: 9 D: 0.157 L: 1 U: 20 LR: 0.056 W: 6.18\n",
      "Iteration No: 17 ended. Search finished for the next optimal point.\n",
      "Time taken: 99.3160\n",
      "Function value obtained: 0.2646\n",
      "Current minimum: 0.1418\n",
      "Iteration No: 18 started. Searching for the next optimal point.\n",
      "\t M: gru E: 30 D: 0.150 L: 1 U: 15 LR: 0.001 W: 2.00\n",
      "Iteration No: 18 ended. Search finished for the next optimal point.\n",
      "Time taken: 190.4974\n",
      "Function value obtained: 0.3163\n",
      "Current minimum: 0.1418\n",
      "Iteration No: 19 started. Searching for the next optimal point.\n",
      "\t M: gru E: 4 D: 0.132 L: 1 U: 20 LR: 0.100 W: 21.40\n",
      "Iteration No: 19 ended. Search finished for the next optimal point.\n",
      "Time taken: 41.7414\n",
      "Function value obtained: 1.0000\n",
      "Current minimum: 0.1418\n",
      "Iteration No: 20 started. Searching for the next optimal point.\n",
      "\t M: lstm E: 4 D: 0.242 L: 1 U: 20 LR: 0.010 W: 4.42\n",
      "Iteration No: 20 ended. Search finished for the next optimal point.\n",
      "Time taken: 88.7124\n",
      "Function value obtained: 0.1624\n",
      "Current minimum: 0.1418\n",
      "Iteration No: 21 started. Searching for the next optimal point.\n",
      "\t M: lstm E: 5 D: 0.019 L: 1 U: 18 LR: 0.003 W: 4.29\n",
      "Iteration No: 21 ended. Search finished for the next optimal point.\n",
      "Time taken: 132.2161\n",
      "Function value obtained: 0.2486\n",
      "Current minimum: 0.1418\n",
      "Iteration No: 22 started. Searching for the next optimal point.\n",
      "\t M: lstm E: 13 D: 0.175 L: 1 U: 13 LR: 0.002 W: 4.46\n",
      "Iteration No: 22 ended. Search finished for the next optimal point.\n",
      "Time taken: 200.4904\n",
      "Function value obtained: 0.2363\n",
      "Current minimum: 0.1418\n",
      "Iteration No: 23 started. Searching for the next optimal point.\n",
      "\t M: gru E: 6 D: 0.166 L: 1 U: 20 LR: 0.016 W: 4.05\n",
      "Iteration No: 23 ended. Search finished for the next optimal point.\n",
      "Time taken: 104.4984\n",
      "Function value obtained: 0.1624\n",
      "Current minimum: 0.1418\n",
      "Iteration No: 24 started. Searching for the next optimal point.\n",
      "\t M: gru E: 10 D: 0.451 L: 1 U: 20 LR: 0.100 W: 4.00\n",
      "Iteration No: 24 ended. Search finished for the next optimal point.\n",
      "Time taken: 159.8223\n",
      "Function value obtained: 0.8144\n",
      "Current minimum: 0.1418\n",
      "Iteration No: 25 started. Searching for the next optimal point.\n",
      "\t M: lstm E: 9 D: 0.158 L: 1 U: 20 LR: 0.007 W: 4.27\n",
      "Iteration No: 25 ended. Search finished for the next optimal point.\n",
      "Time taken: 152.9422\n",
      "Function value obtained: 0.1954\n",
      "Current minimum: 0.1418\n",
      "Iteration No: 26 started. Searching for the next optimal point.\n",
      "\t M: lstm E: 10 D: 0.147 L: 1 U: 20 LR: 0.012 W: 46.43\n",
      "Iteration No: 26 ended. Search finished for the next optimal point.\n",
      "Time taken: 157.3360\n",
      "Function value obtained: 0.1733\n",
      "Current minimum: 0.1418\n",
      "Iteration No: 27 started. Searching for the next optimal point.\n",
      "\t M: gru E: 4 D: 0.060 L: 1 U: 20 LR: 0.021 W: 47.07\n",
      "Iteration No: 27 ended. Search finished for the next optimal point.\n",
      "Time taken: 83.2736\n",
      "Function value obtained: 0.2061\n",
      "Current minimum: 0.1418\n",
      "Iteration No: 28 started. Searching for the next optimal point.\n",
      "\t M: gru E: 6 D: 0.261 L: 1 U: 20 LR: 0.060 W: 47.07\n",
      "Iteration No: 28 ended. Search finished for the next optimal point.\n",
      "Time taken: 101.3272\n",
      "Function value obtained: 0.3118\n",
      "Current minimum: 0.1418\n",
      "Iteration No: 29 started. Searching for the next optimal point.\n",
      "\t M: gru E: 8 D: 0.136 L: 1 U: 18 LR: 0.010 W: 6.04\n",
      "Iteration No: 29 ended. Search finished for the next optimal point.\n",
      "Time taken: 135.9662\n",
      "Function value obtained: 0.1401\n",
      "Current minimum: 0.1401\n",
      "Iteration No: 30 started. Searching for the next optimal point.\n",
      "\t M: gru E: 9 D: 0.142 L: 1 U: 17 LR: 0.010 W: 6.20\n",
      "Iteration No: 30 ended. Search finished for the next optimal point.\n",
      "Time taken: 151.1856\n",
      "Function value obtained: 0.1364\n",
      "Current minimum: 0.1364\n",
      "Iteration No: 31 started. Searching for the next optimal point.\n",
      "\t M: lstm E: 21 D: 0.052 L: 1 U: 20 LR: 0.004 W: 44.79\n",
      "Iteration No: 31 ended. Search finished for the next optimal point.\n",
      "Time taken: 179.8602\n",
      "Function value obtained: 0.3199\n",
      "Current minimum: 0.1364\n",
      "Iteration No: 32 started. Searching for the next optimal point.\n",
      "\t M: lstm E: 11 D: 0.089 L: 1 U: 15 LR: 0.015 W: 6.39\n",
      "Iteration No: 32 ended. Search finished for the next optimal point.\n",
      "Time taken: 180.8001\n",
      "Function value obtained: 0.1739\n",
      "Current minimum: 0.1364\n",
      "Iteration No: 33 started. Searching for the next optimal point.\n"
     ]
    },
    {
<<<<<<< HEAD
     "data": {
      "image/png": "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\n",
      "text/plain": [
       "<Figure size 864x432 with 4 Axes>"
      ]
     },
     "metadata": {
      "image/png": {
       "height": 423,
       "width": 854
      },
      "needs_background": "light"
     },
     "output_type": "display_data"
    }
   ],
   "source": [
    "g = sns.FacetGrid(results, col='model', row='family', sharey=True, height=3, aspect=2)\n",
    "g = g.map(sns.boxplot, 'weight', 'cohen', color=(0.85,0.95,1, 1))"
   ]
  },
  {
   "cell_type": "code",
   "execution_count": 29,
   "metadata": {},
   "outputs": [
    {
     "name": "stderr",
=======
     "name": "stdout",
>>>>>>> fixed
     "output_type": "stream",
     "text": [
      "\t M: gru E: 9 D: 0.177 L: 1 U: 20 LR: 0.006 W: 6.69\n",
      "Iteration No: 33 ended. Search finished for the next optimal point.\n",
      "Time taken: 120.7869\n",
      "Function value obtained: 0.1967\n",
      "Current minimum: 0.1364\n",
      "Iteration No: 34 started. Searching for the next optimal point.\n",
      "\t M: gru E: 8 D: 0.140 L: 1 U: 18 LR: 0.013 W: 5.57\n",
      "Iteration No: 34 ended. Search finished for the next optimal point.\n",
      "Time taken: 133.4265\n",
      "Function value obtained: 0.1416\n",
      "Current minimum: 0.1364\n",
      "Iteration No: 35 started. Searching for the next optimal point.\n",
      "\t M: gru E: 7 D: 0.146 L: 1 U: 17 LR: 0.012 W: 5.55\n",
      "Iteration No: 35 ended. Search finished for the next optimal point.\n",
      "Time taken: 143.6843\n",
      "Function value obtained: 0.2388\n",
      "Current minimum: 0.1364\n",
      "Iteration No: 36 started. Searching for the next optimal point.\n",
      "\t M: lstm E: 4 D: 0.000 L: 1 U: 20 LR: 0.025 W: 5.19\n",
      "Iteration No: 36 ended. Search finished for the next optimal point.\n",
      "Time taken: 106.1114\n",
      "Function value obtained: 0.2171\n",
      "Current minimum: 0.1364\n",
      "Iteration No: 37 started. Searching for the next optimal point.\n",
      "\t M: lstm E: 8 D: 0.129 L: 1 U: 20 LR: 0.013 W: 5.69\n",
      "Iteration No: 37 ended. Search finished for the next optimal point.\n",
      "Time taken: 160.0853\n",
      "Function value obtained: 0.1562\n",
      "Current minimum: 0.1364\n",
      "Iteration No: 38 started. Searching for the next optimal point.\n",
      "\t M: lstm E: 7 D: 0.129 L: 1 U: 20 LR: 0.013 W: 5.71\n",
      "Iteration No: 38 ended. Search finished for the next optimal point.\n",
      "Time taken: 130.7198\n",
      "Function value obtained: 0.2004\n",
      "Current minimum: 0.1364\n",
      "Iteration No: 39 started. Searching for the next optimal point.\n",
      "\t M: lstm E: 4 D: 0.000 L: 1 U: 8 LR: 0.081 W: 2.00\n",
      "Iteration No: 39 ended. Search finished for the next optimal point.\n",
      "Time taken: 62.5450\n",
      "Function value obtained: 1.0000\n",
      "Current minimum: 0.1364\n",
      "Iteration No: 40 started. Searching for the next optimal point.\n",
      "\t M: lstm E: 7 D: 0.108 L: 1 U: 20 LR: 0.100 W: 49.48\n",
      "Iteration No: 40 ended. Search finished for the next optimal point.\n",
      "Time taken: 144.5570\n",
      "Function value obtained: 0.8100\n",
      "Current minimum: 0.1364\n",
      "Best Kappa: 0.864 at ['gru', 0.14186240616929843, 1, 17, 0.009654811470017174, 6.2011667958398435]\n"
     ]
<<<<<<< HEAD
    },
    {
     "data": {
      "image/png": "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\n",
      "text/plain": [
       "<Figure size 691.2x864 with 12 Axes>"
      ]
     },
     "metadata": {
      "image/png": {
       "height": 855,
       "width": 681
      },
      "needs_background": "light"
     },
     "output_type": "display_data"
    }
   ],
   "source": [
    "g = sns.FacetGrid(results[results['family'] == 'battle'], col='model', row='epochs', sharey=True, height=3, aspect=1)\n",
    "g = g.map(sns.boxplot, 'weight', 'precision', color='w')"
=======
    }
   ],
   "source": [
    "res_gp = gp_minimize(objective, space, n_calls=30, n_random_starts=8, acq_func=\"PI\", \n",
    "                     x0=['gru', 0.3, 1, 20, 0.05, 30],\n",
    "                     acq_optimizer=\"auto\", verbose=True, n_jobs=3)\n",
    "\n",
    "print(f'Best: {res_gp.fun} at {res_gp.x}')\n",
    "\n",
    "# results = pd.DataFrame(results, columns=['dur', 'family', 'weight', 'fold', 'epochs', 'kappa'])res_gp = gp_minimize(objective, space, n_calls=40, n_random_starts=14, acq_func=\"PI\", \n",
    "                     acq_optimizer=\"auto\", verbose=True, n_jobs=3)\n",
    "\n",
    "print(f'Best Kappa: {1-res_gp.fun:.3f} at {res_gp.x}')"
>>>>>>> fixed
   ]
  },
  {
   "cell_type": "code",
<<<<<<< HEAD
   "execution_count": 30,
=======
   "execution_count": 73,
>>>>>>> fixed
   "metadata": {},
   "outputs": [
    {
     "data": {
<<<<<<< HEAD
      "image/png": "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\n",
=======
      "image/png": "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\n",
>>>>>>> fixed
      "text/plain": [
       "<Figure size 432x288 with 1 Axes>"
      ]
     },
     "metadata": {
      "image/png": {
       "height": 277,
       "width": 394
      },
      "needs_background": "light"
     },
     "output_type": "display_data"
    }
   ],
   "source": [
<<<<<<< HEAD
    "g = sns.FacetGrid(results, col='model', row='epochs', sharey=True, height=4, aspect=0.6)\n",
    "g = g.map(sns.boxplot, 'weight', 'recall', color='w')"
   ]
  },
  {
   "cell_type": "code",
   "execution_count": 26,
   "metadata": {},
   "outputs": [
    {
     "data": {
      "text/html": [
       "<div>\n",
       "<style scoped>\n",
       "    .dataframe tbody tr th:only-of-type {\n",
       "        vertical-align: middle;\n",
       "    }\n",
       "\n",
       "    .dataframe tbody tr th {\n",
       "        vertical-align: top;\n",
       "    }\n",
       "\n",
       "    .dataframe thead tr th {\n",
       "        text-align: left;\n",
       "    }\n",
       "\n",
       "    .dataframe thead tr:last-of-type th {\n",
       "        text-align: right;\n",
       "    }\n",
       "</style>\n",
       "<table border=\"1\" class=\"dataframe\">\n",
       "  <thead>\n",
       "    <tr>\n",
       "      <th></th>\n",
       "      <th></th>\n",
       "      <th></th>\n",
       "      <th colspan=\"2\" halign=\"left\">low confidence</th>\n",
       "      <th colspan=\"2\" halign=\"left\">auc</th>\n",
       "      <th colspan=\"2\" halign=\"left\">mcc</th>\n",
       "    </tr>\n",
       "    <tr>\n",
       "      <th></th>\n",
       "      <th></th>\n",
       "      <th></th>\n",
       "      <th>mean</th>\n",
       "      <th>std</th>\n",
       "      <th>mean</th>\n",
       "      <th>std</th>\n",
       "      <th>mean</th>\n",
       "      <th>std</th>\n",
       "    </tr>\n",
       "    <tr>\n",
       "      <th>model</th>\n",
       "      <th>epochs</th>\n",
       "      <th>weight</th>\n",
       "      <th></th>\n",
       "      <th></th>\n",
       "      <th></th>\n",
       "      <th></th>\n",
       "      <th></th>\n",
       "      <th></th>\n",
       "    </tr>\n",
       "  </thead>\n",
       "  <tbody>\n",
       "    <tr>\n",
       "      <th rowspan=\"2\" valign=\"top\">1</th>\n",
       "      <th rowspan=\"2\" valign=\"top\">20</th>\n",
       "      <th>80</th>\n",
       "      <td>0.062140</td>\n",
       "      <td>0.011206</td>\n",
       "      <td>0.705545</td>\n",
       "      <td>0.025046</td>\n",
       "      <td>0.504306</td>\n",
       "      <td>0.095079</td>\n",
       "    </tr>\n",
       "    <tr>\n",
       "      <th>40</th>\n",
       "      <td>0.064045</td>\n",
       "      <td>0.021015</td>\n",
       "      <td>0.717879</td>\n",
       "      <td>0.062688</td>\n",
       "      <td>0.490772</td>\n",
       "      <td>0.100678</td>\n",
       "    </tr>\n",
       "    <tr>\n",
       "      <th>2</th>\n",
       "      <th>10</th>\n",
       "      <th>40</th>\n",
       "      <td>0.136553</td>\n",
       "      <td>0.068476</td>\n",
       "      <td>0.753940</td>\n",
       "      <td>0.078391</td>\n",
       "      <td>0.481279</td>\n",
       "      <td>0.131999</td>\n",
       "    </tr>\n",
       "    <tr>\n",
       "      <th rowspan=\"2\" valign=\"top\">1</th>\n",
       "      <th>10</th>\n",
       "      <th>40</th>\n",
       "      <td>0.179848</td>\n",
       "      <td>0.036275</td>\n",
       "      <td>0.734412</td>\n",
       "      <td>0.058241</td>\n",
       "      <td>0.466656</td>\n",
       "      <td>0.110196</td>\n",
       "    </tr>\n",
       "    <tr>\n",
       "      <th>20</th>\n",
       "      <th>60</th>\n",
       "      <td>0.055567</td>\n",
       "      <td>0.013119</td>\n",
       "      <td>0.689808</td>\n",
       "      <td>0.052443</td>\n",
       "      <td>0.443490</td>\n",
       "      <td>0.106811</td>\n",
       "    </tr>\n",
       "    <tr>\n",
       "      <th rowspan=\"4\" valign=\"top\">2</th>\n",
       "      <th>20</th>\n",
       "      <th>80</th>\n",
       "      <td>0.055510</td>\n",
       "      <td>0.025079</td>\n",
       "      <td>0.704552</td>\n",
       "      <td>0.064177</td>\n",
       "      <td>0.432070</td>\n",
       "      <td>0.116978</td>\n",
       "    </tr>\n",
       "    <tr>\n",
       "      <th>10</th>\n",
       "      <th>60</th>\n",
       "      <td>0.322611</td>\n",
       "      <td>0.319268</td>\n",
       "      <td>0.725125</td>\n",
       "      <td>0.089111</td>\n",
       "      <td>0.420859</td>\n",
       "      <td>0.066051</td>\n",
       "    </tr>\n",
       "    <tr>\n",
       "      <th rowspan=\"2\" valign=\"top\">20</th>\n",
       "      <th>40</th>\n",
       "      <td>0.039552</td>\n",
       "      <td>0.009778</td>\n",
       "      <td>0.688203</td>\n",
       "      <td>0.031102</td>\n",
       "      <td>0.420559</td>\n",
       "      <td>0.087390</td>\n",
       "    </tr>\n",
       "    <tr>\n",
       "      <th>60</th>\n",
       "      <td>0.051798</td>\n",
       "      <td>0.023095</td>\n",
       "      <td>0.688380</td>\n",
       "      <td>0.048882</td>\n",
       "      <td>0.410535</td>\n",
       "      <td>0.075682</td>\n",
       "    </tr>\n",
       "    <tr>\n",
       "      <th>1</th>\n",
       "      <th>10</th>\n",
       "      <th>60</th>\n",
       "      <td>0.315511</td>\n",
       "      <td>0.123400</td>\n",
       "      <td>0.749057</td>\n",
       "      <td>0.099331</td>\n",
       "      <td>0.406738</td>\n",
       "      <td>0.134108</td>\n",
       "    </tr>\n",
       "  </tbody>\n",
       "</table>\n",
       "</div>"
      ],
      "text/plain": [
       "                    low confidence                 auc                 mcc  \\\n",
       "                              mean       std      mean       std      mean   \n",
       "model epochs weight                                                          \n",
       "1     20     80           0.062140  0.011206  0.705545  0.025046  0.504306   \n",
       "             40           0.064045  0.021015  0.717879  0.062688  0.490772   \n",
       "2     10     40           0.136553  0.068476  0.753940  0.078391  0.481279   \n",
       "1     10     40           0.179848  0.036275  0.734412  0.058241  0.466656   \n",
       "      20     60           0.055567  0.013119  0.689808  0.052443  0.443490   \n",
       "2     20     80           0.055510  0.025079  0.704552  0.064177  0.432070   \n",
       "      10     60           0.322611  0.319268  0.725125  0.089111  0.420859   \n",
       "      20     40           0.039552  0.009778  0.688203  0.031102  0.420559   \n",
       "             60           0.051798  0.023095  0.688380  0.048882  0.410535   \n",
       "1     10     60           0.315511  0.123400  0.749057  0.099331  0.406738   \n",
       "\n",
       "                               \n",
       "                          std  \n",
       "model epochs weight            \n",
       "1     20     80      0.095079  \n",
       "             40      0.100678  \n",
       "2     10     40      0.131999  \n",
       "1     10     40      0.110196  \n",
       "      20     60      0.106811  \n",
       "2     20     80      0.116978  \n",
       "      10     60      0.066051  \n",
       "      20     40      0.087390  \n",
       "             60      0.075682  \n",
       "1     10     60      0.134108  "
      ]
     },
     "execution_count": 26,
     "metadata": {},
     "output_type": "execute_result"
    }
   ],
   "source": [
    "results[results['family'] == 'battle'].groupby(['model', 'epochs', 'weight']).agg({'low confidence': ['mean', 'std'], \n",
    "                                                    'auc': ['mean', 'std'], \n",
    "                                                    'mcc': ['mean', 'std']}).sort_values(('mcc', 'mean'), ascending=False)[:10]"
   ]
  },
  {
   "cell_type": "code",
   "execution_count": 28,
   "metadata": {},
   "outputs": [
    {
     "data": {
      "text/html": [
       "<div>\n",
       "<style scoped>\n",
       "    .dataframe tbody tr th:only-of-type {\n",
       "        vertical-align: middle;\n",
       "    }\n",
       "\n",
       "    .dataframe tbody tr th {\n",
       "        vertical-align: top;\n",
       "    }\n",
       "\n",
       "    .dataframe thead tr th {\n",
       "        text-align: left;\n",
       "    }\n",
       "\n",
       "    .dataframe thead tr:last-of-type th {\n",
       "        text-align: right;\n",
       "    }\n",
       "</style>\n",
       "<table border=\"1\" class=\"dataframe\">\n",
       "  <thead>\n",
       "    <tr>\n",
       "      <th></th>\n",
       "      <th></th>\n",
       "      <th></th>\n",
       "      <th colspan=\"2\" halign=\"left\">low confidence</th>\n",
       "      <th colspan=\"2\" halign=\"left\">auc</th>\n",
       "      <th colspan=\"2\" halign=\"left\">mcc</th>\n",
       "    </tr>\n",
       "    <tr>\n",
       "      <th></th>\n",
       "      <th></th>\n",
       "      <th></th>\n",
       "      <th>mean</th>\n",
       "      <th>std</th>\n",
       "      <th>mean</th>\n",
       "      <th>std</th>\n",
       "      <th>mean</th>\n",
       "      <th>std</th>\n",
       "    </tr>\n",
       "    <tr>\n",
       "      <th>model</th>\n",
       "      <th>epochs</th>\n",
       "      <th>weight</th>\n",
       "      <th></th>\n",
       "      <th></th>\n",
       "      <th></th>\n",
       "      <th></th>\n",
       "      <th></th>\n",
       "      <th></th>\n",
       "    </tr>\n",
       "  </thead>\n",
       "  <tbody>\n",
       "    <tr>\n",
       "      <th>2</th>\n",
       "      <th>20</th>\n",
       "      <th>40</th>\n",
       "      <td>0.799291</td>\n",
       "      <td>0.083774</td>\n",
       "      <td>0.671258</td>\n",
       "      <td>0.069741</td>\n",
       "      <td>0.327203</td>\n",
       "      <td>0.144454</td>\n",
       "    </tr>\n",
       "    <tr>\n",
       "      <th>1</th>\n",
       "      <th>20</th>\n",
       "      <th>40</th>\n",
       "      <td>0.649379</td>\n",
       "      <td>0.370327</td>\n",
       "      <td>0.607667</td>\n",
       "      <td>0.079059</td>\n",
       "      <td>0.205925</td>\n",
       "      <td>0.136954</td>\n",
       "    </tr>\n",
       "    <tr>\n",
       "      <th rowspan=\"2\" valign=\"top\">2</th>\n",
       "      <th rowspan=\"2\" valign=\"top\">20</th>\n",
       "      <th>60</th>\n",
       "      <td>0.597163</td>\n",
       "      <td>0.163578</td>\n",
       "      <td>0.614771</td>\n",
       "      <td>0.117737</td>\n",
       "      <td>0.188437</td>\n",
       "      <td>0.177659</td>\n",
       "    </tr>\n",
       "    <tr>\n",
       "      <th>80</th>\n",
       "      <td>0.687500</td>\n",
       "      <td>0.176777</td>\n",
       "      <td>0.593421</td>\n",
       "      <td>0.132117</td>\n",
       "      <td>0.155164</td>\n",
       "      <td>0.219435</td>\n",
       "    </tr>\n",
       "    <tr>\n",
       "      <th rowspan=\"5\" valign=\"top\">1</th>\n",
       "      <th>20</th>\n",
       "      <th>60</th>\n",
       "      <td>0.565780</td>\n",
       "      <td>0.167394</td>\n",
       "      <td>0.510448</td>\n",
       "      <td>0.015173</td>\n",
       "      <td>0.033584</td>\n",
       "      <td>0.047771</td>\n",
       "    </tr>\n",
       "    <tr>\n",
       "      <th rowspan=\"3\" valign=\"top\">10</th>\n",
       "      <th>40</th>\n",
       "      <td>0.218440</td>\n",
       "      <td>0.183261</td>\n",
       "      <td>0.500000</td>\n",
       "      <td>0.000000</td>\n",
       "      <td>0.000000</td>\n",
       "      <td>0.000000</td>\n",
       "    </tr>\n",
       "    <tr>\n",
       "      <th>60</th>\n",
       "      <td>0.154255</td>\n",
       "      <td>0.168907</td>\n",
       "      <td>0.500000</td>\n",
       "      <td>0.000000</td>\n",
       "      <td>0.000000</td>\n",
       "      <td>0.000000</td>\n",
       "    </tr>\n",
       "    <tr>\n",
       "      <th>80</th>\n",
       "      <td>0.029167</td>\n",
       "      <td>0.054327</td>\n",
       "      <td>0.500000</td>\n",
       "      <td>0.000000</td>\n",
       "      <td>0.000000</td>\n",
       "      <td>0.000000</td>\n",
       "    </tr>\n",
       "    <tr>\n",
       "      <th>20</th>\n",
       "      <th>80</th>\n",
       "      <td>0.135417</td>\n",
       "      <td>0.132583</td>\n",
       "      <td>0.500000</td>\n",
       "      <td>0.000000</td>\n",
       "      <td>0.000000</td>\n",
       "      <td>0.000000</td>\n",
       "    </tr>\n",
       "    <tr>\n",
       "      <th>2</th>\n",
       "      <th>10</th>\n",
       "      <th>40</th>\n",
       "      <td>0.154167</td>\n",
       "      <td>0.280129</td>\n",
       "      <td>0.500000</td>\n",
       "      <td>0.000000</td>\n",
       "      <td>0.000000</td>\n",
       "      <td>0.000000</td>\n",
       "    </tr>\n",
       "  </tbody>\n",
       "</table>\n",
       "</div>"
      ],
      "text/plain": [
       "                    low confidence                 auc                 mcc  \\\n",
       "                              mean       std      mean       std      mean   \n",
       "model epochs weight                                                          \n",
       "2     20     40           0.799291  0.083774  0.671258  0.069741  0.327203   \n",
       "1     20     40           0.649379  0.370327  0.607667  0.079059  0.205925   \n",
       "2     20     60           0.597163  0.163578  0.614771  0.117737  0.188437   \n",
       "             80           0.687500  0.176777  0.593421  0.132117  0.155164   \n",
       "1     20     60           0.565780  0.167394  0.510448  0.015173  0.033584   \n",
       "      10     40           0.218440  0.183261  0.500000  0.000000  0.000000   \n",
       "             60           0.154255  0.168907  0.500000  0.000000  0.000000   \n",
       "             80           0.029167  0.054327  0.500000  0.000000  0.000000   \n",
       "      20     80           0.135417  0.132583  0.500000  0.000000  0.000000   \n",
       "2     10     40           0.154167  0.280129  0.500000  0.000000  0.000000   \n",
       "\n",
       "                               \n",
       "                          std  \n",
       "model epochs weight            \n",
       "2     20     40      0.144454  \n",
       "1     20     40      0.136954  \n",
       "2     20     60      0.177659  \n",
       "             80      0.219435  \n",
       "1     20     60      0.047771  \n",
       "      10     40      0.000000  \n",
       "             60      0.000000  \n",
       "             80      0.000000  \n",
       "      20     80      0.000000  \n",
       "2     10     40      0.000000  "
      ]
     },
     "execution_count": 28,
     "metadata": {},
     "output_type": "execute_result"
    }
   ],
   "source": [
    "results[results['family'] == 'journey'].groupby(['model', 'epochs', 'weight']).agg({'low confidence': ['mean', 'std'], \n",
    "                                                    'auc': ['mean', 'std'], \n",
    "                                                    'mcc': ['mean', 'std']}).sort_values(('mcc', 'mean'), ascending=False)[:10]"
   ]
  },
  {
   "cell_type": "code",
   "execution_count": 69,
   "metadata": {},
   "outputs": [],
   "source": [
    "from keras.callbacks import EarlyStopping"
   ]
  },
  {
   "cell_type": "code",
   "execution_count": null,
   "metadata": {},
   "outputs": [
    {
     "name": "stdout",
     "output_type": "stream",
     "text": [
      "Finished 0-0 in 12\n",
      "Finished 0-1 in 10\n"
     ]
    }
   ],
   "source": [
    "histories = []\n",
    "\n",
    "earlystop = EarlyStopping(monitor='val_loss', patience=2)\n",
    "\n",
    "for trial in range(2):\n",
    "    kfold = KFold(n_splits=6, shuffle=True)\n",
    "\n",
    "    for i, (train, val) in enumerate(kfold.split(X_train_battle)):\n",
    "\n",
    "        battle_model = build_model1()\n",
    "\n",
    "        history = battle_model.fit(X_train_battle[train], y_train_battle[train], epochs=20, \n",
    "                                   class_weight={0: 30.0, 1: 1.0}, batch_size=32, \n",
    "                                   validation_data=(X_train_battle[val], y_train_battle[val]), \n",
    "                                   callbacks=[earlystop], verbose=0)\n",
    "\n",
    "        histories.append([history.history['loss'], history.history['val_loss']])\n",
    "        print(f'Finished {trial}-{i} in {len(history.history[\"loss\"])}')\n",
    "\n",
    "# battle_preds = battle_model.predict(X_test_battle)"
   ]
  },
  {
   "cell_type": "code",
   "execution_count": 68,
   "metadata": {},
   "outputs": [
    {
     "data": {
      "image/png": "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\n",
      "text/plain": [
       "<Figure size 432x288 with 1 Axes>"
      ]
     },
     "metadata": {
      "image/png": {
       "height": 250,
       "width": 382
      },
      "needs_background": "light"
     },
     "output_type": "display_data"
    }
   ],
   "source": [
    "for h in np.array(histories):\n",
    "    plt.plot(range(20), h[0, :], c='orange', alpha=0.2)\n",
    "    plt.scatter([h[0, :].argmin()], [h[0, :].min()], c='orange', s=8)\n",
    "    plt.plot(range(20), h[1, :], c='blue', alpha=0.2)\n",
    "    plt.scatter([h[1, :].argmin()], [h[1, :].min()], c='blue', s=8)\n",
    "    \n",
    "best = np.median(np.argmin(histories, axis=2), axis=0)\n",
    "plt.axvline(best[0], color='orange', linestyle='dashed')\n",
    "plt.axvline(best[1], color='blue', linestyle='dashed')\n",
    "plt.text(best[0] - 2, 2, best[0])\n",
    "plt.text(best[1] - 2, 2, best[1])\n",
    "    \n",
    "plt.plot(range(20), np.array(histories)[:, 0, :].mean(axis=0), c='orange', label='Loss')\n",
    "plt.plot(range(20), np.array(histories)[:, 1, :].mean(axis=0), c='blue', label='Val Loss')\n",
    "plt.legend();"
   ]
  },
  {
   "cell_type": "code",
   "execution_count": 23,
   "metadata": {},
   "outputs": [
    {
     "name": "stdout",
     "output_type": "stream",
     "text": [
      "Epoch 1/25\n",
      "239/239 [==============================] - 4s 18ms/step - loss: 7.6195 - f1: 0.8246\n",
      "Epoch 2/25\n",
      "239/239 [==============================] - 1s 3ms/step - loss: 4.7986 - f1: 0.8263\n",
      "Epoch 3/25\n",
      "239/239 [==============================] - 1s 3ms/step - loss: 3.6212 - f1: 0.8209\n",
      "Epoch 4/25\n",
      "239/239 [==============================] - 1s 3ms/step - loss: 3.0647 - f1: 0.8258\n",
      "Epoch 5/25\n",
      "239/239 [==============================] - 1s 3ms/step - loss: 2.8378 - f1: 0.8250\n",
      "Epoch 6/25\n",
      "239/239 [==============================] - 1s 3ms/step - loss: 2.6393 - f1: 0.8226\n",
      "Epoch 7/25\n",
      "239/239 [==============================] - 1s 3ms/step - loss: 2.6882 - f1: 0.8271\n",
      "Epoch 8/25\n",
      "239/239 [==============================] - 1s 3ms/step - loss: 2.6528 - f1: 0.8265\n",
      "Epoch 9/25\n",
      "239/239 [==============================] - 1s 3ms/step - loss: 2.6136 - f1: 0.8273\n",
      "Epoch 10/25\n",
      "239/239 [==============================] - 1s 3ms/step - loss: 2.5774 - f1: 0.8236\n",
      "Epoch 11/25\n",
      "239/239 [==============================] - 1s 3ms/step - loss: 2.5381 - f1: 0.8264\n",
      "Epoch 12/25\n",
      "239/239 [==============================] - 1s 4ms/step - loss: 2.4884 - f1: 0.8264\n",
      "Epoch 13/25\n",
      "239/239 [==============================] - 1s 3ms/step - loss: 2.3285 - f1: 0.8249\n",
      "Epoch 14/25\n",
      "239/239 [==============================] - 1s 4ms/step - loss: 2.1756 - f1: 0.8267\n",
      "Epoch 15/25\n",
      "239/239 [==============================] - 1s 4ms/step - loss: 1.9392 - f1: 0.8282\n",
      "Epoch 16/25\n",
      "239/239 [==============================] - 1s 3ms/step - loss: 1.6189 - f1: 0.8242\n",
      "Epoch 17/25\n",
      "239/239 [==============================] - 1s 4ms/step - loss: 1.3126 - f1: 0.8276\n",
      "Epoch 18/25\n",
      "239/239 [==============================] - 1s 3ms/step - loss: 1.0572 - f1: 0.8280\n",
      "Epoch 19/25\n",
      "239/239 [==============================] - 1s 3ms/step - loss: 0.8792 - f1: 0.8276\n",
      "Epoch 20/25\n",
      "239/239 [==============================] - 1s 4ms/step - loss: 0.5741 - f1: 0.8256\n",
      "Epoch 21/25\n",
      "239/239 [==============================] - 1s 3ms/step - loss: 0.4083 - f1: 0.8265\n",
      "Epoch 22/25\n",
      "239/239 [==============================] - 1s 3ms/step - loss: 0.2720 - f1: 0.8253\n",
      "Epoch 23/25\n",
      "239/239 [==============================] - 1s 3ms/step - loss: 0.1772 - f1: 0.8248\n",
      "Epoch 24/25\n",
      "239/239 [==============================] - 1s 3ms/step - loss: 0.1283 - f1: 0.8274\n",
      "Epoch 25/25\n",
      "239/239 [==============================] - 1s 3ms/step - loss: 0.5218 - f1: 0.8237\n"
     ]
    }
   ],
   "source": [
    "journey_model = build_model4()\n",
    "        \n",
    "journey_model.fit(X_train_journey, y_train_journey, epochs=25, class_weight={0: 40.0, 1: 1.0}, verbose=1)\n",
    "\n",
    "journey_preds = journey_model.predict(X_test_journey)"
   ]
  },
  {
   "cell_type": "code",
   "execution_count": 51,
   "metadata": {},
   "outputs": [],
   "source": [
    "battle_model.save('battle_model.h5')\n",
    "journey_model.save('journey_model.h5')"
   ]
  },
  {
   "cell_type": "code",
   "execution_count": 24,
   "metadata": {},
   "outputs": [
    {
     "data": {
      "text/html": [
       "<div>\n",
       "<style scoped>\n",
       "    .dataframe tbody tr th:only-of-type {\n",
       "        vertical-align: middle;\n",
       "    }\n",
       "\n",
       "    .dataframe tbody tr th {\n",
       "        vertical-align: top;\n",
       "    }\n",
       "\n",
       "    .dataframe thead th {\n",
       "        text-align: right;\n",
       "    }\n",
       "</style>\n",
       "<table border=\"1\" class=\"dataframe\">\n",
       "  <thead>\n",
       "    <tr style=\"text-align: right;\">\n",
       "      <th>Predicted</th>\n",
       "      <th>0</th>\n",
       "      <th>1</th>\n",
       "      <th>All</th>\n",
       "    </tr>\n",
       "    <tr>\n",
       "      <th>True</th>\n",
       "      <th></th>\n",
       "      <th></th>\n",
       "      <th></th>\n",
       "    </tr>\n",
       "  </thead>\n",
       "  <tbody>\n",
       "    <tr>\n",
       "      <th>0</th>\n",
       "      <td>13</td>\n",
       "      <td>19</td>\n",
       "      <td>32</td>\n",
       "    </tr>\n",
       "    <tr>\n",
       "      <th>1</th>\n",
       "      <td>3</td>\n",
       "      <td>231</td>\n",
       "      <td>234</td>\n",
       "    </tr>\n",
       "    <tr>\n",
       "      <th>All</th>\n",
       "      <td>16</td>\n",
       "      <td>250</td>\n",
       "      <td>266</td>\n",
       "    </tr>\n",
       "  </tbody>\n",
       "</table>\n",
       "</div>"
      ],
      "text/plain": [
       "Predicted   0    1  All\n",
       "True                   \n",
       "0          13   19   32\n",
       "1           3  231  234\n",
       "All        16  250  266"
      ]
     },
     "execution_count": 24,
     "metadata": {},
     "output_type": "execute_result"
    }
   ],
   "source": [
    "pd.crosstab(y_test_battle, battle_preds.argmax(axis=1), rownames=['True'], colnames=['Predicted'], margins=True)"
   ]
  },
  {
   "cell_type": "code",
   "execution_count": 25,
   "metadata": {},
   "outputs": [
    {
     "data": {
      "text/html": [
       "<div>\n",
       "<style scoped>\n",
       "    .dataframe tbody tr th:only-of-type {\n",
       "        vertical-align: middle;\n",
       "    }\n",
       "\n",
       "    .dataframe tbody tr th {\n",
       "        vertical-align: top;\n",
       "    }\n",
       "\n",
       "    .dataframe thead th {\n",
       "        text-align: right;\n",
       "    }\n",
       "</style>\n",
       "<table border=\"1\" class=\"dataframe\">\n",
       "  <thead>\n",
       "    <tr style=\"text-align: right;\">\n",
       "      <th>Predicted</th>\n",
       "      <th>0</th>\n",
       "      <th>1</th>\n",
       "      <th>All</th>\n",
       "    </tr>\n",
       "    <tr>\n",
       "      <th>True</th>\n",
       "      <th></th>\n",
       "      <th></th>\n",
       "      <th></th>\n",
       "    </tr>\n",
       "  </thead>\n",
       "  <tbody>\n",
       "    <tr>\n",
       "      <th>0</th>\n",
       "      <td>13</td>\n",
       "      <td>4</td>\n",
       "      <td>17</td>\n",
       "    </tr>\n",
       "    <tr>\n",
       "      <th>1</th>\n",
       "      <td>23</td>\n",
       "      <td>20</td>\n",
       "      <td>43</td>\n",
       "    </tr>\n",
       "    <tr>\n",
       "      <th>All</th>\n",
       "      <td>36</td>\n",
       "      <td>24</td>\n",
       "      <td>60</td>\n",
       "    </tr>\n",
       "  </tbody>\n",
       "</table>\n",
       "</div>"
      ],
      "text/plain": [
       "Predicted   0   1  All\n",
       "True                  \n",
       "0          13   4   17\n",
       "1          23  20   43\n",
       "All        36  24   60"
      ]
     },
     "execution_count": 25,
     "metadata": {},
     "output_type": "execute_result"
    }
   ],
   "source": [
    "pd.crosstab(y_test_journey, journey_preds.argmax(axis=1), rownames=['True'], colnames=['Predicted'], margins=True)"
   ]
  },
  {
   "cell_type": "code",
   "execution_count": 26,
   "metadata": {},
   "outputs": [
    {
     "name": "stdout",
     "output_type": "stream",
     "text": [
      "Battle Model Cohen's Kappa:\n",
      "0.502\n",
      "Journey Model Cohen's Kappa:\n",
      "0.172\n"
     ]
    }
   ],
   "source": [
    "print('Battle Model Cohen\\'s Kappa:')\n",
    "print(f'{metrics.cohen_kappa_score(y_test_battle, battle_preds.argmax(axis=1)):.3f}')\n",
    "print('Journey Model Cohen\\'s Kappa:')\n",
    "print(f'{metrics.cohen_kappa_score(y_test_journey, journey_preds.argmax(axis=1)):.3f}')"
=======
    "from skopt.plots import plot_convergence\n",
    "\n",
    "plot_convergence(res_gp);"
>>>>>>> fixed
   ]
  },
  {
   "cell_type": "markdown",
   "metadata": {},
   "source": [
    "### Journey Model Hyperparameter Optimization"
   ]
  },
  {
   "cell_type": "code",
   "execution_count": 74,
   "metadata": {},
   "outputs": [],
   "source": [
    "kfold = StratifiedKFold(n_splits=5, shuffle=True)\n",
    "\n",
    "earlystop = EarlyStopping(monitor='val_loss', patience=3)\n",
    "\n",
    "@use_named_args(space)\n",
    "def objective(**params):\n",
    "    \n",
    "    kappas = []\n",
    "            \n",
    "    model_obj = build_model(params['model'], params['dropout'], params['hidden_layers'], \n",
    "                              params['hidden_units'], params['lr'])\n",
    "\n",
    "    for fold, (train_ixs, val_ixs) in enumerate(kfold.split(X_train_journey, y_train_journey)):\n",
    "        now = datetime.now()\n",
    "\n",
    "        weights = {0: params['class_weight'], 1: 1.0}\n",
    "\n",
    "        history = model_obj.fit(X_train_journey[train_ixs], y_train_journey[train_ixs], epochs=30,\n",
    "                  validation_data=(X_train_journey[val_ixs], y_train_journey[val_ixs]), \n",
    "                  class_weight=weights, callbacks=[earlystop], \n",
    "                  verbose=0)\n",
    "\n",
    "        preds = (model_obj.predict(X_train_journey[val_ixs]) > 0.5).astype(int)\n",
    "\n",
    "        model_obj.reset_states()\n",
    "\n",
    "        kappa = metrics.cohen_kappa_score(y_train_journey[val_ixs], preds)\n",
    "\n",
    "        kappas.append(kappa)\n",
    "\n",
    "        del history, preds\n",
    "\n",
    "        if fold == 2:\n",
    "            break\n",
    "            \n",
    "    print(f'\\t {params[\"model\"]} {params[\"dropout\"]:.3f} {params[\"hidden_layers\"]} {params[\"hidden_units\"]} {params[\"lr\"]:.3f} {params[\"class_weight\"]:.2f}')\n",
    "    \n",
    "    return 1-np.mean(kappas)"
   ]
  },
  {
   "cell_type": "code",
   "execution_count": 75,
   "metadata": {},
   "outputs": [
    {
     "name": "stdout",
     "output_type": "stream",
     "text": [
      "Iteration No: 1 started. Evaluating function at provided point.\n",
      "\t gru 0.000 1 8 0.027 16.31\n",
      "Iteration No: 1 ended. Evaluation done at provided point.\n",
      "Time taken: 86.8615\n",
      "Function value obtained: 0.3009\n",
      "Current minimum: 0.3009\n",
      "Iteration No: 2 started. Evaluating function at random point.\n",
      "\t lstm 0.403 2 8 0.009 19.03\n",
      "Iteration No: 2 ended. Evaluation done at random point.\n",
      "Time taken: 61.4794\n",
      "Function value obtained: 1.0000\n",
      "Current minimum: 0.3009\n",
      "Iteration No: 3 started. Evaluating function at random point.\n",
      "\t gru 0.362 2 17 0.003 16.73\n",
      "Iteration No: 3 ended. Evaluation done at random point.\n",
      "Time taken: 67.7568\n",
      "Function value obtained: 1.0000\n",
      "Current minimum: 0.3009\n",
      "Iteration No: 4 started. Evaluating function at random point.\n",
      "\t gru 0.152 2 17 0.015 18.60\n",
      "Iteration No: 4 ended. Evaluation done at random point.\n",
      "Time taken: 60.9893\n",
      "Function value obtained: 0.4730\n",
      "Current minimum: 0.3009\n",
      "Iteration No: 5 started. Evaluating function at random point.\n",
      "\t lstm 0.380 2 18 0.002 17.46\n",
      "Iteration No: 5 ended. Evaluation done at random point.\n",
      "Time taken: 55.5506\n",
      "Function value obtained: 1.0000\n",
      "Current minimum: 0.3009\n",
      "Iteration No: 6 started. Evaluating function at random point.\n",
      "\t lstm 0.025 2 18 0.001 4.60\n",
      "Iteration No: 6 ended. Evaluation done at random point.\n",
      "Time taken: 64.2864\n",
      "Function value obtained: 0.8819\n",
      "Current minimum: 0.3009\n",
      "Iteration No: 7 started. Evaluating function at random point.\n",
      "\t gru 0.354 2 13 0.003 33.38\n",
      "Iteration No: 7 ended. Evaluation done at random point.\n",
      "Time taken: 58.4567\n",
      "Function value obtained: 1.0000\n",
      "Current minimum: 0.3009\n",
      "Iteration No: 8 started. Evaluating function at random point.\n",
      "\t gru 0.412 1 17 0.001 53.40\n",
      "Iteration No: 8 ended. Evaluation done at random point.\n",
      "Time taken: 59.4757\n",
      "Function value obtained: 1.0000\n",
      "Current minimum: 0.3009\n",
      "Iteration No: 9 started. Evaluating function at random point.\n",
      "\t lstm 0.489 2 12 0.094 57.80\n",
      "Iteration No: 9 ended. Evaluation done at random point.\n",
      "Time taken: 123.5351\n",
      "Function value obtained: 1.0000\n",
      "Current minimum: 0.3009\n",
      "Iteration No: 10 started. Searching for the next optimal point.\n",
      "\t gru 0.016 1 16 0.038 2.00\n",
      "Iteration No: 10 ended. Search finished for the next optimal point.\n",
      "Time taken: 106.3010\n",
      "Function value obtained: 0.2811\n",
      "Current minimum: 0.2811\n",
      "Iteration No: 11 started. Searching for the next optimal point.\n",
      "\t gru 0.041 1 20 0.100 2.00\n",
      "Iteration No: 11 ended. Search finished for the next optimal point.\n",
      "Time taken: 70.8625\n",
      "Function value obtained: 0.2785\n",
      "Current minimum: 0.2785\n",
      "Iteration No: 12 started. Searching for the next optimal point.\n",
      "\t gru 0.032 3 20 0.001 60.00\n",
      "Iteration No: 12 ended. Search finished for the next optimal point.\n",
      "Time taken: 66.5185\n",
      "Function value obtained: 1.0000\n",
      "Current minimum: 0.2785\n",
      "Iteration No: 13 started. Searching for the next optimal point.\n",
      "\t lstm 0.003 1 8 0.069 2.00\n",
      "Iteration No: 13 ended. Search finished for the next optimal point.\n",
      "Time taken: 87.3537\n",
      "Function value obtained: 0.3406\n",
      "Current minimum: 0.2785\n",
      "Iteration No: 14 started. Searching for the next optimal point.\n",
      "\t gru 0.053 1 20 0.047 2.00\n",
      "Iteration No: 14 ended. Search finished for the next optimal point.\n",
      "Time taken: 82.2853\n",
      "Function value obtained: 0.2811\n",
      "Current minimum: 0.2785\n",
      "Iteration No: 15 started. Searching for the next optimal point.\n",
      "\t gru 0.023 3 20 0.066 2.00\n",
      "Iteration No: 15 ended. Search finished for the next optimal point.\n",
      "Time taken: 472.0785\n",
      "Function value obtained: 0.2193\n",
      "Current minimum: 0.2193\n",
      "Iteration No: 16 started. Searching for the next optimal point.\n",
      "\t gru 0.004 3 20 0.076 60.00\n",
      "Iteration No: 16 ended. Search finished for the next optimal point.\n",
      "Time taken: 198.6686\n",
      "Function value obtained: 1.0000\n",
      "Current minimum: 0.2193\n",
      "Best: 0.2192710687101166 at ['gru', 0.022675664888536746, 3, 20, 0.06571330873754073, 2.0]\n"
     ]
    }
   ],
   "source": [
    "res_gp_j = gp_minimize(objective, space, n_calls=16, n_random_starts=8, acq_func=\"PI\", \n",
    "                     x0=['gru', 0.0, 1, 8, 0.026881, 16.3068],\n",
    "                     acq_optimizer=\"auto\", verbose=True, n_jobs=3)\n",
    "\n",
    "print(f'Best: {res_gp_j.fun} at {res_gp_j.x}')"
   ]
  },
  {
   "cell_type": "code",
   "execution_count": 76,
   "metadata": {},
   "outputs": [
    {
     "data": {
      "image/png": "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\n",
      "text/plain": [
       "<Figure size 432x288 with 1 Axes>"
      ]
     },
     "metadata": {
      "image/png": {
       "height": 277,
       "width": 394
      },
      "needs_background": "light"
     },
     "output_type": "display_data"
    }
   ],
   "source": [
    "plot_convergence(res_gp_j);"
   ]
  },
  {
   "cell_type": "markdown",
   "metadata": {},
   "source": [
    "## Model Building"
   ]
<<<<<<< HEAD
=======
  },
  {
   "cell_type": "code",
   "execution_count": 26,
   "metadata": {},
   "outputs": [
    {
     "name": "stdout",
     "output_type": "stream",
     "text": [
      "Battle Model Cohen's Kappa:\n",
      "0.502\n",
      "Journey Model Cohen's Kappa:\n",
      "0.172\n"
     ]
    }
   ],
   "source": [
    "print('Battle Model Cohen\\'s Kappa:')\n",
    "print(f'{metrics.cohen_kappa_score(y_test_battle, battle_preds.argmax(axis=1)):.3f}')\n",
    "print('Journey Model Cohen\\'s Kappa:')\n",
    "print(f'{metrics.cohen_kappa_score(y_test_journey, journey_preds.argmax(axis=1)):.3f}')"
   ]
>>>>>>> fixed
  }
 ],
 "metadata": {
  "kernelspec": {
   "display_name": "Python [conda env:nlp]",
   "language": "python",
   "name": "conda-env-nlp-py"
  },
  "language_info": {
   "codemirror_mode": {
    "name": "ipython",
    "version": 3
   },
   "file_extension": ".py",
   "mimetype": "text/x-python",
   "name": "python",
   "nbconvert_exporter": "python",
   "pygments_lexer": "ipython3",
   "version": "3.6.7"
  }
 },
 "nbformat": 4,
 "nbformat_minor": 2
}
