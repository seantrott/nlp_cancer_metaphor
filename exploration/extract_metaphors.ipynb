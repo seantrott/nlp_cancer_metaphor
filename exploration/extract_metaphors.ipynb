{
 "cells": [
  {
   "cell_type": "markdown",
   "metadata": {},
   "source": [
    "## Manually Label Project Metaphors\n",
    "\n",
    "Randomly select projects and extract potential metaphors. Manually label whether the presented text fragment contains a metaphorical cancer-related phrase. Focus given to the underlined keyword token."
   ]
  },
  {
   "cell_type": "code",
   "execution_count": 1,
   "metadata": {},
   "outputs": [],
   "source": [
    "import os.path as op\n",
    "\n",
    "import numpy as np\n",
    "import seaborn as sns\n",
    "import matplotlib.pyplot as plt\n",
    "import pandas as pd\n",
    "\n",
    "import re"
   ]
  },
  {
   "cell_type": "code",
   "execution_count": 2,
   "metadata": {},
   "outputs": [],
   "source": [
    "DATA_PROCESSED = '../data/processed'\n",
    "\n",
    "UNDERLINE = '\\033[4m'\n",
    "END = '\\033[0m'"
   ]
  },
  {
   "cell_type": "code",
   "execution_count": 3,
   "metadata": {},
   "outputs": [],
   "source": [
    "df = pd.read_csv(op.join(DATA_PROCESSED, 'cancer_projects.csv'))"
   ]
  },
  {
   "cell_type": "code",
   "execution_count": 4,
   "metadata": {},
   "outputs": [
    {
     "data": {
      "text/plain": [
       "455"
      ]
     },
     "execution_count": 4,
     "metadata": {},
     "output_type": "execute_result"
    }
   ],
   "source": [
    "len(df)"
   ]
  },
  {
   "cell_type": "code",
   "execution_count": 11,
   "metadata": {},
   "outputs": [],
   "source": [
    "try:\n",
    "    labeled = pd.read_csv(op.join(DATA_PROCESSED, 'labeled_projects.csv'))\n",
    "except (pd.errors.EmptyDataError, FileNotFoundError):\n",
    "    labeled = pd.DataFrame([], columns=['project_id', 'fragment', 'char_location', 'type', 'keyword'])\n",
    "    labeled.to_csv(op.join(DATA_PROCESSED, 'labeled_projects.csv'))"
   ]
  },
  {
   "cell_type": "code",
   "execution_count": 27,
   "metadata": {},
   "outputs": [
    {
     "name": "stdout",
     "output_type": "stream",
     "text": [
      "Num: 10\n",
      "\n",
      "PROJECT Mom, Cancer, and Dirt Bikes... (Canceled)\n",
      "  I was far away in the US Air Force and supported my mom over the phone as she \u001b[4mfought\u001b[0m, and won, her breast cancer battle.  Her treatment had been very successful (rad\n",
      "Is this a cancer battle metaphor? y\n",
      "ed hormone manipulation to stop the growth.  Over the last 8 years now, she has \u001b[4mfought\u001b[0m a very good battle, but in truth, the cancer is slowly winning.  This year, in p\n",
      "Is this a cancer battle metaphor? y\n",
      "e and supported my mom over the phone as she fought, and won, her breast cancer \u001b[4mbattle\u001b[0m.  Her treatment had been very successful (radiation) and after all the work was \n",
      "Is this a cancer battle metaphor? y\n",
      "tion to stop the growth.  Over the last 8 years now, she has fought a very good \u001b[4mbattle\u001b[0m, but in truth, the cancer is slowly winning.  This year, in preparation for a ne\n",
      "Is this a cancer battle metaphor? y\n",
      "\n",
      "PROJECT ÉSTAINE | Science Fashion Impact | Shop Smart. Fight Cancer.\n",
      "king out our project! We are passionate about using high fashion as a medium to \u001b[4mfight\u001b[0m cancer.  I, Zofia, am a photochemist and a cancer researcher.  Jeremy is a cance\n",
      "Is this a cancer battle metaphor? y\n",
      " for Cancer, an educational fashion fundraiser depicting the science behind the \u001b[4mfight\u001b[0m with cancer and supporting a local children’s oncology center. Ironically, in th\n",
      "Is this a cancer battle metaphor? y\n",
      "hion, it is so much more — it is about educating the community and aiding those \u001b[4mfighting\u001b[0m the battle against cancer. The one-of-a-kind designs tell not only of science, b\n",
      "Is this a cancer battle metaphor? y\n",
      "o much more — it is about educating the community and aiding those fighting the \u001b[4mbattle\u001b[0m against cancer. The one-of-a-kind designs tell not only of science, but also the\n",
      "Is this a cancer battle metaphor? y\n",
      "\n",
      "PROJECT My Cancer Card Releases EVERYWHERE!\n",
      "No metaphors found\n",
      "\n",
      "PROJECT UV Anti-Cancer Melanoma Skin Protection James Prattas Co\n",
      "husiasts who need to minimize the amount of clothes they carry or wear of their \u001b[4mjourney\u001b[0m. Our T1O2 materials are especially wonderful and safe for our Children and those\n",
      "Is this a cancer journey metaphor? y\n",
      "\n",
      "PROJECT Gentlemen's of Instagram: \"a lookbook\". Unite to end cancer.\n",
      "No metaphors found\n",
      "\n",
      "PROJECT Strong\n",
      "o tell the story of my daughter's struggle with and her eventual winning of her \u001b[4mbattle\u001b[0m with Leukemia (ALL). Once barely known to us, Grand Rapids quickly became the ce\n",
      "Is this a cancer battle metaphor? y\n",
      "ck and white, printed on canvas, as they move into the chemotherapy part of her \u001b[4mjourney\u001b[0m. Once the chemo is over, the photos will go back to color, printed on metal, and\n",
      "Is this a cancer journey metaphor? y\n",
      "\n",
      "PROJECT CureWear - Apparel with Purpose\n",
      "No metaphors found\n",
      "\n",
      "PROJECT A Journey To Heal\n",
      "No metaphors found\n",
      "\n",
      "PROJECT For the Dexterous Colourist (Cancer Fundraiser)\n",
      " are many other costs I will be facing. I need to raise funds to help with this \u001b[4mbattle\u001b[0m. I am undergoing surgery the week this Kickstarter begins, and facing the unknow\n",
      "Is this a cancer battle metaphor? y\n",
      "\n",
      "PROJECT Pray Hard & Speak Life\n",
      "arted a Facebook page to update everyone who was praying for my wife during her \u001b[4mbattle\u001b[0m.  Along the way, I began sharing the story of how we met.  People were being add\n",
      "Is this a cancer battle metaphor? y\n",
      "ing Pray Hard & Speak Life,but you will be inspired to influence others who are \u001b[4mbattling\u001b[0m similar struggles to read it as well.           Pray Hard & Speak Life is comple\n",
      "Is this a cancer battle metaphor? \n",
      "eling sorry for ourselves and to lean on God.  We prayed that He would make our \u001b[4mjourney\u001b[0m meaningful no matter what the outcome.  We wanted it to matter and trusted that \n",
      "Is this a cancer journey metaphor? y\n",
      "Saved 18 for a total of 87!\n"
     ]
    }
   ],
   "source": [
    "BATTLE_WORDS = ['fight', 'fights', 'fighting', 'fought', 'battle', 'battles', 'battled', 'battling', \n",
    "        'war', 'beat', 'beating', 'beats', 'brutal']\n",
    "\n",
    "JOURNEY_WORDS = ['path', 'journey', 'destination']\n",
    "\n",
    "results = []\n",
    "\n",
    "window = 80\n",
    "\n",
    "c = input('Num: ')\n",
    "\n",
    "try:\n",
    "    c = int(c)\n",
    "except Exception:\n",
    "    print('Format error')\n",
    "    \n",
    "proj_sample = df.sample(c)\n",
    "\n",
    "for project in proj_sample.itertuples():\n",
    "    \n",
    "    print()\n",
    "    print(f'PROJECT {project.name}')\n",
    "    \n",
    "    metaphor = False\n",
    "    \n",
    "    for battle_word in BATTLE_WORDS:\n",
    "        \n",
    "        exp = r'(' + battle_word + ')\\W'\n",
    "\n",
    "        for kw_match in re.finditer(exp, project.text):\n",
    "            start, end = max(0, kw_match.start() - window), min(len(project.text), kw_match.end() + window)\n",
    "\n",
    "            print(project.text[start:kw_match.start()] + \n",
    "                  UNDERLINE + \n",
    "                  project.text[kw_match.start():kw_match.end()-1] + \n",
    "                  END + \n",
    "                  project.text[kw_match.end()-1:end])\n",
    "            \n",
    "            res = input('Is this a cancer battle metaphor? ')\n",
    "            \n",
    "            if res.lower() == 'y':\n",
    "                results.append([project.id, project.text[start:end], kw_match.start(), 'battle', battle_word])\n",
    "                metaphor = True\n",
    "                                \n",
    "    for journey_word in JOURNEY_WORDS:\n",
    "        \n",
    "        exp = r'(' + journey_word + ')\\W'\n",
    "\n",
    "        for kw_match in re.finditer(exp, project.text):\n",
    "            start, end = max(0, kw_match.start() - window), min(len(project.text), kw_match.end() + window)\n",
    "\n",
    "            print(project.text[start:kw_match.start()] + \n",
    "                  UNDERLINE + \n",
    "                  project.text[kw_match.start():kw_match.end()-1] + \n",
    "                  END + \n",
    "                  project.text[kw_match.end()-1:end])\n",
    "            \n",
    "            res = input('Is this a cancer journey metaphor? ')\n",
    "            \n",
    "            if res.lower() == 'y':\n",
    "                results.append([project.id, project.text[start:end], kw_match.start(), 'journey', journey_word])\n",
    "                metaphor = True\n",
    "                \n",
    "    if not metaphor:\n",
    "        results.append([project.id, '', np.nan, 'none', ''])\n",
    "        print('No metaphors found')\n",
    "                            \n",
    "results = pd.DataFrame(results, columns=['project_id', 'fragment', 'char_location', 'type', 'keyword'])\n",
    "\n",
    "labeled = pd.concat([labeled, results], axis=0, ignore_index=True).drop_duplicates(subset=['project_id', 'char_location'])\n",
    "\n",
    "labeled.to_csv(op.join(DATA_PROCESSED, 'labeled_projects.csv'), index=False)\n",
    "\n",
    "print()\n",
    "print(f'Saved {len(results)} for a total of {len(labeled)}!')\n",
    "\n",
    "del results, proj_sample"
   ]
  },
  {
   "cell_type": "code",
   "execution_count": 28,
   "metadata": {},
   "outputs": [
    {
     "data": {
      "text/plain": [
       "<matplotlib.axes._subplots.AxesSubplot at 0x1a1db6d080>"
      ]
     },
     "execution_count": 28,
     "metadata": {},
     "output_type": "execute_result"
    },
    {
     "data": {
      "image/png": "[encoded data removed]",
      "text/plain": [
       "<Figure size 432x288 with 1 Axes>"
      ]
     },
     "metadata": {},
     "output_type": "display_data"
    }
   ],
   "source": [
    "labeled.loc[labeled['type'] != 'none', 'keyword'].value_counts().plot(kind='bar')"
   ]
  }
 ],
 "metadata": {
  "kernelspec": {
   "display_name": "Python 3",
   "language": "python",
   "name": "python3"
  },
  "language_info": {
   "codemirror_mode": {
    "name": "ipython",
    "version": 3
   },
   "file_extension": ".py",
   "mimetype": "text/x-python",
   "name": "python",
   "nbconvert_exporter": "python",
   "pygments_lexer": "ipython3",
   "version": "3.6.3"
  }
 },
 "nbformat": 4,
 "nbformat_minor": 2
}
