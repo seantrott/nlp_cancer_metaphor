{
 "cells": [
  {
   "cell_type": "markdown",
   "metadata": {},
   "source": [
    "## Manually Label Project Metaphors\n",
    "\n",
    "Randomly select projects and extract potential metaphors. Manually label whether the presented text fragment contains a metaphorical cancer-related phrase. Focus given to the underlined keyword token."
   ]
  },
  {
   "cell_type": "code",
   "execution_count": 1,
   "metadata": {},
   "outputs": [],
   "source": [
    "import os.path as op\n",
    "\n",
    "import numpy as np\n",
    "import seaborn as sns\n",
    "import matplotlib.pyplot as plt\n",
    "\n",
    "%config InlineBackend.figure_format = 'retina'\n",
    "\n",
    "import pandas as pd\n",
    "\n",
    "import re"
   ]
  },
  {
   "cell_type": "code",
   "execution_count": 2,
   "metadata": {},
   "outputs": [],
   "source": [
    "DATA_PROCESSED = '../data/processed'\n",
    "\n",
    "UNDERLINE = '\\033[4m'\n",
    "END = '\\033[0m'"
   ]
  },
  {
   "cell_type": "code",
   "execution_count": 3,
   "metadata": {},
   "outputs": [],
   "source": [
    "df = pd.read_csv(op.join(DATA_PROCESSED, 'cancer_projects.csv'))"
   ]
  },
  {
   "cell_type": "code",
   "execution_count": 4,
   "metadata": {},
   "outputs": [
    {
     "data": {
      "text/plain": [
       "455"
      ]
     },
     "execution_count": 4,
     "metadata": {},
     "output_type": "execute_result"
    }
   ],
   "source": [
    "len(df)"
   ]
  },
  {
   "cell_type": "code",
   "execution_count": 5,
   "metadata": {},
   "outputs": [
    {
     "name": "stdout",
     "output_type": "stream",
     "text": [
      "Loaded existing labels\n"
     ]
    }
   ],
   "source": [
    "try:\n",
    "    labeled = pd.read_csv(op.join(DATA_PROCESSED, 'labeled_projects.csv'))\n",
    "    print('Loaded existing labels')\n",
    "except (pd.errors.EmptyDataError, FileNotFoundError):\n",
    "    labeled = pd.DataFrame([], columns=['project_id', 'fragment', 'char_location', 'type', 'keyword'])\n",
    "    labeled.to_csv(op.join(DATA_PROCESSED, 'labeled_projects.csv'))\n",
    "    print('Created new label file')"
   ]
  },
  {
   "cell_type": "code",
   "execution_count": 6,
   "metadata": {},
   "outputs": [
    {
     "data": {
      "text/plain": [
       "645"
      ]
     },
     "execution_count": 6,
     "metadata": {},
     "output_type": "execute_result"
    }
   ],
   "source": [
    "len(labeled)"
   ]
  },
  {
   "cell_type": "code",
   "execution_count": 7,
   "metadata": {},
   "outputs": [],
   "source": [
    "# these are ordered lists - since we search in order the lemma comes last (so not to catch non-lemma'd words)\n",
    "\n",
    "BATTLE_WORDS = ['fights', 'fighting', 'fight', 'fought', 'battles', 'battled', 'battling', 'battle', 'war', 'beating', 'beats', 'beaten', 'beat', 'enemy', 'brutal']\n",
    "\n",
    "JOURNEY_WORDS = ['path', 'journey', 'destination']\n",
    "\n",
    "window = 80"
   ]
  },
  {
   "cell_type": "markdown",
   "metadata": {},
   "source": [
    "# Manually Label Metaphors"
   ]
  },
  {
   "cell_type": "code",
   "execution_count": null,
   "metadata": {},
   "outputs": [],
   "source": [
    "results = []\n",
    "\n",
    "narrowed = df[~df['id'].isin(labeled['project_id'])].copy()\n",
    "print(f'Maximum N: {len(narrowed)}')\n",
    "\n",
    "c = input('N: ')\n",
    "\n",
    "try:\n",
    "    c = int(c)\n",
    "except Exception:\n",
    "    print('Format error')\n",
    "        \n",
    "proj_sample = narrowed.sample(c)\n",
    "\n",
    "for project in proj_sample.itertuples():\n",
    "    \n",
    "    print()\n",
    "    print(f'PROJECT {project.name}')\n",
    "    \n",
    "    metaphor = False\n",
    "    \n",
    "    for battle_word in BATTLE_WORDS:\n",
    "        \n",
    "        if not isinstance(project.text, str):\n",
    "            break\n",
    "        \n",
    "        exp = r'\\W(' + battle_word + ')\\W'\n",
    "\n",
    "        for kw_match in re.finditer(exp, project.text.lower()):\n",
    "            start, end = max(0, kw_match.start() - window), min(len(project.text), kw_match.end() + window)\n",
    "\n",
    "            print(project.text[start:kw_match.start()] + \n",
    "                  UNDERLINE + \n",
    "                  project.text[kw_match.start():kw_match.end()-1] + \n",
    "                  END + \n",
    "                  project.text[kw_match.end()-1:end])\n",
    "            \n",
    "            res = input('Is this a cancer battle metaphor? ')\n",
    "            \n",
    "            if res.lower() == 'y':\n",
    "                results.append([project.id, project.text[start:end], kw_match.start(), 'battle', battle_word])\n",
    "                metaphor = True\n",
    "                                \n",
    "    for journey_word in JOURNEY_WORDS:\n",
    "        \n",
    "        if not isinstance(project.text, str):\n",
    "            break\n",
    "        \n",
    "        exp = r'\\W(' + journey_word + ')\\W'\n",
    "\n",
    "        for kw_match in re.finditer(exp, project.text.lower()):\n",
    "            start, end = max(0, kw_match.start() - window), min(len(project.text), kw_match.end() + window)\n",
    "\n",
    "            print(project.text[start:kw_match.start()] + \n",
    "                  UNDERLINE + \n",
    "                  project.text[kw_match.start():kw_match.end()-1] + \n",
    "                  END + \n",
    "                  project.text[kw_match.end()-1:end])\n",
    "            \n",
    "            res = input('Is this a cancer journey metaphor? ')\n",
    "            \n",
    "            if res.lower() == 'y':\n",
    "                results.append([project.id, project.text[start:end], kw_match.start(), 'journey', journey_word])\n",
    "                metaphor = True\n",
    "                \n",
    "    if not metaphor:\n",
    "        results.append([project.id, '', np.nan, 'none', ''])\n",
    "        print('No metaphors found')\n",
    "                            \n",
    "results = pd.DataFrame(results, columns=['project_id', 'fragment', 'char_location', 'type', 'keyword'])\n",
    "\n",
    "labeled = pd.concat([labeled, results], axis=0, ignore_index=True).drop_duplicates(subset=['project_id', 'char_location'])\n",
    "\n",
    "labeled.to_csv(op.join(DATA_PROCESSED, 'labeled_projects.csv'), index=False)\n",
    "\n",
    "print()\n",
    "print(f'Saved {len(results)} for a total of {len(labeled)}!')\n",
    "\n",
    "del results, proj_sample, narrowed"
   ]
  },
  {
   "cell_type": "code",
   "execution_count": null,
   "metadata": {
    "scrolled": true
   },
   "outputs": [],
   "source": [
    "print(f'Total metaphor examples: {len(labeled.loc[labeled[\"type\"] != \"none\", :])}')\n",
    "\n",
    "plt.subplots(1, 2, figsize=(16,4))\n",
    "\n",
    "plt.subplot(1,2,1)\n",
    "vc = labeled.loc[labeled['type'] != 'none', 'keyword'].value_counts();\n",
    "sns.barplot(vc.index, vc.values)\n",
    "plt.xticks(rotation=45)\n",
    "plt.grid(axis='y', alpha=0.3)\n",
    "\n",
    "plt.subplot(1,2,2)\n",
    "vc = labeled['type'].value_counts()\n",
    "g = sns.barplot(vc.index, vc.values, palette='husl')\n",
    "plt.grid(axis='y', alpha=0.3)\n",
    "\n",
    "s = sum(vc.values)\n",
    "for p in g.patches:\n",
    "    h = p.get_height()\n",
    "    plt.text(p.get_x() + 0.3, h - 20, f'{h/s*100:.2f}%')"
   ]
  },
  {
   "cell_type": "markdown",
   "metadata": {},
   "source": [
    "### TODO\n",
    "\n",
    "o how productive a metaphor is (**creatively** using metaphor). \n",
    "\n",
    "o is the campaign about raising money for research, product, book, diets, etc. journey as raising money\n",
    "\n",
    "x add enemy as keyword\n",
    "\n",
    "o add \"fighter\" as keyword\n",
    "\n",
    "o cancer fighting the patient, not the other way around - bring in POS to figure out if cancer is a subject or object, \"cancer can’t beat us\", \"battle scars\"\n",
    "\n",
    "o situational model, looking at prosidy in speech\n",
    "\n",
    "o measure of distinct words in a campaign\n",
    "\n",
    "o characterizing metaphors with types of projects\n",
    "\n",
    "**Instances of Keyword used not in Metaphor**\n",
    "\n",
    "My wife beat me to the shower\n",
    "\n",
    "don’t beat around the bush\n",
    "\n",
    "an underground fight club\n",
    "\n",
    "Gulf War-influenced The New World"
   ]
  },
  {
   "cell_type": "markdown",
   "metadata": {},
   "source": [
    "# Relabel Missed"
   ]
  },
  {
   "cell_type": "code",
   "execution_count": null,
   "metadata": {},
   "outputs": [],
   "source": [
    "false_positives = []"
   ]
  },
  {
   "cell_type": "code",
   "execution_count": null,
   "metadata": {},
   "outputs": [],
   "source": [
    "for project in df.sample(frac=1).itertuples():\n",
    "    \n",
    "    print()\n",
    "    print(f'PROJECT {project.name}')\n",
    "        \n",
    "    for battle_word in BATTLE_WORDS:\n",
    "        \n",
    "        if not isinstance(project.text, str):\n",
    "            break\n",
    "        \n",
    "        exp = r'\\W(' + battle_word + ')\\W'\n",
    "\n",
    "        for kw_match in re.finditer(exp, project.text.lower()):\n",
    "            \n",
    "            if (np.abs(float(kw_match.start()) - labeled.loc[labeled['project_id'] == project.id, 'char_location'].values) < 4).any():\n",
    "                continue\n",
    "                \n",
    "            if pd.isnull(labeled.loc[labeled['project_id'] == project.id, 'char_location']).any():\n",
    "                continue\n",
    "    \n",
    "            start, end = max(0, kw_match.start() - window), min(len(project.text), kw_match.end() + window)\n",
    "            print(project.text[start:kw_match.start()] + \n",
    "                  UNDERLINE + \n",
    "                  project.text[kw_match.start():kw_match.end()-1] + \n",
    "                  END + \n",
    "                  project.text[kw_match.end()-1:end])\n",
    "\n",
    "            res = input('Is this a cancer battle metaphor? ')\n",
    "\n",
    "            if res.lower() == 'y':\n",
    "                labeled = labeled.append({'project_id': project.id, \n",
    "                                'fragment': project.text[start:end], \n",
    "                                'char_location': kw_match.start(), \n",
    "                                'type': 'battle', \n",
    "                                'keyword': battle_word}, ignore_index=True)\n",
    "            else:\n",
    "                false_positives.append({'project_id': project.id, \n",
    "                                'fragment': project.text[start:end], \n",
    "                                'char_location': kw_match.start(), \n",
    "                                'type': 'battle', \n",
    "                                'keyword': battle_word})\n",
    "                                \n",
    "    for journey_word in JOURNEY_WORDS:\n",
    "        \n",
    "        if not isinstance(project.text, str):\n",
    "            break\n",
    "        \n",
    "        exp = r'\\W(' + journey_word + ')\\W'\n",
    "\n",
    "        for kw_match in re.finditer(exp, project.text.lower()):\n",
    "            \n",
    "            if (np.abs(float(kw_match.start()) - labeled.loc[labeled['project_id'] == project.id, 'char_location'].values) < 4).any():\n",
    "                continue\n",
    "                \n",
    "            if pd.isnull(labeled.loc[labeled['project_id'] == project.id, 'char_location']).any():\n",
    "                continue\n",
    "                \n",
    "            start, end = max(0, kw_match.start() - window), min(len(project.text), kw_match.end() + window)\n",
    "            print(project.text[start:kw_match.start()] + \n",
    "                  UNDERLINE + \n",
    "                  project.text[kw_match.start():kw_match.end()-1] + \n",
    "                  END + \n",
    "                  project.text[kw_match.end()-1:end])\n",
    "\n",
    "            res = input('Is this a cancer journey metaphor? ')\n",
    "\n",
    "            if res.lower() == 'y':\n",
    "                labeled = labeled.append({'project_id': project.id, \n",
    "                                'fragment': project.text[start:end], \n",
    "                                'char_location': kw_match.start(), \n",
    "                                'type': 'journey', \n",
    "                                'keyword': journey_word}, ignore_index=True)\n",
    "            else:\n",
    "                false_positives.append({'project_id': project.id, \n",
    "                                'fragment': project.text[start:end], \n",
    "                                'char_location': kw_match.start(), \n",
    "                                'type': 'journey', \n",
    "                                'keyword': journey_word})"
   ]
  },
  {
   "cell_type": "code",
   "execution_count": null,
   "metadata": {},
   "outputs": [],
   "source": [
    "len(labeled), len(false_positives)"
   ]
  },
  {
   "cell_type": "code",
   "execution_count": null,
   "metadata": {},
   "outputs": [],
   "source": [
    "labeled.to_csv(op.join(DATA_PROCESSED, 'labeled_projects.csv'), index=False)"
   ]
  },
  {
   "cell_type": "code",
   "execution_count": null,
   "metadata": {},
   "outputs": [],
   "source": [
    "pd.DataFrame(false_positives).to_csv(op.join(DATA_PROCESSED, 'false_positive_metaphors.csv'), index=False)"
   ]
  },
  {
   "cell_type": "markdown",
   "metadata": {},
   "source": [
    "# Auto-Detection"
   ]
  },
  {
   "cell_type": "code",
   "execution_count": 8,
   "metadata": {},
   "outputs": [],
   "source": [
    "a = pd.read_csv(op.join(DATA_PROCESSED, 'labeled_projects.csv')).dropna()\n",
    "b = pd.read_csv(op.join(DATA_PROCESSED, 'false_positive_metaphors.csv'))\n",
    "a['metaphorical'] = True\n",
    "b['metaphorical'] = False\n",
    "\n",
    "instances = pd.concat([a, b], ignore_index=True, sort=False)"
   ]
  },
  {
   "cell_type": "code",
   "execution_count": 9,
   "metadata": {},
   "outputs": [],
   "source": [
    "def find_metaphors(text):\n",
    "    if not isinstance(text, float):\n",
    "            \n",
    "        if 'cancer' in text.lower():\n",
    "            for kw_match in re.finditer(r'\\W(fight)\\W', text.lower()):\n",
    "                start, end = max(0, kw_match.start() - window), min(len(text), kw_match.end() + window)\n",
    "                yield {'fragment': text[start:end],\n",
    "                       'char_location': kw_match.start(), \n",
    "                       'type': 'battle', \n",
    "                       'keyword': 'fight'}\n",
    "                \n",
    "            for kw_match in re.finditer(r'\\W(fights)\\W', text.lower()):\n",
    "                start, end = max(0, kw_match.start() - window), min(len(text), kw_match.end() + window)\n",
    "                yield {'fragment': text[start:end],\n",
    "                       'char_location': kw_match.start(), \n",
    "                       'type': 'battle', \n",
    "                       'keyword': 'fights'}\n",
    "                \n",
    "            for kw_match in re.finditer(r'\\W(fighting)\\W', text.lower()):\n",
    "                start, end = max(0, kw_match.start() - window), min(len(text), kw_match.end() + window)\n",
    "                yield {'fragment': text[start:end],\n",
    "                       'char_location': kw_match.start(), \n",
    "                       'type': 'battle', \n",
    "                       'keyword': 'fighting'}\n",
    "\n",
    "            for kw_match in re.finditer(r'\\W(fought)\\W', text.lower()):\n",
    "                start, end = max(0, kw_match.start() - window), min(len(text), kw_match.end() + window)\n",
    "                yield {'fragment': text[start:end],\n",
    "                       'char_location': kw_match.start(), \n",
    "                       'type': 'battle', \n",
    "                       'keyword': 'fought'}\n",
    "                \n",
    "            for kw_match in re.finditer(r'\\W(battle)\\W', text.lower()):\n",
    "                start, end = max(0, kw_match.start() - window), min(len(text), kw_match.end() + window)\n",
    "                yield {'fragment': text[start:end],\n",
    "                        'char_location': kw_match.start(), \n",
    "                        'type': 'battle', \n",
    "                        'keyword': 'battle'}\n",
    "                \n",
    "            for kw_match in re.finditer(r'\\W(battles)\\W', text.lower()):\n",
    "                start, end = max(0, kw_match.start() - window), min(len(text), kw_match.end() + window)\n",
    "                yield {'fragment': text[start:end],\n",
    "                       'char_location': kw_match.start(), \n",
    "                       'type': 'battle', \n",
    "                       'keyword': 'battles'} \n",
    "                        \n",
    "            for kw_match in re.finditer(r'\\W(battling)\\W', text.lower()):\n",
    "                start, end = max(0, kw_match.start() - window), min(len(text), kw_match.end() + window)\n",
    "                yield {'fragment': text[start:end],\n",
    "                       'char_location': kw_match.start(), \n",
    "                       'type': 'battle', \n",
    "                       'keyword': 'battling'}\n",
    "\n",
    "            for kw_match in re.finditer(r'\\W(battled)\\W', text.lower()):\n",
    "                start, end = max(0, kw_match.start() - window), min(len(text), kw_match.end() + window)\n",
    "                yield {'fragment': text[start:end],\n",
    "                       'char_location': kw_match.start(), \n",
    "                       'type': 'battle', \n",
    "                       'keyword': 'battled'}\n",
    "                \n",
    "            for kw_match in re.finditer(r'\\W(beat)\\W', text.lower()):\n",
    "                start, end = max(0, kw_match.start() - window), min(len(text), kw_match.end() + window)\n",
    "                yield {'fragment': text[start:end],\n",
    "                       'char_location': kw_match.start(), \n",
    "                       'type': 'battle', \n",
    "                       'keyword': 'beat'}\n",
    "            \n",
    "            for kw_match in re.finditer(r'\\W(beats)\\W', text.lower()):\n",
    "                start, end = max(0, kw_match.start() - window), min(len(text), kw_match.end() + window)\n",
    "                yield {'fragment': text[start:end],\n",
    "                       'char_location': kw_match.start(), \n",
    "                       'type': 'battle', \n",
    "                       'keyword': 'beats'}\n",
    "                \n",
    "            for kw_match in re.finditer(r'\\W(beaten)\\W', text.lower()):\n",
    "                start, end = max(0, kw_match.start() - window), min(len(text), kw_match.end() + window)\n",
    "                yield {'fragment': text[start:end],\n",
    "                       'char_location': kw_match.start(), \n",
    "                       'type': 'battle', \n",
    "                       'keyword': 'beaten'}\n",
    "                \n",
    "            for kw_match in re.finditer(r'\\W(beating)\\W', text.lower()):\n",
    "                start, end = max(0, kw_match.start() - window), min(len(text), kw_match.end() + window)\n",
    "                yield {'fragment': text[start:end],\n",
    "                       'char_location': kw_match.start(), \n",
    "                       'type': 'battle', \n",
    "                       'keyword': 'beating'}\n",
    "                \n",
    "            if 'character' not in text.lower() and 'hero' not in text.lower():\n",
    "                for kw_match in re.finditer(r'\\W(enemy)\\W', text.lower()):\n",
    "                    start, end = max(0, kw_match.start() - window), min(len(text), kw_match.end() + window)\n",
    "                    yield {'fragment': text[start:end],\n",
    "                           'char_location': kw_match.start(), \n",
    "                           'type': 'battle', \n",
    "                           'keyword': 'enemy'}\n",
    "                \n",
    "            for kw_match in re.finditer(r'\\W(brutal)\\W', text.lower()):\n",
    "                start, end = max(0, kw_match.start() - window), min(len(text), kw_match.end() + window)\n",
    "                yield {'fragment': text[start:end],\n",
    "                       'char_location': kw_match.start(), \n",
    "                       'type': 'battle', \n",
    "                       'keyword': 'brutal'}\n",
    "                \n",
    "            for kw_match in re.finditer(r'\\W(journey)\\W', text.lower()):\n",
    "                start, end = max(0, kw_match.start() - window), min(len(text), kw_match.end() + window)\n",
    "                next_ = text[kw_match.start():kw_match.end()+20].split()\n",
    "                if len(next_) > 1 and next_[1] not in ['from', 'will']:\n",
    "                    yield {'fragment': text[start:end],\n",
    "                           'char_location': kw_match.start(), \n",
    "                           'type': 'journey', \n",
    "                           'keyword': 'journey'}\n",
    "                else:\n",
    "                    print(next_)\n",
    "        \n",
    "        for kw_match in re.finditer(r'\\W(war (with|against) cancer)\\W', text.lower()):\n",
    "            start, end = max(0, kw_match.start() - window), min(len(text), kw_match.end() - 8 + window)\n",
    "            yield {'fragment': text[start:end],\n",
    "                   'char_location': kw_match.start(), \n",
    "                   'type': 'battle', \n",
    "                   'keyword': 'war'}"
   ]
  },
  {
   "cell_type": "code",
   "execution_count": 12,
   "metadata": {},
   "outputs": [
    {
     "data": {
      "text/plain": [
       "array([\" for she has had her fair share of ups and down. Although she hasn't had an easy journey in life, it has never phased her as a person. Diogo Hausen has been working as a\",\n",
       "       'ing responsibility, Rupert must embark on a hilarious, insightful and meaningful journey through the words and actions of these female patients.\\xa0 There is nothing funny ',\n",
       "       \"\\xa0 In short, DON'T BLINK is an eight-episode television show following the journey of four friends as they travel around Wisconsin chasing 14 of their most excitin\",\n",
       "       ' items we are going after,” Gregory proudly announced. Accompanying them on this journey will be a camera crew filming an 8-part, Wisconsin travel/adventure series calle',\n",
       "       '\"Beauty From Ash\" is an album of songs about my journey as I\\'ve walked through the most difficult time in my life - my son\\'s battle with',\n",
       "       \"eat with a purpose, it's time to Fight Cancer With a Fork! \\xa0Please join me on my journey and thank you for being apart of change.\",\n",
       "       'ist and arts educator whose passion is exposing everyone to all forms of art. My journey as an artist started when I was born into my family’s folk singing group, The Be',\n",
       "       ' Irvine Valley College * “This book is a recipe for hope. Jeff Weaver’s intimate journey reminds us that lifestyle changes are not easy. Told with honesty, humor, and lo',\n",
       "       \"n a desperate attempt to dissuade her mother from giving up, Andy takes her on a journey throughout time, reminding her of who they've been and what they've done togethe\",\n",
       "       \"ide to expression, told through the eyes of a young male.  See more of Michael's journey and work as a voice with the National Breast Cancer Foundation of Australia here\",\n",
       "       \"en go into a final publishing phase. The amount raised will support the creative journey. Once the figure is raised, it will all go towards putting Michael's words into \",\n",
       "       \"ing through similar situations to that of his family and his mother's incredible journey. He leaves no stone unturned. You can impact the grounds of education as he cove\",\n",
       "       'tary in progress, follows the rock band No Evidence of Disease (N.E.D.) on their journey from their unlikely beginnings to becoming a rock sensation and the “lightning r',\n",
       "       'n to you to help support this production. We hope you\\nare inspired to share this journey with us. Your financial\\nsupport will help to cover a\\xa0part of the cost for:\\xa0\\nActo',\n",
       "       'ong with creating this book a film documentary will be taking place recording my journey as I travel across the country taking portraits of cancer patients weekly video ',\n",
       "       'ue story of a man battling testicular cancer, \"Turning Thirty, The Musical\" is a journey of courage, love, hope, and family.\\xa0 With styles of music ranging from gospel an',\n",
       "       'l and staunch supporter of civil rights. In short, my death completes a wondrous journey, including 26 years of love, laughter, and bumps in the road with life-partner, ',\n",
       "       'REPLACING HARRY, there was not one hesitation to again embark on this theatrical journey, and\\xa0many of the original cast agreed to participate as well. Ironically, we wer',\n",
       "       'ot knowing what would happen, Andy invited a camera to follow him throughout his journey as he explores both medical and alternative healing option in Australia, New Zea',\n",
       "       'er a year. Andy also filmed personal diaries and took photographs throughout his journey. Together with the support of Sam Maydew, producer, Andy’s manager and principal',\n",
       "       \" internationally.\\xa0\\n Andy gave selflessly by letting a camera follow his personal journey, so let's give back by helping fulfill the legacy the wanted to leave behind.\\xa0 W\",\n",
       "       \"ouched by childhood cancer, who are in need. Want to follow our Knots and Arrows Journey?\\xa0Love our bracelets and our mission? Great! Please don't be shy about sharing Kn\",\n",
       "       'Surviving the Journey: Letters from the Railroad is an epistolary memoir in the making. About the auth',\n",
       "       \"riends, family members, and locations. Concurrently,\\xa0I will\\xa0reflect on\\xa0my life's journey\\xa0through a series of letters that\\xa0I'll be writing\\xa0along the way. These letters wi\",\n",
       "       \"ss my letters to. Together the letters will fit like a puzzle to show how life's\\xa0journey has led to today. From there I can plan what tomorrow might be. Why travel in or\",\n",
       "       \"  Finally, the train allows plenty of opportunity to meet new people, which\\xa0is a journey in and of itself! Can't you just fly? Wouldn't that be easier/more convenient? N\",\n",
       "       'tures has and will produce. A video will be released once a week during the bike journey. The journey will start June 1st, 2014. It will be a 3 ½ month journey. We will ',\n",
       "       ' will produce. A video will be released once a week during the bike journey. The journey will start June 1st, 2014. It will be a 3 ½ month journey. We will release a vid',\n",
       "       ' the bike journey. The journey will start June 1st, 2014. It will be a 3 ½ month journey. We will release a video once a week for 15 weeks. The journey might be done at ',\n",
       "       'll be a 3 ½ month journey. We will release a video once a week for 15 weeks. The journey might be done at the end of the 15 weeks, but that doesn’t mean we will stop rel',\n",
       "       ' of the 15 weeks, but that doesn’t mean we will stop releasing videos. After the journey we will still be releasing a video once a week for 9 months. The type of webseri',\n",
       "       'ideo once a week for 9 months. The type of webseries will vary from our personal journey to a webseries full of unseen footage!  These cancer patients and survivors stor',\n",
       "       ' interactive with our community. Patient and Survivor Webseries Promo:\\n Personal Journey Webseries Promo: June 1st, 2014 to September 15th, 2014. It is estimated to be 5',\n",
       "       'f highly talented filmmakers and musicians. The three man crew embarking on this journey has been preparing for almost a full year now. We are all film majors from Colum',\n",
       "       'hose desire is to push the boundaries and create a unique and meaningful film. A journey of a thousand miles begins with the first step. We will be eternally grateful fo',\n",
       "       'o – birdlife, bison, badgers and burrowing owls – into a compelling photographic\\njourney through my year-long triumph over cancer, filled with mini anecdotes of\\nthe new ',\n",
       "       'ery mile travelled on the ride. \\xa0Please make a pledge now and help us finish our journey strong! _________________________________________________________________ Josh C',\n",
       "       'n their community. \\xa0On October 2nd, the Peloton team will embark on a 2,500-mile journey from Calgary, Alberta, Canada, to Lewiston, Maine, for the Dempsey Challenge. \\xa0T',\n",
       "       'hour leg of the relay in order to stay on schedule. \\xa0Woven throughout the team’s journey across North America will be stories of cancer survivors, caregivers, and a youn',\n",
       "       'es together. \\nIn closing, thank you for giving a few moments of your time for my journey. Stephanie Balfrey\\nSteph.bcmi@gmail.com\\nFacebook group Breast Cancer Mission Imp'],\n",
       "      dtype=object)"
      ]
     },
     "execution_count": 12,
     "metadata": {},
     "output_type": "execute_result"
    }
   ],
   "source": [
    "instances.loc[(instances['keyword'] == 'journey') & (instances['metaphorical'] == False), 'fragment'].values"
   ]
  },
  {
   "cell_type": "code",
   "execution_count": 10,
   "metadata": {},
   "outputs": [
    {
     "name": "stdout",
     "output_type": "stream",
     "text": [
      "['journey', 'will', 'not', 'be', 'lost.', 'Th']\n",
      "['journey', 'will', 'start', 'June', '1st,']\n",
      "['journey', 'from', 'being', 'diagnosed']\n",
      "['journey', 'from', 'their', 'unlikely']\n",
      "['journey', 'will', 'not', 'be', 'lost.', 'Th']\n",
      "['journey', 'from', 'cancer', 'to', 'welln']\n",
      "['journey.']\n",
      "['journey', 'will', 'be', 'a', 'camera', 'cre']\n",
      "['journey', 'from', 'Calgary,', 'Albert']\n"
     ]
    }
   ],
   "source": [
    "counts = {t: {k: 0 for k in instances['keyword'].unique()} for t in ['fn', 'tn', 'tp', 'fp']}\n",
    "totals = dict(instances['keyword'].value_counts())\n",
    "\n",
    "for ix, project_instances in instances.sample(frac=1).groupby('project_id'):\n",
    "    result = np.array(['fn']*len(project_instances)) # we currently haven't found any metaphors\n",
    "    for metaphor in find_metaphors(df.loc[df['id'] == ix, 'text'].values[0]):\n",
    "        mask = np.abs(metaphor['char_location'] - project_instances['char_location']) < 4\n",
    "        \n",
    "        if sum(mask) == 1:\n",
    "            # did the mask find at least one instance of this metaphor we've recorded\n",
    "            metaphorical = project_instances[mask]['metaphorical'].values[0]\n",
    "            if metaphorical:\n",
    "                result[mask] = 'tp' # we found a metaphor instance and it actually is a metaphor\n",
    "            else:\n",
    "                result[mask] = 'fp' # we found a metaphor instance but it's not a metaphor\n",
    "                    \n",
    "    for i, r in enumerate(result):\n",
    "        if r == 'fn' and project_instances.iloc[i]['metaphorical'] == False:\n",
    "            result[i] = 'tn' # we didn't catch these non-metaphor instances: good\n",
    "            \n",
    "        # else: we didn't catch something we should have\n",
    "                            \n",
    "    for i, r in enumerate(result):\n",
    "        counts[r][project_instances.iloc[i]['keyword']] += 1"
   ]
  },
  {
   "cell_type": "code",
   "execution_count": 17,
   "metadata": {},
   "outputs": [
    {
     "data": {
      "text/html": [
       "<div>\n",
       "<style scoped>\n",
       "    .dataframe tbody tr th:only-of-type {\n",
       "        vertical-align: middle;\n",
       "    }\n",
       "\n",
       "    .dataframe tbody tr th {\n",
       "        vertical-align: top;\n",
       "    }\n",
       "\n",
       "    .dataframe thead th {\n",
       "        text-align: right;\n",
       "    }\n",
       "</style>\n",
       "<table border=\"1\" class=\"dataframe\">\n",
       "  <thead>\n",
       "    <tr style=\"text-align: right;\">\n",
       "      <th></th>\n",
       "      <th>project_id</th>\n",
       "      <th>fragment</th>\n",
       "      <th>char_location</th>\n",
       "      <th>type</th>\n",
       "      <th>keyword</th>\n",
       "      <th>metaphorical</th>\n",
       "      <th>prediction</th>\n",
       "    </tr>\n",
       "  </thead>\n",
       "  <tbody>\n",
       "    <tr>\n",
       "      <th>302</th>\n",
       "      <td>1105507467</td>\n",
       "      <td>reward to this whole breast cancer battle. Th...</td>\n",
       "      <td>5056.0</td>\n",
       "      <td>journey</td>\n",
       "      <td>journey</td>\n",
       "      <td>True</td>\n",
       "      <td>True</td>\n",
       "    </tr>\n",
       "    <tr>\n",
       "      <th>137</th>\n",
       "      <td>8143920</td>\n",
       "      <td>one reading this I want to say , If you have a...</td>\n",
       "      <td>1446.0</td>\n",
       "      <td>battle</td>\n",
       "      <td>fighting</td>\n",
       "      <td>True</td>\n",
       "      <td>True</td>\n",
       "    </tr>\n",
       "    <tr>\n",
       "      <th>130</th>\n",
       "      <td>1857493693</td>\n",
       "      <td>fe's struggles as we fight to overcome, rise u...</td>\n",
       "      <td>1187.0</td>\n",
       "      <td>battle</td>\n",
       "      <td>battle</td>\n",
       "      <td>True</td>\n",
       "      <td>True</td>\n",
       "    </tr>\n",
       "    <tr>\n",
       "      <th>43</th>\n",
       "      <td>1619907121</td>\n",
       "      <td>o much more — it is about educating the commun...</td>\n",
       "      <td>2936.0</td>\n",
       "      <td>battle</td>\n",
       "      <td>battle</td>\n",
       "      <td>True</td>\n",
       "      <td>True</td>\n",
       "    </tr>\n",
       "    <tr>\n",
       "      <th>384</th>\n",
       "      <td>410542533</td>\n",
       "      <td>during cancer treatment. Let’s help steal bac...</td>\n",
       "      <td>277.0</td>\n",
       "      <td>battle</td>\n",
       "      <td>battles</td>\n",
       "      <td>False</td>\n",
       "      <td>True</td>\n",
       "    </tr>\n",
       "  </tbody>\n",
       "</table>\n",
       "</div>"
      ],
      "text/plain": [
       "     project_id                                           fragment  \\\n",
       "302  1105507467   reward to this whole breast cancer battle. Th...   \n",
       "137     8143920  one reading this I want to say , If you have a...   \n",
       "130  1857493693  fe's struggles as we fight to overcome, rise u...   \n",
       "43   1619907121  o much more — it is about educating the commun...   \n",
       "384   410542533   during cancer treatment. Let’s help steal bac...   \n",
       "\n",
       "     char_location     type   keyword  metaphorical  prediction  \n",
       "302         5056.0  journey   journey          True        True  \n",
       "137         1446.0   battle  fighting          True        True  \n",
       "130         1187.0   battle    battle          True        True  \n",
       "43          2936.0   battle    battle          True        True  \n",
       "384          277.0   battle   battles         False        True  "
      ]
     },
     "execution_count": 17,
     "metadata": {},
     "output_type": "execute_result"
    }
   ],
   "source": [
    "# instances['prediction'] = np.nan\n",
    "instances.sample(5)"
   ]
  },
  {
   "cell_type": "code",
   "execution_count": 14,
   "metadata": {},
   "outputs": [],
   "source": [
    "from sklearn.metrics import precision_score, recall_score"
   ]
  },
  {
   "cell_type": "code",
   "execution_count": 15,
   "metadata": {},
   "outputs": [
    {
     "name": "stdout",
     "output_type": "stream",
     "text": [
      "['journey.']\n",
      "['journey', 'will', 'not', 'be', 'lost.', 'Th']\n",
      "['journey', 'from', 'being', 'diagnosed']\n",
      "['journey', 'from', 'being', 'diagnosed']\n",
      "['journey', 'will', 'not', 'be', 'lost.', 'Th']\n",
      "['journey', 'will', 'not', 'be', 'lost.', 'Th']\n",
      "['journey', 'from', 'Calgary,', 'Albert']\n",
      "['journey', 'from', 'cancer', 'to', 'welln']\n",
      "['journey', 'from', 'their', 'unlikely']\n",
      "['journey', 'will', 'be', 'a', 'camera', 'cre']\n",
      "['journey', 'from', 'their', 'unlikely']\n",
      "['journey', 'will', 'start', 'June', '1st,']\n",
      "['journey', 'will', 'start', 'June', '1st,']\n",
      "['journey', 'will', 'start', 'June', '1st,']\n",
      "['journey', 'will', 'start', 'June', '1st,']\n",
      "['journey', 'will', 'start', 'June', '1st,']\n",
      "['journey', 'will', 'start', 'June', '1st,']\n",
      "['journey', 'will', 'start', 'June', '1st,']\n",
      "['journey', 'from', 'Calgary,', 'Albert']\n",
      "['journey', 'from', 'Calgary,', 'Albert']\n"
     ]
    }
   ],
   "source": [
    "instances['prediction'] = False\n",
    "\n",
    "for ix, instance in instances.iterrows():\n",
    "    for metaphor in find_metaphors(df.loc[df['id'] == instance['project_id'], 'text'].values[0]):\n",
    "        if np.abs(metaphor['char_location'] - instance['char_location']) < 4:\n",
    "            instances.iloc[ix, 6] = True\n",
    "            break"
   ]
  },
  {
   "cell_type": "code",
   "execution_count": 18,
   "metadata": {},
   "outputs": [
    {
     "name": "stderr",
     "output_type": "stream",
     "text": [
      "/Users/alex/anaconda3/lib/python3.7/site-packages/sklearn/metrics/classification.py:1143: UndefinedMetricWarning: Precision is ill-defined and being set to 0.0 due to no predicted samples.\n",
      "  'precision', 'predicted', average, warn_for)\n"
     ]
    }
   ],
   "source": [
    "scores = []\n",
    "\n",
    "vc = instances['keyword'].value_counts()\n",
    "\n",
    "for ix, kw in instances.groupby('keyword'):\n",
    "    scores.append({'keyword': ix, 'score': precision_score(kw['metaphorical'], kw['prediction']), \n",
    "                   'metric': 'precision', 'c': vc[vc.index == ix].values[0]})\n",
    "    scores.append({'keyword': ix, 'score': recall_score(kw['metaphorical'], kw['prediction']), \n",
    "                   'metric': 'recall', 'c': vc[vc.index == ix].values[0]})\n",
    "    \n",
    "scores = pd.DataFrame(scores).sort_values(by='c', ascending=False)"
   ]
  },
  {
   "cell_type": "code",
   "execution_count": 23,
   "metadata": {},
   "outputs": [
    {
     "data": {
      "text/plain": [
       "0"
      ]
     },
     "execution_count": 23,
     "metadata": {},
     "output_type": "execute_result"
    }
   ],
   "source": [
    "sum(pd.read_csv('../../GoFundMe/data-raw/cancer_urls.csv').duplicated()"
   ]
  },
  {
   "cell_type": "code",
   "execution_count": 19,
   "metadata": {},
   "outputs": [
    {
     "name": "stderr",
     "output_type": "stream",
     "text": [
      "/Users/alex/anaconda3/lib/python3.7/site-packages/scipy/stats/stats.py:1713: FutureWarning: Using a non-tuple sequence for multidimensional indexing is deprecated; use `arr[tuple(seq)]` instead of `arr[seq]`. In the future this will be interpreted as an array index, `arr[np.array(seq)]`, which will result either in an error or a different result.\n",
      "  return np.add.reduce(sorted[indexer] * weights, axis=axis) / sumval\n"
     ]
    },
    {
     "data": {
      "image/png": "[encoded data removed]",
      "text/plain": [
       "<Figure size 1008x720 with 2 Axes>"
      ]
     },
     "metadata": {
      "image/png": {
       "height": 750,
       "width": 1011
      },
      "needs_background": "light"
     },
     "output_type": "display_data"
    }
   ],
   "source": [
    "plt.subplots(figsize=(14,10))\n",
    "plt.tight_layout()\n",
    "\n",
    "plt.subplot(211)\n",
    "\n",
    "g = sns.barplot(x='keyword', y='score', data=scores, hue='metric', palette='viridis')\n",
    "plt.grid(alpha=0.3, axis='y')\n",
    "plt.legend(loc='upper right')\n",
    "g.set_xticklabels(g.get_xticklabels(), rotation=30)\n",
    "g.set_ylabel('Recall/Precision');\n",
    "\n",
    "plt.subplot(212)\n",
    "\n",
    "g = sns.barplot(x='keyword', y='c', data=scores, color='k')\n",
    "g.set_xticklabels(g.get_xticklabels(), rotation=30)\n",
    "g.set_ylabel('Keyword Count');"
   ]
  },
  {
   "cell_type": "code",
   "execution_count": 66,
   "metadata": {},
   "outputs": [
    {
     "name": "stdout",
     "output_type": "stream",
     "text": [
      "0.8538285610578743\n"
     ]
    },
    {
     "data": {
      "image/png": "[encoded data removed]",
      "text/plain": [
       "<Figure size 1152x1008 with 5 Axes>"
      ]
     },
     "metadata": {
      "needs_background": "light"
     },
     "output_type": "display_data"
    }
   ],
   "source": [
    "plt.subplots(figsize=(16,14))\n",
    "plt.tight_layout()\n",
    "tp = pd.Series(counts['tp'])\n",
    "tn = pd.Series(counts['tn'])\n",
    "fp = pd.Series(counts['fp'])\n",
    "fn = pd.Series(counts['fn'])\n",
    "# mcc = ((tp * tn) - (fp * fn)) / np.sqrt((tp + fp) * (tp + fn) * (tn + fp) * (tn + fn))\n",
    "# print(mcc.mean())\n",
    "acc = (tp + tn) / (tp + tn + fp + fn)\n",
    "print(acc.mean())\n",
    "\n",
    "for i, k in enumerate(counts):\n",
    "    plt.subplot(2, 3, i+1)\n",
    "    v = pd.Series(counts[k]) / pd.Series(totals)\n",
    "    g = sns.barplot(y = v.values, x = v.index, color='k')\n",
    "    g.set_xticklabels(g.get_xticklabels(), rotation=90)\n",
    "    plt.ylim([0,1])\n",
    "    plt.grid(alpha=0.3, axis='y')\n",
    "    plt.title(k)\n",
    "    \n",
    "plt.subplot(235)\n",
    "g = sns.barplot(y = acc.values, x = acc.index, color='k')\n",
    "g.set_xticklabels(g.get_xticklabels(), rotation=90)\n",
    "plt.ylim([0,1])\n",
    "plt.grid(alpha=0.3, axis='y')\n",
    "plt.title('Accuracy');"
   ]
  },
  {
   "cell_type": "code",
   "execution_count": null,
   "metadata": {},
   "outputs": [],
   "source": [
    "for each true metaphor and non-metaphor show the performance of those keywords"
   ]
  }
 ],
 "metadata": {
  "kernelspec": {
   "display_name": "Python 3",
   "language": "python",
   "name": "python3"
  },
  "language_info": {
   "codemirror_mode": {
    "name": "ipython",
    "version": 3
   },
   "file_extension": ".py",
   "mimetype": "text/x-python",
   "name": "python",
   "nbconvert_exporter": "python",
   "pygments_lexer": "ipython3",
   "version": "3.7.1"
  }
 },
 "nbformat": 4,
 "nbformat_minor": 2
}
