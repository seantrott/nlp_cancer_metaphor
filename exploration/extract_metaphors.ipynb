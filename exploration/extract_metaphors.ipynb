{
 "cells": [
  {
   "cell_type": "markdown",
   "metadata": {},
   "source": [
    "## Manually Label Project Metaphors\n",
    "\n",
    "Randomly select projects and extract potential metaphors. Manually label whether the presented text fragment contains a metaphorical cancer-related phrase. Focus given to the underlined keyword token.\n",
    "\n",
    "### TODO\n",
    "\n",
    "o More labeled data\n",
    "\n",
    "o Cancer as a subject or object. Does cancer fight the patient, or the other way around?"
   ]
  },
  {
   "cell_type": "code",
   "execution_count": 1,
   "metadata": {},
   "outputs": [],
   "source": [
    "import os.path as op\n",
    "\n",
    "import numpy as np\n",
    "import seaborn as sns\n",
    "import matplotlib.pyplot as plt\n",
    "\n",
    "%config InlineBackend.figure_format = 'retina'\n",
    "\n",
    "import pandas as pd\n",
    "from sklearn.metrics import precision_score, recall_score\n",
    "\n",
    "import re"
   ]
  },
  {
   "cell_type": "code",
   "execution_count": 2,
   "metadata": {},
   "outputs": [],
   "source": [
    "DATA_PROCESSED = '../data/processed'\n",
    "\n",
    "UNDERLINE = '\\033[4m'\n",
    "END = '\\033[0m'"
   ]
  },
  {
   "cell_type": "markdown",
   "metadata": {},
   "source": [
    "### Load Projects and Labeled Keywords"
   ]
  },
  {
   "cell_type": "code",
   "execution_count": 3,
   "metadata": {},
   "outputs": [
    {
     "name": "stdout",
     "output_type": "stream",
     "text": [
      "Total Projects DF: 10,097\n",
      "Total Labeled Keywords DF: 2,932\n",
      "Total Unique Projects Labeled: 1,526\n"
     ]
    }
   ],
   "source": [
    "all_projects = pd.read_csv(op.join(DATA_PROCESSED, 'combined_projects.csv'))\n",
    "\n",
    "labeled = pd.read_csv(op.join(DATA_PROCESSED, 'labeled.csv'))\n",
    "\n",
    "print(f'Total Projects DF: {len(all_projects):,}')\n",
    "print(f'Total Labeled Keywords DF: {len(labeled):,}')\n",
    "print(f'Total Unique Projects Labeled: {labeled.project_id.nunique():,}')"
   ]
  },
  {
   "cell_type": "markdown",
   "metadata": {},
   "source": [
    "### Stats"
   ]
  },
  {
   "cell_type": "code",
   "execution_count": 4,
   "metadata": {},
   "outputs": [
    {
     "name": "stdout",
     "output_type": "stream",
     "text": [
      "Kickstarter vs. GFM:\t 4.05% / 95.95%\n",
      "Metaphors per Kickstarter project: 1.142\n",
      "Metaphors per GFM project: 0.173\n",
      "\n",
      "Sample proportion of GFM metaphorical keywords:\t 91.06%\n",
      "99% CI:\t (89.27%, 92.85%)\n",
      "GFM Projects N=1,118, GFM Keywords N=1,678\n",
      "For 91.06% +- 1%:\t n > 5,400\n",
      "For 91.06% +- 0.5%:\t n > 21,603\n"
     ]
    }
   ],
   "source": [
    "kickstarter_mask = all_projects['source'] == 'kickstarter'\n",
    "gofundme_mask = all_projects['source'] == 'gofundme'\n",
    "print(f'Kickstarter vs. GFM:\\t {kickstarter_mask.mean()*100:.2f}% / {gofundme_mask.mean()*100:.2f}%')\n",
    "\n",
    "ixs = all_projects.loc[kickstarter_mask, 'id'].values\n",
    "filt = labeled.loc[labeled['project_id'].isin(ixs), 'metaphorical'].dropna()\n",
    "\n",
    "print(f'Metaphors per Kickstarter project: {len(filt) / len(ixs):.3f}')\n",
    "\n",
    "ixs = all_projects.loc[gofundme_mask, 'id'].values\n",
    "filt = labeled.loc[labeled['project_id'].isin(ixs), 'metaphorical'].dropna()\n",
    "\n",
    "print(f'Metaphors per GFM project: {len(filt) / len(ixs):.3f}')\n",
    "\n",
    "p_hat = filt.mean()\n",
    "project_n = labeled.loc[labeled['project_id'].isin(ixs), 'project_id'].nunique()\n",
    "keyword_n = len(filt)\n",
    "del ixs, filt\n",
    "\n",
    "z005 = 2.575829\n",
    "\n",
    "print()\n",
    "print(f'Sample proportion of GFM metaphorical keywords:\\t {p_hat*100:.2f}%')\n",
    "print(f'99% CI:\\t ({(p_hat - z005 * np.sqrt(p_hat * (1-p_hat) / keyword_n)) * 100:.2f}%, {(p_hat + z005 * np.sqrt(p_hat * (1-p_hat) / keyword_n)) * 100:.2f}%)')\n",
    "print(f'GFM Projects N={project_n:,}, GFM Keywords N={keyword_n:,}')\n",
    "print(f'For {p_hat*100:.2f}% +- 1%:\\t n > {int(z005**2 * p_hat * (1-p_hat) / 0.01**2):,}')\n",
    "print(f'For {p_hat*100:.2f}% +- 0.5%:\\t n > {int(z005**2 * p_hat * (1-p_hat) / 0.005**2):,}')"
   ]
  },
  {
   "cell_type": "markdown",
   "metadata": {},
   "source": [
    "https://metaphor.icsi.berkeley.edu/pub/en/index.php/Metaphor:CANCER_IS_A_JOURNEY"
   ]
  },
  {
   "cell_type": "code",
   "execution_count": 5,
   "metadata": {},
   "outputs": [],
   "source": [
    "# these are ordered lists - since we search in order the lemma comes last (so not to catch non-lemma'd words)\n",
    "\n",
    "BATTLE_WORDS = ['fights', 'fighting', 'fight', 'fought', 'battles', 'battled', 'battling', 'battle', 'war', 'beating', 'beats', 'beaten', 'beat', 'enemy', 'brutal', 'defeat', 'winning', 'win']\n",
    "\n",
    "JOURNEY_WORDS = ['path', 'journey']\n",
    "\n",
    "window = 80"
   ]
  },
  {
   "cell_type": "markdown",
   "metadata": {},
   "source": [
    "# Manually Label Metaphors"
   ]
  },
  {
   "cell_type": "code",
   "execution_count": 6,
   "metadata": {},
   "outputs": [],
   "source": [
    "def find_keywords(text, source, source_type):\n",
    "    '''\n",
    "    Search `text` for all instances of keywords in `source`.\n",
    "    '''\n",
    "    if not isinstance(text, float):\n",
    "        for kw in source:\n",
    "            exp = r'\\W(' + kw + ')\\W'\n",
    "            for kw_match in re.finditer(exp, text.lower()):\n",
    "                start, end = max(0, kw_match.start() - window), min(len(project.text), kw_match.end() + window)\n",
    "\n",
    "                prompt = text[start:kw_match.start()+1] + UNDERLINE + text[kw_match.start()+1:kw_match.end()-1] + END + text[kw_match.end()-1:end]\n",
    "\n",
    "                yield prompt, {'fragment': text[start:end], \n",
    "                               'char_location': float(kw_match.start()),\n",
    "                               'kw_start': int(kw_match.start()) - int(start) + 1,\n",
    "                               'type': source_type, \n",
    "                               'keyword': kw}\n",
    "            \n",
    "def is_metaphorical():\n",
    "    res = input('Is this a cancer related metaphor? ')\n",
    "    return res == 'y'\n",
    "\n",
    "def exists_with_keyword(source, ix, char_location):\n",
    "    '''\n",
    "    Does the given project, with ID `ix`, exist in `source` with a keyword at `char_location`?\n",
    "    '''\n",
    "    return char_location in source.loc[source['project_id'] == ix, 'char_location'].values\n",
    "    \n",
    "def exists_without_keywords(source, ix):\n",
    "    '''\n",
    "    Does the given project, with ID `ix`, exist in `source` as a null (meaning, it has been seen previously\n",
    "    and labeled as having no keywords)?\n",
    "    '''\n",
    "    locs = source.loc[source['project_id'] == ix, 'char_location']\n",
    "    return len(locs) == 1 and sum(locs.isnull()) == 1\n",
    "\n",
    "def max_unlabeled():\n",
    "    return len(all_projects.loc[~all_projects['id'].isin(labeled['project_id'])])"
   ]
  },
  {
   "cell_type": "code",
   "execution_count": 15,
   "metadata": {},
   "outputs": [
    {
     "name": "stdout",
     "output_type": "stream",
     "text": [
      "N (max: 8,447): 3\n",
      "\n",
      "PROJECT Roscoe's Rally Against Cancer\n",
      "brauer family everyone kept asking “How can we help!” Roscoe Bierbrauer has been \u001b[4mfighting\u001b[0m kidney cancer that has now metastasized for two years. Roscoe works as a Premier\n",
      "Is this a cancer related metaphor? y\n",
      "family, but especially Roscoe has had and continues to have in dealing with this \u001b[4mfight\u001b[0m for his life. Roscoe truly is a hero and inspires so many people. Both Roscoe an\n",
      "Is this a cancer related metaphor? y\n",
      "astasized. We want to help Roscoe and his family to be able to just focus on his \u001b[4mbattle\u001b[0m against cancer and are asking if you can donate and contribute in any way to his\n",
      "Is this a cancer related metaphor? y\n",
      "against cancer and are asking if you can donate and contribute in any way to his \u001b[4mbattle\u001b[0m please do so. What would be helpful to this family is prayers, especially prayer\n",
      "Is this a cancer related metaphor? y\n",
      "aves of absence from their jobs and are juggling raising their two kids with his \u001b[4mbattle\u001b[0m against cancer. If you can help in any way please do so. The power of many hands\n",
      "Is this a cancer related metaphor? y\n",
      "True Positives: 5 - False Positives: 0 - Non-existent: 0\n"
     ]
    }
   ],
   "source": [
    "c = int(input(f'N (max: {int(max_unlabeled()):,}): '))\n",
    "\n",
    "tp, fp, nan = 0, 0, 0\n",
    "        \n",
    "for project in all_projects.sample(frac=1).itertuples():\n",
    "    \n",
    "    print()\n",
    "    print(f'PROJECT {project.name}')\n",
    "    \n",
    "    keyword_found = False\n",
    "    \n",
    "    for source, key in [(BATTLE_WORDS, 'battle'), (JOURNEY_WORDS, 'journey')]:\n",
    "        for prompt, result in find_keywords(project.text, source, key):\n",
    "            \n",
    "            if exists_with_keyword(labeled, project.id, result['char_location']):\n",
    "                continue\n",
    "            \n",
    "            if exists_without_keywords(labeled, project.id):\n",
    "                labeled = labeled.loc[labeled['project_id'] != project.id]\n",
    "                \n",
    "            c -= 1\n",
    "            keyword_found = True\n",
    "            print(prompt)\n",
    "            result['project_id'] = project.id\n",
    "            if is_metaphorical():\n",
    "                result['metaphorical'] = True\n",
    "                labeled = labeled.append(result, ignore_index=True)                \n",
    "                tp += 1\n",
    "            else:\n",
    "                result['metaphorical'] = False\n",
    "                labeled = labeled.append(result, ignore_index=True)\n",
    "                fp += 1\n",
    "                \n",
    "    # if no metaphor existed and this isn't already known\n",
    "    if not keyword_found and not exists_without_keywords(labeled, project.id):\n",
    "        result = {'project_id': project.id,\n",
    "                    'fragment': np.nan, \n",
    "                    'char_location': np.nan,\n",
    "                    'kw_start': np.nan,\n",
    "                    'type': 'none',\n",
    "                    'metaphorical': np.nan,\n",
    "                    'keyword': np.nan}\n",
    "        \n",
    "        labeled = labeled.append(result, ignore_index=True)  \n",
    "        nan += 1\n",
    "        print('No metaphors found')\n",
    "    \n",
    "    if c <= 0:\n",
    "        break\n",
    "\n",
    "print(f'True Positives: {tp} - False Positives: {fp} - Non-existent: {nan}')"
   ]
  },
  {
   "cell_type": "code",
   "execution_count": 16,
   "metadata": {},
   "outputs": [
    {
     "name": "stdout",
     "output_type": "stream",
     "text": [
      "0\n"
     ]
    }
   ],
   "source": [
    "print(labeled.duplicated().sum())\n",
    "labeled = labeled.drop_duplicates()"
   ]
  },
  {
   "cell_type": "code",
   "execution_count": 17,
   "metadata": {
    "scrolled": true
   },
   "outputs": [
    {
     "name": "stdout",
     "output_type": "stream",
     "text": [
      "Total metaphor keywords: 2003\n"
     ]
    },
    {
     "data": {
      "image/png": "[encoded data removed]",
      "text/plain": [
       "<Figure size 1152x288 with 2 Axes>"
      ]
     },
     "metadata": {
      "image/png": {
       "height": 277,
       "width": 935
      },
      "needs_background": "light"
     },
     "output_type": "display_data"
    }
   ],
   "source": [
    "print(f'Total metaphor keywords: {len(labeled.loc[labeled[\"metaphorical\"] == True])}')\n",
    "\n",
    "plt.subplots(1, 2, figsize=(16,4))\n",
    "\n",
    "plt.subplot(1,2,1)\n",
    "vc = labeled.loc[labeled['metaphorical'] == True, 'keyword'].value_counts();\n",
    "sns.barplot(vc.index, vc.values)\n",
    "plt.xticks(rotation=45)\n",
    "plt.grid(axis='y', alpha=0.3)\n",
    "\n",
    "plt.subplot(1,2,2)\n",
    "vc = labeled.loc[labeled['metaphorical'] != False, 'type'].value_counts()\n",
    "g = sns.barplot(vc.index, vc.values, palette='husl')\n",
    "plt.grid(axis='y', alpha=0.3)\n",
    "\n",
    "s = sum(vc.values)\n",
    "for p in g.patches:\n",
    "    h = p.get_height()\n",
    "    plt.text(p.get_x() + 0.3, h - 80, f'{h/s*100:.2f}%')"
   ]
  },
  {
   "cell_type": "code",
   "execution_count": 18,
   "metadata": {},
   "outputs": [],
   "source": [
    "labeled.to_csv(op.join(DATA_PROCESSED, 'labeled.csv'), index=False)"
   ]
  },
  {
   "cell_type": "markdown",
   "metadata": {},
   "source": [
    "# Auto-Detection\n",
    "\n",
    "First attempt is with simple regular expressions."
   ]
  },
  {
   "cell_type": "code",
   "execution_count": null,
   "metadata": {},
   "outputs": [],
   "source": [
    "from sklearn.model_selection import train_test_split"
   ]
  },
  {
   "cell_type": "code",
   "execution_count": null,
   "metadata": {},
   "outputs": [],
   "source": [
    "labeled_kw_exists = labeled.dropna()\n",
    "train_ixs, test_ixs = train_test_split(np.arange(len(labeled_kw_exists)), train_size=0.8, stratify=labeled_kw_exists['metaphorical'])"
   ]
  },
  {
   "cell_type": "code",
   "execution_count": null,
   "metadata": {},
   "outputs": [],
   "source": [
    "def related_to_cancer(text):\n",
    "    '''\n",
    "    Does the given text contain cancer-related keywords?\n",
    "    '''\n",
    "    return 'cancer' in text or 'leukemia' in text or 'melanoma' in text or 'lymphoma' in text\n",
    "\n",
    "def regex_find_metaphors(text):\n",
    "    if not isinstance(text, float):\n",
    "            \n",
    "        if related_to_cancer(text.lower()):\n",
    "                        \n",
    "            for kw_match in re.finditer(r'\\W(fight|fights|fighting|fought)\\W', text.lower()):\n",
    "                start, end = max(0, kw_match.start() - window), min(len(text), kw_match.end() + window)\n",
    "                next_ = text[kw_match.start():kw_match.end()+50].split()\n",
    "#                 if text[kw_match.end()-1:kw_match.end()] in ['-', '/', '_']\n",
    "\n",
    "                if len(next_) > 1 and re.match(r'(pain|depression|club|fear|anxiety|stress)', next_[1]):\n",
    "                    continue\n",
    "                \n",
    "                yield {'fragment': text[start:end],\n",
    "                       'char_location': kw_match.start(), \n",
    "                       'type': 'battle', \n",
    "                       'keyword': kw_match[1]}\n",
    "                \n",
    "            for kw_match in re.finditer(r'\\W(battle|battles|battling|battled|beat|beats|beaten|beating|brutal)\\W', text.lower()):\n",
    "                start, end = max(0, kw_match.start() - window), min(len(text), kw_match.end() + window)\n",
    "                \n",
    "                if kw_match.start() > 10 and text[kw_match.start()-10:kw_match.start()].split()[-1] in ['in', 'into']:\n",
    "                    continue\n",
    "                \n",
    "                yield {'fragment': text[start:end],\n",
    "                        'char_location': kw_match.start(), \n",
    "                        'type': 'battle', \n",
    "                        'keyword': kw_match[1]}\n",
    "                \n",
    "            if 'character' not in text.lower() and 'hero' not in text.lower():\n",
    "                for kw_match in re.finditer(r'\\W(enemy)\\W', text.lower()):\n",
    "                    start, end = max(0, kw_match.start() - window), min(len(text), kw_match.end() + window)\n",
    "                    yield {'fragment': text[start:end],\n",
    "                           'char_location': kw_match.start(), \n",
    "                           'type': 'battle', \n",
    "                           'keyword': 'enemy'}\n",
    "                    \n",
    "            for kw_match in re.finditer(r'\\W(path|destination)\\W', text.lower()):\n",
    "                start, end = max(0, kw_match.start() - window), min(len(text), kw_match.end() + window)\n",
    "                yield {'fragment': text[start:end],\n",
    "                        'char_location': kw_match.start(), \n",
    "                        'type': 'journey', \n",
    "                        'keyword': kw_match[1]}\n",
    "                \n",
    "        for kw_match in re.finditer(r'\\W(journey)\\W', text.lower()):\n",
    "            start, end = max(0, kw_match.start() - window), min(len(text), kw_match.end() + window)\n",
    "            prev_ = text[kw_match.start()-50:kw_match.end()].split()\n",
    "            next_ = text[kw_match.start():kw_match.end()+50].split()\n",
    "\n",
    "            if len(prev_) > 1 and ('will' in prev_):\n",
    "                continue\n",
    "                \n",
    "            if len(next_) > 1 and (next_[1] in ['from', 'will', 'across'] or 'time' in next_):\n",
    "                continue\n",
    "\n",
    "            surround = text[kw_match.start()-50:kw_match.end()+50]\n",
    "            if 'theatrical' in surround:\n",
    "                continue\n",
    "\n",
    "            yield {'fragment': text[start:end],\n",
    "                   'char_location': kw_match.start(), \n",
    "                   'type': 'journey', \n",
    "                   'keyword': 'journey'}\n",
    "        \n",
    "        for kw_match in re.finditer(r'\\W(war (with|against|on) cancer|cancer war)\\W', text.lower()):\n",
    "            start, end = max(0, kw_match.start() - window), min(len(text), kw_match.end() - 8 + window)\n",
    "            yield {'fragment': text[start:end],\n",
    "                   'char_location': kw_match.start(), \n",
    "                   'type': 'battle', \n",
    "                   'keyword': 'war'}\n",
    "        "
   ]
  },
  {
   "cell_type": "code",
   "execution_count": null,
   "metadata": {},
   "outputs": [],
   "source": [
    "regex_predicted_labeled = labeled_kw_exists.copy().iloc[test_ixs].reset_index(drop=True)\n",
    "regex_predicted_labeled['predicted'] = False"
   ]
  },
  {
   "cell_type": "code",
   "execution_count": null,
   "metadata": {},
   "outputs": [],
   "source": [
    "preds = []\n",
    "\n",
    "for project in regex_predicted_labeled.itertuples():\n",
    "    for metaphor in regex_find_metaphors(all_projects.loc[all_projects['id'] == project.project_id, 'text'].values[0]):\n",
    "        if metaphor['char_location'] == project.char_location:\n",
    "            regex_predicted_labeled.at[project.Index, 'predicted'] = True\n",
    "    "
   ]
  },
  {
   "cell_type": "markdown",
   "metadata": {},
   "source": [
    "In the following charts, we hope to have all blue and no orange, or more realistically, large blue bars and small orange bars for each keyword.\n",
    "\n",
    "The charts are broken into two: one for true metaphorical usage of the keyword, one for non-metaphorical usage of the keyword. Note that the x-axes are different because not every keyword in one of those groups in is the other."
   ]
  },
  {
   "cell_type": "code",
   "execution_count": null,
   "metadata": {},
   "outputs": [],
   "source": [
    "plt.subplots(figsize=(16,10))\n",
    "plt.tight_layout()\n",
    "\n",
    "plt.subplot(211)\n",
    "\n",
    "g = regex_predicted_labeled.loc[regex_predicted_labeled['metaphorical'] == True].groupby('keyword').agg({'predicted': ['sum', 'count']})\n",
    "s, c = g['predicted']['sum'], g['predicted']['count']\n",
    "\n",
    "coll = pd.concat({'Correct': s, 'Incorrect': c - s}, axis=0).reset_index()\n",
    "\n",
    "coll.rename(columns={'level_0': 'Predicted', 0: 'Count'}, inplace=True)\n",
    "\n",
    "plt.grid(alpha=0.3, axis='y')\n",
    "plt.title('Metaphorical Instances')\n",
    "g = sns.barplot(y='Count', x='keyword', hue='Predicted', data=coll)\n",
    "g.set_xticklabels(g.get_xticklabels(), rotation=30)\n",
    "\n",
    "plt.subplot(212)\n",
    "\n",
    "g = regex_predicted_labeled.loc[regex_predicted_labeled['metaphorical'] == False].groupby('keyword').agg({'predicted': ['sum', 'count']})\n",
    "s, c = g['predicted']['sum'], g['predicted']['count']\n",
    "\n",
    "coll = pd.concat({'Correct': c - s, 'Incorrect': s}, axis=0).reset_index()\n",
    "\n",
    "coll.rename(columns={'level_0': 'Predicted', 0: 'Count'}, inplace=True)\n",
    "\n",
    "plt.grid(alpha=0.3, axis='y')\n",
    "plt.title('Non-Metaphorical Instances')\n",
    "g = sns.barplot(y='Count', x='keyword', hue='Predicted', data=coll)\n",
    "g.set_xticklabels(g.get_xticklabels(), rotation=30);"
   ]
  },
  {
   "cell_type": "markdown",
   "metadata": {},
   "source": [
    "# Neural Net Detection"
   ]
  },
  {
   "cell_type": "code",
   "execution_count": null,
   "metadata": {
    "scrolled": true
   },
   "outputs": [],
   "source": [
    "from tqdm import tqdm_notebook as tqdm\n",
    "\n",
    "from allennlp.commands.elmo import ElmoEmbedder\n",
    "\n",
    "from nltk.tokenize import RegexpTokenizer"
   ]
  },
  {
   "cell_type": "code",
   "execution_count": null,
   "metadata": {},
   "outputs": [],
   "source": [
    "elmo = ElmoEmbedder()\n",
    "tokenizer = RegexpTokenizer(r'\\w+')"
   ]
  },
  {
   "cell_type": "code",
   "execution_count": null,
   "metadata": {},
   "outputs": [],
   "source": [
    "def pad(s, kw_start, lim=20):\n",
    "    '''\n",
    "    Limit a fragment to `lim` tokens. If less than, pad with empty strings.\n",
    "    '''\n",
    "    \n",
    "    prior = tokenizer.tokenize(s[:kw_start])\n",
    "    post = tokenizer.tokenize(s[kw_start:])\n",
    "    \n",
    "    if len(prior) < lim/2:\n",
    "        while len(prior) < lim/2:\n",
    "            prior.insert(0, '')\n",
    "    else:\n",
    "        prior = prior[len(prior) - round(lim/2):]\n",
    "        \n",
    "    if len(post) < lim/2:\n",
    "        while len(post) < lim/2:\n",
    "            post.append('')\n",
    "    else:\n",
    "        post = post[:round(lim/2)]\n",
    "        \n",
    "    prior.extend(post)\n",
    "    return prior"
   ]
  },
  {
   "cell_type": "code",
   "execution_count": null,
   "metadata": {},
   "outputs": [],
   "source": [
    "tokens = 20\n",
    "\n",
    "fragments = [pad(fragment.fragment, int(fragment.kw_start), tokens) for fragment in labeled_kw_exists[['fragment', 'kw_start']].itertuples()]"
   ]
  },
  {
   "cell_type": "code",
   "execution_count": null,
   "metadata": {},
   "outputs": [],
   "source": [
    "embds = elmo.embed_sentences(fragments)\n",
    "embedded_fragments = np.array([embd[2] for embd in tqdm(embds)])"
   ]
  },
  {
   "cell_type": "code",
   "execution_count": null,
   "metadata": {},
   "outputs": [],
   "source": [
    "embedded_fragments.shape"
   ]
  },
  {
   "cell_type": "code",
   "execution_count": null,
   "metadata": {},
   "outputs": [],
   "source": [
    "from keras import backend as K\n",
    "from keras.models import Model, load_model\n",
    "from sklearn import metrics"
   ]
  },
  {
   "cell_type": "code",
   "execution_count": null,
   "metadata": {},
   "outputs": [],
   "source": [
    "def f1(y_true, y_pred):\n",
    "    def recall(y_true, y_pred):\n",
    "        \"\"\"Recall metric.\n",
    "\n",
    "        Only computes a batch-wise average of recall.\n",
    "\n",
    "        Computes the recall, a metric for multi-label classification of\n",
    "        how many relevant items are selected.\n",
    "        \"\"\"\n",
    "        true_positives = K.sum(K.round(K.clip(y_true * y_pred, 0, 1)))\n",
    "        possible_positives = K.sum(K.round(K.clip(y_true, 0, 1)))\n",
    "        recall = true_positives / (possible_positives + K.epsilon())\n",
    "        return recall\n",
    "\n",
    "    def precision(y_true, y_pred):\n",
    "        \"\"\"Precision metric.\n",
    "\n",
    "        Only computes a batch-wise average of precision.\n",
    "\n",
    "        Computes the precision, a metric for multi-label classification of\n",
    "        how many selected items are relevant.\n",
    "        \"\"\"\n",
    "        true_positives = K.sum(K.round(K.clip(y_true * y_pred, 0, 1)))\n",
    "        predicted_positives = K.sum(K.round(K.clip(y_pred, 0, 1)))\n",
    "        precision = true_positives / (predicted_positives + K.epsilon())\n",
    "        return precision\n",
    "    \n",
    "    p = precision(y_true, y_pred)\n",
    "    r = recall(y_true, y_pred)\n",
    "    \n",
    "    return 2*((p*r)/(p+r+K.epsilon()))"
   ]
  },
  {
   "cell_type": "code",
   "execution_count": null,
   "metadata": {},
   "outputs": [],
   "source": [
    "battle_model = load_model('battle_model.h5', custom_objects={'f1': f1})\n",
    "journey_model = load_model('journey_model.h5', custom_objects={'f1': f1})"
   ]
  },
  {
   "cell_type": "code",
   "execution_count": null,
   "metadata": {},
   "outputs": [],
   "source": [
    "neural_predicted_labeled = labeled_kw_exists.copy().iloc[test_ixs].reset_index(drop=True)\n",
    "neural_predicted_labeled['predicted'] = False\n",
    "\n",
    "def predict_metaphorical(fragment, type_):\n",
    "    if type_ == 'battle':\n",
    "        return battle_model.predict(np.array([fragment])).argmax(axis=1).astype(bool)[0]\n",
    "    else:\n",
    "        return journey_model.predict(np.array([fragment])).argmax(axis=1).astype(bool)[0]\n",
    "\n",
    "for ix in tqdm(neural_predicted_labeled.index):\n",
    "    neural_predicted_labeled.at[ix, 'predicted'] = predict_metaphorical(embedded_fragments[test_ixs][ix], neural_predicted_labeled.at[ix, 'type'])"
   ]
  },
  {
   "cell_type": "markdown",
   "metadata": {},
   "source": [
    "## Results"
   ]
  },
  {
   "cell_type": "code",
   "execution_count": null,
   "metadata": {},
   "outputs": [],
   "source": [
    "plt.subplots(figsize=(16,10))\n",
    "plt.tight_layout()\n",
    "\n",
    "plt.subplot(211)\n",
    "\n",
    "g = neural_predicted_labeled.loc[neural_predicted_labeled['metaphorical'] == True].groupby('keyword').agg({'predicted': ['sum', 'count']})\n",
    "s, c = g['predicted']['sum'], g['predicted']['count']\n",
    "\n",
    "coll = pd.concat({'Correct': s, 'Incorrect': c - s}, axis=0).reset_index()\n",
    "\n",
    "coll.rename(columns={'level_0': 'Predicted', 0: 'Count'}, inplace=True)\n",
    "\n",
    "plt.grid(alpha=0.3, axis='y')\n",
    "plt.title('Metaphorical Instances')\n",
    "g = sns.barplot(y='Count', x='keyword', hue='Predicted', data=coll)\n",
    "g.set_xticklabels(g.get_xticklabels(), rotation=30)\n",
    "\n",
    "plt.subplot(212)\n",
    "\n",
    "g = neural_predicted_labeled.loc[neural_predicted_labeled['metaphorical'] == False].groupby('keyword').agg({'predicted': ['sum', 'count']})\n",
    "s, c = g['predicted']['sum'], g['predicted']['count']\n",
    "\n",
    "coll = pd.concat({'Correct': c - s, 'Incorrect': s}, axis=0).reset_index()\n",
    "\n",
    "coll.rename(columns={'level_0': 'Predicted', 0: 'Count'}, inplace=True)\n",
    "\n",
    "plt.grid(alpha=0.3, axis='y')\n",
    "plt.title('Non-Metaphorical Instances')\n",
    "g = sns.barplot(y='Count', x='keyword', hue='Predicted', data=coll)\n",
    "g.set_xticklabels(g.get_xticklabels(), rotation=30);"
   ]
  },
  {
   "cell_type": "markdown",
   "metadata": {},
   "source": [
    "### Model Comparison"
   ]
  },
  {
   "cell_type": "code",
   "execution_count": null,
   "metadata": {},
   "outputs": [],
   "source": [
    "pd.crosstab(regex_predicted_labeled['metaphorical'], regex_predicted_labeled['predicted'], rownames=['Truth'], colnames=['Predicted'], margins=True)"
   ]
  },
  {
   "cell_type": "code",
   "execution_count": null,
   "metadata": {},
   "outputs": [],
   "source": [
    "pd.crosstab(neural_predicted_labeled['metaphorical'], neural_predicted_labeled['predicted'], rownames=['Truth'], colnames=['Predicted'], margins=True)"
   ]
  },
  {
   "cell_type": "code",
   "execution_count": null,
   "metadata": {},
   "outputs": [],
   "source": [
    "print('Regex Model Cohen\\'s Kappa:')\n",
    "print(f\"{metrics.cohen_kappa_score(regex_predicted_labeled['metaphorical'].astype(bool), regex_predicted_labeled['predicted']):.3f}\")\n",
    "print('Neural Model Cohen\\'s Kappa:')\n",
    "print(f\"{metrics.cohen_kappa_score(neural_predicted_labeled['metaphorical'].astype(bool), neural_predicted_labeled['predicted']):.3f}\")"
   ]
  },
  {
   "cell_type": "markdown",
   "metadata": {},
   "source": [
    "### Predict on unseen data"
   ]
  },
  {
   "cell_type": "code",
   "execution_count": null,
   "metadata": {},
   "outputs": [],
   "source": [
    "def embed_fragment(fragment, start, tokens):\n",
    "    tokens = pad(fragment, start, tokens)\n",
    "    return elmo.embed_sentence(tokens)[2]"
   ]
  },
  {
   "cell_type": "code",
   "execution_count": null,
   "metadata": {
    "scrolled": true
   },
   "outputs": [],
   "source": [
    "c = int(input(f'N (max: {int(max_unlabeled()):,}): '))\n",
    "\n",
    "tp, fp, nan = 0, 0, 0\n",
    "        \n",
    "for project in all_projects.sample(frac=1).itertuples():\n",
    "    \n",
    "    print()\n",
    "    print(f'PROJECT {project.name}')\n",
    "    \n",
    "    keyword_found = False\n",
    "    \n",
    "    for source, key in [(BATTLE_WORDS, 'battle'), (JOURNEY_WORDS, 'journey')]:\n",
    "        for prompt, result in find_keywords(project.text, source, key):\n",
    "            \n",
    "            if exists_with_keyword(labeled, project.id, result['char_location']):\n",
    "                continue\n",
    "            \n",
    "            if exists_without_keywords(labeled, project.id):\n",
    "                labeled = labeled.loc[labeled['project_id'] != project.id]\n",
    "            \n",
    "            keyword_found = True\n",
    "            print(prompt)\n",
    "            result['project_id'] = project.id\n",
    "            \n",
    "            embedding = embed_fragment(result['fragment'], int(result['kw_start']), tokens)\n",
    "            print('Metaphorical? ', predict_metaphorical(embedding, result['type']))\n",
    "            \n",
    "            if is_metaphorical():\n",
    "                result['metaphorical'] = True\n",
    "                labeled = labeled.append(result, ignore_index=True)                \n",
    "                tp += 1\n",
    "            else:\n",
    "                result['metaphorical'] = False\n",
    "                labeled = labeled.append(result, ignore_index=True)\n",
    "                fp += 1\n",
    "                \n",
    "    if keyword_found:\n",
    "        c -= 1\n",
    "        \n",
    "    # if no metaphor existed and this isn't already known\n",
    "    if not keyword_found and not exists_without_keywords(labeled, project.id):\n",
    "        result = {'project_id': project.id,\n",
    "                    'fragment': np.nan, \n",
    "                    'char_location': np.nan,\n",
    "                    'kw_start': np.nan,\n",
    "                    'type': 'none',\n",
    "                    'metaphorical': np.nan,\n",
    "                    'keyword': np.nan}\n",
    "        \n",
    "        labeled = labeled.append(result, ignore_index=True)  \n",
    "        nan += 1\n",
    "        print('No metaphors found')\n",
    "    \n",
    "    if c <= 0:\n",
    "        break\n",
    "\n",
    "print(f'True Positives: {tp} - False Positives: {fp} - Non-existent: {nan}')"
   ]
  }
 ],
 "metadata": {
  "kernelspec": {
   "display_name": "Python 3",
   "language": "python",
   "name": "python3"
  },
  "language_info": {
   "codemirror_mode": {
    "name": "ipython",
    "version": 3
   },
   "file_extension": ".py",
   "mimetype": "text/x-python",
   "name": "python",
   "nbconvert_exporter": "python",
   "pygments_lexer": "ipython3",
   "version": "3.7.1"
  }
 },
 "nbformat": 4,
 "nbformat_minor": 2
}
