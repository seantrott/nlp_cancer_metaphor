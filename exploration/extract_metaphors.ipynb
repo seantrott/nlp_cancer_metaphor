{
 "cells": [
  {
   "cell_type": "markdown",
   "metadata": {},
   "source": [
    "## Manually Label Project Metaphors\n",
    "\n",
    "Randomly select projects and extract potential metaphors. Manually label whether the presented text fragment contains a metaphorical cancer-related phrase. Focus given to the underlined keyword token."
   ]
  },
  {
   "cell_type": "code",
   "execution_count": 10,
   "metadata": {},
   "outputs": [],
   "source": [
    "import os.path as op\n",
    "\n",
    "import numpy as np\n",
    "import seaborn as sns\n",
    "import matplotlib.pyplot as plt\n",
    "import pandas as pd\n",
    "\n",
    "import re"
   ]
  },
  {
   "cell_type": "code",
   "execution_count": 11,
   "metadata": {},
   "outputs": [],
   "source": [
    "DATA_PROCESSED = '../data/processed'\n",
    "\n",
    "UNDERLINE = '\\033[4m'\n",
    "END = '\\033[0m'"
   ]
  },
  {
   "cell_type": "code",
   "execution_count": 12,
   "metadata": {},
   "outputs": [],
   "source": [
    "df = pd.read_csv(op.join(DATA_PROCESSED, 'cancer_projects.csv'))"
   ]
  },
  {
   "cell_type": "code",
   "execution_count": 13,
   "metadata": {},
   "outputs": [
    {
     "data": {
      "text/plain": [
       "455"
      ]
     },
     "execution_count": 13,
     "metadata": {},
     "output_type": "execute_result"
    }
   ],
   "source": [
    "len(df)"
   ]
  },
  {
   "cell_type": "code",
   "execution_count": 14,
   "metadata": {},
   "outputs": [],
   "source": [
    "try:\n",
    "    labeled = pd.read_csv(op.join(DATA_PROCESSED, 'labeled_projects.csv'))\n",
    "except (pd.errors.EmptyDataError, FileNotFoundError):\n",
    "    labeled = pd.DataFrame([], columns=['project_id', 'fragment', 'char_location', 'type', 'keyword'])\n",
    "    labeled.to_csv(op.join(DATA_PROCESSED, 'labeled_projects.csv'))"
   ]
  },
  {
   "cell_type": "code",
   "execution_count": null,
   "metadata": {},
   "outputs": [],
   "source": [
    "BATTLE_WORDS = ['fight', 'fights', 'fighting', 'fought', 'battle', 'battles', 'battled', 'battling', 'war', 'beat', 'beating', 'beats', 'beaten', 'enemy', 'brutal']\n",
    "\n",
    "JOURNEY_WORDS = ['path', 'journey', 'destination']\n",
    "\n",
    "results = []\n",
    "\n",
    "window = 80\n",
    "\n",
    "narrowed = df[~df['id'].isin(labeled['project_id'])].copy()\n",
    "print(f'Maximum N: {len(narrowed)}')\n",
    "\n",
    "c = input('N: ')\n",
    "\n",
    "try:\n",
    "    c = int(c)\n",
    "except Exception:\n",
    "    print('Format error')\n",
    "        \n",
    "proj_sample = narrowed.sample(c)\n",
    "\n",
    "for project in proj_sample.itertuples():\n",
    "    \n",
    "    print()\n",
    "    print(f'PROJECT {project.name}')\n",
    "    \n",
    "    metaphor = False\n",
    "    \n",
    "    for battle_word in BATTLE_WORDS:\n",
    "        \n",
    "        if not isinstance(project.text, str):\n",
    "            break\n",
    "        \n",
    "        exp = r'\\W(' + battle_word + ')\\W'\n",
    "\n",
    "        for kw_match in re.finditer(exp, project.text.lower()):\n",
    "            start, end = max(0, kw_match.start() - window), min(len(project.text), kw_match.end() + window)\n",
    "\n",
    "            print(project.text[start:kw_match.start()] + \n",
    "                  UNDERLINE + \n",
    "                  project.text[kw_match.start():kw_match.end()-1] + \n",
    "                  END + \n",
    "                  project.text[kw_match.end()-1:end])\n",
    "            \n",
    "            res = input('Is this a cancer battle metaphor? ')\n",
    "            \n",
    "            if res.lower() == 'y':\n",
    "                results.append([project.id, project.text[start:end], kw_match.start(), 'battle', battle_word])\n",
    "                metaphor = True\n",
    "                                \n",
    "    for journey_word in JOURNEY_WORDS:\n",
    "        \n",
    "        if not isinstance(project.text, str):\n",
    "            break\n",
    "        \n",
    "        exp = r'\\W(' + journey_word + ')\\W'\n",
    "\n",
    "        for kw_match in re.finditer(exp, project.text.lower()):\n",
    "            start, end = max(0, kw_match.start() - window), min(len(project.text), kw_match.end() + window)\n",
    "\n",
    "            print(project.text[start:kw_match.start()] + \n",
    "                  UNDERLINE + \n",
    "                  project.text[kw_match.start():kw_match.end()-1] + \n",
    "                  END + \n",
    "                  project.text[kw_match.end()-1:end])\n",
    "            \n",
    "            res = input('Is this a cancer journey metaphor? ')\n",
    "            \n",
    "            if res.lower() == 'y':\n",
    "                results.append([project.id, project.text[start:end], kw_match.start(), 'journey', journey_word])\n",
    "                metaphor = True\n",
    "                \n",
    "    if not metaphor:\n",
    "        results.append([project.id, '', np.nan, 'none', ''])\n",
    "        print('No metaphors found')\n",
    "                            \n",
    "results = pd.DataFrame(results, columns=['project_id', 'fragment', 'char_location', 'type', 'keyword'])\n",
    "\n",
    "labeled = pd.concat([labeled, results], axis=0, ignore_index=True).drop_duplicates(subset=['project_id', 'char_location'])\n",
    "\n",
    "labeled.to_csv(op.join(DATA_PROCESSED, 'labeled_projects.csv'), index=False)\n",
    "\n",
    "print()\n",
    "print(f'Saved {len(results)} for a total of {len(labeled)}!')\n",
    "\n",
    "del results, proj_sample, narrowed"
   ]
  },
  {
   "cell_type": "code",
   "execution_count": 9,
   "metadata": {
    "scrolled": true
   },
   "outputs": [
    {
     "name": "stdout",
     "output_type": "stream",
     "text": [
      "Total metaphor examples: 336\n"
     ]
    },
    {
     "data": {
      "image/png": "[encoded data removed]",
      "text/plain": [
       "<Figure size 1152x288 with 2 Axes>"
      ]
     },
     "metadata": {},
     "output_type": "display_data"
    }
   ],
   "source": [
    "print(f'Total metaphor examples: {len(labeled.loc[labeled[\"type\"] != \"none\", :])}')\n",
    "\n",
    "plt.subplots(1, 2, figsize=(16,4))\n",
    "\n",
    "plt.subplot(1,2,1)\n",
    "vc = labeled.loc[labeled['type'] != 'none', 'keyword'].value_counts();\n",
    "sns.barplot(vc.index, vc.values)\n",
    "plt.xticks(rotation=45)\n",
    "plt.grid(axis='y', alpha=0.3)\n",
    "\n",
    "plt.subplot(1,2,2)\n",
    "vc = labeled['type'].value_counts()\n",
    "g = sns.barplot(vc.index, vc.values, palette='husl')\n",
    "plt.grid(axis='y', alpha=0.3)\n",
    "\n",
    "s = sum(vc.values)\n",
    "for p in g.patches:\n",
    "    h = p.get_height()\n",
    "    plt.text(p.get_x() + 0.3, h - 20, f'{h/s*100:.2f}%')"
   ]
  },
  {
   "cell_type": "markdown",
   "metadata": {},
   "source": [
    "### TODO\n",
    "\n",
    "o how productive a metaphor is (**creatively** using metaphor). \n",
    "\n",
    "o is the campaign about raising money for research, product, book, diets, etc. journey as raising money\n",
    "\n",
    "x add enemy as keyword\n",
    "\n",
    "o add \"fighter\" as keyword\n",
    "\n",
    "o cancer fighting the patient, not the other way around - bring in POS to figure out if cancer is a subject or object, \"cancer can’t beat us\", \"battle scars\"\n",
    "\n",
    "o situational model, looking at prosidy in speech\n",
    "\n",
    "o measure of distinct words in a campaign\n",
    "\n",
    "o characterizing metaphors with types of projects\n",
    "\n",
    "**Instances of Keyword used not in Metaphor**\n",
    "\n",
    "My wife beat me to the shower\n",
    "\n",
    "don’t beat around the bush\n",
    "\n",
    "an underground fight club\n",
    "\n",
    "Gulf War-influenced The New World"
   ]
  }
 ],
 "metadata": {
  "kernelspec": {
   "display_name": "Python 3",
   "language": "python",
   "name": "python3"
  },
  "language_info": {
   "codemirror_mode": {
    "name": "ipython",
    "version": 3
   },
   "file_extension": ".py",
   "mimetype": "text/x-python",
   "name": "python",
   "nbconvert_exporter": "python",
   "pygments_lexer": "ipython3",
   "version": "3.6.3"
  }
 },
 "nbformat": 4,
 "nbformat_minor": 2
}
