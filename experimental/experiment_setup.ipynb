{
 "cells": [
  {
   "cell_type": "code",
   "execution_count": 2,
   "metadata": {},
   "outputs": [],
   "source": [
    "import numpy as np"
   ]
  },
  {
   "cell_type": "code",
   "execution_count": 3,
   "metadata": {},
   "outputs": [
    {
     "name": "stdout",
     "output_type": "stream",
     "text": [
      "Anyone who has met my best friend Jason knows that he has a heart of gold. But after undergoing a complicated thyroid surgery, Jason was diagnosed with Stage II Lymphoma. He knows that everyday in the near future is going to be a battle with this disease. The doctors say he'll need many treatments of chemotherapy and possibly local radiation as well. This is a rough fight that Jason now finds himself on, but he's ready to wage war through the coming months of chemo treatments, hospital visits, and medications.\n",
      "\n",
      "He started the fight with chemotherapy the week after his surgery, and he will receive treatments every 21 days for the next 3-4 months. Jason had a few days of nausea and fatigue following the first battle through chemo, but his energy is back up. We’re really hoping that he can recover from this fight and that you can help.\n",
      "\n",
      "As Jason's best friend, I am raising money to help pay for the many expenses that will come along during the tough battles ahead. He's so strong and wants more than anything to take this whole fight and make it \"no big deal.\" Any little bit helps! We appreciate you all for helping her through this difficult battle! Thank you.\n"
     ]
    }
   ],
   "source": [
    "male = {'name': 'Jason', 'pn': 'He', 'ref': 'Himself', 'pos': 'His'}\n",
    "female = {'name': 'Jennifer', 'pn': 'She', 'ref': 'Herself', 'pos': 'Her'}\n",
    "\n",
    "character = male\n",
    "\n",
    "battle = [\"a battle\", \"fight\", \"wage war\", \"the fight with\", \"battle through\", \"recover from this fight\", \n",
    "          \"the tough battles\", \"fight\", \"difficult battle\"]\n",
    "journey = [\"a journey\", \"journey\", \"travel down this road\", \"the journey through\", \"journey through\", \n",
    "           \"walk toward recovery\", \"the lengthy road\", \"journey\", \"bumpy road\"]\n",
    "literal = [\"difficult\", \"situation\", \"overcome these circumstances\", \"undergoing\", \"round of\", \"recover\", \n",
    "           \"the circumstances\", \"experience\", \"tough situation\"]\n",
    "\n",
    "\n",
    "item = battle\n",
    "\n",
    "print(f\"\"\"Anyone who has met my best friend {character['name']} knows that {character['pn'].lower()} has a heart of gold. But after undergoing a complicated thyroid surgery, {character['name']} was diagnosed with Stage II Lymphoma. {character['pn']} knows that everyday in the near future is going to be {item[0]} with this disease. The doctors say {character['pn'].lower()}'ll need many treatments of chemotherapy and possibly local radiation as well. This is a rough {item[1]} that {character['name']} now finds {character['ref'].lower()} on, but {character['pn'].lower()}'s ready to {item[2]} through the coming months of chemo treatments, hospital visits, and medications.\n",
    "\n",
    "{character['pn']} started {item[3]} chemotherapy the week after {character['pos'].lower()} surgery, and {character['pn'].lower()} will receive treatments every 21 days for the next 3-4 months. {character['name']} had a few days of nausea and fatigue following the first {item[4]} chemo, but {character['pos'].lower()} energy is back up. We’re really hoping that {character['pn'].lower()} can {item[5]} and that you can help.\n",
    "\n",
    "As {character['name']}'s best friend, I am raising money to help pay for the many expenses that will come along during {item[6]} ahead. {character['pn']}'s so strong and wants more than anything to take this whole {item[7]} and make it \"no big deal.\" Any little bit helps! We appreciate you all for helping her through this {item[8]}! Thank you.\"\"\")\n",
    "\n"
   ]
  },
  {
   "cell_type": "code",
   "execution_count": 19,
   "metadata": {},
   "outputs": [
    {
     "name": "stdout",
     "output_type": "stream",
     "text": [
      "Total participants to recruit: 207\n",
      "Pay per participant: $0.53\n",
      "Total expenditure: $110.40\n"
     ]
    }
   ],
   "source": [
    "minutes_per_experiment = 4\n",
    "comp_per_hour = 8\n",
    "\n",
    "cells = 6\n",
    "min_ppts_per_cell = 30\n",
    "dropout = 0.15\n",
    "\n",
    "ttl_ppts = min_ppts_per_cell * (1 + dropout) * cells\n",
    "\n",
    "print(f\"Total participants to recruit: {ttl_ppts:.0f}\")\n",
    "print(f\"Pay per participant: ${minutes_per_experiment / 60 * comp_per_hour:.2f}\")\n",
    "print(f\"Total expenditure: ${ttl_ppts * minutes_per_experiment / 60 * comp_per_hour:.2f}\")"
   ]
  },
  {
   "cell_type": "code",
   "execution_count": null,
   "metadata": {},
   "outputs": [],
   "source": []
  }
 ],
 "metadata": {
  "kernelspec": {
   "display_name": "Python [conda env:nlp]",
   "language": "python",
   "name": "conda-env-nlp-py"
  },
  "language_info": {
   "codemirror_mode": {
    "name": "ipython",
    "version": 3
   },
   "file_extension": ".py",
   "mimetype": "text/x-python",
   "name": "python",
   "nbconvert_exporter": "python",
   "pygments_lexer": "ipython3",
   "version": "3.6.7"
  }
 },
 "nbformat": 4,
 "nbformat_minor": 2
}
