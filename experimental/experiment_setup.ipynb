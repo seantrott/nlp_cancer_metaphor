{
 "cells": [
  {
   "cell_type": "markdown",
   "metadata": {},
   "source": [
    "## Small scripts to help setup experiments"
   ]
  },
  {
   "cell_type": "code",
   "execution_count": 1,
   "metadata": {},
   "outputs": [],
   "source": [
    "import numpy as np"
   ]
  },
  {
   "cell_type": "markdown",
   "metadata": {},
   "source": [
    "### Create conditions"
   ]
  },
  {
   "cell_type": "code",
   "execution_count": 14,
   "metadata": {},
   "outputs": [
    {
     "name": "stdout",
     "output_type": "stream",
     "text": [
      "Anyone who has met my best friend Jennifer knows that she has a heart of gold. But after undergoing a complicated thyroid surgery, Jennifer was diagnosed with Stage II Lymphoma. She knows that everyday in the near future is going to be a journey with this disease. The doctors say she'll need many treatments of chemotherapy and possibly local radiation as well. This is a rough journey that Jennifer now finds herself in, but she's ready to travel down this road through the coming months of chemo treatments, hospital visits, and medications.\n",
      "\n",
      "She started the journey through chemotherapy the week after her surgery, and she will receive treatments every 21 days for the next 3-4 months. Jennifer had a few days of nausea and fatigue following the first journey through chemo, but her energy is back up. We’re really hoping that she can walk toward recovery and that you can help.\n",
      "\n",
      "As Jennifer's best friend, I am raising money to help pay for the many expenses that will come along during the lengthy road ahead. She's so strong and wants more than anything to get through this journey. Any little bit helps! We appreciate you all for helping her through this bumpy road! Thank you.\n"
     ]
    }
   ],
   "source": [
    "male = {'name': 'Jason', 'pn': 'He', 'pn2': 'Him', 'ref': 'Himself', 'pos': 'His'}\n",
    "female = {'name': 'Jennifer', 'pn': 'She', 'pn2': 'Her', 'ref': 'Herself', 'pos': 'Her'}\n",
    "\n",
    "character = female\n",
    "\n",
    "battle = [\"a battle\", \"fight\", \"wage war\", \"the fight with\", \"battle through\", \"recover from this fight\", \n",
    "          \"the tough battles\", \"fight\", \"difficult battle\"]\n",
    "journey = [\"a journey\", \"journey\", \"travel down this road\", \"the journey through\", \"journey through\", \n",
    "           \"walk toward recovery\", \"the lengthy road\", \"journey\", \"bumpy road\"]\n",
    "literal = [\"difficult\", \"situation\", \"overcome these circumstances\", \"undergoing\", \"round of\", \"recover\", \n",
    "           \"the circumstances\", \"experience\", \"tough situation\"]\n",
    "\n",
    "\n",
    "item = journey\n",
    "\n",
    "print(f\"\"\"Anyone who has met my best friend {character['name']} knows that {character['pn'].lower()} has a heart of gold. But after undergoing a complicated thyroid surgery, {character['name']} was diagnosed with Stage II Lymphoma. {character['pn']} knows that everyday in the near future is going to be {item[0]} with this disease. The doctors say {character['pn'].lower()}'ll need many treatments of chemotherapy and possibly local radiation as well. This is a rough {item[1]} that {character['name']} now finds {character['ref'].lower()} in, but {character['pn'].lower()}'s ready to {item[2]} through the coming months of chemo treatments, hospital visits, and medications.\n",
    "\n",
    "{character['pn']} started {item[3]} chemotherapy the week after {character['pos'].lower()} surgery, and {character['pn'].lower()} will receive treatments every 21 days for the next 3-4 months. {character['name']} had a few days of nausea and fatigue following the first {item[4]} chemo, but {character['pos'].lower()} energy is back up. We’re really hoping that {character['pn'].lower()} can {item[5]} and that you can help.\n",
    "\n",
    "As {character['name']}'s best friend, I am raising money to help pay for the many expenses that will come along during {item[6]} ahead. {character['pn']}'s so strong and wants more than anything to get through this {item[7]}. Any little bit helps! We appreciate you all for helping {character['pn2'].lower()} through this {item[8]}! Thank you.\"\"\")\n",
    "\n"
   ]
  },
  {
   "cell_type": "markdown",
   "metadata": {},
   "source": [
    "### Experiment calculations"
   ]
  },
  {
   "cell_type": "code",
   "execution_count": 7,
   "metadata": {},
   "outputs": [
    {
     "name": "stdout",
     "output_type": "stream",
     "text": [
      "Total participants to recruit: 788\n",
      "Pay per participant: $0.48\n",
      "Total expenditure: $380.62\n"
     ]
    }
   ],
   "source": [
    "minutes_per_experiment = 4\n",
    "comp_per_hour = 7.25\n",
    "\n",
    "cells = 3\n",
    "min_ppts_per_cell = 250\n",
    "dropout = 0.05\n",
    "\n",
    "ttl_ppts = min_ppts_per_cell * (1 + dropout) * cells\n",
    "\n",
    "print(f\"Total participants to recruit: {ttl_ppts:.0f}\")\n",
    "print(f\"Pay per participant: ${minutes_per_experiment / 60 * comp_per_hour:.2f}\")\n",
    "print(f\"Total expenditure: ${ttl_ppts * minutes_per_experiment / 60 * comp_per_hour:.2f}\")"
   ]
  },
  {
   "cell_type": "code",
   "execution_count": null,
   "metadata": {},
   "outputs": [],
   "source": []
  }
 ],
 "metadata": {
  "kernelspec": {
   "display_name": "Python [conda env:nlp]",
   "language": "python",
   "name": "conda-env-nlp-py"
  },
  "language_info": {
   "codemirror_mode": {
    "name": "ipython",
    "version": 3
   },
   "file_extension": ".py",
   "mimetype": "text/x-python",
   "name": "python",
   "nbconvert_exporter": "python",
   "pygments_lexer": "ipython3",
   "version": "3.6.7"
  }
 },
 "nbformat": 4,
 "nbformat_minor": 2
}
