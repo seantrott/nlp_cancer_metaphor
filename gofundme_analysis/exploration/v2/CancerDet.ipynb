{
 "cells": [
  {
   "cell_type": "code",
   "execution_count": 1,
   "metadata": {},
   "outputs": [
    {
     "name": "stderr",
     "output_type": "stream",
     "text": [
      "To use data.metrics please install scikit-learn. See https://scikit-learn.org/stable/index.html\n"
     ]
    }
   ],
   "source": [
    "import pandas as pd\n",
    "import numpy as np\n",
    "\n",
    "import os.path as op\n",
    "\n",
    "import transformers as tn\n",
    "\n",
    "import torch as tt"
   ]
  },
  {
   "cell_type": "code",
   "execution_count": 2,
   "metadata": {},
   "outputs": [],
   "source": [
    "gpt2_tokenizer = tn.GPT2Tokenizer.from_pretrained(\"gpt2\")\n",
    "gpt2_model = tn.GPT2Model.from_pretrained(\"gpt2\")"
   ]
  },
  {
   "cell_type": "code",
   "execution_count": 3,
   "metadata": {},
   "outputs": [],
   "source": [
    "def embed(name, text):    \n",
    "    encoding = tt.tensor(gpt2_tokenizer.encode(name, add_special_tokens=True)).unsqueeze(0)\n",
    "\n",
    "    out_name = gpt2_model(encoding)\n",
    "\n",
    "    encoding = tt.tensor(gpt2_tokenizer.encode(text, add_special_tokens=True)).unsqueeze(0)\n",
    "\n",
    "    out_text = gpt2_model(encoding)\n",
    "\n",
    "    return tt.cat([out_name[0][0, -1], out_text[0][0, -1]], dim=0)"
   ]
  },
  {
   "cell_type": "code",
   "execution_count": 4,
   "metadata": {},
   "outputs": [],
   "source": [
    "DATA_PROCESSED = '../../data/processed'"
   ]
  },
  {
   "cell_type": "code",
   "execution_count": 5,
   "metadata": {},
   "outputs": [],
   "source": [
    "data = pd.read_csv(op.join(DATA_PROCESSED, 'gofundme_projects.csv')).dropna()"
   ]
  },
  {
   "cell_type": "code",
   "execution_count": 6,
   "metadata": {},
   "outputs": [],
   "source": [
    "prompt = \"Fundraising for an individual with cancer? \""
   ]
  },
  {
   "cell_type": "code",
   "execution_count": 7,
   "metadata": {},
   "outputs": [],
   "source": [
    "ids = pd.read_csv(\"ids.csv\")"
   ]
  },
  {
   "cell_type": "code",
   "execution_count": 8,
   "metadata": {},
   "outputs": [
    {
     "data": {
      "text/plain": [
       "Net(\n",
       "  (dense1): Linear(in_features=1536, out_features=128, bias=True)\n",
       "  (dense2): Linear(in_features=128, out_features=32, bias=True)\n",
       "  (drop3): Dropout(p=0.1, inplace=False)\n",
       "  (dense3): Linear(in_features=32, out_features=2, bias=True)\n",
       ")"
      ]
     },
     "execution_count": 8,
     "metadata": {},
     "output_type": "execute_result"
    }
   ],
   "source": [
    "import torch.nn as nn\n",
    "import torch.nn.functional as func\n",
    "\n",
    "class Net(nn.Module):\n",
    "    def __init__(self):\n",
    "        super(Net, self).__init__()\n",
    "        self.dense1 = nn.Linear(2*768, 128)\n",
    "        self.dense2 = nn.Linear(128, 32)\n",
    "        self.drop3 = nn.Dropout(0.1)\n",
    "        self.dense3 = nn.Linear(32, 2)\n",
    "\n",
    "    def forward(self, x):\n",
    "        x = self.dense1(x)\n",
    "        x = self.dense2(func.relu(x))\n",
    "        x = self.drop3(x)\n",
    "        x = self.dense3(func.relu(x))\n",
    "        return x\n",
    "    \n",
    "model = Net()\n",
    "model.load_state_dict(tt.load(\"det_infer.pt\"))\n",
    "model.eval()"
   ]
  },
  {
   "cell_type": "code",
   "execution_count": 9,
   "metadata": {
    "scrolled": true
   },
   "outputs": [
    {
     "name": "stdout",
     "output_type": "stream",
     "text": [
      "N? 5\n",
      "Help Rich Dunning Beat Cancer!\n",
      "\n",
      "Rich has just been diagnosed with esophageal cancer and already has many insurance co-pays racking up.  He will be going through surgery and treatment to beat this cancer!  Let's help relieve the extra stress of all the expenses that come along with a cancer diagnosis so Rich can focus on getting better!\n",
      "{'Cancer': 0.0, '*': 1.0}\n",
      "Fundraising for an individual with cancer? y\n",
      "\n",
      "Syd's Lymphoma Donations\n",
      "\n",
      "One of my friends Sydney Slie was diagnosed with Lymphoma. She has been on my volleyball team for almost 5 years now and is the setter for our club team Nebraska Impact and for her high school Bellevue East. She is 16 years old and is going in to get a spot removed from her neck. Please donate, any amount of money will help and this will all go towards her treatment, after care, and other needs to help her and her family get through this. There will be other fundraising opportunities that I will post on here as they come up. Thank you everyone.\n",
      "{'Cancer': 0.0, '*': 1.0}\n",
      "Fundraising for an individual with cancer? y\n",
      "\n",
      "Cervical Cancer Treatment\n",
      "\n",
      "Hi family and friends. It pains me to write this and it’s something we never thought would happen. My mom, Perla Balderas, has just been diagnosed with stage 1 cervical cancer. Thankfully her doctors caught it early, but cancer is cancer no matter what stage it is. My mother is a strong woman and she will fight this like a champ. We will be by her side to fight along with her. The next step is to have an emergency hysterectomy which will remove her reproductive organs. She will need to have her uterus, ovaries, and fallopian tubes surgically removed. Before we can get her surgery scheduled, she will need to get a series of tests such as MRI, X-ray, and other exams to make sure she’s cleared for surgery and to see if the cancer has spread to other areas near her cervix. After surgery, she’ll have frequent follow ups. It’s a lot to take in at the moment, but with your help and prayers we know she will be okay. All funds raised will be directly put towards her medical expenses. Thank you \n",
      "{'Cancer': 0.0, '*': 1.0}\n",
      "Fundraising for an individual with cancer? y\n",
      "\n",
      "Balch's Bunch\n",
      "\n",
      "Our friend Chris Balch recently received a devastating diagnosis. Kidney cancer that has metastasized to his lungs. Chris has always given and helped anyone in need. It's time to give back.  Please give what you can,  pray for his healing , and surround him , Monica and precious Olivia with  love. ❤\n",
      "{'Cancer': 0.0, '*': 1.0}\n",
      "Fundraising for an individual with cancer? y\n",
      "\n",
      "Burial Services he deserves\n",
      "\n",
      "My Dad. Earl Vernon Curtis is a Vietnam War Vet. He is battling Stage 4 Bladder Cancer, Cancer of his Bones and Vertabres, and a Brain Tumor. I am taking care of my dad to make him as comfortable and enjoying whatever days he has left. Over the last couple of days he has taken a bit of a turn for the worse and I know it is only going to get harder from here. I have taken time off of work so that I can be with him, and take full care of him, as I don't want him in a hospital, especially as we dont know exactly how much time he has left. I am trying to get my Brother Ken Curtis and Sister-in-law Candi Curtis here from Texas, so they can visit with our dad. I am hoping that we can hit my goal or even exceed it as there are a few things left on my dads bucket list that i would love to get him to before it is his time. I know he wants to go to Solvang, San Francisco, and a few other cities at least one more time, My dad retired from International Paper in Carson, he loved to bowl (he wishes\n",
      "{'Cancer': 0.0, '*': 1.0}\n",
      "Fundraising for an individual with cancer? y\n"
     ]
    }
   ],
   "source": [
    "c = int(input(\"N? \"))\n",
    "for i, project in enumerate(data.sample(frac=1).itertuples()):\n",
    "    _id = project.id\n",
    "    if _id in set(ids[\"id\"].tolist()):\n",
    "        continue\n",
    "    \n",
    "    print(project.name)\n",
    "    print()\n",
    "    print(project.text[:1000])\n",
    "    \n",
    "    sent_emb = embed(project.name, project.text[:250])\n",
    "\n",
    "    ts = tt.softmax(model(sent_emb), dim=0).detach()\n",
    "    \n",
    "    print(dict(zip(['Cancer', '*'], ts.numpy().round(3))))\n",
    "\n",
    "    detection = input(prompt)\n",
    "    if detection != \"y\":\n",
    "        # a non-cancer-related campaign\n",
    "        ids = ids.append({\"label\": 1, \"id\": _id}, ignore_index=True)\n",
    "    else:\n",
    "        # cancer-related campaign\n",
    "        ids = ids.append({\"label\": 0, \"id\": _id}, ignore_index=True)\n",
    "    \n",
    "    if i == c-1:\n",
    "        break\n",
    "        \n",
    "    print()"
   ]
  },
  {
   "cell_type": "code",
   "execution_count": 44,
   "metadata": {},
   "outputs": [
    {
     "data": {
      "text/plain": [
       "206"
      ]
     },
     "execution_count": 44,
     "metadata": {},
     "output_type": "execute_result"
    }
   ],
   "source": [
    "len(ids)"
   ]
  },
  {
   "cell_type": "code",
   "execution_count": 45,
   "metadata": {},
   "outputs": [
    {
     "data": {
      "text/plain": [
       "0.08737864077669903"
      ]
     },
     "execution_count": 45,
     "metadata": {},
     "output_type": "execute_result"
    }
   ],
   "source": [
    "ids[\"label\"].mean()"
   ]
  },
  {
   "cell_type": "code",
   "execution_count": 46,
   "metadata": {},
   "outputs": [],
   "source": [
    "ids.to_csv(\"ids.csv\", index=False)"
   ]
  },
  {
   "cell_type": "markdown",
   "metadata": {},
   "source": [
    "# Model"
   ]
  },
  {
   "cell_type": "code",
   "execution_count": 14,
   "metadata": {},
   "outputs": [],
   "source": [
    "import torch.optim as optim\n",
    "from torch.utils.data import DataLoader, Dataset"
   ]
  },
  {
   "cell_type": "code",
   "execution_count": 15,
   "metadata": {},
   "outputs": [],
   "source": [
    "class Data(Dataset):\n",
    "    def __init__(self):\n",
    "        self.data = ids\n",
    "        \n",
    "    def __len__(self):\n",
    "        return len(self.data)\n",
    "        \n",
    "    def __getitem__(self, ix):\n",
    "        return {\n",
    "            \"target\": self.data.loc[ix, \"label\"],\n",
    "            \"embedding\": self.data.loc[ix, \"embedding\"]\n",
    "        }"
   ]
  },
  {
   "cell_type": "code",
   "execution_count": 16,
   "metadata": {},
   "outputs": [],
   "source": [
    "d = Data()\n",
    "loader = DataLoader(d, shuffle=True, batch_size=32)"
   ]
  },
  {
   "cell_type": "code",
   "execution_count": 18,
   "metadata": {},
   "outputs": [],
   "source": [
    "net = Net()"
   ]
  },
  {
   "cell_type": "code",
   "execution_count": 20,
   "metadata": {},
   "outputs": [],
   "source": [
    "crit = nn.CrossEntropyLoss()\n",
    "opt = optim.Adam(net.parameters(), lr=0.01)"
   ]
  },
  {
   "cell_type": "code",
   "execution_count": 21,
   "metadata": {},
   "outputs": [
    {
     "name": "stdout",
     "output_type": "stream",
     "text": [
      "Begin Training\n",
      "Epoch 1\n",
      "B:1 L:0.5519922971725464\n",
      "Epoch 2\n"
     ]
    },
    {
     "ename": "RuntimeError",
     "evalue": "Trying to backward through the graph a second time, but the buffers have already been freed. Specify retain_graph=True when calling backward the first time.",
     "output_type": "error",
     "traceback": [
      "\u001b[0;31m---------------------------------------------------------------------------\u001b[0m",
      "\u001b[0;31mRuntimeError\u001b[0m                              Traceback (most recent call last)",
      "\u001b[0;32m<ipython-input-21-434a44388d8a>\u001b[0m in \u001b[0;36m<module>\u001b[0;34m\u001b[0m\n\u001b[1;32m     11\u001b[0m \u001b[0;34m\u001b[0m\u001b[0m\n\u001b[1;32m     12\u001b[0m         \u001b[0mloss\u001b[0m \u001b[0;34m=\u001b[0m \u001b[0mcrit\u001b[0m\u001b[0;34m(\u001b[0m\u001b[0mtt\u001b[0m\u001b[0;34m.\u001b[0m\u001b[0msigmoid\u001b[0m\u001b[0;34m(\u001b[0m\u001b[0mouts\u001b[0m\u001b[0;34m)\u001b[0m\u001b[0;34m,\u001b[0m \u001b[0mbatch\u001b[0m\u001b[0;34m[\u001b[0m\u001b[0mtargets\u001b[0m\u001b[0;34m]\u001b[0m\u001b[0;34m)\u001b[0m\u001b[0;34m\u001b[0m\u001b[0;34m\u001b[0m\u001b[0m\n\u001b[0;32m---> 13\u001b[0;31m         \u001b[0mloss\u001b[0m\u001b[0;34m.\u001b[0m\u001b[0mbackward\u001b[0m\u001b[0;34m(\u001b[0m\u001b[0;34m)\u001b[0m\u001b[0;34m\u001b[0m\u001b[0;34m\u001b[0m\u001b[0m\n\u001b[0m\u001b[1;32m     14\u001b[0m         \u001b[0mopt\u001b[0m\u001b[0;34m.\u001b[0m\u001b[0mstep\u001b[0m\u001b[0;34m(\u001b[0m\u001b[0;34m)\u001b[0m\u001b[0;34m\u001b[0m\u001b[0;34m\u001b[0m\u001b[0m\n\u001b[1;32m     15\u001b[0m \u001b[0;34m\u001b[0m\u001b[0m\n",
      "\u001b[0;32m~/anaconda3/envs/nlp/lib/python3.7/site-packages/torch/tensor.py\u001b[0m in \u001b[0;36mbackward\u001b[0;34m(self, gradient, retain_graph, create_graph)\u001b[0m\n\u001b[1;32m    164\u001b[0m                 \u001b[0mproducts\u001b[0m\u001b[0;34m.\u001b[0m \u001b[0mDefaults\u001b[0m \u001b[0mto\u001b[0m\u001b[0;31m \u001b[0m\u001b[0;31m`\u001b[0m\u001b[0;31m`\u001b[0m\u001b[0;32mFalse\u001b[0m\u001b[0;31m`\u001b[0m\u001b[0;31m`\u001b[0m\u001b[0;34m.\u001b[0m\u001b[0;34m\u001b[0m\u001b[0;34m\u001b[0m\u001b[0m\n\u001b[1;32m    165\u001b[0m         \"\"\"\n\u001b[0;32m--> 166\u001b[0;31m         \u001b[0mtorch\u001b[0m\u001b[0;34m.\u001b[0m\u001b[0mautograd\u001b[0m\u001b[0;34m.\u001b[0m\u001b[0mbackward\u001b[0m\u001b[0;34m(\u001b[0m\u001b[0mself\u001b[0m\u001b[0;34m,\u001b[0m \u001b[0mgradient\u001b[0m\u001b[0;34m,\u001b[0m \u001b[0mretain_graph\u001b[0m\u001b[0;34m,\u001b[0m \u001b[0mcreate_graph\u001b[0m\u001b[0;34m)\u001b[0m\u001b[0;34m\u001b[0m\u001b[0;34m\u001b[0m\u001b[0m\n\u001b[0m\u001b[1;32m    167\u001b[0m \u001b[0;34m\u001b[0m\u001b[0m\n\u001b[1;32m    168\u001b[0m     \u001b[0;32mdef\u001b[0m \u001b[0mregister_hook\u001b[0m\u001b[0;34m(\u001b[0m\u001b[0mself\u001b[0m\u001b[0;34m,\u001b[0m \u001b[0mhook\u001b[0m\u001b[0;34m)\u001b[0m\u001b[0;34m:\u001b[0m\u001b[0;34m\u001b[0m\u001b[0;34m\u001b[0m\u001b[0m\n",
      "\u001b[0;32m~/anaconda3/envs/nlp/lib/python3.7/site-packages/torch/autograd/__init__.py\u001b[0m in \u001b[0;36mbackward\u001b[0;34m(tensors, grad_tensors, retain_graph, create_graph, grad_variables)\u001b[0m\n\u001b[1;32m     97\u001b[0m     Variable._execution_engine.run_backward(\n\u001b[1;32m     98\u001b[0m         \u001b[0mtensors\u001b[0m\u001b[0;34m,\u001b[0m \u001b[0mgrad_tensors\u001b[0m\u001b[0;34m,\u001b[0m \u001b[0mretain_graph\u001b[0m\u001b[0;34m,\u001b[0m \u001b[0mcreate_graph\u001b[0m\u001b[0;34m,\u001b[0m\u001b[0;34m\u001b[0m\u001b[0;34m\u001b[0m\u001b[0m\n\u001b[0;32m---> 99\u001b[0;31m         allow_unreachable=True)  # allow_unreachable flag\n\u001b[0m\u001b[1;32m    100\u001b[0m \u001b[0;34m\u001b[0m\u001b[0m\n\u001b[1;32m    101\u001b[0m \u001b[0;34m\u001b[0m\u001b[0m\n",
      "\u001b[0;31mRuntimeError\u001b[0m: Trying to backward through the graph a second time, but the buffers have already been freed. Specify retain_graph=True when calling backward the first time."
     ]
    }
   ],
   "source": [
    "print(\"Begin Training\")\n",
    "for epoch in range(1,5+1):\n",
    "    loss_running = 0.0\n",
    "    print(f\"Epoch {epoch}\")\n",
    "    for i, batch in enumerate(loader):\n",
    "        targets, embeddings = batch\n",
    "        \n",
    "        opt.zero_grad()\n",
    "        \n",
    "        outs = net(batch[embeddings])\n",
    "                \n",
    "        loss = crit(tt.sigmoid(outs), batch[targets])\n",
    "        loss.backward()\n",
    "        opt.step()\n",
    "        \n",
    "        loss_running += loss.item()\n",
    "        \n",
    "        if i % 2 == 1:\n",
    "            print(f\"B:{i} L:{loss_running / 2}\")\n",
    "            loss_running = 0.0\n",
    "            \n",
    "print(\"Finished Training\")"
   ]
  },
  {
   "cell_type": "code",
   "execution_count": null,
   "metadata": {},
   "outputs": [],
   "source": []
  }
 ],
 "metadata": {
  "kernelspec": {
   "display_name": "pyNLP",
   "language": "python",
   "name": "nlp"
  },
  "language_info": {
   "codemirror_mode": {
    "name": "ipython",
    "version": 3
   },
   "file_extension": ".py",
   "mimetype": "text/x-python",
   "name": "python",
   "nbconvert_exporter": "python",
   "pygments_lexer": "ipython3",
   "version": "3.7.5"
  }
 },
 "nbformat": 4,
 "nbformat_minor": 2
}
